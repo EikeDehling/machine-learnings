{
 "cells": [
  {
   "cell_type": "markdown",
   "metadata": {},
   "source": [
    "# Language processing with NLTK\n",
    "\n",
    "This notebooks shows some basic language processing concepts and approaches using the python NLTK library. You can view this as the most basic example approach.\n",
    "\n",
    "Concepts i'm showing explain how to process text. Text processing with machine learning is a bit special, because machine learning algorithms only work on fixed-size vectors of numbers and text is a variable length of words. Also the words in the text are organized in sentences and separated by puntuation and other symbols.\n",
    "\n",
    "In this notebook i'll show how to deal with that by:\n",
    "- Preprocessing (\"cleaning\") the text\n",
    "- Vectorizing the text to fixed-size vectors\n",
    "- Classifying sentiment with a Naive Bayes Classifier"
   ]
  },
  {
   "cell_type": "code",
   "execution_count": 1,
   "metadata": {},
   "outputs": [
    {
     "data": {
      "text/html": [
       "<div>\n",
       "<table border=\"1\" class=\"dataframe\">\n",
       "  <thead>\n",
       "    <tr style=\"text-align: right;\">\n",
       "      <th></th>\n",
       "      <th>airline_sentiment</th>\n",
       "      <th>text</th>\n",
       "    </tr>\n",
       "    <tr>\n",
       "      <th>_unit_id</th>\n",
       "      <th></th>\n",
       "      <th></th>\n",
       "    </tr>\n",
       "  </thead>\n",
       "  <tbody>\n",
       "    <tr>\n",
       "      <th>681448150</th>\n",
       "      <td>neutral</td>\n",
       "      <td>@VirginAmerica What @dhepburn said.</td>\n",
       "    </tr>\n",
       "    <tr>\n",
       "      <th>681448153</th>\n",
       "      <td>positive</td>\n",
       "      <td>@VirginAmerica plus you've added commercials to the experience... tacky.</td>\n",
       "    </tr>\n",
       "    <tr>\n",
       "      <th>681448156</th>\n",
       "      <td>neutral</td>\n",
       "      <td>@VirginAmerica I didn't today... Must mean I need to take another trip!</td>\n",
       "    </tr>\n",
       "    <tr>\n",
       "      <th>681448158</th>\n",
       "      <td>negative</td>\n",
       "      <td>@VirginAmerica it's really aggressive to blast obnoxious \"entertainment\" in your guests' faces &amp;amp; they have little recourse</td>\n",
       "    </tr>\n",
       "    <tr>\n",
       "      <th>681448159</th>\n",
       "      <td>negative</td>\n",
       "      <td>@VirginAmerica and it's a really big bad thing about it</td>\n",
       "    </tr>\n",
       "  </tbody>\n",
       "</table>\n",
       "</div>"
      ],
      "text/plain": [
       "          airline_sentiment  \\\n",
       "_unit_id                      \n",
       "681448150           neutral   \n",
       "681448153          positive   \n",
       "681448156           neutral   \n",
       "681448158          negative   \n",
       "681448159          negative   \n",
       "\n",
       "                                                                                                                                     text  \n",
       "_unit_id                                                                                                                                   \n",
       "681448150                                                                                             @VirginAmerica What @dhepburn said.  \n",
       "681448153                                                        @VirginAmerica plus you've added commercials to the experience... tacky.  \n",
       "681448156                                                         @VirginAmerica I didn't today... Must mean I need to take another trip!  \n",
       "681448158  @VirginAmerica it's really aggressive to blast obnoxious \"entertainment\" in your guests' faces &amp; they have little recourse  \n",
       "681448159                                                                         @VirginAmerica and it's a really big bad thing about it  "
      ]
     },
     "execution_count": 1,
     "metadata": {},
     "output_type": "execute_result"
    }
   ],
   "source": [
    "import pandas as pd\n",
    "\n",
    "df = pd.read_csv('data/airline_sentiment.csv', index_col=0)\n",
    "\n",
    "pd.set_option('max_colwidth', 140)\n",
    "\n",
    "df[['airline_sentiment', 'text']].head()"
   ]
  },
  {
   "cell_type": "markdown",
   "metadata": {},
   "source": [
    "Above you can see the first lines of the loaded data. For each tweet we have the sentiment and the text. The sentiment means if this tweet was a positive one, a neutral one or negative.\n",
    "\n",
    "Overall what we'll try to do in this notebook is predict the sentiment value from the text.\n",
    "\n",
    "First step is preprocessing, we'll clean up the text by removing punctuation, lowercasing and splitting into words."
   ]
  },
  {
   "cell_type": "code",
   "execution_count": 2,
   "metadata": {},
   "outputs": [],
   "source": [
    "import nltk\n",
    "\n",
    "tweets = df['text'].astype(str).map(lambda txt: [tok.strip('!,.') for tok in txt.lower().split()]).values\n",
    "sentiments = df['airline_sentiment'].values"
   ]
  },
  {
   "cell_type": "markdown",
   "metadata": {},
   "source": [
    "So let's check what this did. I'll print the tweet and the tokenized version. What you will see that the tweet has been split into separate words, it's become a list of words basically:"
   ]
  },
  {
   "cell_type": "code",
   "execution_count": 5,
   "metadata": {},
   "outputs": [
    {
     "name": "stdout",
     "output_type": "stream",
     "text": [
      "@VirginAmerica plus you've added commercials to the experience... tacky.\n",
      "['@virginamerica', 'plus', \"you've\", 'added', 'commercials', 'to', 'the', 'experience', 'tacky']\n"
     ]
    }
   ],
   "source": [
    "print(df['text'].values[1])\n",
    "print(tweets[1])"
   ]
  },
  {
   "cell_type": "markdown",
   "metadata": {},
   "source": [
    "Now that our text has been tokenized, we can start on creating feature vectors for the machine learning. The way we'll do this, is to represent each tweet by a vector of true/false values indicating which words were present in the tweet.\n",
    "\n",
    "First off, we need to know all the words that exist in this data:"
   ]
  },
  {
   "cell_type": "code",
   "execution_count": 6,
   "metadata": {},
   "outputs": [],
   "source": [
    "all_words = list()\n",
    "for words in tweets:\n",
    "    all_words.extend(words)\n",
    "    \n",
    "word_dist = nltk.FreqDist(all_words)"
   ]
  },
  {
   "cell_type": "markdown",
   "metadata": {},
   "source": [
    "Let's make a quick plot and see what words were found and how often they appear. What you'll see is a few very frequent words - and then a long tail of less frequent words."
   ]
  },
  {
   "cell_type": "code",
   "execution_count": 7,
   "metadata": {},
   "outputs": [
    {
     "data": {
      "image/png": "[encoded data removed]",
      "text/plain": [
       "<matplotlib.figure.Figure at 0x7fc3f589ceb8>"
      ]
     },
     "metadata": {},
     "output_type": "display_data"
    }
   ],
   "source": [
    "%matplotlib inline\n",
    "\n",
    "import matplotlib.pyplot as plt\n",
    "plt.figure(figsize=(15, 4))\n",
    "\n",
    "word_dist.plot(40)"
   ]
  },
  {
   "cell_type": "markdown",
   "metadata": {},
   "source": [
    "Next thing, we define our feature function. This function will transform a single tweet to a list of true/false values for each word indicating if that was present in the tweet."
   ]
  },
  {
   "cell_type": "code",
   "execution_count": 8,
   "metadata": {},
   "outputs": [],
   "source": [
    "def feature_function(doc, top_n=1000):\n",
    "    document_words = set(doc)\n",
    "    return {\n",
    "        word : (word in document_words)\n",
    "        for word, _ in word_dist.most_common(top_n)\n",
    "    }"
   ]
  },
  {
   "cell_type": "markdown",
   "metadata": {},
   "source": [
    "Next an example of how this looks, for the first few tweets. Note i'm only showing the first 15 entries of the feature vector! What you can see is, the feature function basically generates a large table of True/False values indicating which words are(n't) present in each tweet."
   ]
  },
  {
   "cell_type": "code",
   "execution_count": 9,
   "metadata": {},
   "outputs": [
    {
     "data": {
      "text/html": [
       "<div>\n",
       "<table border=\"1\" class=\"dataframe\">\n",
       "  <thead>\n",
       "    <tr style=\"text-align: right;\">\n",
       "      <th></th>\n",
       "      <th>@americanair</th>\n",
       "      <th>@united</th>\n",
       "      <th>@usairways</th>\n",
       "      <th>a</th>\n",
       "      <th>and</th>\n",
       "      <th>flight</th>\n",
       "      <th>for</th>\n",
       "      <th>i</th>\n",
       "      <th>in</th>\n",
       "      <th>is</th>\n",
       "      <th>my</th>\n",
       "      <th>on</th>\n",
       "      <th>the</th>\n",
       "      <th>to</th>\n",
       "      <th>you</th>\n",
       "    </tr>\n",
       "  </thead>\n",
       "  <tbody>\n",
       "    <tr>\n",
       "      <th>0</th>\n",
       "      <td>False</td>\n",
       "      <td>False</td>\n",
       "      <td>False</td>\n",
       "      <td>False</td>\n",
       "      <td>False</td>\n",
       "      <td>False</td>\n",
       "      <td>False</td>\n",
       "      <td>False</td>\n",
       "      <td>False</td>\n",
       "      <td>False</td>\n",
       "      <td>False</td>\n",
       "      <td>False</td>\n",
       "      <td>False</td>\n",
       "      <td>False</td>\n",
       "      <td>False</td>\n",
       "    </tr>\n",
       "    <tr>\n",
       "      <th>1</th>\n",
       "      <td>False</td>\n",
       "      <td>False</td>\n",
       "      <td>False</td>\n",
       "      <td>False</td>\n",
       "      <td>False</td>\n",
       "      <td>False</td>\n",
       "      <td>False</td>\n",
       "      <td>False</td>\n",
       "      <td>False</td>\n",
       "      <td>False</td>\n",
       "      <td>False</td>\n",
       "      <td>False</td>\n",
       "      <td>True</td>\n",
       "      <td>True</td>\n",
       "      <td>False</td>\n",
       "    </tr>\n",
       "    <tr>\n",
       "      <th>2</th>\n",
       "      <td>False</td>\n",
       "      <td>False</td>\n",
       "      <td>False</td>\n",
       "      <td>False</td>\n",
       "      <td>False</td>\n",
       "      <td>False</td>\n",
       "      <td>False</td>\n",
       "      <td>True</td>\n",
       "      <td>False</td>\n",
       "      <td>False</td>\n",
       "      <td>False</td>\n",
       "      <td>False</td>\n",
       "      <td>False</td>\n",
       "      <td>True</td>\n",
       "      <td>False</td>\n",
       "    </tr>\n",
       "    <tr>\n",
       "      <th>3</th>\n",
       "      <td>False</td>\n",
       "      <td>False</td>\n",
       "      <td>False</td>\n",
       "      <td>False</td>\n",
       "      <td>False</td>\n",
       "      <td>False</td>\n",
       "      <td>False</td>\n",
       "      <td>False</td>\n",
       "      <td>True</td>\n",
       "      <td>False</td>\n",
       "      <td>False</td>\n",
       "      <td>False</td>\n",
       "      <td>False</td>\n",
       "      <td>True</td>\n",
       "      <td>False</td>\n",
       "    </tr>\n",
       "    <tr>\n",
       "      <th>4</th>\n",
       "      <td>False</td>\n",
       "      <td>False</td>\n",
       "      <td>False</td>\n",
       "      <td>True</td>\n",
       "      <td>True</td>\n",
       "      <td>False</td>\n",
       "      <td>False</td>\n",
       "      <td>False</td>\n",
       "      <td>False</td>\n",
       "      <td>False</td>\n",
       "      <td>False</td>\n",
       "      <td>False</td>\n",
       "      <td>False</td>\n",
       "      <td>False</td>\n",
       "      <td>False</td>\n",
       "    </tr>\n",
       "    <tr>\n",
       "      <th>5</th>\n",
       "      <td>False</td>\n",
       "      <td>False</td>\n",
       "      <td>False</td>\n",
       "      <td>True</td>\n",
       "      <td>False</td>\n",
       "      <td>True</td>\n",
       "      <td>True</td>\n",
       "      <td>False</td>\n",
       "      <td>False</td>\n",
       "      <td>False</td>\n",
       "      <td>False</td>\n",
       "      <td>False</td>\n",
       "      <td>True</td>\n",
       "      <td>False</td>\n",
       "      <td>False</td>\n",
       "    </tr>\n",
       "    <tr>\n",
       "      <th>6</th>\n",
       "      <td>False</td>\n",
       "      <td>False</td>\n",
       "      <td>False</td>\n",
       "      <td>False</td>\n",
       "      <td>False</td>\n",
       "      <td>False</td>\n",
       "      <td>False</td>\n",
       "      <td>True</td>\n",
       "      <td>False</td>\n",
       "      <td>False</td>\n",
       "      <td>False</td>\n",
       "      <td>False</td>\n",
       "      <td>False</td>\n",
       "      <td>False</td>\n",
       "      <td>False</td>\n",
       "    </tr>\n",
       "    <tr>\n",
       "      <th>7</th>\n",
       "      <td>False</td>\n",
       "      <td>False</td>\n",
       "      <td>False</td>\n",
       "      <td>True</td>\n",
       "      <td>False</td>\n",
       "      <td>False</td>\n",
       "      <td>True</td>\n",
       "      <td>False</td>\n",
       "      <td>False</td>\n",
       "      <td>False</td>\n",
       "      <td>False</td>\n",
       "      <td>False</td>\n",
       "      <td>False</td>\n",
       "      <td>False</td>\n",
       "      <td>False</td>\n",
       "    </tr>\n",
       "    <tr>\n",
       "      <th>8</th>\n",
       "      <td>False</td>\n",
       "      <td>False</td>\n",
       "      <td>False</td>\n",
       "      <td>False</td>\n",
       "      <td>False</td>\n",
       "      <td>False</td>\n",
       "      <td>False</td>\n",
       "      <td>True</td>\n",
       "      <td>False</td>\n",
       "      <td>False</td>\n",
       "      <td>False</td>\n",
       "      <td>False</td>\n",
       "      <td>False</td>\n",
       "      <td>False</td>\n",
       "      <td>False</td>\n",
       "    </tr>\n",
       "    <tr>\n",
       "      <th>9</th>\n",
       "      <td>False</td>\n",
       "      <td>False</td>\n",
       "      <td>False</td>\n",
       "      <td>False</td>\n",
       "      <td>True</td>\n",
       "      <td>False</td>\n",
       "      <td>False</td>\n",
       "      <td>False</td>\n",
       "      <td>False</td>\n",
       "      <td>False</td>\n",
       "      <td>False</td>\n",
       "      <td>False</td>\n",
       "      <td>False</td>\n",
       "      <td>True</td>\n",
       "      <td>False</td>\n",
       "    </tr>\n",
       "  </tbody>\n",
       "</table>\n",
       "</div>"
      ],
      "text/plain": [
       "  @americanair @united @usairways      a    and flight    for      i     in  \\\n",
       "0        False   False      False  False  False  False  False  False  False   \n",
       "1        False   False      False  False  False  False  False  False  False   \n",
       "2        False   False      False  False  False  False  False   True  False   \n",
       "3        False   False      False  False  False  False  False  False   True   \n",
       "4        False   False      False   True   True  False  False  False  False   \n",
       "5        False   False      False   True  False   True   True  False  False   \n",
       "6        False   False      False  False  False  False  False   True  False   \n",
       "7        False   False      False   True  False  False   True  False  False   \n",
       "8        False   False      False  False  False  False  False   True  False   \n",
       "9        False   False      False  False   True  False  False  False  False   \n",
       "\n",
       "      is     my     on    the     to    you  \n",
       "0  False  False  False  False  False  False  \n",
       "1  False  False  False   True   True  False  \n",
       "2  False  False  False  False   True  False  \n",
       "3  False  False  False  False   True  False  \n",
       "4  False  False  False  False  False  False  \n",
       "5  False  False  False   True  False  False  \n",
       "6  False  False  False  False  False  False  \n",
       "7  False  False  False  False  False  False  \n",
       "8  False  False  False  False  False  False  \n",
       "9  False  False  False  False   True  False  "
      ]
     },
     "execution_count": 9,
     "metadata": {},
     "output_type": "execute_result"
    }
   ],
   "source": [
    "import pandas\n",
    "pandas.DataFrame([feature_function(tweet, top_n=15) for tweet in tweets[:10]])"
   ]
  },
  {
   "cell_type": "markdown",
   "metadata": {},
   "source": [
    "This is the data the machine learning algorithm will learn and predict sentiment from. True/False (or 0/1) values indicating presence of words."
   ]
  },
  {
   "cell_type": "markdown",
   "metadata": {},
   "source": [
    "Next order of business, we apply the above feature function to all tweets!"
   ]
  },
  {
   "cell_type": "code",
   "execution_count": 10,
   "metadata": {},
   "outputs": [],
   "source": [
    "processed_data = list(nltk.classify.util.apply_features(feature_function, list(zip(tweets, sentiments)), True))"
   ]
  },
  {
   "cell_type": "markdown",
   "metadata": {},
   "source": [
    "Now comes a part that's important to understand in machine learning: Splitting data into the training and the test set.\n",
    "\n",
    "When training a machine learning algorithm, you're learning patterns from the data you're feeding it. When you've trained the algorithm you want to know how good (or bad) it does on new data, data that it hasn't been trained on yet. This is called evaluating. It's important to do that with new, unseen data, else you might learn patterns that only work on the training data.\n",
    "\n",
    "So the correct way to do this is to train on one part of data and then evaluate on another part. It's common to split the available data 80%/20% for example or 75%/25%."
   ]
  },
  {
   "cell_type": "code",
   "execution_count": 11,
   "metadata": {},
   "outputs": [],
   "source": [
    "import random\n",
    "\n",
    "random.shuffle(processed_data)\n",
    "\n",
    "split_at = int(len(processed_data) * 0.75)\n",
    "train_set, test_set = processed_data[split_at:], processed_data[:split_at]"
   ]
  },
  {
   "cell_type": "markdown",
   "metadata": {},
   "source": [
    "So now we have preprocessed, vectorized and split up the data, we are ready to train a classifier and see if we can predict the sentiment!"
   ]
  },
  {
   "cell_type": "code",
   "execution_count": 12,
   "metadata": {},
   "outputs": [],
   "source": [
    "classifier = nltk.classify.NaiveBayesClassifier.train(train_set)"
   ]
  },
  {
   "cell_type": "markdown",
   "metadata": {},
   "source": [
    "Classifier is trained, so how well does it work?!"
   ]
  },
  {
   "cell_type": "code",
   "execution_count": 13,
   "metadata": {},
   "outputs": [
    {
     "name": "stdout",
     "output_type": "stream",
     "text": [
      "0.75\n"
     ]
    }
   ],
   "source": [
    "print('%.2f' % nltk.classify.accuracy(classifier, test_set))"
   ]
  },
  {
   "cell_type": "markdown",
   "metadata": {},
   "source": [
    "So we managed to achieve 75% accuracy with this simple sentiment analysis approach. That's not that bad - considering humans agree around 80% of the time. Let's look at some other metrics also."
   ]
  },
  {
   "cell_type": "code",
   "execution_count": 14,
   "metadata": {},
   "outputs": [
    {
     "name": "stdout",
     "output_type": "stream",
     "text": [
      "         |    n         p |\n",
      "         |    e    n    o |\n",
      "         |    g    e    s |\n",
      "         |    a    u    i |\n",
      "         |    t    t    t |\n",
      "         |    i    r    i |\n",
      "         |    v    a    v |\n",
      "         |    e    l    e |\n",
      "---------+----------------+\n",
      "negative |<5694> 772  373 |\n",
      " neutral |  643<1413> 283 |\n",
      "positive |  318  322<1162>|\n",
      "---------+----------------+\n",
      "(row = reference; col = test)\n",
      "\n"
     ]
    }
   ],
   "source": [
    "from nltk.metrics import ConfusionMatrix\n",
    "\n",
    "test_feats = [feats for (feats, label) in test_set]\n",
    "test_labels = [label for (feats, label) in test_set]\n",
    "\n",
    "predictions = classifier.classify_many(test_feats)\n",
    "\n",
    "cm = ConfusionMatrix(test_labels, predictions)\n",
    "print(cm.pretty_format())"
   ]
  },
  {
   "cell_type": "markdown",
   "metadata": {},
   "source": [
    "Final thing i want to show here, which features or words were most important in predicting the sentiment. Of course you assume works like *thanks* or *good* to indicate positive and unfriendly words to indicate negative. Let's check!"
   ]
  },
  {
   "cell_type": "code",
   "execution_count": 15,
   "metadata": {},
   "outputs": [
    {
     "name": "stdout",
     "output_type": "stream",
     "text": [
      "Most Informative Features\n",
      "                      :) = True           positi : negati =     62.5 : 1.0\n",
      "                 awesome = True           positi : negati =     35.8 : 1.0\n",
      "                 amazing = True           positi : negati =     29.1 : 1.0\n",
      "                   thank = True           positi : negati =     23.9 : 1.0\n",
      "                    hour = True           negati : neutra =     23.7 : 1.0\n",
      "                   hours = True           negati : positi =     22.5 : 1.0\n",
      "                   great = True           positi : neutra =     19.9 : 1.0\n",
      "               excellent = True           positi : negati =     15.3 : 1.0\n",
      "                 worries = True           positi : negati =     15.3 : 1.0\n",
      "                 atlanta = True           neutra : negati =     13.3 : 1.0\n",
      "              appreciate = True           positi : neutra =     13.1 : 1.0\n",
      "                     ceo = True           neutra : negati =     12.9 : 1.0\n",
      "                 minutes = True           negati : neutra =     12.9 : 1.0\n",
      "                 delayed = True           negati : positi =     12.4 : 1.0\n",
      "                    nice = True           positi : neutra =     12.2 : 1.0\n",
      "                       2 = True           negati : positi =     12.2 : 1.0\n",
      "                      rt = True           neutra : negati =     11.6 : 1.0\n",
      "                    days = True           negati : neutra =     10.9 : 1.0\n",
      "                    rock = True           positi : neutra =     10.4 : 1.0\n",
      "                    hold = True           negati : neutra =     10.2 : 1.0\n"
     ]
    }
   ],
   "source": [
    "classifier.show_most_informative_features(20)"
   ]
  },
  {
   "cell_type": "markdown",
   "metadata": {},
   "source": [
    "So concluding, we've seen a basic approach of text processing with machine learning and explained some concepts.\n",
    "\n",
    "I hope you enjoyed!"
   ]
  },
  {
   "cell_type": "code",
   "execution_count": null,
   "metadata": {},
   "outputs": [],
   "source": []
  }
 ],
 "metadata": {
  "kernelspec": {
   "display_name": "Python 3",
   "language": "python",
   "name": "python3"
  },
  "language_info": {
   "codemirror_mode": {
    "name": "ipython",
    "version": 3
   },
   "file_extension": ".py",
   "mimetype": "text/x-python",
   "name": "python",
   "nbconvert_exporter": "python",
   "pygments_lexer": "ipython3",
   "version": "3.6.3"
  }
 },
 "nbformat": 4,
 "nbformat_minor": 2
}
