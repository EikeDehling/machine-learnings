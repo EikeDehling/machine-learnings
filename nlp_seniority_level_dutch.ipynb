{
 "cells": [
  {
   "cell_type": "code",
   "execution_count": null,
   "metadata": {},
   "outputs": [],
   "source": []
  },
  {
   "cell_type": "code",
   "execution_count": null,
   "metadata": {},
   "outputs": [],
   "source": [
    "r = requests.get('https://www.jobfeed.nl/api/v3/search?_fields=posting_id,job_title,full_text&date__range=now-2M__now-1M&_limit=10000&job_title=senior|sr|medior|junior|jr',\n",
    "                 auth=('USER', 'PASSWORD'))\n",
    "\n",
    "results = pd.DataFrame(r.json()['results'])\n",
    "\n",
    "def determine_seniority(title):\n",
    "    seniority = ''\n",
    "    if re.search(r'\\b(senior|sr)\\b', title, re.IGNORECASE):\n",
    "        seniority = 'Senior'\n",
    "    elif re.search(r'\\b(medior)\\b', title, re.IGNORECASE):\n",
    "        seniority = 'Medior'\n",
    "    elif re.search(r'\\b(junior|jr)\\b', title, re.IGNORECASE):\n",
    "        seniority = 'Junior'\n",
    "    return seniority\n",
    "\n",
    "results['seniority_level'] = results['job_title'].apply(determine_seniority)\n",
    "\n",
    "results[['posting_id', 'job_title', 'full_text', 'seniority_level']] \\\n",
    "    .to_csv('data/seniority-nl.csv', index=False, header=True, quoting=csv.QUOTE_ALL)"
   ]
  },
  {
   "cell_type": "code",
   "execution_count": null,
   "metadata": {},
   "outputs": [],
   "source": []
  },
  {
   "cell_type": "code",
   "execution_count": null,
   "metadata": {},
   "outputs": [],
   "source": []
  },
  {
   "cell_type": "code",
   "execution_count": 1,
   "metadata": {},
   "outputs": [],
   "source": [
    "import pandas as pd\n",
    "\n",
    "df = pd.read_csv('data/seniority-nl.csv', index_col=None)"
   ]
  },
  {
   "cell_type": "code",
   "execution_count": 2,
   "metadata": {},
   "outputs": [
    {
     "data": {
      "text/html": [
       "<div>\n",
       "<style scoped>\n",
       "    .dataframe tbody tr th:only-of-type {\n",
       "        vertical-align: middle;\n",
       "    }\n",
       "\n",
       "    .dataframe tbody tr th {\n",
       "        vertical-align: top;\n",
       "    }\n",
       "\n",
       "    .dataframe thead th {\n",
       "        text-align: right;\n",
       "    }\n",
       "</style>\n",
       "<table border=\"1\" class=\"dataframe\">\n",
       "  <thead>\n",
       "    <tr style=\"text-align: right;\">\n",
       "      <th></th>\n",
       "      <th>posting_id</th>\n",
       "      <th>job_title</th>\n",
       "      <th>full_text</th>\n",
       "      <th>seniority_level</th>\n",
       "    </tr>\n",
       "  </thead>\n",
       "  <tbody>\n",
       "    <tr>\n",
       "      <th>0</th>\n",
       "      <td>3efed3118bb548e3b043cdfbd3fe7382</td>\n",
       "      <td>Jr. Tekenaar Verkeersmaatregelen</td>\n",
       "      <td>Jr. Tekenaar Verkeersmaatregelen (4051NL)\\n\\...</td>\n",
       "      <td>Junior</td>\n",
       "    </tr>\n",
       "    <tr>\n",
       "      <th>1</th>\n",
       "      <td>325c1388fbd140f596b163092f3ab651</td>\n",
       "      <td>DC | Senior Python developer | Tech startup | ...</td>\n",
       "      <td>DC | Senior Python developer | Tech startup ...</td>\n",
       "      <td>Senior</td>\n",
       "    </tr>\n",
       "    <tr>\n",
       "      <th>2</th>\n",
       "      <td>ec362644c45440028b2ce212620bddff</td>\n",
       "      <td>Fulltime Junior HR Business Partner @ JD Sports</td>\n",
       "      <td>Fulltime Junior HR Business Partner @ JD Spo...</td>\n",
       "      <td>Junior</td>\n",
       "    </tr>\n",
       "    <tr>\n",
       "      <th>3</th>\n",
       "      <td>ec8aad3a8af74e58a2d67a657e1fc228</td>\n",
       "      <td>Junior Elektronicus (richting elektronica)</td>\n",
       "      <td>Junior Elektronicus (richting elektronica) m...</td>\n",
       "      <td>Junior</td>\n",
       "    </tr>\n",
       "    <tr>\n",
       "      <th>4</th>\n",
       "      <td>491e38a5d26a4bacbeadf5fbdecd80c1</td>\n",
       "      <td>Junior Belastingadviseur</td>\n",
       "      <td>Terug naar resultaten\\n  * Vorige\\n  * Volge...</td>\n",
       "      <td>Junior</td>\n",
       "    </tr>\n",
       "    <tr>\n",
       "      <th>5</th>\n",
       "      <td>a50b54a92fc740cfa6b3e76aebb5ce80</td>\n",
       "      <td>Talentvolle Junior Engineers Gezocht</td>\n",
       "      <td>Talentvolle Junior Engineers Gezocht (1849NL...</td>\n",
       "      <td>Junior</td>\n",
       "    </tr>\n",
       "    <tr>\n",
       "      <th>6</th>\n",
       "      <td>0580a19a67b949aa99ce9e18ef4b6c6e</td>\n",
       "      <td>Senior plus jurist</td>\n",
       "      <td>Senior plus jurist\\n\\n  * Je hebt minimaal d...</td>\n",
       "      <td>Senior</td>\n",
       "    </tr>\n",
       "    <tr>\n",
       "      <th>7</th>\n",
       "      <td>c0322942df1546e98e2ea7e3c2ac90a7</td>\n",
       "      <td>Junior Sales</td>\n",
       "      <td>Junior Sales\\n\\n  Dinsdag 14 mei 2019\\n\\n  U...</td>\n",
       "      <td>Junior</td>\n",
       "    </tr>\n",
       "    <tr>\n",
       "      <th>8</th>\n",
       "      <td>3eda49fbe02a4cd8a522caee4c572a3b</td>\n",
       "      <td>Junior Stylist 1</td>\n",
       "      <td>Junior Stylist 1\\n\\n  Locatie: AMI Kappers D...</td>\n",
       "      <td>Junior</td>\n",
       "    </tr>\n",
       "    <tr>\n",
       "      <th>9</th>\n",
       "      <td>a2a4ed131d0740b389aed302b5372e1c</td>\n",
       "      <td>Junior Quantitative Analyst - Quants Analyst -...</td>\n",
       "      <td>Junior Quantitative Analyst/Quants Analyst -...</td>\n",
       "      <td>Junior</td>\n",
       "    </tr>\n",
       "  </tbody>\n",
       "</table>\n",
       "</div>"
      ],
      "text/plain": [
       "                         posting_id  \\\n",
       "0  3efed3118bb548e3b043cdfbd3fe7382   \n",
       "1  325c1388fbd140f596b163092f3ab651   \n",
       "2  ec362644c45440028b2ce212620bddff   \n",
       "3  ec8aad3a8af74e58a2d67a657e1fc228   \n",
       "4  491e38a5d26a4bacbeadf5fbdecd80c1   \n",
       "5  a50b54a92fc740cfa6b3e76aebb5ce80   \n",
       "6  0580a19a67b949aa99ce9e18ef4b6c6e   \n",
       "7  c0322942df1546e98e2ea7e3c2ac90a7   \n",
       "8  3eda49fbe02a4cd8a522caee4c572a3b   \n",
       "9  a2a4ed131d0740b389aed302b5372e1c   \n",
       "\n",
       "                                           job_title  \\\n",
       "0                   Jr. Tekenaar Verkeersmaatregelen   \n",
       "1  DC | Senior Python developer | Tech startup | ...   \n",
       "2    Fulltime Junior HR Business Partner @ JD Sports   \n",
       "3         Junior Elektronicus (richting elektronica)   \n",
       "4                           Junior Belastingadviseur   \n",
       "5               Talentvolle Junior Engineers Gezocht   \n",
       "6                                 Senior plus jurist   \n",
       "7                                       Junior Sales   \n",
       "8                                   Junior Stylist 1   \n",
       "9  Junior Quantitative Analyst - Quants Analyst -...   \n",
       "\n",
       "                                           full_text seniority_level  \n",
       "0    Jr. Tekenaar Verkeersmaatregelen (4051NL)\\n\\...          Junior  \n",
       "1    DC | Senior Python developer | Tech startup ...          Senior  \n",
       "2    Fulltime Junior HR Business Partner @ JD Spo...          Junior  \n",
       "3    Junior Elektronicus (richting elektronica) m...          Junior  \n",
       "4    Terug naar resultaten\\n  * Vorige\\n  * Volge...          Junior  \n",
       "5    Talentvolle Junior Engineers Gezocht (1849NL...          Junior  \n",
       "6    Senior plus jurist\\n\\n  * Je hebt minimaal d...          Senior  \n",
       "7    Junior Sales\\n\\n  Dinsdag 14 mei 2019\\n\\n  U...          Junior  \n",
       "8    Junior Stylist 1\\n\\n  Locatie: AMI Kappers D...          Junior  \n",
       "9    Junior Quantitative Analyst/Quants Analyst -...          Junior  "
      ]
     },
     "execution_count": 2,
     "metadata": {},
     "output_type": "execute_result"
    }
   ],
   "source": [
    "df.head(n=10)"
   ]
  },
  {
   "cell_type": "code",
   "execution_count": 3,
   "metadata": {},
   "outputs": [
    {
     "data": {
      "text/plain": [
       "(12820, 4)"
      ]
     },
     "execution_count": 3,
     "metadata": {},
     "output_type": "execute_result"
    }
   ],
   "source": [
    "df.shape"
   ]
  },
  {
   "cell_type": "code",
   "execution_count": 6,
   "metadata": {},
   "outputs": [
    {
     "data": {
      "text/plain": [
       "<matplotlib.axes._subplots.AxesSubplot at 0x7fa0be87da58>"
      ]
     },
     "execution_count": 6,
     "metadata": {},
     "output_type": "execute_result"
    },
    {
     "data": {
      "image/png": "[encoded data removed]",
      "text/plain": [
       "<Figure size 432x288 with 1 Axes>"
      ]
     },
     "metadata": {
      "needs_background": "light"
     },
     "output_type": "display_data"
    }
   ],
   "source": [
    "%matplotlib inline\n",
    "\n",
    "import seaborn as sns\n",
    "\n",
    "sns.countplot(x=df['seniority_level'])"
   ]
  },
  {
   "cell_type": "code",
   "execution_count": null,
   "metadata": {},
   "outputs": [],
   "source": []
  },
  {
   "cell_type": "code",
   "execution_count": 7,
   "metadata": {},
   "outputs": [],
   "source": [
    "from gensim.parsing.preprocessing import preprocess_string, RE_TAGS, strip_punctuation, stem_text, \\\n",
    "    strip_multiple_whitespaces, strip_numeric, remove_stopwords, strip_short, strip_non_alphanum\n",
    "from sklearn.feature_extraction.text import CountVectorizer\n",
    "from sklearn.preprocessing import LabelEncoder, MaxAbsScaler\n",
    "from sklearn.decomposition import TruncatedSVD\n",
    "from unicodedata import normalize\n",
    "\n",
    "my_filters = [\n",
    "    lambda x: x.lower(), strip_punctuation, strip_non_alphanum,\n",
    "    strip_multiple_whitespaces, remove_stopwords\n",
    "]\n",
    "\n",
    "def my_tokenizer(s):\n",
    "    return preprocess_string(s, filters=my_filters)\n",
    "\n",
    "stop_words = ['junior', 'medior', 'senior']\n",
    "    \n",
    "vect = CountVectorizer(min_df=400, max_df=0.2, analyzer='word', tokenizer=my_tokenizer, ngram_range=(1,2),\n",
    "                       stop_words=stop_words)\n",
    "\n",
    "le = LabelEncoder()\n",
    "\n",
    "X = vect.fit_transform(df['full_text'])\n",
    "y = le.fit_transform(df['seniority_level'])"
   ]
  },
  {
   "cell_type": "code",
   "execution_count": null,
   "metadata": {},
   "outputs": [],
   "source": []
  },
  {
   "cell_type": "code",
   "execution_count": 8,
   "metadata": {},
   "outputs": [
    {
     "data": {
      "text/plain": [
       "(12820, 2039)"
      ]
     },
     "execution_count": 8,
     "metadata": {},
     "output_type": "execute_result"
    }
   ],
   "source": [
    "X.shape"
   ]
  },
  {
   "cell_type": "code",
   "execution_count": 9,
   "metadata": {},
   "outputs": [
    {
     "data": {
      "text/plain": [
       "(12820,)"
      ]
     },
     "execution_count": 9,
     "metadata": {},
     "output_type": "execute_result"
    }
   ],
   "source": [
    "y.shape"
   ]
  },
  {
   "cell_type": "code",
   "execution_count": null,
   "metadata": {},
   "outputs": [],
   "source": []
  },
  {
   "cell_type": "code",
   "execution_count": 10,
   "metadata": {},
   "outputs": [
    {
     "name": "stdout",
     "output_type": "stream",
     "text": [
      "           MultinomialNB Accuracy: 0.63 (+/- 0.01) F1: 0.55 (+/- 0.01) Log loss: -6.52 (+/- 0.20)\n",
      "      LogisticRegression Accuracy: 0.71 (+/- 0.00) F1: 0.60 (+/- 0.01) Log loss: -1.37 (+/- 0.05)\n",
      "      LogisticRegression Accuracy: 0.70 (+/- 0.01) F1: 0.59 (+/- 0.01) Log loss: -1.41 (+/- 0.04)\n"
     ]
    }
   ],
   "source": [
    "from sklearn.model_selection import cross_val_score, KFold, StratifiedKFold\n",
    "from sklearn.ensemble import RandomForestClassifier\n",
    "from sklearn.neighbors import KNeighborsClassifier\n",
    "from sklearn.linear_model import LogisticRegression\n",
    "from sklearn.neural_network import MLPClassifier\n",
    "from sklearn.naive_bayes import MultinomialNB\n",
    "from sklearn.svm import SVC, LinearSVC\n",
    "\n",
    "classifiers = [\n",
    "    MultinomialNB(),\n",
    "    LogisticRegression(solver='lbfgs', max_iter=500, multi_class='multinomial'),\n",
    "    LogisticRegression(solver='lbfgs', max_iter=500, multi_class='multinomial', class_weight='balanced'),\n",
    "]\n",
    "\n",
    "for clf in classifiers:\n",
    "    accs = cross_val_score(clf, X, y, cv=StratifiedKFold(n_splits=3, shuffle=True), scoring='accuracy')\n",
    "    f1s = cross_val_score(clf, X, y, cv=StratifiedKFold(n_splits=3, shuffle=True), scoring='f1_macro')\n",
    "    lls = cross_val_score(clf, X, y, cv=StratifiedKFold(n_splits=3, shuffle=True), scoring='neg_log_loss')\n",
    "\n",
    "    print(\"{:>24} Accuracy: {:.2f} (+/- {:.2f}) F1: {:.2f} (+/- {:.2f}) Log loss: {:.2f} (+/- {:.2f})\" \\\n",
    "          .format(clf.__class__.__name__, accs.mean(), accs.std(), f1s.mean(), f1s.std(), lls.mean(), lls.std()))"
   ]
  },
  {
   "cell_type": "code",
   "execution_count": null,
   "metadata": {},
   "outputs": [],
   "source": []
  },
  {
   "cell_type": "code",
   "execution_count": 11,
   "metadata": {},
   "outputs": [
    {
     "data": {
      "text/plain": [
       "LogisticRegression(C=1.0, class_weight='balanced', dual=False,\n",
       "          fit_intercept=True, intercept_scaling=1, max_iter=500,\n",
       "          multi_class='multinomial', n_jobs=None, penalty='l2',\n",
       "          random_state=None, solver='lbfgs', tol=0.0001, verbose=0,\n",
       "          warm_start=False)"
      ]
     },
     "execution_count": 11,
     "metadata": {},
     "output_type": "execute_result"
    }
   ],
   "source": [
    "from sklearn.model_selection import train_test_split\n",
    "\n",
    "Xtr, Xte, ytr, yte = train_test_split(X, y, test_size=0.33, stratify=y)\n",
    "\n",
    "#clf = MultinomialNB()\n",
    "clf = LogisticRegression(solver='lbfgs', max_iter=500, multi_class='multinomial', class_weight='balanced')\n",
    "clf.fit(Xtr, ytr)"
   ]
  },
  {
   "cell_type": "code",
   "execution_count": null,
   "metadata": {},
   "outputs": [],
   "source": []
  },
  {
   "cell_type": "code",
   "execution_count": 12,
   "metadata": {},
   "outputs": [
    {
     "name": "stdout",
     "output_type": "stream",
     "text": [
      "              precision    recall  f1-score   support\n",
      "\n",
      "      Junior       0.78      0.75      0.76      1972\n",
      "      Medior       0.22      0.34      0.27       345\n",
      "      Senior       0.73      0.69      0.71      1914\n",
      "\n",
      "   micro avg       0.69      0.69      0.69      4231\n",
      "   macro avg       0.58      0.59      0.58      4231\n",
      "weighted avg       0.71      0.69      0.70      4231\n",
      "\n"
     ]
    }
   ],
   "source": [
    "from sklearn.metrics import classification_report\n",
    "\n",
    "ypred = clf.predict(Xte)\n",
    "\n",
    "print(classification_report(yte, ypred, target_names=le.classes_))"
   ]
  },
  {
   "cell_type": "code",
   "execution_count": null,
   "metadata": {},
   "outputs": [],
   "source": []
  },
  {
   "cell_type": "code",
   "execution_count": 13,
   "metadata": {},
   "outputs": [
    {
     "data": {
      "text/plain": [
       "array(['Junior', 'Medior', 'Senior'], dtype=object)"
      ]
     },
     "execution_count": 13,
     "metadata": {},
     "output_type": "execute_result"
    }
   ],
   "source": [
    "le.classes_"
   ]
  },
  {
   "cell_type": "code",
   "execution_count": null,
   "metadata": {},
   "outputs": [],
   "source": []
  },
  {
   "cell_type": "code",
   "execution_count": 14,
   "metadata": {},
   "outputs": [
    {
     "data": {
      "image/png": "[encoded data removed]",
      "text/plain": [
       "<Figure size 432x288 with 1 Axes>"
      ]
     },
     "metadata": {
      "needs_background": "light"
     },
     "output_type": "display_data"
    }
   ],
   "source": [
    "from mlxtend.evaluate import confusion_matrix\n",
    "from mlxtend.plotting import plot_confusion_matrix\n",
    "\n",
    "fig, ax = plot_confusion_matrix(confusion_matrix(yte, ypred))"
   ]
  },
  {
   "cell_type": "code",
   "execution_count": null,
   "metadata": {},
   "outputs": [],
   "source": []
  },
  {
   "cell_type": "code",
   "execution_count": 15,
   "metadata": {},
   "outputs": [
    {
     "name": "stdout",
     "output_type": "stream",
     "text": [
      "Junior: woonachtig, met diverse, dan op, leergierig, laptop en, je nog, na een, 2019 tot, leren, starters, 2 jaar, enige, analytische, zojuist, begin, schriftelijke, 1 jaar, 2 500, starter, stage\n",
      "\n",
      "Medior: stuur je, uiteraard, bij klant, salaris en, needs, hebt affiniteit, onze klant, voorwaarden, 19 solliciteer, haag, om een, beoordelen, bedrijfsgegevens, terecht, mbo opleiding, zullen, circa, jaar relevante, minimaal 3, voor ons\n",
      "\n",
      "Senior: mei 2019, focus op, begeleidt, een sterke, mogelijk contact, elke dag, gevraagd, elk, een uitstekend, en persoonlijke, je veel, een ervaren, een leaseauto, schrijf, dan direct, je naar, ruime ervaring, 5 10, 10 jaar, minimaal 5\n",
      "\n"
     ]
    }
   ],
   "source": [
    "import numpy as np\n",
    "\n",
    "feature_names = vect.get_feature_names()\n",
    "\n",
    "for i, class_label in enumerate(le.classes_):\n",
    "    top10 = np.argsort(clf.coef_[i])[-20:]\n",
    "    print(\"%s: %s\" % (class_label, \", \".join(feature_names[j] for j in top10)))\n",
    "    print()"
   ]
  },
  {
   "cell_type": "code",
   "execution_count": null,
   "metadata": {},
   "outputs": [],
   "source": []
  },
  {
   "cell_type": "code",
   "execution_count": null,
   "metadata": {},
   "outputs": [],
   "source": []
  }
 ],
 "metadata": {
  "kernelspec": {
   "display_name": "Python 3",
   "language": "python",
   "name": "python3"
  },
  "language_info": {
   "codemirror_mode": {
    "name": "ipython",
    "version": 3
   },
   "file_extension": ".py",
   "mimetype": "text/x-python",
   "name": "python",
   "nbconvert_exporter": "python",
   "pygments_lexer": "ipython3",
   "version": "3.7.2"
  }
 },
 "nbformat": 4,
 "nbformat_minor": 2
}
