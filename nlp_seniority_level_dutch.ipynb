{
 "cells": [
  {
   "cell_type": "code",
   "execution_count": null,
   "metadata": {},
   "outputs": [],
   "source": []
  },
  {
   "cell_type": "code",
   "execution_count": null,
   "metadata": {},
   "outputs": [],
   "source": [
    "from langdetect import detect\n",
    "import pandas as pd\n",
    "import requests\n",
    "import csv\n",
    "import re\n",
    "\n",
    "r = requests.get('https://www.jobfeed.nl/api/v3/search?_fields=posting_id,job_title,full_text&date__range=now-1M__now&_limit=10000&job_title=junior|medior|senior',\n",
    "                 auth=('Anonymous', 'Anonymous'))\n",
    "\n",
    "results = pd.DataFrame(r.json()['results'])\n",
    "\n",
    "def determine_seniority(title):\n",
    "    seniority = ''\n",
    "    if re.search(r'\\b(senior|sr)\\b', title, re.IGNORECASE):\n",
    "        seniority = 'Senior'\n",
    "    elif re.search(r'\\b(medior)\\b', title, re.IGNORECASE):\n",
    "        seniority = 'Medior'\n",
    "    elif re.search(r'\\b(junior|jr)\\b', title, re.IGNORECASE):\n",
    "        seniority = 'Junior'\n",
    "    return seniority\n",
    "\n",
    "results['seniority_level'] = results['job_title'].apply(determine_seniority)\n",
    "\n",
    "results['lang'] = results['full_text'].apply(detect)\n",
    "results = results[results['lang'] == 'nl']\n",
    "\n",
    "results[['posting_id', 'job_title', 'full_text', 'seniority_level']] \\\n",
    "    .to_csv('data/seniority-nl-2.csv', index=False, header=True, quoting=csv.QUOTE_ALL)"
   ]
  },
  {
   "cell_type": "code",
   "execution_count": null,
   "metadata": {},
   "outputs": [],
   "source": []
  },
  {
   "cell_type": "code",
   "execution_count": null,
   "metadata": {},
   "outputs": [],
   "source": []
  },
  {
   "cell_type": "code",
   "execution_count": null,
   "metadata": {},
   "outputs": [],
   "source": [
    "# import numpy as np\n",
    "# import csv\n",
    "# np.random.shuffle(df.values)\n",
    "# df = df.drop_duplicates(subset=['posting_id'])\n",
    "# df.to_csv('data/seniority-nl.csv', index=False, header=True, quoting=csv.QUOTE_ALL)"
   ]
  },
  {
   "cell_type": "code",
   "execution_count": null,
   "metadata": {},
   "outputs": [],
   "source": []
  },
  {
   "cell_type": "code",
   "execution_count": null,
   "metadata": {},
   "outputs": [],
   "source": []
  },
  {
   "cell_type": "code",
   "execution_count": 1,
   "metadata": {},
   "outputs": [],
   "source": [
    "import pandas as pd\n",
    "\n",
    "df = pd.read_csv('data/seniority-nl.csv.gz', index_col=None)"
   ]
  },
  {
   "cell_type": "code",
   "execution_count": 2,
   "metadata": {},
   "outputs": [
    {
     "data": {
      "text/html": [
       "<div>\n",
       "<style scoped>\n",
       "    .dataframe tbody tr th:only-of-type {\n",
       "        vertical-align: middle;\n",
       "    }\n",
       "\n",
       "    .dataframe tbody tr th {\n",
       "        vertical-align: top;\n",
       "    }\n",
       "\n",
       "    .dataframe thead th {\n",
       "        text-align: right;\n",
       "    }\n",
       "</style>\n",
       "<table border=\"1\" class=\"dataframe\">\n",
       "  <thead>\n",
       "    <tr style=\"text-align: right;\">\n",
       "      <th></th>\n",
       "      <th>posting_id</th>\n",
       "      <th>job_title</th>\n",
       "      <th>full_text</th>\n",
       "      <th>seniority_level</th>\n",
       "    </tr>\n",
       "  </thead>\n",
       "  <tbody>\n",
       "    <tr>\n",
       "      <th>0</th>\n",
       "      <td>97ff16bb8d274b69885b362e31389ead</td>\n",
       "      <td>Medior Uitvoerder</td>\n",
       "      <td>Medior Uitvoerder\\n\\n  Vacature omschrijving...</td>\n",
       "      <td>Medior</td>\n",
       "    </tr>\n",
       "    <tr>\n",
       "      <th>1</th>\n",
       "      <td>8662f46cd11b46c18a11339073a197dd</td>\n",
       "      <td>Senior Beheerder</td>\n",
       "      <td>Senior Beheerder\\n\\n  Wijnandsrade, Nederlan...</td>\n",
       "      <td>Senior</td>\n",
       "    </tr>\n",
       "    <tr>\n",
       "      <th>2</th>\n",
       "      <td>0935d36526814b98b485a2d36338ef66</td>\n",
       "      <td>Medior Fullstack Programmeur regio</td>\n",
       "      <td>Alles weergevennum of num\\n\\n  Medior Fullst...</td>\n",
       "      <td>Medior</td>\n",
       "    </tr>\n",
       "    <tr>\n",
       "      <th>3</th>\n",
       "      <td>b15b2e26c3ae4e64a6244d67550bc4ad</td>\n",
       "      <td>Machinist Junior</td>\n",
       "      <td>De zon komt op in de havens van Dordrecht. J...</td>\n",
       "      <td>Junior</td>\n",
       "    </tr>\n",
       "    <tr>\n",
       "      <th>4</th>\n",
       "      <td>da02c88bc50746b7a255d36f45e21301</td>\n",
       "      <td>Junior Assistent Accountant HBO (SPOED)</td>\n",
       "      <td>* Zoekresultaat\\n  * Vacature\\n\\n  Junior As...</td>\n",
       "      <td>Junior</td>\n",
       "    </tr>\n",
       "    <tr>\n",
       "      <th>5</th>\n",
       "      <td>d57492fa368c403e85669b0b49929237</td>\n",
       "      <td>Senior Storingsmonteur</td>\n",
       "      <td>Vacature Senior Storingsmonteur\\n\\n  Heemske...</td>\n",
       "      <td>Senior</td>\n",
       "    </tr>\n",
       "    <tr>\n",
       "      <th>6</th>\n",
       "      <td>150eabc5caae42d3ac063d2f38a26675</td>\n",
       "      <td>Junior assistent accountant (MBO)</td>\n",
       "      <td>Junior assistent accountant (MBO)\\n\\n  Werkg...</td>\n",
       "      <td>Junior</td>\n",
       "    </tr>\n",
       "    <tr>\n",
       "      <th>7</th>\n",
       "      <td>736d11b0119340fe8464cf749722341d</td>\n",
       "      <td>Medior fiscalist</td>\n",
       "      <td>Medior fiscalist\\n\\n  Werkgever: Rousch Fina...</td>\n",
       "      <td>Medior</td>\n",
       "    </tr>\n",
       "    <tr>\n",
       "      <th>8</th>\n",
       "      <td>553937e36653443f816c0674b64007d7</td>\n",
       "      <td>Senior Software Engineer .Net</td>\n",
       "      <td>Senior Software Engineer .Net\\n\\n  Informati...</td>\n",
       "      <td>Senior</td>\n",
       "    </tr>\n",
       "    <tr>\n",
       "      <th>9</th>\n",
       "      <td>e5cb6455230743bf8dc4f50cc4d576ad</td>\n",
       "      <td>Junior Consultant Retirement</td>\n",
       "      <td>* Finance &amp; banking\\n  * Amstelveen\\n  * 40,...</td>\n",
       "      <td>Junior</td>\n",
       "    </tr>\n",
       "    <tr>\n",
       "      <th>10</th>\n",
       "      <td>325e227a458f4f558635c2fed26e898c</td>\n",
       "      <td>Beleidsmedewerker Kwaliteitsbeleid Beleidsmede...</td>\n",
       "      <td>Beleidsmedewerker Kwaliteitsbeleid\\n\\n  Sect...</td>\n",
       "      <td>Medior</td>\n",
       "    </tr>\n",
       "    <tr>\n",
       "      <th>11</th>\n",
       "      <td>277a05b1278d486aadc5e83dad7cc802</td>\n",
       "      <td>(Senior) Operator 3-ploegendienst</td>\n",
       "      <td>(Senior) Operator 3-ploegendienst\\n\\n  Organ...</td>\n",
       "      <td>Senior</td>\n",
       "    </tr>\n",
       "    <tr>\n",
       "      <th>12</th>\n",
       "      <td>88c78f6cb01a4cbe87629117ee72d93a</td>\n",
       "      <td>Senior consultant Arbo</td>\n",
       "      <td>Alles weergevennum of num\\n\\n  Senior consul...</td>\n",
       "      <td>Senior</td>\n",
       "    </tr>\n",
       "    <tr>\n",
       "      <th>13</th>\n",
       "      <td>bb029b5515bf44038fe4cb78e218016a</td>\n",
       "      <td>Junior onderhoudsmonteur (mbo 3) - 2 ploegen</td>\n",
       "      <td>Junior onderhoudsmonteur (mbo 3) - 2 ploegen...</td>\n",
       "      <td>Junior</td>\n",
       "    </tr>\n",
       "    <tr>\n",
       "      <th>14</th>\n",
       "      <td>eca217c452024e82b6076a95fe9a69da</td>\n",
       "      <td>Senior Consultant Strategy &amp; Operations - Fina...</td>\n",
       "      <td>Senior Consultant Strategy &amp; Operations - Fi...</td>\n",
       "      <td>Senior</td>\n",
       "    </tr>\n",
       "    <tr>\n",
       "      <th>15</th>\n",
       "      <td>ba30eca9d2144b74b3ff6995610edcf4</td>\n",
       "      <td>(Senior) Hardware Engineer</td>\n",
       "      <td>(Senior) Hardware Engineer\\n\\n  Functieomsch...</td>\n",
       "      <td>Senior</td>\n",
       "    </tr>\n",
       "    <tr>\n",
       "      <th>16</th>\n",
       "      <td>653796ccc0a045d2adb21aee7b091288</td>\n",
       "      <td>Senior Recruiter bol.com</td>\n",
       "      <td>Senior Recruiter bol.com\\n\\n  Functieomschri...</td>\n",
       "      <td>Senior</td>\n",
       "    </tr>\n",
       "    <tr>\n",
       "      <th>17</th>\n",
       "      <td>d31c24413d124dadae93c380690db48c</td>\n",
       "      <td>Software Developer Junior /Medior - Boomerweb</td>\n",
       "      <td>Software Developer Junior /Medior - Boomerwe...</td>\n",
       "      <td>Medior</td>\n",
       "    </tr>\n",
       "    <tr>\n",
       "      <th>18</th>\n",
       "      <td>17ff0d11fc0b42afb1e7486394b8eb96</td>\n",
       "      <td>Senior Security Specialist nodig bij exclusiev...</td>\n",
       "      <td>CareerValue B.V.\\n  11 - 50 medewerkers\\n  P...</td>\n",
       "      <td>Senior</td>\n",
       "    </tr>\n",
       "    <tr>\n",
       "      <th>19</th>\n",
       "      <td>9e2a25395d6c4962abbe92a7c37b99ac</td>\n",
       "      <td>Jr. Allround Storingsmonteur Jr. Allround Stor...</td>\n",
       "      <td>Jr. Allround Storingsmonteur\\n\\n  * OPLEIDIN...</td>\n",
       "      <td>Junior</td>\n",
       "    </tr>\n",
       "    <tr>\n",
       "      <th>20</th>\n",
       "      <td>875f8db1fe5943e4a76a5482f6bb72de</td>\n",
       "      <td>Senior Consultant Management Support</td>\n",
       "      <td>Senior Consultant Management Support\\n\\n  Be...</td>\n",
       "      <td>Senior</td>\n",
       "    </tr>\n",
       "    <tr>\n",
       "      <th>21</th>\n",
       "      <td>47c1d33c9559443b9cefaca55f655247</td>\n",
       "      <td>Senior Planner, Dordrecht</td>\n",
       "      <td>Senior Planner, Dordrecht\\n  ENGIE\\n  Dordre...</td>\n",
       "      <td>Senior</td>\n",
       "    </tr>\n",
       "    <tr>\n",
       "      <th>22</th>\n",
       "      <td>9d3b5d19fda4454e82b993489a7f55e0</td>\n",
       "      <td>Junior Engineer / Projectmanager</td>\n",
       "      <td>Junior Engineer / Projectmanager\\n  Alliande...</td>\n",
       "      <td>Junior</td>\n",
       "    </tr>\n",
       "    <tr>\n",
       "      <th>23</th>\n",
       "      <td>e8900ac0c5d94feaa1fdea2e9afbff25</td>\n",
       "      <td>Medior/Senior IT Recruiter</td>\n",
       "      <td>Vorige Volgende\\n\\n  Medior/Senior IT Recrui...</td>\n",
       "      <td>Senior</td>\n",
       "    </tr>\n",
       "    <tr>\n",
       "      <th>24</th>\n",
       "      <td>300153e9482d408ea5b5e42e2e429bbc</td>\n",
       "      <td>Junior Controller</td>\n",
       "      <td>Junior Controller\\n\\n  Europastry Benelux B....</td>\n",
       "      <td>Junior</td>\n",
       "    </tr>\n",
       "  </tbody>\n",
       "</table>\n",
       "</div>"
      ],
      "text/plain": [
       "                          posting_id  \\\n",
       "0   97ff16bb8d274b69885b362e31389ead   \n",
       "1   8662f46cd11b46c18a11339073a197dd   \n",
       "2   0935d36526814b98b485a2d36338ef66   \n",
       "3   b15b2e26c3ae4e64a6244d67550bc4ad   \n",
       "4   da02c88bc50746b7a255d36f45e21301   \n",
       "5   d57492fa368c403e85669b0b49929237   \n",
       "6   150eabc5caae42d3ac063d2f38a26675   \n",
       "7   736d11b0119340fe8464cf749722341d   \n",
       "8   553937e36653443f816c0674b64007d7   \n",
       "9   e5cb6455230743bf8dc4f50cc4d576ad   \n",
       "10  325e227a458f4f558635c2fed26e898c   \n",
       "11  277a05b1278d486aadc5e83dad7cc802   \n",
       "12  88c78f6cb01a4cbe87629117ee72d93a   \n",
       "13  bb029b5515bf44038fe4cb78e218016a   \n",
       "14  eca217c452024e82b6076a95fe9a69da   \n",
       "15  ba30eca9d2144b74b3ff6995610edcf4   \n",
       "16  653796ccc0a045d2adb21aee7b091288   \n",
       "17  d31c24413d124dadae93c380690db48c   \n",
       "18  17ff0d11fc0b42afb1e7486394b8eb96   \n",
       "19  9e2a25395d6c4962abbe92a7c37b99ac   \n",
       "20  875f8db1fe5943e4a76a5482f6bb72de   \n",
       "21  47c1d33c9559443b9cefaca55f655247   \n",
       "22  9d3b5d19fda4454e82b993489a7f55e0   \n",
       "23  e8900ac0c5d94feaa1fdea2e9afbff25   \n",
       "24  300153e9482d408ea5b5e42e2e429bbc   \n",
       "\n",
       "                                            job_title  \\\n",
       "0                                   Medior Uitvoerder   \n",
       "1                                    Senior Beheerder   \n",
       "2                  Medior Fullstack Programmeur regio   \n",
       "3                                    Machinist Junior   \n",
       "4             Junior Assistent Accountant HBO (SPOED)   \n",
       "5                              Senior Storingsmonteur   \n",
       "6                   Junior assistent accountant (MBO)   \n",
       "7                                    Medior fiscalist   \n",
       "8                       Senior Software Engineer .Net   \n",
       "9                        Junior Consultant Retirement   \n",
       "10  Beleidsmedewerker Kwaliteitsbeleid Beleidsmede...   \n",
       "11                  (Senior) Operator 3-ploegendienst   \n",
       "12                             Senior consultant Arbo   \n",
       "13       Junior onderhoudsmonteur (mbo 3) - 2 ploegen   \n",
       "14  Senior Consultant Strategy & Operations - Fina...   \n",
       "15                         (Senior) Hardware Engineer   \n",
       "16                           Senior Recruiter bol.com   \n",
       "17      Software Developer Junior /Medior - Boomerweb   \n",
       "18  Senior Security Specialist nodig bij exclusiev...   \n",
       "19  Jr. Allround Storingsmonteur Jr. Allround Stor...   \n",
       "20               Senior Consultant Management Support   \n",
       "21                          Senior Planner, Dordrecht   \n",
       "22                   Junior Engineer / Projectmanager   \n",
       "23                         Medior/Senior IT Recruiter   \n",
       "24                                  Junior Controller   \n",
       "\n",
       "                                            full_text seniority_level  \n",
       "0     Medior Uitvoerder\\n\\n  Vacature omschrijving...          Medior  \n",
       "1     Senior Beheerder\\n\\n  Wijnandsrade, Nederlan...          Senior  \n",
       "2     Alles weergevennum of num\\n\\n  Medior Fullst...          Medior  \n",
       "3     De zon komt op in de havens van Dordrecht. J...          Junior  \n",
       "4     * Zoekresultaat\\n  * Vacature\\n\\n  Junior As...          Junior  \n",
       "5     Vacature Senior Storingsmonteur\\n\\n  Heemske...          Senior  \n",
       "6     Junior assistent accountant (MBO)\\n\\n  Werkg...          Junior  \n",
       "7     Medior fiscalist\\n\\n  Werkgever: Rousch Fina...          Medior  \n",
       "8     Senior Software Engineer .Net\\n\\n  Informati...          Senior  \n",
       "9     * Finance & banking\\n  * Amstelveen\\n  * 40,...          Junior  \n",
       "10    Beleidsmedewerker Kwaliteitsbeleid\\n\\n  Sect...          Medior  \n",
       "11    (Senior) Operator 3-ploegendienst\\n\\n  Organ...          Senior  \n",
       "12    Alles weergevennum of num\\n\\n  Senior consul...          Senior  \n",
       "13    Junior onderhoudsmonteur (mbo 3) - 2 ploegen...          Junior  \n",
       "14    Senior Consultant Strategy & Operations - Fi...          Senior  \n",
       "15    (Senior) Hardware Engineer\\n\\n  Functieomsch...          Senior  \n",
       "16    Senior Recruiter bol.com\\n\\n  Functieomschri...          Senior  \n",
       "17    Software Developer Junior /Medior - Boomerwe...          Medior  \n",
       "18    CareerValue B.V.\\n  11 - 50 medewerkers\\n  P...          Senior  \n",
       "19    Jr. Allround Storingsmonteur\\n\\n  * OPLEIDIN...          Junior  \n",
       "20    Senior Consultant Management Support\\n\\n  Be...          Senior  \n",
       "21    Senior Planner, Dordrecht\\n  ENGIE\\n  Dordre...          Senior  \n",
       "22    Junior Engineer / Projectmanager\\n  Alliande...          Junior  \n",
       "23    Vorige Volgende\\n\\n  Medior/Senior IT Recrui...          Senior  \n",
       "24    Junior Controller\\n\\n  Europastry Benelux B....          Junior  "
      ]
     },
     "execution_count": 2,
     "metadata": {},
     "output_type": "execute_result"
    }
   ],
   "source": [
    "df.head(n=25)"
   ]
  },
  {
   "cell_type": "code",
   "execution_count": 3,
   "metadata": {},
   "outputs": [
    {
     "data": {
      "text/plain": [
       "(37769, 4)"
      ]
     },
     "execution_count": 3,
     "metadata": {},
     "output_type": "execute_result"
    }
   ],
   "source": [
    "df.shape"
   ]
  },
  {
   "cell_type": "code",
   "execution_count": null,
   "metadata": {},
   "outputs": [],
   "source": []
  },
  {
   "cell_type": "code",
   "execution_count": 4,
   "metadata": {},
   "outputs": [
    {
     "data": {
      "text/plain": [
       "<matplotlib.axes._subplots.AxesSubplot at 0x7f985f958f28>"
      ]
     },
     "execution_count": 4,
     "metadata": {},
     "output_type": "execute_result"
    },
    {
     "data": {
      "image/png": "[encoded data removed]",
      "text/plain": [
       "<Figure size 432x288 with 1 Axes>"
      ]
     },
     "metadata": {
      "needs_background": "light"
     },
     "output_type": "display_data"
    }
   ],
   "source": [
    "%matplotlib inline\n",
    "\n",
    "import seaborn as sns\n",
    "\n",
    "sns.countplot(x=df['seniority_level'])"
   ]
  },
  {
   "cell_type": "code",
   "execution_count": null,
   "metadata": {},
   "outputs": [],
   "source": []
  },
  {
   "cell_type": "code",
   "execution_count": 5,
   "metadata": {},
   "outputs": [],
   "source": [
    "from gensim.parsing.preprocessing import preprocess_string, RE_TAGS, strip_punctuation, stem_text, \\\n",
    "    strip_multiple_whitespaces, strip_numeric, remove_stopwords, strip_short, strip_non_alphanum\n",
    "from sklearn.feature_extraction.text import CountVectorizer\n",
    "from sklearn.preprocessing import LabelEncoder, MaxAbsScaler\n",
    "from sklearn.decomposition import TruncatedSVD\n",
    "from unicodedata import normalize\n",
    "\n",
    "SENIORITIES = {'junior', 'medior', 'senior', 'jr', 'sr'} \n",
    "\n",
    "def remove_seniority(s):\n",
    "    return \" \".join(w for w in s.split() if w not in SENIORITIES)\n",
    "\n",
    "my_filters = [\n",
    "    lambda x: x.lower(), strip_punctuation, strip_non_alphanum,\n",
    "    strip_multiple_whitespaces, remove_stopwords, remove_seniority\n",
    "]\n",
    "\n",
    "def my_tokenizer(s):\n",
    "    return preprocess_string(s, filters=my_filters)\n",
    "    \n",
    "vect = CountVectorizer(min_df=900, max_df=0.2, analyzer='word', tokenizer=my_tokenizer, ngram_range=(1, 3),\n",
    "                       stop_words=SENIORITIES)\n",
    "\n",
    "#df['full_text_clean'] = df['full_text'].apply(lambda s: ' '.join(preprocess_string(s, filters=my_filters)))\n",
    "\n",
    "X = vect.fit_transform(df['full_text'])"
   ]
  },
  {
   "cell_type": "code",
   "execution_count": 6,
   "metadata": {},
   "outputs": [],
   "source": [
    "from sklearn.preprocessing import LabelEncoder\n",
    "\n",
    "le = LabelEncoder()\n",
    "\n",
    "y = le.fit_transform(df['seniority_level'])"
   ]
  },
  {
   "cell_type": "code",
   "execution_count": null,
   "metadata": {},
   "outputs": [],
   "source": []
  },
  {
   "cell_type": "code",
   "execution_count": 7,
   "metadata": {},
   "outputs": [
    {
     "data": {
      "text/plain": [
       "(37769, 3355)"
      ]
     },
     "execution_count": 7,
     "metadata": {},
     "output_type": "execute_result"
    }
   ],
   "source": [
    "X.shape"
   ]
  },
  {
   "cell_type": "code",
   "execution_count": 8,
   "metadata": {},
   "outputs": [
    {
     "data": {
      "text/plain": [
       "(37769,)"
      ]
     },
     "execution_count": 8,
     "metadata": {},
     "output_type": "execute_result"
    }
   ],
   "source": [
    "y.shape"
   ]
  },
  {
   "cell_type": "code",
   "execution_count": null,
   "metadata": {},
   "outputs": [],
   "source": []
  },
  {
   "cell_type": "code",
   "execution_count": 14,
   "metadata": {},
   "outputs": [
    {
     "name": "stdout",
     "output_type": "stream",
     "text": [
      "           MultinomialNB Took: 0.12s Accuracy: 0.62 (+/- 0.00) F1: 0.61 (+/- 0.00) Log loss: -7.76 (+/- 0.12)\n",
      "      LogisticRegression Took: 182.06s Accuracy: 0.72 (+/- 0.00) F1: 0.71 (+/- 0.00) Log loss: -0.81 (+/- 0.01)\n",
      "      LogisticRegression Took: 56.26s Accuracy: 0.73 (+/- 0.00) F1: 0.72 (+/- 0.00) Log loss: -0.68 (+/- 0.00)\n",
      "      LogisticRegression Took: 28.67s Accuracy: 0.73 (+/- 0.00) F1: 0.72 (+/- 0.00) Log loss: -0.64 (+/- 0.00)\n"
     ]
    }
   ],
   "source": [
    "from sklearn.model_selection import cross_validate, KFold, StratifiedKFold\n",
    "from sklearn.ensemble import RandomForestClassifier\n",
    "from sklearn.neighbors import KNeighborsClassifier\n",
    "from sklearn.linear_model import LogisticRegression\n",
    "from sklearn.neural_network import MLPClassifier\n",
    "from sklearn.naive_bayes import MultinomialNB\n",
    "from sklearn.svm import SVC, LinearSVC\n",
    "\n",
    "from sklearn.pipeline import make_pipeline\n",
    "from sklearn.decomposition import TruncatedSVD\n",
    "from sklearn.feature_selection import SelectKBest, f_classif\n",
    "from sklearn.preprocessing import Normalizer\n",
    "\n",
    "classifiers = [\n",
    "    MultinomialNB(),\n",
    "    \n",
    "    LogisticRegression(solver='lbfgs', C=1.0, max_iter=1000, multi_class='multinomial'),\n",
    "    LogisticRegression(solver='lbfgs', C=0.05, max_iter=1000, multi_class='multinomial'),\n",
    "    LogisticRegression(solver='lbfgs', C=0.01, max_iter=1000, multi_class='multinomial'),\n",
    "        \n",
    "#     make_pipeline(\n",
    "#         SelectKBest(f_classif, 1000),\n",
    "#         MultinomialNB()\n",
    "#     ),\n",
    "    \n",
    "#     make_pipeline(\n",
    "#         SelectKBest(f_classif, 1000),\n",
    "#         LogisticRegression(solver='lbfgs', max_iter=1000, multi_class='multinomial')\n",
    "#     ),\n",
    "    \n",
    "#     make_pipeline(\n",
    "#         TruncatedSVD(n_components=2000),\n",
    "#         LogisticRegression(solver='lbfgs', max_iter=1000, multi_class='multinomial')\n",
    "#     ),\n",
    "    \n",
    "    #make_pipeline(\n",
    "    #    SelectKBest(f_classif, 1000),\n",
    "    #    Normalizer(),\n",
    "    #    MLPClassifier(hidden_layer_sizes=(8,), max_iter=1000)\n",
    "    #)\n",
    "]\n",
    "\n",
    "for clf in classifiers:\n",
    "    scores = cross_validate(clf, X, y, cv=StratifiedKFold(n_splits=3, shuffle=True),\n",
    "                            scoring=['accuracy', 'f1_macro', 'neg_log_loss'], n_jobs=4)\n",
    "    \n",
    "    print(\"{:>24} Took: {:.2f}s Accuracy: {:.2f} (+/- {:.2f}) F1: {:.2f} (+/- {:.2f}) Log loss: {:.2f} (+/- {:.2f})\" \\\n",
    "          .format(clf.__class__.__name__, scores['fit_time'].mean(),\n",
    "                  scores['test_accuracy'].mean(), scores['test_accuracy'].std(),\n",
    "                  scores['test_f1_macro'].mean(), scores['test_f1_macro'].std(),\n",
    "                  scores['test_neg_log_loss'].mean(), scores['test_neg_log_loss'].std()))"
   ]
  },
  {
   "cell_type": "code",
   "execution_count": null,
   "metadata": {},
   "outputs": [],
   "source": []
  },
  {
   "cell_type": "code",
   "execution_count": 24,
   "metadata": {},
   "outputs": [
    {
     "name": "stdout",
     "output_type": "stream",
     "text": [
      "Fitting 3 folds for each of 3 candidates, totalling 9 fits\n"
     ]
    },
    {
     "name": "stderr",
     "output_type": "stream",
     "text": [
      "[Parallel(n_jobs=4)]: Using backend LokyBackend with 4 concurrent workers.\n",
      "[Parallel(n_jobs=4)]: Done   6 out of   9 | elapsed:  1.6min remaining:   47.5s\n",
      "[Parallel(n_jobs=4)]: Done   9 out of   9 | elapsed:  2.1min finished\n"
     ]
    },
    {
     "name": "stdout",
     "output_type": "stream",
     "text": [
      "Best: 0.730792 using {'C': 0.01}\n"
     ]
    }
   ],
   "source": [
    "from sklearn.model_selection import GridSearchCV, ShuffleSplit\n",
    "\n",
    "gsc = GridSearchCV(\n",
    "    estimator=LogisticRegression(solver='lbfgs', max_iter=1000, multi_class='multinomial'),\n",
    "    param_grid={\n",
    "        'C': [0.01, 0.05, 0.1]\n",
    "    },\n",
    "    cv=ShuffleSplit(n_splits=3, test_size=0.5),\n",
    "    n_jobs=4,\n",
    "    verbose=3\n",
    ")\n",
    "\n",
    "grid_result = gsc.fit(X, y)\n",
    "\n",
    "print(\"Best: %f using %s\" % (grid_result.best_score_, grid_result.best_params_))"
   ]
  },
  {
   "cell_type": "code",
   "execution_count": null,
   "metadata": {},
   "outputs": [],
   "source": []
  },
  {
   "cell_type": "code",
   "execution_count": null,
   "metadata": {},
   "outputs": [],
   "source": []
  },
  {
   "cell_type": "code",
   "execution_count": null,
   "metadata": {},
   "outputs": [],
   "source": [
    "Xtr, Xte, ytr, yte = train_test_split(X, y, test_size=0.2, stratify=y)"
   ]
  },
  {
   "cell_type": "code",
   "execution_count": null,
   "metadata": {},
   "outputs": [],
   "source": []
  },
  {
   "cell_type": "code",
   "execution_count": 16,
   "metadata": {},
   "outputs": [
    {
     "data": {
      "image/png": "[encoded data removed]",
      "text/plain": [
       "<Figure size 432x288 with 1 Axes>"
      ]
     },
     "metadata": {},
     "output_type": "display_data"
    }
   ],
   "source": [
    "%matplotlib inline\n",
    "\n",
    "from mlxtend.plotting import plot_learning_curves\n",
    "from sklearn.model_selection import train_test_split\n",
    "from sklearn.naive_bayes import MultinomialNB\n",
    "\n",
    "clf = MultinomialNB()\n",
    "\n",
    "_ = plot_learning_curves(Xtr, ytr, Xte, yte, clf, scoring='accuracy')"
   ]
  },
  {
   "cell_type": "code",
   "execution_count": 17,
   "metadata": {},
   "outputs": [
    {
     "data": {
      "image/png": "[encoded data removed]",
      "text/plain": [
       "<Figure size 432x288 with 1 Axes>"
      ]
     },
     "metadata": {},
     "output_type": "display_data"
    }
   ],
   "source": [
    "from sklearn.linear_model import LogisticRegression\n",
    "\n",
    "clf = LogisticRegression(solver='lbfgs', C=0.01, max_iter=1000, multi_class='multinomial')\n",
    "_ = plot_learning_curves(Xtr, ytr, Xte, yte, clf, scoring='accuracy')"
   ]
  },
  {
   "cell_type": "code",
   "execution_count": null,
   "metadata": {},
   "outputs": [],
   "source": [
    "# from sklearn.svm import SVC, LinearSVC\n",
    "\n",
    "# clf = LinearSVC(max_iter=5000)\n",
    "# _ = plot_learning_curves(Xtr, ytr, Xte, yte, clf)"
   ]
  },
  {
   "cell_type": "code",
   "execution_count": null,
   "metadata": {},
   "outputs": [],
   "source": []
  },
  {
   "cell_type": "code",
   "execution_count": 18,
   "metadata": {},
   "outputs": [
    {
     "data": {
      "text/plain": [
       "LogisticRegression(C=0.01, class_weight=None, dual=False, fit_intercept=True,\n",
       "          intercept_scaling=1, max_iter=1000, multi_class='multinomial',\n",
       "          n_jobs=None, penalty='l2', random_state=None, solver='lbfgs',\n",
       "          tol=0.0001, verbose=0, warm_start=False)"
      ]
     },
     "execution_count": 18,
     "metadata": {},
     "output_type": "execute_result"
    }
   ],
   "source": [
    "#clf = MultinomialNB()\n",
    "clf = LogisticRegression(solver='lbfgs', C=0.01, max_iter=1000, multi_class='multinomial')\n",
    "clf.fit(Xtr, ytr)"
   ]
  },
  {
   "cell_type": "code",
   "execution_count": null,
   "metadata": {},
   "outputs": [],
   "source": []
  },
  {
   "cell_type": "code",
   "execution_count": 19,
   "metadata": {},
   "outputs": [
    {
     "name": "stdout",
     "output_type": "stream",
     "text": [
      "              precision    recall  f1-score   support\n",
      "\n",
      "      Junior       0.80      0.85      0.82      2858\n",
      "      Medior       0.68      0.62      0.65      2002\n",
      "      Senior       0.72      0.71      0.71      2694\n",
      "\n",
      "   micro avg       0.74      0.74      0.74      7554\n",
      "   macro avg       0.73      0.73      0.73      7554\n",
      "weighted avg       0.74      0.74      0.74      7554\n",
      "\n"
     ]
    }
   ],
   "source": [
    "from sklearn.metrics import classification_report\n",
    "\n",
    "ypred = clf.predict(Xte)\n",
    "\n",
    "print(classification_report(yte, ypred, target_names=le.classes_))"
   ]
  },
  {
   "cell_type": "code",
   "execution_count": null,
   "metadata": {},
   "outputs": [],
   "source": []
  },
  {
   "cell_type": "code",
   "execution_count": 20,
   "metadata": {},
   "outputs": [
    {
     "data": {
      "text/plain": [
       "array(['Junior', 'Medior', 'Senior'], dtype=object)"
      ]
     },
     "execution_count": 20,
     "metadata": {},
     "output_type": "execute_result"
    }
   ],
   "source": [
    "le.classes_"
   ]
  },
  {
   "cell_type": "code",
   "execution_count": null,
   "metadata": {},
   "outputs": [],
   "source": []
  },
  {
   "cell_type": "code",
   "execution_count": 21,
   "metadata": {},
   "outputs": [
    {
     "data": {
      "image/png": "[encoded data removed]",
      "text/plain": [
       "<Figure size 432x288 with 1 Axes>"
      ]
     },
     "metadata": {
      "needs_background": "light"
     },
     "output_type": "display_data"
    }
   ],
   "source": [
    "from mlxtend.evaluate import confusion_matrix\n",
    "from mlxtend.plotting import plot_confusion_matrix\n",
    "\n",
    "fig, ax = plot_confusion_matrix(confusion_matrix(yte, ypred))"
   ]
  },
  {
   "cell_type": "code",
   "execution_count": null,
   "metadata": {},
   "outputs": [],
   "source": []
  },
  {
   "cell_type": "code",
   "execution_count": 22,
   "metadata": {},
   "outputs": [
    {
     "name": "stdout",
     "output_type": "stream",
     "text": [
      "Junior: bouwkunde, opgeleid, begeleiding van, begin, leert, minimaal 1, bedrijfskunde, 2 500, en 2, samen met een, maximaal, leergierig, leren, starters, 2500, enige, 1 jaar, 2 jaar, stage, starter\n",
      "\n",
      "Medior: fiscaal, vacatures voor, een rijbewijs, minimaal 2, 3 jaar, 5 jaar, primaire, wat bieden, minimaal 3 jaar, gedrag, informatica, nieuwe uitdaging, minimaal 3, bedrijfsnaam, een mbo, geboden, geboden wordt, tot 5, 3 5, 2018\n",
      "\n",
      "Senior: uren 32, ervaren, jouw ervaring, minimaal 3, ruime, ervaring als, strategische, een ervaren, vijf, lead, strategisch, coachen, jaar ervaring met, minimaal 3 jaar, ruime ervaring, 4 jaar, minimaal 5 jaar, 5 jaar, minimaal 5, 10 jaar\n",
      "\n"
     ]
    }
   ],
   "source": [
    "import numpy as np\n",
    "\n",
    "feature_names = vect.get_feature_names()\n",
    "\n",
    "for i, class_label in enumerate(le.classes_):\n",
    "    top10 = np.argsort(clf.coef_[i])[-20:]\n",
    "    print(\"%s: %s\" % (class_label, \", \".join(feature_names[j] for j in top10)))\n",
    "    print()"
   ]
  },
  {
   "cell_type": "code",
   "execution_count": null,
   "metadata": {},
   "outputs": [],
   "source": []
  },
  {
   "cell_type": "code",
   "execution_count": null,
   "metadata": {},
   "outputs": [],
   "source": []
  },
  {
   "cell_type": "code",
   "execution_count": null,
   "metadata": {},
   "outputs": [],
   "source": []
  },
  {
   "cell_type": "code",
   "execution_count": null,
   "metadata": {},
   "outputs": [],
   "source": []
  },
  {
   "cell_type": "code",
   "execution_count": null,
   "metadata": {},
   "outputs": [],
   "source": []
  },
  {
   "cell_type": "code",
   "execution_count": 29,
   "metadata": {},
   "outputs": [
    {
     "name": "stdout",
     "output_type": "stream",
     "text": [
      "Found 140514 unique tokens.\n"
     ]
    }
   ],
   "source": [
    "from keras.preprocessing.text import Tokenizer\n",
    "from keras.preprocessing.sequence import pad_sequences\n",
    "\n",
    "MAX_NB_WORDS = 400000\n",
    "MAX_SEQUENCE_LENGTH = 250\n",
    "EMBEDDING_DIM = 160\n",
    "\n",
    "tokenizer = Tokenizer(filters='!\"#$%&()*+,-./:;<=>?@[\\\\]^_`{|}~\\t\\n\\'…')\n",
    "tokenizer.fit_on_texts(df['full_text_clean'])\n",
    "\n",
    "print('Found %s unique tokens.' % len(tokenizer.word_index))"
   ]
  },
  {
   "cell_type": "code",
   "execution_count": 30,
   "metadata": {},
   "outputs": [],
   "source": [
    "sequences = tokenizer.texts_to_sequences(df['full_text_clean'])\n",
    "sequences = pad_sequences(sequences, maxlen=MAX_SEQUENCE_LENGTH)"
   ]
  },
  {
   "cell_type": "code",
   "execution_count": null,
   "metadata": {},
   "outputs": [],
   "source": []
  },
  {
   "cell_type": "code",
   "execution_count": 27,
   "metadata": {
    "scrolled": false
   },
   "outputs": [
    {
     "data": {
      "text/plain": [
       "dict_keys(['word_counts', 'word_docs', 'filters', 'split', 'lower', 'num_words', 'document_count', 'char_level', 'oov_token', 'index_docs', 'word_index', 'index_word'])"
      ]
     },
     "execution_count": 27,
     "metadata": {},
     "output_type": "execute_result"
    }
   ],
   "source": [
    "tokenizer.__dict__.keys()"
   ]
  },
  {
   "cell_type": "code",
   "execution_count": null,
   "metadata": {},
   "outputs": [],
   "source": []
  },
  {
   "cell_type": "code",
   "execution_count": 33,
   "metadata": {},
   "outputs": [
    {
     "name": "stderr",
     "output_type": "stream",
     "text": [
      "Using TensorFlow backend.\n"
     ]
    }
   ],
   "source": [
    "# from keras.preprocessing.sequence import pad_sequences\n",
    "# from bpemb import BPEmb\n",
    "\n",
    "# NB_TOKENS = 100000\n",
    "# MAX_SEQUENCE_LENGTH = 250\n",
    "# EMBEDDING_DIM = 200\n",
    "\n",
    "# bpemb_nl = BPEmb(lang=\"nl\", vs=NB_TOKENS, dim=EMBEDDING_DIM)\n",
    "\n",
    "# sequences = [ bpemb_nl.encode_ids(sentence) for sentence in df['full_text'] ]\n",
    "# sequences = pad_sequences(sequences, maxlen=MAX_SEQUENCE_LENGTH)"
   ]
  },
  {
   "cell_type": "code",
   "execution_count": null,
   "metadata": {},
   "outputs": [],
   "source": []
  },
  {
   "cell_type": "code",
   "execution_count": 19,
   "metadata": {},
   "outputs": [],
   "source": [
    "from keras.utils import to_categorical\n",
    "from sklearn.preprocessing import LabelEncoder\n",
    "\n",
    "le = LabelEncoder()\n",
    "y = le.fit_transform(df['seniority_level'])\n",
    "\n",
    "y_keras = to_categorical(y)"
   ]
  },
  {
   "cell_type": "code",
   "execution_count": null,
   "metadata": {},
   "outputs": [],
   "source": []
  },
  {
   "cell_type": "code",
   "execution_count": 8,
   "metadata": {},
   "outputs": [],
   "source": [
    "#df[['job_title', 'full_text']].head(n=26).tail(n=1)"
   ]
  },
  {
   "cell_type": "code",
   "execution_count": 9,
   "metadata": {
    "scrolled": true
   },
   "outputs": [],
   "source": [
    "#bpemb_nl.encode(df.loc[25, 'full_text'])"
   ]
  },
  {
   "cell_type": "code",
   "execution_count": null,
   "metadata": {},
   "outputs": [],
   "source": []
  },
  {
   "cell_type": "code",
   "execution_count": 31,
   "metadata": {},
   "outputs": [],
   "source": [
    "from sklearn.model_selection import train_test_split\n",
    "X_train, X_val, y_train, y_val = train_test_split(sequences, y_keras, test_size=0.15, shuffle=True)"
   ]
  },
  {
   "cell_type": "code",
   "execution_count": null,
   "metadata": {},
   "outputs": [],
   "source": []
  },
  {
   "cell_type": "code",
   "execution_count": 11,
   "metadata": {},
   "outputs": [],
   "source": [
    "from gensim.models import KeyedVectors\n",
    "\n",
    "#vectors = KeyedVectors.load_word2vec_format('/home/dehling/Downloads/glove.6B.100d.txt', binary=False)\n",
    "\n",
    "# Dutch word2vec embeddings, (pre-)trained on wikipedia\n",
    "vectors = KeyedVectors.load_word2vec_format('/home/dehling/Downloads/160/wikipedia-160.txt', binary=False)"
   ]
  },
  {
   "cell_type": "code",
   "execution_count": 32,
   "metadata": {},
   "outputs": [],
   "source": [
    "import numpy as np\n",
    "\n",
    "#missing = set()\n",
    "#found = 0\n",
    "#not_found = 0\n",
    "\n",
    "#embedding_matrix = np.random.normal(0.0, 1.0, (len(tokenizer.word_index) + 1, EMBEDDING_DIM))\n",
    "embedding_matrix = np.random.normal(0.0, 0.2, (len(tokenizer.word_index) + 1, EMBEDDING_DIM))\n",
    "\n",
    "for word, i in tokenizer.word_index.items():\n",
    "    if word in vectors:\n",
    "        embedding_matrix[i] = vectors.get_vector(word)\n",
    "        #found += 1\n",
    "    #else:\n",
    "        #missing.add(word)\n",
    "        #not_found += 1"
   ]
  },
  {
   "cell_type": "code",
   "execution_count": null,
   "metadata": {},
   "outputs": [],
   "source": []
  },
  {
   "cell_type": "code",
   "execution_count": null,
   "metadata": {},
   "outputs": [],
   "source": []
  },
  {
   "cell_type": "code",
   "execution_count": 33,
   "metadata": {},
   "outputs": [],
   "source": [
    "from keras.models import Sequential\n",
    "from keras.layers import Input, Embedding, Dropout, Dense, GRU, BatchNormalization, Bidirectional\n",
    "\n",
    "model = Sequential()\n",
    "model.add(Embedding(len(tokenizer.word_index) + 1,   # NB_TOKENS\n",
    "                    EMBEDDING_DIM,\n",
    "                    weights=[embedding_matrix],      # [bpemb_nl.emb.vectors]\n",
    "                    input_length=MAX_SEQUENCE_LENGTH,\n",
    "                    trainable=False))\n",
    "model.add(Dropout(rate=0.25))\n",
    "model.add(GRU(40))\n",
    "model.add(BatchNormalization())\n",
    "model.add(Dropout(rate=0.25))\n",
    "model.add(Dense(3, activation='sigmoid'))\n",
    "model.compile(loss='categorical_crossentropy',\n",
    "              optimizer='adam',\n",
    "              metrics=['accuracy'])"
   ]
  },
  {
   "cell_type": "code",
   "execution_count": 34,
   "metadata": {},
   "outputs": [
    {
     "name": "stdout",
     "output_type": "stream",
     "text": [
      "_________________________________________________________________\n",
      "Layer (type)                 Output Shape              Param #   \n",
      "=================================================================\n",
      "embedding_2 (Embedding)      (None, 250, 160)          22482400  \n",
      "_________________________________________________________________\n",
      "dropout_3 (Dropout)          (None, 250, 160)          0         \n",
      "_________________________________________________________________\n",
      "gru_2 (GRU)                  (None, 40)                24120     \n",
      "_________________________________________________________________\n",
      "batch_normalization_2 (Batch (None, 40)                160       \n",
      "_________________________________________________________________\n",
      "dropout_4 (Dropout)          (None, 40)                0         \n",
      "_________________________________________________________________\n",
      "dense_2 (Dense)              (None, 3)                 123       \n",
      "=================================================================\n",
      "Total params: 22,506,803\n",
      "Trainable params: 24,323\n",
      "Non-trainable params: 22,482,480\n",
      "_________________________________________________________________\n"
     ]
    }
   ],
   "source": [
    "model.summary()"
   ]
  },
  {
   "cell_type": "code",
   "execution_count": 35,
   "metadata": {
    "scrolled": false
   },
   "outputs": [
    {
     "name": "stdout",
     "output_type": "stream",
     "text": [
      "Train on 31371 samples, validate on 5537 samples\n",
      "Epoch 1/12\n",
      "31371/31371 [==============================] - 31s 984us/step - loss: 1.0707 - acc: 0.4347 - val_loss: 1.0019 - val_acc: 0.4750\n",
      "Epoch 2/12\n",
      "31371/31371 [==============================] - 30s 960us/step - loss: 1.0054 - acc: 0.4742 - val_loss: 0.9945 - val_acc: 0.4891\n",
      "Epoch 3/12\n",
      "31371/31371 [==============================] - 30s 958us/step - loss: 0.9797 - acc: 0.4954 - val_loss: 1.1271 - val_acc: 0.4697\n",
      "Epoch 4/12\n",
      "31371/31371 [==============================] - 30s 962us/step - loss: 0.9566 - acc: 0.5180 - val_loss: 0.9139 - val_acc: 0.5528\n",
      "Epoch 5/12\n",
      "31371/31371 [==============================] - 30s 962us/step - loss: 0.9068 - acc: 0.5574 - val_loss: 0.8711 - val_acc: 0.5871\n",
      "Epoch 6/12\n",
      "31371/31371 [==============================] - 30s 963us/step - loss: 0.8772 - acc: 0.5844 - val_loss: 0.8447 - val_acc: 0.6030\n",
      "Epoch 7/12\n",
      "31371/31371 [==============================] - 31s 984us/step - loss: 0.8581 - acc: 0.5956 - val_loss: 0.8396 - val_acc: 0.6153\n",
      "Epoch 8/12\n",
      "31371/31371 [==============================] - 34s 1ms/step - loss: 0.8355 - acc: 0.6053 - val_loss: 0.8204 - val_acc: 0.6166\n",
      "Epoch 9/12\n",
      "31371/31371 [==============================] - 33s 1ms/step - loss: 0.8197 - acc: 0.6187 - val_loss: 0.8158 - val_acc: 0.6319\n",
      "Epoch 10/12\n",
      "31371/31371 [==============================] - 33s 1ms/step - loss: 0.8018 - acc: 0.6322 - val_loss: 0.7720 - val_acc: 0.6442\n",
      "Epoch 11/12\n",
      "31371/31371 [==============================] - 32s 1ms/step - loss: 0.7838 - acc: 0.6453 - val_loss: 0.7581 - val_acc: 0.6556\n",
      "Epoch 12/12\n",
      "31371/31371 [==============================] - 31s 974us/step - loss: 0.7698 - acc: 0.6514 - val_loss: 0.7401 - val_acc: 0.6653\n"
     ]
    }
   ],
   "source": [
    "hist = model.fit(X_train, y_train, validation_data=(X_val, y_val), epochs=12, batch_size=128, verbose=True)"
   ]
  },
  {
   "cell_type": "code",
   "execution_count": null,
   "metadata": {},
   "outputs": [],
   "source": []
  },
  {
   "cell_type": "code",
   "execution_count": 17,
   "metadata": {},
   "outputs": [
    {
     "data": {
      "text/plain": [
       "<matplotlib.axes._subplots.AxesSubplot at 0x7f20683381d0>"
      ]
     },
     "execution_count": 17,
     "metadata": {},
     "output_type": "execute_result"
    },
    {
     "data": {
      "image/png": "[encoded data removed]",
      "text/plain": [
       "<Figure size 432x288 with 1 Axes>"
      ]
     },
     "metadata": {
      "needs_background": "light"
     },
     "output_type": "display_data"
    }
   ],
   "source": [
    "%matplotlib inline\n",
    "\n",
    "df_hist = pd.DataFrame({\n",
    "    'trn_acc': hist.history['acc'],\n",
    "    'val_acc': hist.history['val_acc']\n",
    "})\n",
    "\n",
    "df_hist.plot(title='Accuracies vs epochs')"
   ]
  },
  {
   "cell_type": "code",
   "execution_count": null,
   "metadata": {},
   "outputs": [],
   "source": []
  },
  {
   "cell_type": "code",
   "execution_count": 20,
   "metadata": {},
   "outputs": [
    {
     "name": "stdout",
     "output_type": "stream",
     "text": [
      "              precision    recall  f1-score   support\n",
      "\n",
      "      Junior       0.91      0.75      0.82      2176\n",
      "      Medior       0.69      0.76      0.72      1349\n",
      "      Senior       0.71      0.79      0.75      2012\n",
      "\n",
      "   micro avg       0.77      0.77      0.77      5537\n",
      "   macro avg       0.77      0.77      0.77      5537\n",
      "weighted avg       0.78      0.77      0.77      5537\n",
      "\n"
     ]
    }
   ],
   "source": [
    "from sklearn.metrics import classification_report\n",
    "\n",
    "print(classification_report(y_val.argmax(axis=1), model.predict(X_val).argmax(axis=1), target_names=le.classes_))"
   ]
  },
  {
   "cell_type": "code",
   "execution_count": 21,
   "metadata": {},
   "outputs": [
    {
     "data": {
      "image/png": "[encoded data removed]",
      "text/plain": [
       "<Figure size 432x288 with 1 Axes>"
      ]
     },
     "metadata": {
      "needs_background": "light"
     },
     "output_type": "display_data"
    }
   ],
   "source": [
    "from mlxtend.evaluate import confusion_matrix\n",
    "from mlxtend.plotting import plot_confusion_matrix\n",
    "\n",
    "_ = plot_confusion_matrix(confusion_matrix(y_val.argmax(axis=1), model.predict(X_val).argmax(axis=1)))"
   ]
  },
  {
   "cell_type": "code",
   "execution_count": null,
   "metadata": {},
   "outputs": [],
   "source": []
  },
  {
   "cell_type": "code",
   "execution_count": null,
   "metadata": {},
   "outputs": [],
   "source": []
  }
 ],
 "metadata": {
  "kernelspec": {
   "display_name": "Python 3",
   "language": "python",
   "name": "python3"
  },
  "language_info": {
   "codemirror_mode": {
    "name": "ipython",
    "version": 3
   },
   "file_extension": ".py",
   "mimetype": "text/x-python",
   "name": "python",
   "nbconvert_exporter": "python",
   "pygments_lexer": "ipython3",
   "version": "3.7.2"
  }
 },
 "nbformat": 4,
 "nbformat_minor": 2
}
