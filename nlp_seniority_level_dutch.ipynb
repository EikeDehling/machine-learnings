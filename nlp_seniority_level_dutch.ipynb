{
 "cells": [
  {
   "cell_type": "code",
   "execution_count": null,
   "metadata": {},
   "outputs": [],
   "source": []
  },
  {
   "cell_type": "code",
   "execution_count": null,
   "metadata": {},
   "outputs": [],
   "source": [
    "import pandas as pd\n",
    "import requests\n",
    "import csv\n",
    "import re\n",
    "\n",
    "r = requests.get('https://www.jobfeed.nl/api/v3/search?_fields=posting_id,job_title,full_text&date__range=now-2M__now&_limit=5000&job_title=senior|sr|medior|junior|jr',\n",
    "                 auth=('ANONYMOUS', 'ANONYMOUS'))\n",
    "\n",
    "results = pd.DataFrame(r.json()['results'])\n",
    "\n",
    "def determine_seniority(title):\n",
    "    seniority = ''\n",
    "    if re.search(r'\\b(senior|sr)\\b', title, re.IGNORECASE):\n",
    "        seniority = 'Senior'\n",
    "    elif re.search(r'\\b(medior)\\b', title, re.IGNORECASE):\n",
    "        seniority = 'Medior'\n",
    "    elif re.search(r'\\b(junior|jr)\\b', title, re.IGNORECASE):\n",
    "        seniority = 'Junior'\n",
    "    return seniority\n",
    "\n",
    "results['seniority_level'] = results['job_title'].apply(determine_seniority)\n",
    "\n",
    "results[['posting_id', 'job_title', 'full_text', 'seniority_level']] \\\n",
    "    .to_csv('data/seniority-nl.csv', index=False, header=True, quoting=csv.QUOTE_ALL)"
   ]
  },
  {
   "cell_type": "code",
   "execution_count": null,
   "metadata": {},
   "outputs": [],
   "source": []
  },
  {
   "cell_type": "code",
   "execution_count": 1,
   "metadata": {},
   "outputs": [],
   "source": [
    "#import numpy as np\n",
    "#np.random.shuffle(df.values)\n",
    "#df = df.drop_duplicates(subset=['posting_id'])"
   ]
  },
  {
   "cell_type": "code",
   "execution_count": 2,
   "metadata": {},
   "outputs": [],
   "source": [
    "#df.to_csv('data/seniority-nl.csv', index=False)"
   ]
  },
  {
   "cell_type": "code",
   "execution_count": null,
   "metadata": {},
   "outputs": [],
   "source": []
  },
  {
   "cell_type": "code",
   "execution_count": 3,
   "metadata": {},
   "outputs": [],
   "source": [
    "#from langdetect import detect\n",
    "#df['lang'] = df['full_text'].apply(detect)"
   ]
  },
  {
   "cell_type": "code",
   "execution_count": 4,
   "metadata": {},
   "outputs": [],
   "source": [
    "#sns.countplot(x=df['lang'])"
   ]
  },
  {
   "cell_type": "code",
   "execution_count": 5,
   "metadata": {},
   "outputs": [],
   "source": [
    "#df = df[df.lang == 'nl']"
   ]
  },
  {
   "cell_type": "code",
   "execution_count": null,
   "metadata": {},
   "outputs": [],
   "source": []
  },
  {
   "cell_type": "code",
   "execution_count": null,
   "metadata": {},
   "outputs": [],
   "source": []
  },
  {
   "cell_type": "code",
   "execution_count": 1,
   "metadata": {},
   "outputs": [],
   "source": [
    "import pandas as pd\n",
    "\n",
    "df = pd.read_csv('data/seniority-nl.csv', index_col=None)"
   ]
  },
  {
   "cell_type": "code",
   "execution_count": 2,
   "metadata": {},
   "outputs": [
    {
     "data": {
      "text/html": [
       "<div>\n",
       "<style scoped>\n",
       "    .dataframe tbody tr th:only-of-type {\n",
       "        vertical-align: middle;\n",
       "    }\n",
       "\n",
       "    .dataframe tbody tr th {\n",
       "        vertical-align: top;\n",
       "    }\n",
       "\n",
       "    .dataframe thead th {\n",
       "        text-align: right;\n",
       "    }\n",
       "</style>\n",
       "<table border=\"1\" class=\"dataframe\">\n",
       "  <thead>\n",
       "    <tr style=\"text-align: right;\">\n",
       "      <th></th>\n",
       "      <th>posting_id</th>\n",
       "      <th>job_title</th>\n",
       "      <th>full_text</th>\n",
       "      <th>seniority_level</th>\n",
       "      <th>lang</th>\n",
       "    </tr>\n",
       "  </thead>\n",
       "  <tbody>\n",
       "    <tr>\n",
       "      <th>0</th>\n",
       "      <td>efaeaed6e438415c8f38171d25716f32</td>\n",
       "      <td>Senior Projectleider Bouw</td>\n",
       "      <td>Senior Projectleider Bouw\\n\\n  Werkgever: Ce...</td>\n",
       "      <td>Senior</td>\n",
       "      <td>nl</td>\n",
       "    </tr>\n",
       "    <tr>\n",
       "      <th>1</th>\n",
       "      <td>018a0a712c444f38827a796cb8c4c72b</td>\n",
       "      <td>Gezocht: Medior Backend Developer /Uur</td>\n",
       "      <td>Gezocht: Medior Backend Developer /Uur\\n\\n  ...</td>\n",
       "      <td>Medior</td>\n",
       "      <td>nl</td>\n",
       "    </tr>\n",
       "    <tr>\n",
       "      <th>2</th>\n",
       "      <td>654c5d51de3b44e2876d2fa88c20c418</td>\n",
       "      <td>Senior Schadebehandelaar Volmacht</td>\n",
       "      <td>* Zoekresultaat\\n  * Vacature\\n\\n  Senior Sc...</td>\n",
       "      <td>Senior</td>\n",
       "      <td>nl</td>\n",
       "    </tr>\n",
       "    <tr>\n",
       "      <th>3</th>\n",
       "      <td>f2c5aed1e11c46ebb6c818b3f7b33235</td>\n",
       "      <td>Junior/medior software developer in het midden...</td>\n",
       "      <td>no.logo.alt\\n  no.logo.alt\\n\\n  Junior/medio...</td>\n",
       "      <td>Medior</td>\n",
       "      <td>nl</td>\n",
       "    </tr>\n",
       "    <tr>\n",
       "      <th>4</th>\n",
       "      <td>58a1a5ffb56b48cdaedd9e9045e3a011</td>\n",
       "      <td>Medior belastingadviseur - (inter)nationale MK...</td>\n",
       "      <td>Medior belastingadviseur - (inter)nationale ...</td>\n",
       "      <td>Medior</td>\n",
       "      <td>nl</td>\n",
       "    </tr>\n",
       "    <tr>\n",
       "      <th>5</th>\n",
       "      <td>02d1517026dd44ffb2b688bed296138e</td>\n",
       "      <td>Junior Werkvoorbereider</td>\n",
       "      <td>Junior Werkvoorbereider\\n\\n  Vacature omschr...</td>\n",
       "      <td>Junior</td>\n",
       "      <td>nl</td>\n",
       "    </tr>\n",
       "    <tr>\n",
       "      <th>6</th>\n",
       "      <td>94461eb87e5247158115c4e54eb1ca8d</td>\n",
       "      <td>Medior Consultant Microsoft s CRM</td>\n",
       "      <td>Medior Consultant Microsoft s CRM\\n\\n  Job i...</td>\n",
       "      <td>Medior</td>\n",
       "      <td>nl</td>\n",
       "    </tr>\n",
       "    <tr>\n",
       "      <th>7</th>\n",
       "      <td>2ef2f40a028144f999f372cff76c4c71</td>\n",
       "      <td>Junior BRP Specialist</td>\n",
       "      <td>« Ga terug Print\\n\\n  Junior BRP Specialist\\...</td>\n",
       "      <td>Junior</td>\n",
       "      <td>nl</td>\n",
       "    </tr>\n",
       "    <tr>\n",
       "      <th>8</th>\n",
       "      <td>529ff3befb224338a6d1dd70f4ebd3be</td>\n",
       "      <td>Senior Payroll Officer - Amsterdam</td>\n",
       "      <td>Senior Payroll Officer - Amsterdam\\n\\n  Wat ...</td>\n",
       "      <td>Senior</td>\n",
       "      <td>nl</td>\n",
       "    </tr>\n",
       "    <tr>\n",
       "      <th>9</th>\n",
       "      <td>3c1a9a405e66467da33027c8d36ef2a6</td>\n",
       "      <td>Medior Tester / geautomatiseerd testen / 2500 ...</td>\n",
       "      <td>Medior Tester / geautomatiseerd testen / 250...</td>\n",
       "      <td>Medior</td>\n",
       "      <td>nl</td>\n",
       "    </tr>\n",
       "    <tr>\n",
       "      <th>10</th>\n",
       "      <td>361ef566010546c68b9df6fa1269953f</td>\n",
       "      <td>Junior werkvoorbereider/uitvoerder</td>\n",
       "      <td>Vacature Junior werkvoorbereider/uitvoerder\\...</td>\n",
       "      <td>Junior</td>\n",
       "      <td>nl</td>\n",
       "    </tr>\n",
       "    <tr>\n",
       "      <th>11</th>\n",
       "      <td>c8e6bb5162204a2cab88ad94ad1e7fb0</td>\n",
       "      <td>Medior Software Engineer gezocht voor logistie...</td>\n",
       "      <td>Medior Software Engineer gezocht voor logist...</td>\n",
       "      <td>Medior</td>\n",
       "      <td>nl</td>\n",
       "    </tr>\n",
       "    <tr>\n",
       "      <th>12</th>\n",
       "      <td>309f4607c6b04731a609c14704cfd042</td>\n",
       "      <td>Software Developer - C#/ASP.NET - Almere - Med...</td>\n",
       "      <td>Software Developer - C#/ASP.NET - Almere - M...</td>\n",
       "      <td>Senior</td>\n",
       "      <td>nl</td>\n",
       "    </tr>\n",
       "    <tr>\n",
       "      <th>13</th>\n",
       "      <td>454ec2361c5d4872b3a278b192b136d4</td>\n",
       "      <td>Senior Systeembeheerder (inhouse 40 uur per we...</td>\n",
       "      <td>Senior Systeembeheerder (inhouse 40 uur per ...</td>\n",
       "      <td>Senior</td>\n",
       "      <td>nl</td>\n",
       "    </tr>\n",
       "    <tr>\n",
       "      <th>14</th>\n",
       "      <td>54ef722624d4428d96b437132ec43fa8</td>\n",
       "      <td>Medior Projectmedewerker Schade (36-40 uur)</td>\n",
       "      <td>Korte omschrijving : Vacature Medior Project...</td>\n",
       "      <td>Medior</td>\n",
       "      <td>nl</td>\n",
       "    </tr>\n",
       "    <tr>\n",
       "      <th>15</th>\n",
       "      <td>c1947a51beec4ab7b9a412fae5e2228c</td>\n",
       "      <td>Medior Assistent Accountant</td>\n",
       "      <td>« Ga terug Print\\n\\n  Medior Assistent Accou...</td>\n",
       "      <td>Medior</td>\n",
       "      <td>nl</td>\n",
       "    </tr>\n",
       "    <tr>\n",
       "      <th>16</th>\n",
       "      <td>b0ad1b9a78924097a0197716b1ba5813</td>\n",
       "      <td>Junior Technisch Beheer Vastgoed</td>\n",
       "      <td>Junior Technisch Beheer Vastgoed\\n\\n  Built ...</td>\n",
       "      <td>Junior</td>\n",
       "      <td>nl</td>\n",
       "    </tr>\n",
       "    <tr>\n",
       "      <th>17</th>\n",
       "      <td>9433448981a94fd3887c0686d1dd496d</td>\n",
       "      <td>Medior Analist CDD (Customer Due Diligence)</td>\n",
       "      <td>« Ga terug Print\\n\\n  Medior Analist CDD (Cu...</td>\n",
       "      <td>Medior</td>\n",
       "      <td>nl</td>\n",
       "    </tr>\n",
       "    <tr>\n",
       "      <th>18</th>\n",
       "      <td>9a9ca9c9ff2e44afa8a41940a4259772</td>\n",
       "      <td>Senior Secretaresse</td>\n",
       "      <td>1. Career\\n  2. Vacatures\\n  3. Senior Secre...</td>\n",
       "      <td>Senior</td>\n",
       "      <td>nl</td>\n",
       "    </tr>\n",
       "    <tr>\n",
       "      <th>19</th>\n",
       "      <td>153d3cbd083f40f6b97c5b55212fc71b</td>\n",
       "      <td>(Senior) Jurist Vergunningverlening</td>\n",
       "      <td>(Senior) Jurist Vergunningverlening\\n\\n  Wer...</td>\n",
       "      <td>Senior</td>\n",
       "      <td>nl</td>\n",
       "    </tr>\n",
       "    <tr>\n",
       "      <th>20</th>\n",
       "      <td>9eb19374188642e9a79093d4490cdcf0</td>\n",
       "      <td>Medior Front-end UX Ontwikkelaar Defensie</td>\n",
       "      <td>Medior Front-end UX Ontwikkelaar Defensie\\n\\...</td>\n",
       "      <td>Medior</td>\n",
       "      <td>nl</td>\n",
       "    </tr>\n",
       "    <tr>\n",
       "      <th>21</th>\n",
       "      <td>87cf6781149a4a83aeee3513a681d90a</td>\n",
       "      <td>junior makelaar</td>\n",
       "      <td>junior makelaar\\n\\n  Vacature omschrijving\\n...</td>\n",
       "      <td>Junior</td>\n",
       "      <td>nl</td>\n",
       "    </tr>\n",
       "    <tr>\n",
       "      <th>22</th>\n",
       "      <td>10640c4de24843bf83225cfb29b11663</td>\n",
       "      <td>Junior IT-Recruiter</td>\n",
       "      <td>Junior IT-Recruiter\\n\\n  Vacature omschrijvi...</td>\n",
       "      <td>Junior</td>\n",
       "      <td>nl</td>\n",
       "    </tr>\n",
       "    <tr>\n",
       "      <th>23</th>\n",
       "      <td>9c3c37ed5f0f4285ae52dd6003947956</td>\n",
       "      <td>Senior Engineer koeltechniek.</td>\n",
       "      <td>Vacature Senior Engineer koeltechniek.\\n  __...</td>\n",
       "      <td>Senior</td>\n",
       "      <td>nl</td>\n",
       "    </tr>\n",
       "    <tr>\n",
       "      <th>24</th>\n",
       "      <td>d24a08c57f214ce2b71d8a35ba54e69b</td>\n",
       "      <td>Systeembeheerder - Gouda - Medior/Senior</td>\n",
       "      <td>Systeembeheerder - Gouda - Medior/Senior\\n\\n...</td>\n",
       "      <td>Senior</td>\n",
       "      <td>nl</td>\n",
       "    </tr>\n",
       "  </tbody>\n",
       "</table>\n",
       "</div>"
      ],
      "text/plain": [
       "                          posting_id  \\\n",
       "0   efaeaed6e438415c8f38171d25716f32   \n",
       "1   018a0a712c444f38827a796cb8c4c72b   \n",
       "2   654c5d51de3b44e2876d2fa88c20c418   \n",
       "3   f2c5aed1e11c46ebb6c818b3f7b33235   \n",
       "4   58a1a5ffb56b48cdaedd9e9045e3a011   \n",
       "5   02d1517026dd44ffb2b688bed296138e   \n",
       "6   94461eb87e5247158115c4e54eb1ca8d   \n",
       "7   2ef2f40a028144f999f372cff76c4c71   \n",
       "8   529ff3befb224338a6d1dd70f4ebd3be   \n",
       "9   3c1a9a405e66467da33027c8d36ef2a6   \n",
       "10  361ef566010546c68b9df6fa1269953f   \n",
       "11  c8e6bb5162204a2cab88ad94ad1e7fb0   \n",
       "12  309f4607c6b04731a609c14704cfd042   \n",
       "13  454ec2361c5d4872b3a278b192b136d4   \n",
       "14  54ef722624d4428d96b437132ec43fa8   \n",
       "15  c1947a51beec4ab7b9a412fae5e2228c   \n",
       "16  b0ad1b9a78924097a0197716b1ba5813   \n",
       "17  9433448981a94fd3887c0686d1dd496d   \n",
       "18  9a9ca9c9ff2e44afa8a41940a4259772   \n",
       "19  153d3cbd083f40f6b97c5b55212fc71b   \n",
       "20  9eb19374188642e9a79093d4490cdcf0   \n",
       "21  87cf6781149a4a83aeee3513a681d90a   \n",
       "22  10640c4de24843bf83225cfb29b11663   \n",
       "23  9c3c37ed5f0f4285ae52dd6003947956   \n",
       "24  d24a08c57f214ce2b71d8a35ba54e69b   \n",
       "\n",
       "                                            job_title  \\\n",
       "0                           Senior Projectleider Bouw   \n",
       "1              Gezocht: Medior Backend Developer /Uur   \n",
       "2                   Senior Schadebehandelaar Volmacht   \n",
       "3   Junior/medior software developer in het midden...   \n",
       "4   Medior belastingadviseur - (inter)nationale MK...   \n",
       "5                             Junior Werkvoorbereider   \n",
       "6                   Medior Consultant Microsoft s CRM   \n",
       "7                               Junior BRP Specialist   \n",
       "8                  Senior Payroll Officer - Amsterdam   \n",
       "9   Medior Tester / geautomatiseerd testen / 2500 ...   \n",
       "10                 Junior werkvoorbereider/uitvoerder   \n",
       "11  Medior Software Engineer gezocht voor logistie...   \n",
       "12  Software Developer - C#/ASP.NET - Almere - Med...   \n",
       "13  Senior Systeembeheerder (inhouse 40 uur per we...   \n",
       "14        Medior Projectmedewerker Schade (36-40 uur)   \n",
       "15                        Medior Assistent Accountant   \n",
       "16                   Junior Technisch Beheer Vastgoed   \n",
       "17        Medior Analist CDD (Customer Due Diligence)   \n",
       "18                                Senior Secretaresse   \n",
       "19                (Senior) Jurist Vergunningverlening   \n",
       "20          Medior Front-end UX Ontwikkelaar Defensie   \n",
       "21                                    junior makelaar   \n",
       "22                                Junior IT-Recruiter   \n",
       "23                      Senior Engineer koeltechniek.   \n",
       "24           Systeembeheerder - Gouda - Medior/Senior   \n",
       "\n",
       "                                            full_text seniority_level lang  \n",
       "0     Senior Projectleider Bouw\\n\\n  Werkgever: Ce...          Senior   nl  \n",
       "1     Gezocht: Medior Backend Developer /Uur\\n\\n  ...          Medior   nl  \n",
       "2     * Zoekresultaat\\n  * Vacature\\n\\n  Senior Sc...          Senior   nl  \n",
       "3     no.logo.alt\\n  no.logo.alt\\n\\n  Junior/medio...          Medior   nl  \n",
       "4     Medior belastingadviseur - (inter)nationale ...          Medior   nl  \n",
       "5     Junior Werkvoorbereider\\n\\n  Vacature omschr...          Junior   nl  \n",
       "6     Medior Consultant Microsoft s CRM\\n\\n  Job i...          Medior   nl  \n",
       "7     « Ga terug Print\\n\\n  Junior BRP Specialist\\...          Junior   nl  \n",
       "8     Senior Payroll Officer - Amsterdam\\n\\n  Wat ...          Senior   nl  \n",
       "9     Medior Tester / geautomatiseerd testen / 250...          Medior   nl  \n",
       "10    Vacature Junior werkvoorbereider/uitvoerder\\...          Junior   nl  \n",
       "11    Medior Software Engineer gezocht voor logist...          Medior   nl  \n",
       "12    Software Developer - C#/ASP.NET - Almere - M...          Senior   nl  \n",
       "13    Senior Systeembeheerder (inhouse 40 uur per ...          Senior   nl  \n",
       "14    Korte omschrijving : Vacature Medior Project...          Medior   nl  \n",
       "15    « Ga terug Print\\n\\n  Medior Assistent Accou...          Medior   nl  \n",
       "16    Junior Technisch Beheer Vastgoed\\n\\n  Built ...          Junior   nl  \n",
       "17    « Ga terug Print\\n\\n  Medior Analist CDD (Cu...          Medior   nl  \n",
       "18    1. Career\\n  2. Vacatures\\n  3. Senior Secre...          Senior   nl  \n",
       "19    (Senior) Jurist Vergunningverlening\\n\\n  Wer...          Senior   nl  \n",
       "20    Medior Front-end UX Ontwikkelaar Defensie\\n\\...          Medior   nl  \n",
       "21    junior makelaar\\n\\n  Vacature omschrijving\\n...          Junior   nl  \n",
       "22    Junior IT-Recruiter\\n\\n  Vacature omschrijvi...          Junior   nl  \n",
       "23    Vacature Senior Engineer koeltechniek.\\n  __...          Senior   nl  \n",
       "24    Systeembeheerder - Gouda - Medior/Senior\\n\\n...          Senior   nl  "
      ]
     },
     "execution_count": 2,
     "metadata": {},
     "output_type": "execute_result"
    }
   ],
   "source": [
    "df.head(n=25)"
   ]
  },
  {
   "cell_type": "code",
   "execution_count": 3,
   "metadata": {},
   "outputs": [
    {
     "data": {
      "text/plain": [
       "(28026, 5)"
      ]
     },
     "execution_count": 3,
     "metadata": {},
     "output_type": "execute_result"
    }
   ],
   "source": [
    "df.shape"
   ]
  },
  {
   "cell_type": "code",
   "execution_count": null,
   "metadata": {},
   "outputs": [],
   "source": []
  },
  {
   "cell_type": "code",
   "execution_count": 4,
   "metadata": {},
   "outputs": [
    {
     "data": {
      "text/plain": [
       "<matplotlib.axes._subplots.AxesSubplot at 0x7ff75c20a470>"
      ]
     },
     "execution_count": 4,
     "metadata": {},
     "output_type": "execute_result"
    },
    {
     "data": {
      "image/png": "[encoded data removed]",
      "text/plain": [
       "<Figure size 432x288 with 1 Axes>"
      ]
     },
     "metadata": {
      "needs_background": "light"
     },
     "output_type": "display_data"
    }
   ],
   "source": [
    "%matplotlib inline\n",
    "\n",
    "import seaborn as sns\n",
    "\n",
    "sns.countplot(x=df['seniority_level'])"
   ]
  },
  {
   "cell_type": "code",
   "execution_count": null,
   "metadata": {},
   "outputs": [],
   "source": []
  },
  {
   "cell_type": "code",
   "execution_count": 5,
   "metadata": {},
   "outputs": [],
   "source": [
    "from gensim.parsing.preprocessing import preprocess_string, RE_TAGS, strip_punctuation, stem_text, \\\n",
    "    strip_multiple_whitespaces, strip_numeric, remove_stopwords, strip_short, strip_non_alphanum\n",
    "from sklearn.feature_extraction.text import CountVectorizer\n",
    "from sklearn.preprocessing import LabelEncoder, MaxAbsScaler\n",
    "from sklearn.decomposition import TruncatedSVD\n",
    "from unicodedata import normalize\n",
    "\n",
    "my_filters = [\n",
    "    lambda x: x.lower(), strip_punctuation, strip_non_alphanum,\n",
    "    strip_multiple_whitespaces, remove_stopwords\n",
    "]\n",
    "\n",
    "def my_tokenizer(s):\n",
    "    return preprocess_string(s, filters=my_filters)\n",
    "\n",
    "stop_words = ['junior', 'medior', 'senior']\n",
    "    \n",
    "vect = CountVectorizer(min_df=50, max_df=0.2, analyzer='word', tokenizer=my_tokenizer, ngram_range=(1, 3),\n",
    "                       stop_words=stop_words)\n",
    "\n",
    "le = LabelEncoder()\n",
    "\n",
    "X = vect.fit_transform(df['full_text'])\n",
    "y = le.fit_transform(df['seniority_level'])"
   ]
  },
  {
   "cell_type": "code",
   "execution_count": null,
   "metadata": {},
   "outputs": [],
   "source": []
  },
  {
   "cell_type": "code",
   "execution_count": 6,
   "metadata": {},
   "outputs": [
    {
     "data": {
      "text/plain": [
       "(28026, 48717)"
      ]
     },
     "execution_count": 6,
     "metadata": {},
     "output_type": "execute_result"
    }
   ],
   "source": [
    "X.shape"
   ]
  },
  {
   "cell_type": "code",
   "execution_count": 7,
   "metadata": {},
   "outputs": [
    {
     "data": {
      "text/plain": [
       "(28026,)"
      ]
     },
     "execution_count": 7,
     "metadata": {},
     "output_type": "execute_result"
    }
   ],
   "source": [
    "y.shape"
   ]
  },
  {
   "cell_type": "code",
   "execution_count": null,
   "metadata": {},
   "outputs": [],
   "source": []
  },
  {
   "cell_type": "code",
   "execution_count": 8,
   "metadata": {},
   "outputs": [
    {
     "name": "stdout",
     "output_type": "stream",
     "text": [
      "           MultinomialNB Accuracy: 0.65 (+/- 0.01) F1: 0.64 (+/- 0.01) Log loss: -9.87 (+/- 0.06)\n",
      "      LogisticRegression Accuracy: 0.79 (+/- 0.00) F1: 0.79 (+/- 0.00) Log loss: -0.84 (+/- 0.01)\n",
      "                Pipeline Accuracy: 0.58 (+/- 0.01) F1: 0.55 (+/- 0.00) Log loss: -4.17 (+/- 0.20)\n",
      "                Pipeline Accuracy: 0.67 (+/- 0.00) F1: 0.66 (+/- 0.00) Log loss: -0.73 (+/- 0.01)\n",
      "                Pipeline Accuracy: 0.73 (+/- 0.00) F1: 0.72 (+/- 0.00) Log loss: -0.68 (+/- 0.01)\n",
      "                Pipeline Accuracy: 0.67 (+/- 0.00) F1: 0.67 (+/- 0.00) Log loss: -0.81 (+/- 0.02)\n"
     ]
    }
   ],
   "source": [
    "from sklearn.model_selection import cross_val_score, KFold, StratifiedKFold\n",
    "from sklearn.ensemble import RandomForestClassifier\n",
    "from sklearn.neighbors import KNeighborsClassifier\n",
    "from sklearn.linear_model import LogisticRegression\n",
    "from sklearn.neural_network import MLPClassifier\n",
    "from sklearn.naive_bayes import MultinomialNB\n",
    "from sklearn.svm import SVC, LinearSVC\n",
    "\n",
    "from sklearn.pipeline import make_pipeline\n",
    "from sklearn.decomposition import TruncatedSVD\n",
    "from sklearn.feature_selection import SelectKBest, f_classif\n",
    "from sklearn.preprocessing import Normalizer\n",
    "\n",
    "classifiers = [\n",
    "    MultinomialNB(),\n",
    "    \n",
    "    LogisticRegression(solver='lbfgs', max_iter=1000, multi_class='multinomial'),\n",
    "    \n",
    "    #LogisticRegression(solver='lbfgs', max_iter=500, multi_class='multinomial', class_weight='balanced'),\n",
    "    \n",
    "    make_pipeline(\n",
    "        SelectKBest(f_classif, 1000),\n",
    "        MultinomialNB()\n",
    "    ),\n",
    "    \n",
    "    make_pipeline(\n",
    "        SelectKBest(f_classif, 1000),\n",
    "        LogisticRegression(solver='lbfgs', max_iter=1000, multi_class='multinomial')\n",
    "    ),\n",
    "    \n",
    "    make_pipeline(\n",
    "        TruncatedSVD(n_components=1500),\n",
    "        LogisticRegression(solver='lbfgs', max_iter=1000, multi_class='multinomial')\n",
    "    ),\n",
    "    \n",
    "    make_pipeline(\n",
    "        SelectKBest(f_classif, 1000),\n",
    "        Normalizer(),\n",
    "        MLPClassifier(hidden_layer_sizes=(8,), max_iter=1000)\n",
    "    )\n",
    "]\n",
    "\n",
    "for clf in classifiers:\n",
    "    accs = cross_val_score(clf, X, y, cv=StratifiedKFold(n_splits=3, shuffle=True), scoring='accuracy')\n",
    "    f1s = cross_val_score(clf, X, y, cv=StratifiedKFold(n_splits=3, shuffle=True), scoring='f1_macro')\n",
    "    lls = cross_val_score(clf, X, y, cv=StratifiedKFold(n_splits=3, shuffle=True), scoring='neg_log_loss')\n",
    "\n",
    "    print(\"{:>24} Accuracy: {:.2f} (+/- {:.2f}) F1: {:.2f} (+/- {:.2f}) Log loss: {:.2f} (+/- {:.2f})\" \\\n",
    "          .format(clf.__class__.__name__, accs.mean(), accs.std(), f1s.mean(), f1s.std(), lls.mean(), lls.std()))"
   ]
  },
  {
   "cell_type": "code",
   "execution_count": null,
   "metadata": {},
   "outputs": [],
   "source": []
  },
  {
   "cell_type": "code",
   "execution_count": 9,
   "metadata": {},
   "outputs": [
    {
     "data": {
      "text/plain": [
       "LogisticRegression(C=1.0, class_weight=None, dual=False, fit_intercept=True,\n",
       "          intercept_scaling=1, max_iter=1000, multi_class='multinomial',\n",
       "          n_jobs=None, penalty='l2', random_state=None, solver='lbfgs',\n",
       "          tol=0.0001, verbose=0, warm_start=False)"
      ]
     },
     "execution_count": 9,
     "metadata": {},
     "output_type": "execute_result"
    }
   ],
   "source": [
    "from sklearn.model_selection import train_test_split\n",
    "\n",
    "Xtr, Xte, ytr, yte = train_test_split(X, y, test_size=0.2, stratify=y)\n",
    "\n",
    "#clf = MultinomialNB()\n",
    "clf = LogisticRegression(solver='lbfgs', max_iter=1000, multi_class='multinomial')\n",
    "clf.fit(Xtr, ytr)"
   ]
  },
  {
   "cell_type": "code",
   "execution_count": null,
   "metadata": {},
   "outputs": [],
   "source": []
  },
  {
   "cell_type": "code",
   "execution_count": 10,
   "metadata": {},
   "outputs": [
    {
     "name": "stdout",
     "output_type": "stream",
     "text": [
      "              precision    recall  f1-score   support\n",
      "\n",
      "      Junior       0.85      0.84      0.85      1937\n",
      "      Medior       0.76      0.78      0.77      1700\n",
      "      Senior       0.77      0.76      0.77      1969\n",
      "\n",
      "   micro avg       0.79      0.79      0.79      5606\n",
      "   macro avg       0.79      0.79      0.79      5606\n",
      "weighted avg       0.79      0.79      0.79      5606\n",
      "\n"
     ]
    }
   ],
   "source": [
    "from sklearn.metrics import classification_report\n",
    "\n",
    "ypred = clf.predict(Xte)\n",
    "\n",
    "print(classification_report(yte, ypred, target_names=le.classes_))"
   ]
  },
  {
   "cell_type": "code",
   "execution_count": null,
   "metadata": {},
   "outputs": [],
   "source": []
  },
  {
   "cell_type": "code",
   "execution_count": 11,
   "metadata": {},
   "outputs": [
    {
     "data": {
      "text/plain": [
       "array(['Junior', 'Medior', 'Senior'], dtype=object)"
      ]
     },
     "execution_count": 11,
     "metadata": {},
     "output_type": "execute_result"
    }
   ],
   "source": [
    "le.classes_"
   ]
  },
  {
   "cell_type": "code",
   "execution_count": null,
   "metadata": {},
   "outputs": [],
   "source": []
  },
  {
   "cell_type": "code",
   "execution_count": 12,
   "metadata": {},
   "outputs": [
    {
     "data": {
      "image/png": "[encoded data removed]",
      "text/plain": [
       "<Figure size 432x288 with 1 Axes>"
      ]
     },
     "metadata": {
      "needs_background": "light"
     },
     "output_type": "display_data"
    }
   ],
   "source": [
    "from mlxtend.evaluate import confusion_matrix\n",
    "from mlxtend.plotting import plot_confusion_matrix\n",
    "\n",
    "fig, ax = plot_confusion_matrix(confusion_matrix(yte, ypred))"
   ]
  },
  {
   "cell_type": "code",
   "execution_count": null,
   "metadata": {},
   "outputs": [],
   "source": []
  },
  {
   "cell_type": "code",
   "execution_count": 13,
   "metadata": {},
   "outputs": [
    {
     "name": "stdout",
     "output_type": "stream",
     "text": [
      "Junior: starters, hoogeveen, 2 000, vergunningverlening, onder begeleiding, startersfunctie, leergierig, 2000, leergierige, standplaats rotterdam, leren, 2 jaar, 2500, 1 jaar, enige, afgestudeerd, venlo, stage, jr, starter\n",
      "\n",
      "Medior: 3 000, powershell, php wat wij, end php wat, overig, php wat, 2 5 jaar, backend developer, functional, 3 5, ervaring 2, developer job, projecten en, 2018, utrecht opleidingsniveau, 20 job specializations, 20 job, tot 5 jaar, 3 5 jaar, instandhouding\n",
      "\n",
      "Senior: 7 jaar, developer end, op 24, 5000, bright, minimaal 10, ervaring als, ervaren, minimaal 7 jaar, minimaal 7, 8 jaar, handhaving, 5 000, veghel, solution, minimaal 5 jaar, 5 jaar, 10 jaar, minimaal 5, sr\n",
      "\n"
     ]
    }
   ],
   "source": [
    "import numpy as np\n",
    "\n",
    "feature_names = vect.get_feature_names()\n",
    "\n",
    "for i, class_label in enumerate(le.classes_):\n",
    "    top10 = np.argsort(clf.coef_[i])[-20:]\n",
    "    print(\"%s: %s\" % (class_label, \", \".join(feature_names[j] for j in top10)))\n",
    "    print()"
   ]
  },
  {
   "cell_type": "code",
   "execution_count": null,
   "metadata": {},
   "outputs": [],
   "source": []
  },
  {
   "cell_type": "code",
   "execution_count": null,
   "metadata": {},
   "outputs": [],
   "source": []
  },
  {
   "cell_type": "code",
   "execution_count": null,
   "metadata": {},
   "outputs": [],
   "source": []
  },
  {
   "cell_type": "code",
   "execution_count": 5,
   "metadata": {},
   "outputs": [
    {
     "name": "stderr",
     "output_type": "stream",
     "text": [
      "Using TensorFlow backend.\n"
     ]
    },
    {
     "name": "stdout",
     "output_type": "stream",
     "text": [
      "Found 120481 unique tokens.\n"
     ]
    }
   ],
   "source": [
    "from keras.preprocessing.text import Tokenizer\n",
    "from keras.preprocessing.sequence import pad_sequences\n",
    "from keras.utils import to_categorical\n",
    "\n",
    "MAX_NB_WORDS = 400000\n",
    "MAX_SEQUENCE_LENGTH = 250\n",
    "EMBEDDING_DIM = 160\n",
    "\n",
    "tokenizer = Tokenizer(filters='!\"#$%&()*+,-./:;<=>?@[\\\\]^_`{|}~\\t\\n\\'…')\n",
    "tokenizer.fit_on_texts(df['full_text'])\n",
    "\n",
    "print('Found %s unique tokens.' % len(tokenizer.word_index))"
   ]
  },
  {
   "cell_type": "code",
   "execution_count": 6,
   "metadata": {},
   "outputs": [],
   "source": [
    "sequences = tokenizer.texts_to_sequences(df['full_text'])\n",
    "sequences = pad_sequences(sequences, maxlen=MAX_SEQUENCE_LENGTH)"
   ]
  },
  {
   "cell_type": "code",
   "execution_count": 7,
   "metadata": {},
   "outputs": [],
   "source": [
    "from keras.utils import to_categorical\n",
    "from sklearn.preprocessing import LabelEncoder\n",
    "\n",
    "y_keras = to_categorical(LabelEncoder().fit_transform(df['seniority_level']))"
   ]
  },
  {
   "cell_type": "code",
   "execution_count": null,
   "metadata": {},
   "outputs": [],
   "source": []
  },
  {
   "cell_type": "code",
   "execution_count": 19,
   "metadata": {},
   "outputs": [],
   "source": [
    "#sequences[0]"
   ]
  },
  {
   "cell_type": "code",
   "execution_count": 18,
   "metadata": {},
   "outputs": [],
   "source": [
    "#tokenizer.__dict__"
   ]
  },
  {
   "cell_type": "code",
   "execution_count": null,
   "metadata": {},
   "outputs": [],
   "source": []
  },
  {
   "cell_type": "code",
   "execution_count": 19,
   "metadata": {},
   "outputs": [],
   "source": [
    "from sklearn.model_selection import train_test_split\n",
    "X_train, X_val, y_train, y_val = train_test_split(sequences, y_keras, test_size=0.15, shuffle=True)"
   ]
  },
  {
   "cell_type": "code",
   "execution_count": null,
   "metadata": {},
   "outputs": [],
   "source": []
  },
  {
   "cell_type": "code",
   "execution_count": 9,
   "metadata": {},
   "outputs": [],
   "source": [
    "from gensim.models import KeyedVectors\n",
    "\n",
    "#vectors = KeyedVectors.load_word2vec_format('/home/dehling/Downloads/glove.6B.100d.txt', binary=False)\n",
    "\n",
    "## Dutch word2vec embeddings, (pre-)trained on wikipedia\n",
    "vectors = KeyedVectors.load_word2vec_format('/home/dehling/Downloads/160/wikipedia-160.txt', binary=False)"
   ]
  },
  {
   "cell_type": "code",
   "execution_count": 10,
   "metadata": {},
   "outputs": [],
   "source": [
    "import numpy as np\n",
    "\n",
    "missing = set()\n",
    "found = 0\n",
    "not_found = 0\n",
    "\n",
    "#embedding_matrix = np.random.normal(0.0, 1.0, (len(tokenizer.word_index) + 1, EMBEDDING_DIM))\n",
    "embedding_matrix = np.random.normal(0.0, 0.2, (len(tokenizer.word_index) + 1, EMBEDDING_DIM))\n",
    "\n",
    "for word, i in tokenizer.word_index.items():\n",
    "    if word in vectors:\n",
    "        embedding_matrix[i] = vectors.get_vector(word)\n",
    "        found += 1\n",
    "    else:\n",
    "        missing.add(word)\n",
    "        not_found += 1"
   ]
  },
  {
   "cell_type": "code",
   "execution_count": null,
   "metadata": {},
   "outputs": [],
   "source": []
  },
  {
   "cell_type": "code",
   "execution_count": 11,
   "metadata": {},
   "outputs": [
    {
     "data": {
      "text/plain": [
       "['vormvereiste',\n",
       " 'netherlandsrotterdamnlrotterdam',\n",
       " '0641607770',\n",
       " 'megagroot',\n",
       " 'loondienstverlening',\n",
       " '51973598',\n",
       " 'brandmanagement',\n",
       " '14t13',\n",
       " 'seniorenoverleg',\n",
       " '2200',\n",
       " '11567322',\n",
       " 'organisatiesolliciterencontactinteressant',\n",
       " 'oeverkeringen',\n",
       " 'textline',\n",
       " 'vaatcentrum',\n",
       " 'eisenom',\n",
       " '2103902986',\n",
       " '7200941',\n",
       " 'heravisalarisindicatieup',\n",
       " 'zelstandig',\n",
       " 'ontwikkelambities',\n",
       " 'geïnsourcet',\n",
       " 'ondersteunenbij',\n",
       " '2018015283',\n",
       " '320518844']"
      ]
     },
     "execution_count": 11,
     "metadata": {},
     "output_type": "execute_result"
    }
   ],
   "source": [
    "list(missing)[:25]"
   ]
  },
  {
   "cell_type": "code",
   "execution_count": null,
   "metadata": {},
   "outputs": [],
   "source": []
  },
  {
   "cell_type": "code",
   "execution_count": 12,
   "metadata": {},
   "outputs": [
    {
     "data": {
      "text/plain": [
       "56149"
      ]
     },
     "execution_count": 12,
     "metadata": {},
     "output_type": "execute_result"
    }
   ],
   "source": [
    "found"
   ]
  },
  {
   "cell_type": "code",
   "execution_count": 13,
   "metadata": {},
   "outputs": [
    {
     "data": {
      "text/plain": [
       "64332"
      ]
     },
     "execution_count": 13,
     "metadata": {},
     "output_type": "execute_result"
    }
   ],
   "source": [
    "not_found"
   ]
  },
  {
   "cell_type": "code",
   "execution_count": null,
   "metadata": {},
   "outputs": [],
   "source": []
  },
  {
   "cell_type": "code",
   "execution_count": 20,
   "metadata": {},
   "outputs": [],
   "source": [
    "from keras.models import Sequential\n",
    "from keras.layers import Input, Embedding, Dropout, Dense, GRU, BatchNormalization\n",
    "\n",
    "model = Sequential()\n",
    "model.add(Embedding(len(tokenizer.word_index) + 1,\n",
    "                    EMBEDDING_DIM,\n",
    "                    weights=[embedding_matrix],\n",
    "                    input_length=MAX_SEQUENCE_LENGTH,\n",
    "                    trainable=True))\n",
    "model.add(Dropout(rate=0.25))\n",
    "model.add(GRU(32))\n",
    "model.add(BatchNormalization())\n",
    "model.add(Dropout(rate=0.25))\n",
    "model.add(Dense(3, activation='sigmoid'))\n",
    "model.compile(loss='categorical_crossentropy',\n",
    "              optimizer='adam',\n",
    "              metrics=['accuracy'])"
   ]
  },
  {
   "cell_type": "code",
   "execution_count": 21,
   "metadata": {},
   "outputs": [
    {
     "name": "stdout",
     "output_type": "stream",
     "text": [
      "_________________________________________________________________\n",
      "Layer (type)                 Output Shape              Param #   \n",
      "=================================================================\n",
      "embedding_3 (Embedding)      (None, 250, 160)          19277120  \n",
      "_________________________________________________________________\n",
      "dropout_5 (Dropout)          (None, 250, 160)          0         \n",
      "_________________________________________________________________\n",
      "gru_3 (GRU)                  (None, 32)                18528     \n",
      "_________________________________________________________________\n",
      "batch_normalization_3 (Batch (None, 32)                128       \n",
      "_________________________________________________________________\n",
      "dropout_6 (Dropout)          (None, 32)                0         \n",
      "_________________________________________________________________\n",
      "dense_3 (Dense)              (None, 3)                 99        \n",
      "=================================================================\n",
      "Total params: 19,295,875\n",
      "Trainable params: 19,295,811\n",
      "Non-trainable params: 64\n",
      "_________________________________________________________________\n"
     ]
    }
   ],
   "source": [
    "model.summary()"
   ]
  },
  {
   "cell_type": "code",
   "execution_count": 22,
   "metadata": {
    "scrolled": false
   },
   "outputs": [
    {
     "name": "stdout",
     "output_type": "stream",
     "text": [
      "Train on 23822 samples, validate on 4204 samples\n",
      "Epoch 1/10\n",
      "23822/23822 [==============================] - 64s 3ms/step - loss: 1.0119 - acc: 0.4811 - val_loss: 0.9184 - val_acc: 0.5547\n",
      "Epoch 2/10\n",
      "23822/23822 [==============================] - 65s 3ms/step - loss: 0.8234 - acc: 0.6164 - val_loss: 0.7973 - val_acc: 0.6463\n",
      "Epoch 3/10\n",
      "23822/23822 [==============================] - 62s 3ms/step - loss: 0.6056 - acc: 0.7310 - val_loss: 0.6644 - val_acc: 0.7065\n",
      "Epoch 4/10\n",
      "23822/23822 [==============================] - 62s 3ms/step - loss: 0.4216 - acc: 0.8248 - val_loss: 0.5380 - val_acc: 0.7980\n",
      "Epoch 5/10\n",
      "23822/23822 [==============================] - 64s 3ms/step - loss: 0.2808 - acc: 0.8962 - val_loss: 0.5638 - val_acc: 0.8000\n",
      "Epoch 6/10\n",
      "23822/23822 [==============================] - 61s 3ms/step - loss: 0.1883 - acc: 0.9341 - val_loss: 0.6594 - val_acc: 0.7973\n",
      "Epoch 7/10\n",
      "23822/23822 [==============================] - 67s 3ms/step - loss: 0.1430 - acc: 0.9527 - val_loss: 0.5757 - val_acc: 0.8278\n",
      "Epoch 8/10\n",
      "23822/23822 [==============================] - 61s 3ms/step - loss: 0.1009 - acc: 0.9662 - val_loss: 0.6276 - val_acc: 0.8280\n",
      "Epoch 9/10\n",
      "23822/23822 [==============================] - 62s 3ms/step - loss: 0.0756 - acc: 0.9766 - val_loss: 0.6317 - val_acc: 0.8292\n",
      "Epoch 10/10\n",
      "23822/23822 [==============================] - 64s 3ms/step - loss: 0.0649 - acc: 0.9808 - val_loss: 0.7163 - val_acc: 0.8235\n"
     ]
    },
    {
     "data": {
      "text/plain": [
       "<keras.callbacks.History at 0x7ff69cea2ef0>"
      ]
     },
     "execution_count": 22,
     "metadata": {},
     "output_type": "execute_result"
    }
   ],
   "source": [
    "model.fit(X_train, y_train, validation_data=(X_val, y_val), epochs=10, batch_size=128, verbose=True)"
   ]
  },
  {
   "cell_type": "code",
   "execution_count": null,
   "metadata": {},
   "outputs": [],
   "source": []
  },
  {
   "cell_type": "code",
   "execution_count": 23,
   "metadata": {},
   "outputs": [
    {
     "data": {
      "image/png": "[encoded data removed]",
      "text/plain": [
       "<Figure size 432x288 with 1 Axes>"
      ]
     },
     "metadata": {
      "needs_background": "light"
     },
     "output_type": "display_data"
    }
   ],
   "source": [
    "from mlxtend.evaluate import confusion_matrix\n",
    "from mlxtend.plotting import plot_confusion_matrix\n",
    "\n",
    "_ = plot_confusion_matrix(confusion_matrix(y_val.argmax(axis=1), model.predict(X_val).argmax(axis=1)))"
   ]
  },
  {
   "cell_type": "code",
   "execution_count": null,
   "metadata": {},
   "outputs": [],
   "source": []
  }
 ],
 "metadata": {
  "kernelspec": {
   "display_name": "Python 3",
   "language": "python",
   "name": "python3"
  },
  "language_info": {
   "codemirror_mode": {
    "name": "ipython",
    "version": 3
   },
   "file_extension": ".py",
   "mimetype": "text/x-python",
   "name": "python",
   "nbconvert_exporter": "python",
   "pygments_lexer": "ipython3",
   "version": "3.7.2"
  }
 },
 "nbformat": 4,
 "nbformat_minor": 2
}
