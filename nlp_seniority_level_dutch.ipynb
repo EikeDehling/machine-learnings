{
 "cells": [
  {
   "cell_type": "code",
   "execution_count": null,
   "metadata": {},
   "outputs": [],
   "source": []
  },
  {
   "cell_type": "code",
   "execution_count": null,
   "metadata": {},
   "outputs": [],
   "source": [
    "import pandas as pd\n",
    "import requests\n",
    "import csv\n",
    "import re\n",
    "\n",
    "r = requests.get('https://www.jobfeed.nl/api/v3/search?_fields=posting_id,job_title,full_text&date__range=now-2M__now-1M&_limit=5000&job_title=senior|sr|medior|junior|jr',\n",
    "                 auth=('ANONYMOUS', 'ANONYMOUS'))\n",
    "\n",
    "results = pd.DataFrame(r.json()['results'])\n",
    "\n",
    "def determine_seniority(title):\n",
    "    seniority = ''\n",
    "    if re.search(r'\\b(senior|sr)\\b', title, re.IGNORECASE):\n",
    "        seniority = 'Senior'\n",
    "    elif re.search(r'\\b(medior)\\b', title, re.IGNORECASE):\n",
    "        seniority = 'Medior'\n",
    "    elif re.search(r'\\b(junior|jr)\\b', title, re.IGNORECASE):\n",
    "        seniority = 'Junior'\n",
    "    return seniority\n",
    "\n",
    "results['seniority_level'] = results['job_title'].apply(determine_seniority)\n",
    "\n",
    "results[['posting_id', 'job_title', 'full_text', 'seniority_level']] \\\n",
    "    .to_csv('data/seniority-nl.csv', index=False, header=True, quoting=csv.QUOTE_ALL)"
   ]
  },
  {
   "cell_type": "code",
   "execution_count": null,
   "metadata": {},
   "outputs": [],
   "source": []
  },
  {
   "cell_type": "code",
   "execution_count": null,
   "metadata": {},
   "outputs": [],
   "source": []
  },
  {
   "cell_type": "code",
   "execution_count": null,
   "metadata": {},
   "outputs": [],
   "source": []
  },
  {
   "cell_type": "code",
   "execution_count": 2,
   "metadata": {},
   "outputs": [],
   "source": [
    "import pandas as pd\n",
    "\n",
    "df = pd.read_csv('data/seniority-nl.csv', index_col=None)"
   ]
  },
  {
   "cell_type": "code",
   "execution_count": 3,
   "metadata": {},
   "outputs": [
    {
     "data": {
      "text/html": [
       "<div>\n",
       "<style scoped>\n",
       "    .dataframe tbody tr th:only-of-type {\n",
       "        vertical-align: middle;\n",
       "    }\n",
       "\n",
       "    .dataframe tbody tr th {\n",
       "        vertical-align: top;\n",
       "    }\n",
       "\n",
       "    .dataframe thead th {\n",
       "        text-align: right;\n",
       "    }\n",
       "</style>\n",
       "<table border=\"1\" class=\"dataframe\">\n",
       "  <thead>\n",
       "    <tr style=\"text-align: right;\">\n",
       "      <th></th>\n",
       "      <th>posting_id</th>\n",
       "      <th>job_title</th>\n",
       "      <th>full_text</th>\n",
       "      <th>seniority_level</th>\n",
       "    </tr>\n",
       "  </thead>\n",
       "  <tbody>\n",
       "    <tr>\n",
       "      <th>0</th>\n",
       "      <td>9772ab3e98c4440f8fe7964e0d159009</td>\n",
       "      <td>Sr. Mechanical Equipment Engineer</td>\n",
       "      <td>Sr. Mechanical Equipment Engineer - Leiden\\n...</td>\n",
       "      <td>Senior</td>\n",
       "    </tr>\n",
       "    <tr>\n",
       "      <th>1</th>\n",
       "      <td>beff6d8161ae415c8f056d9218ccf994</td>\n",
       "      <td>(Junior) Consultant Techniek</td>\n",
       "      <td>* Zoekresultaat\\n  * Vacature\\n\\n  (Junior) ...</td>\n",
       "      <td>Junior</td>\n",
       "    </tr>\n",
       "    <tr>\n",
       "      <th>2</th>\n",
       "      <td>01e9b62b45e24f3897ee959f8ad0c237</td>\n",
       "      <td>Senior Project Manager</td>\n",
       "      <td>Experis\\n  &gt; 250 medewerkers\\n  Boeingavenue...</td>\n",
       "      <td>Senior</td>\n",
       "    </tr>\n",
       "    <tr>\n",
       "      <th>3</th>\n",
       "      <td>9b1b570dbe694881bfa7b0f39145cf1b</td>\n",
       "      <td>Junior projectleider bodemonderzoek</td>\n",
       "      <td>Junior projectleider bodemonderzoek\\n\\n  Fun...</td>\n",
       "      <td>Junior</td>\n",
       "    </tr>\n",
       "    <tr>\n",
       "      <th>4</th>\n",
       "      <td>90aa084cb1894d828561ac8f11a95b32</td>\n",
       "      <td>Medior Java Developer bij Copernicus te</td>\n",
       "      <td>Medior Java Developer bij Copernicus te\\n\\n ...</td>\n",
       "      <td>Medior</td>\n",
       "    </tr>\n",
       "    <tr>\n",
       "      <th>5</th>\n",
       "      <td>ee9d46cb569d458f8730543c2c879c91</td>\n",
       "      <td>Medior werkvoorbereider (BIM)</td>\n",
       "      <td>Medior werkvoorbereider (BIM)\\n  Bureau Vakw...</td>\n",
       "      <td>Medior</td>\n",
       "    </tr>\n",
       "    <tr>\n",
       "      <th>6</th>\n",
       "      <td>ccbb2c001f0448a3a3e39b8e3a94751e</td>\n",
       "      <td>Senior sales engineers</td>\n",
       "      <td>Senior sales engineers\\n\\n  Werkgever: Lodig...</td>\n",
       "      <td>Senior</td>\n",
       "    </tr>\n",
       "    <tr>\n",
       "      <th>7</th>\n",
       "      <td>df7e2695c94b466b9d37bc058fe586ae</td>\n",
       "      <td>Senior Assistant Accountancy &amp; Reporting</td>\n",
       "      <td>Senior Assistant Accountancy &amp; Reporting\\n\\n...</td>\n",
       "      <td>Senior</td>\n",
       "    </tr>\n",
       "    <tr>\n",
       "      <th>8</th>\n",
       "      <td>6b8d5c933cfd4b12bf8a1d0b410acb12</td>\n",
       "      <td>(Junior) Accountmanager FOOD/FEED</td>\n",
       "      <td>* Zoekresultaat\\n  * Vacature\\n\\n  (Junior) ...</td>\n",
       "      <td>Junior</td>\n",
       "    </tr>\n",
       "    <tr>\n",
       "      <th>9</th>\n",
       "      <td>c67f4fc2b3864aea95b2387546233a5e</td>\n",
       "      <td>Senior Recruiter Inhuur - overheid / Rotterdam</td>\n",
       "      <td>Senior Recruiter Inhuur - overheid / Rotterd...</td>\n",
       "      <td>Senior</td>\n",
       "    </tr>\n",
       "    <tr>\n",
       "      <th>10</th>\n",
       "      <td>a407186f142e4869b9142dfed21033b3</td>\n",
       "      <td>(Senior) Solutions Architect (m/f) - Returners...</td>\n",
       "      <td>(Senior) Solutions Architect (m/f) - Returne...</td>\n",
       "      <td>Senior</td>\n",
       "    </tr>\n",
       "    <tr>\n",
       "      <th>11</th>\n",
       "      <td>f1234fcfd546489c962ab35726d9c58d</td>\n",
       "      <td>Medior java developer online met verstand van ...</td>\n",
       "      <td>Medior java developer online met verstand va...</td>\n",
       "      <td>Medior</td>\n",
       "    </tr>\n",
       "    <tr>\n",
       "      <th>12</th>\n",
       "      <td>4ccd28288bb847a7bea7a11eb90d9cfa</td>\n",
       "      <td>Junior sales consultant USG Legal</td>\n",
       "      <td>Junior sales consultant USG Legal\\n\\n  Uniqu...</td>\n",
       "      <td>Junior</td>\n",
       "    </tr>\n",
       "    <tr>\n",
       "      <th>13</th>\n",
       "      <td>c58a3adfc46f465a9c030bbe260390a3</td>\n",
       "      <td>SAP Projectmanager (medior)</td>\n",
       "      <td>SAP Projectmanager (medior)\\n\\n  Nieuwegein\\...</td>\n",
       "      <td>Medior</td>\n",
       "    </tr>\n",
       "    <tr>\n",
       "      <th>14</th>\n",
       "      <td>62235309a1d840afa2e3a9ecc1013bb9</td>\n",
       "      <td>Junior/Medior C# .NET Developer</td>\n",
       "      <td>Junior/Medior .NET Developer - Amersfoort - ...</td>\n",
       "      <td>Medior</td>\n",
       "    </tr>\n",
       "    <tr>\n",
       "      <th>15</th>\n",
       "      <td>3a4c8cb61db04981bc0a810fb59e6247</td>\n",
       "      <td>Medior C# Engineer bij Profity</td>\n",
       "      <td>no.logo.alt\\n  no.logo.alt\\n\\n  Medior C# En...</td>\n",
       "      <td>Medior</td>\n",
       "    </tr>\n",
       "    <tr>\n",
       "      <th>16</th>\n",
       "      <td>138d281b1b3a499e8bbdd563cc6db222</td>\n",
       "      <td>Medior Magento developer bij Speak</td>\n",
       "      <td>Alles weergevennum of num\\n  Speak!-logo\\n  ...</td>\n",
       "      <td>Medior</td>\n",
       "    </tr>\n",
       "    <tr>\n",
       "      <th>17</th>\n",
       "      <td>ffdcc7754689433687b2b56944f9c1a2</td>\n",
       "      <td>Junior calculator/ werkvoorbereider</td>\n",
       "      <td>Junior calculator/ werkvoorbereider\\n\\n  Vac...</td>\n",
       "      <td>Junior</td>\n",
       "    </tr>\n",
       "    <tr>\n",
       "      <th>18</th>\n",
       "      <td>c746431f9862476cba081c72800f76f5</td>\n",
       "      <td>Medior PHP developer</td>\n",
       "      <td>Medior PHP developer\\n\\n  Vacature omschrijv...</td>\n",
       "      <td>Medior</td>\n",
       "    </tr>\n",
       "    <tr>\n",
       "      <th>19</th>\n",
       "      <td>218e860c533e48afaca5e5b7fd414dd5</td>\n",
       "      <td>(Junior) MSBI Specialist voor regio Overijssel</td>\n",
       "      <td>* Verloopdatum:\\n  2021-12-15\\n  * Startdatu...</td>\n",
       "      <td>Junior</td>\n",
       "    </tr>\n",
       "    <tr>\n",
       "      <th>20</th>\n",
       "      <td>96981da9776b4583bf60f064c4965ff3</td>\n",
       "      <td>Medior-Senior PHP/Drupal Developer gezocht die...</td>\n",
       "      <td>Medior-Senior PHP/Drupal Developer gezocht d...</td>\n",
       "      <td>Senior</td>\n",
       "    </tr>\n",
       "    <tr>\n",
       "      <th>21</th>\n",
       "      <td>fcb3ae86c8fa4082b4e9332234e57949</td>\n",
       "      <td>Senior jurist privaatrecht &amp; publiek recht (O0...</td>\n",
       "      <td>Vacatures Senior jurist privaatrecht &amp; publi...</td>\n",
       "      <td>Senior</td>\n",
       "    </tr>\n",
       "    <tr>\n",
       "      <th>22</th>\n",
       "      <td>3543c6c38ae1435bb61899cd1ead6355</td>\n",
       "      <td>Senior Financieel Medewerker Gemeente Den Haag</td>\n",
       "      <td>Bekijk meer vacatures\\n\\n  Senior Financieel...</td>\n",
       "      <td>Senior</td>\n",
       "    </tr>\n",
       "    <tr>\n",
       "      <th>23</th>\n",
       "      <td>617d01b79aa848c5a01fda1f00e41e23</td>\n",
       "      <td>JUNIOR STORE MANAGER</td>\n",
       "      <td>Terug naar de zoekresultaten\\n  *\\n  *\\n\\n  ...</td>\n",
       "      <td>Junior</td>\n",
       "    </tr>\n",
       "    <tr>\n",
       "      <th>24</th>\n",
       "      <td>d10a29f8c69040f89263615c85c7f72c</td>\n",
       "      <td>Junior Projectmanager</td>\n",
       "      <td>Junior Projectmanager\\n\\n  Noord Brabant - N...</td>\n",
       "      <td>Junior</td>\n",
       "    </tr>\n",
       "  </tbody>\n",
       "</table>\n",
       "</div>"
      ],
      "text/plain": [
       "                          posting_id  \\\n",
       "0   9772ab3e98c4440f8fe7964e0d159009   \n",
       "1   beff6d8161ae415c8f056d9218ccf994   \n",
       "2   01e9b62b45e24f3897ee959f8ad0c237   \n",
       "3   9b1b570dbe694881bfa7b0f39145cf1b   \n",
       "4   90aa084cb1894d828561ac8f11a95b32   \n",
       "5   ee9d46cb569d458f8730543c2c879c91   \n",
       "6   ccbb2c001f0448a3a3e39b8e3a94751e   \n",
       "7   df7e2695c94b466b9d37bc058fe586ae   \n",
       "8   6b8d5c933cfd4b12bf8a1d0b410acb12   \n",
       "9   c67f4fc2b3864aea95b2387546233a5e   \n",
       "10  a407186f142e4869b9142dfed21033b3   \n",
       "11  f1234fcfd546489c962ab35726d9c58d   \n",
       "12  4ccd28288bb847a7bea7a11eb90d9cfa   \n",
       "13  c58a3adfc46f465a9c030bbe260390a3   \n",
       "14  62235309a1d840afa2e3a9ecc1013bb9   \n",
       "15  3a4c8cb61db04981bc0a810fb59e6247   \n",
       "16  138d281b1b3a499e8bbdd563cc6db222   \n",
       "17  ffdcc7754689433687b2b56944f9c1a2   \n",
       "18  c746431f9862476cba081c72800f76f5   \n",
       "19  218e860c533e48afaca5e5b7fd414dd5   \n",
       "20  96981da9776b4583bf60f064c4965ff3   \n",
       "21  fcb3ae86c8fa4082b4e9332234e57949   \n",
       "22  3543c6c38ae1435bb61899cd1ead6355   \n",
       "23  617d01b79aa848c5a01fda1f00e41e23   \n",
       "24  d10a29f8c69040f89263615c85c7f72c   \n",
       "\n",
       "                                            job_title  \\\n",
       "0                   Sr. Mechanical Equipment Engineer   \n",
       "1                        (Junior) Consultant Techniek   \n",
       "2                              Senior Project Manager   \n",
       "3                 Junior projectleider bodemonderzoek   \n",
       "4             Medior Java Developer bij Copernicus te   \n",
       "5                       Medior werkvoorbereider (BIM)   \n",
       "6                              Senior sales engineers   \n",
       "7            Senior Assistant Accountancy & Reporting   \n",
       "8                   (Junior) Accountmanager FOOD/FEED   \n",
       "9      Senior Recruiter Inhuur - overheid / Rotterdam   \n",
       "10  (Senior) Solutions Architect (m/f) - Returners...   \n",
       "11  Medior java developer online met verstand van ...   \n",
       "12                  Junior sales consultant USG Legal   \n",
       "13                        SAP Projectmanager (medior)   \n",
       "14                    Junior/Medior C# .NET Developer   \n",
       "15                     Medior C# Engineer bij Profity   \n",
       "16                 Medior Magento developer bij Speak   \n",
       "17                Junior calculator/ werkvoorbereider   \n",
       "18                               Medior PHP developer   \n",
       "19     (Junior) MSBI Specialist voor regio Overijssel   \n",
       "20  Medior-Senior PHP/Drupal Developer gezocht die...   \n",
       "21  Senior jurist privaatrecht & publiek recht (O0...   \n",
       "22     Senior Financieel Medewerker Gemeente Den Haag   \n",
       "23                               JUNIOR STORE MANAGER   \n",
       "24                              Junior Projectmanager   \n",
       "\n",
       "                                            full_text seniority_level  \n",
       "0     Sr. Mechanical Equipment Engineer - Leiden\\n...          Senior  \n",
       "1     * Zoekresultaat\\n  * Vacature\\n\\n  (Junior) ...          Junior  \n",
       "2     Experis\\n  > 250 medewerkers\\n  Boeingavenue...          Senior  \n",
       "3     Junior projectleider bodemonderzoek\\n\\n  Fun...          Junior  \n",
       "4     Medior Java Developer bij Copernicus te\\n\\n ...          Medior  \n",
       "5     Medior werkvoorbereider (BIM)\\n  Bureau Vakw...          Medior  \n",
       "6     Senior sales engineers\\n\\n  Werkgever: Lodig...          Senior  \n",
       "7     Senior Assistant Accountancy & Reporting\\n\\n...          Senior  \n",
       "8     * Zoekresultaat\\n  * Vacature\\n\\n  (Junior) ...          Junior  \n",
       "9     Senior Recruiter Inhuur - overheid / Rotterd...          Senior  \n",
       "10    (Senior) Solutions Architect (m/f) - Returne...          Senior  \n",
       "11    Medior java developer online met verstand va...          Medior  \n",
       "12    Junior sales consultant USG Legal\\n\\n  Uniqu...          Junior  \n",
       "13    SAP Projectmanager (medior)\\n\\n  Nieuwegein\\...          Medior  \n",
       "14    Junior/Medior .NET Developer - Amersfoort - ...          Medior  \n",
       "15    no.logo.alt\\n  no.logo.alt\\n\\n  Medior C# En...          Medior  \n",
       "16    Alles weergevennum of num\\n  Speak!-logo\\n  ...          Medior  \n",
       "17    Junior calculator/ werkvoorbereider\\n\\n  Vac...          Junior  \n",
       "18    Medior PHP developer\\n\\n  Vacature omschrijv...          Medior  \n",
       "19    * Verloopdatum:\\n  2021-12-15\\n  * Startdatu...          Junior  \n",
       "20    Medior-Senior PHP/Drupal Developer gezocht d...          Senior  \n",
       "21    Vacatures Senior jurist privaatrecht & publi...          Senior  \n",
       "22    Bekijk meer vacatures\\n\\n  Senior Financieel...          Senior  \n",
       "23    Terug naar de zoekresultaten\\n  *\\n  *\\n\\n  ...          Junior  \n",
       "24    Junior Projectmanager\\n\\n  Noord Brabant - N...          Junior  "
      ]
     },
     "execution_count": 3,
     "metadata": {},
     "output_type": "execute_result"
    }
   ],
   "source": [
    "df.head(n=25)"
   ]
  },
  {
   "cell_type": "code",
   "execution_count": 4,
   "metadata": {},
   "outputs": [
    {
     "data": {
      "text/plain": [
       "(16619, 4)"
      ]
     },
     "execution_count": 4,
     "metadata": {},
     "output_type": "execute_result"
    }
   ],
   "source": [
    "df.shape"
   ]
  },
  {
   "cell_type": "code",
   "execution_count": null,
   "metadata": {},
   "outputs": [],
   "source": []
  },
  {
   "cell_type": "code",
   "execution_count": 5,
   "metadata": {},
   "outputs": [
    {
     "data": {
      "text/plain": [
       "<matplotlib.axes._subplots.AxesSubplot at 0x7f6f01f8e908>"
      ]
     },
     "execution_count": 5,
     "metadata": {},
     "output_type": "execute_result"
    },
    {
     "data": {
      "image/png": "[encoded data removed]",
      "text/plain": [
       "<Figure size 432x288 with 1 Axes>"
      ]
     },
     "metadata": {
      "needs_background": "light"
     },
     "output_type": "display_data"
    }
   ],
   "source": [
    "%matplotlib inline\n",
    "\n",
    "import seaborn as sns\n",
    "\n",
    "sns.countplot(x=df['seniority_level'])"
   ]
  },
  {
   "cell_type": "code",
   "execution_count": null,
   "metadata": {},
   "outputs": [],
   "source": []
  },
  {
   "cell_type": "code",
   "execution_count": 9,
   "metadata": {},
   "outputs": [],
   "source": [
    "from gensim.parsing.preprocessing import preprocess_string, RE_TAGS, strip_punctuation, stem_text, \\\n",
    "    strip_multiple_whitespaces, strip_numeric, remove_stopwords, strip_short, strip_non_alphanum\n",
    "from sklearn.feature_extraction.text import CountVectorizer\n",
    "from sklearn.preprocessing import LabelEncoder, MaxAbsScaler\n",
    "from sklearn.decomposition import TruncatedSVD\n",
    "from unicodedata import normalize\n",
    "\n",
    "my_filters = [\n",
    "    lambda x: x.lower(), strip_punctuation, strip_non_alphanum,\n",
    "    strip_multiple_whitespaces, remove_stopwords\n",
    "]\n",
    "\n",
    "def my_tokenizer(s):\n",
    "    return preprocess_string(s, filters=my_filters)\n",
    "\n",
    "stop_words = ['junior', 'medior', 'senior']\n",
    "    \n",
    "vect = CountVectorizer(min_df=500, max_df=0.2, analyzer='word', tokenizer=my_tokenizer, ngram_range=(1, 3),\n",
    "                       stop_words=stop_words)\n",
    "\n",
    "le = LabelEncoder()\n",
    "\n",
    "X = vect.fit_transform(df['full_text'])\n",
    "y = le.fit_transform(df['seniority_level'])"
   ]
  },
  {
   "cell_type": "code",
   "execution_count": null,
   "metadata": {},
   "outputs": [],
   "source": []
  },
  {
   "cell_type": "code",
   "execution_count": 10,
   "metadata": {},
   "outputs": [
    {
     "data": {
      "text/plain": [
       "(16619, 2420)"
      ]
     },
     "execution_count": 10,
     "metadata": {},
     "output_type": "execute_result"
    }
   ],
   "source": [
    "X.shape"
   ]
  },
  {
   "cell_type": "code",
   "execution_count": 11,
   "metadata": {},
   "outputs": [
    {
     "data": {
      "text/plain": [
       "(16619,)"
      ]
     },
     "execution_count": 11,
     "metadata": {},
     "output_type": "execute_result"
    }
   ],
   "source": [
    "y.shape"
   ]
  },
  {
   "cell_type": "code",
   "execution_count": null,
   "metadata": {},
   "outputs": [],
   "source": []
  },
  {
   "cell_type": "code",
   "execution_count": 12,
   "metadata": {},
   "outputs": [
    {
     "name": "stdout",
     "output_type": "stream",
     "text": [
      "           MultinomialNB Accuracy: 0.60 (+/- 0.01) F1: 0.58 (+/- 0.01) Log loss: -8.22 (+/- 0.16)\n",
      "      LogisticRegression Accuracy: 0.67 (+/- 0.00) F1: 0.66 (+/- 0.00) Log loss: -1.24 (+/- 0.02)\n"
     ]
    }
   ],
   "source": [
    "from sklearn.model_selection import cross_val_score, KFold, StratifiedKFold\n",
    "from sklearn.ensemble import RandomForestClassifier\n",
    "from sklearn.neighbors import KNeighborsClassifier\n",
    "from sklearn.linear_model import LogisticRegression\n",
    "from sklearn.neural_network import MLPClassifier\n",
    "from sklearn.naive_bayes import MultinomialNB\n",
    "from sklearn.svm import SVC, LinearSVC\n",
    "\n",
    "classifiers = [\n",
    "    MultinomialNB(),\n",
    "    LogisticRegression(solver='lbfgs', max_iter=1000, multi_class='multinomial'),\n",
    "    #LogisticRegression(solver='lbfgs', max_iter=500, multi_class='multinomial', class_weight='balanced'),\n",
    "]\n",
    "\n",
    "for clf in classifiers:\n",
    "    accs = cross_val_score(clf, X, y, cv=StratifiedKFold(n_splits=3, shuffle=True), scoring='accuracy')\n",
    "    f1s = cross_val_score(clf, X, y, cv=StratifiedKFold(n_splits=3, shuffle=True), scoring='f1_macro')\n",
    "    lls = cross_val_score(clf, X, y, cv=StratifiedKFold(n_splits=3, shuffle=True), scoring='neg_log_loss')\n",
    "\n",
    "    print(\"{:>24} Accuracy: {:.2f} (+/- {:.2f}) F1: {:.2f} (+/- {:.2f}) Log loss: {:.2f} (+/- {:.2f})\" \\\n",
    "          .format(clf.__class__.__name__, accs.mean(), accs.std(), f1s.mean(), f1s.std(), lls.mean(), lls.std()))"
   ]
  },
  {
   "cell_type": "code",
   "execution_count": null,
   "metadata": {},
   "outputs": [],
   "source": []
  },
  {
   "cell_type": "code",
   "execution_count": 13,
   "metadata": {},
   "outputs": [
    {
     "data": {
      "text/plain": [
       "LogisticRegression(C=1.0, class_weight=None, dual=False, fit_intercept=True,\n",
       "          intercept_scaling=1, max_iter=1000, multi_class='multinomial',\n",
       "          n_jobs=None, penalty='l2', random_state=None, solver='lbfgs',\n",
       "          tol=0.0001, verbose=0, warm_start=False)"
      ]
     },
     "execution_count": 13,
     "metadata": {},
     "output_type": "execute_result"
    }
   ],
   "source": [
    "from sklearn.model_selection import train_test_split\n",
    "\n",
    "Xtr, Xte, ytr, yte = train_test_split(X, y, test_size=0.33, stratify=y)\n",
    "\n",
    "#clf = MultinomialNB()\n",
    "clf = LogisticRegression(solver='lbfgs', max_iter=1000, multi_class='multinomial')\n",
    "clf.fit(Xtr, ytr)"
   ]
  },
  {
   "cell_type": "code",
   "execution_count": null,
   "metadata": {},
   "outputs": [],
   "source": []
  },
  {
   "cell_type": "code",
   "execution_count": 14,
   "metadata": {},
   "outputs": [
    {
     "name": "stdout",
     "output_type": "stream",
     "text": [
      "              precision    recall  f1-score   support\n",
      "\n",
      "      Junior       0.74      0.74      0.74      1972\n",
      "      Medior       0.55      0.55      0.55      1295\n",
      "      Senior       0.66      0.66      0.66      2218\n",
      "\n",
      "   micro avg       0.66      0.66      0.66      5485\n",
      "   macro avg       0.65      0.65      0.65      5485\n",
      "weighted avg       0.66      0.66      0.66      5485\n",
      "\n"
     ]
    }
   ],
   "source": [
    "from sklearn.metrics import classification_report\n",
    "\n",
    "ypred = clf.predict(Xte)\n",
    "\n",
    "print(classification_report(yte, ypred, target_names=le.classes_))"
   ]
  },
  {
   "cell_type": "code",
   "execution_count": null,
   "metadata": {},
   "outputs": [],
   "source": []
  },
  {
   "cell_type": "code",
   "execution_count": 15,
   "metadata": {},
   "outputs": [
    {
     "data": {
      "text/plain": [
       "array(['Junior', 'Medior', 'Senior'], dtype=object)"
      ]
     },
     "execution_count": 15,
     "metadata": {},
     "output_type": "execute_result"
    }
   ],
   "source": [
    "le.classes_"
   ]
  },
  {
   "cell_type": "code",
   "execution_count": null,
   "metadata": {},
   "outputs": [],
   "source": []
  },
  {
   "cell_type": "code",
   "execution_count": 16,
   "metadata": {},
   "outputs": [
    {
     "data": {
      "image/png": "[encoded data removed]",
      "text/plain": [
       "<Figure size 432x288 with 1 Axes>"
      ]
     },
     "metadata": {
      "needs_background": "light"
     },
     "output_type": "display_data"
    }
   ],
   "source": [
    "from mlxtend.evaluate import confusion_matrix\n",
    "from mlxtend.plotting import plot_confusion_matrix\n",
    "\n",
    "fig, ax = plot_confusion_matrix(confusion_matrix(yte, ypred))"
   ]
  },
  {
   "cell_type": "code",
   "execution_count": null,
   "metadata": {},
   "outputs": [],
   "source": []
  },
  {
   "cell_type": "code",
   "execution_count": 17,
   "metadata": {},
   "outputs": [
    {
     "name": "stdout",
     "output_type": "stream",
     "text": [
      "Junior: solliciteer dan direct, 2 jaar, wensen en, bezit van, bijdragen, laatst, het maken van, tot en, accuraat, begeleiden van, engelse, wensen van, 1 jaar, starters, search jobs, apply position, zojuist, 36 uur week, ga naar website, starter\n",
      "\n",
      "Medior: geschrift, sollicitatieprocedure bezoek, daarnaast ben je, soort contract vast, datum, 05 2019 regio, geworden, 2019 tot, vaandel, van zaak, 2019 functieomschrijving, nl adres, note applications, bedrijfsgrootte, gedrag, jobs job, jezelf te ontwikkelen, geboden, woord en, solliciteer partner\n",
      "\n",
      "Senior: code controle, years, privé, niet gewenst, rekenen op, kans op, http www, communicatieve vaardigheden, je bent communicatief, op vacature, coach, minimaal 2 jaar, internationaal nee, goede beheersing van, minimaal 5, deel uit, en plaats, 10 jaar, minimaal 3 jaar, description apply position\n",
      "\n"
     ]
    }
   ],
   "source": [
    "import numpy as np\n",
    "\n",
    "feature_names = vect.get_feature_names()\n",
    "\n",
    "for i, class_label in enumerate(le.classes_):\n",
    "    top10 = np.argsort(clf.coef_[i])[-20:]\n",
    "    print(\"%s: %s\" % (class_label, \", \".join(feature_names[j] for j in top10)))\n",
    "    print()"
   ]
  },
  {
   "cell_type": "code",
   "execution_count": null,
   "metadata": {},
   "outputs": [],
   "source": []
  },
  {
   "cell_type": "code",
   "execution_count": null,
   "metadata": {},
   "outputs": [],
   "source": []
  }
 ],
 "metadata": {
  "kernelspec": {
   "display_name": "Python 3",
   "language": "python",
   "name": "python3"
  },
  "language_info": {
   "codemirror_mode": {
    "name": "ipython",
    "version": 3
   },
   "file_extension": ".py",
   "mimetype": "text/x-python",
   "name": "python",
   "nbconvert_exporter": "python",
   "pygments_lexer": "ipython3",
   "version": "3.7.2"
  }
 },
 "nbformat": 4,
 "nbformat_minor": 2
}
