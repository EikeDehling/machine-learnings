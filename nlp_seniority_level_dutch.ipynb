{
 "cells": [
  {
   "cell_type": "code",
   "execution_count": null,
   "metadata": {},
   "outputs": [],
   "source": []
  },
  {
   "cell_type": "code",
   "execution_count": null,
   "metadata": {},
   "outputs": [],
   "source": [
    "import pandas as pd\n",
    "import requests\n",
    "import csv\n",
    "import re\n",
    "\n",
    "r = requests.get('https://www.jobfeed.nl/api/v3/search?_fields=posting_id,job_title,full_text&date__range=now-2M__now&_limit=5000&job_title=senior|sr|medior|junior|jr',\n",
    "                 auth=('ANONYMOUS', 'ANONYMOUS'))\n",
    "\n",
    "results = pd.DataFrame(r.json()['results'])\n",
    "\n",
    "def determine_seniority(title):\n",
    "    seniority = ''\n",
    "    if re.search(r'\\b(senior|sr)\\b', title, re.IGNORECASE):\n",
    "        seniority = 'Senior'\n",
    "    elif re.search(r'\\b(medior)\\b', title, re.IGNORECASE):\n",
    "        seniority = 'Medior'\n",
    "    elif re.search(r'\\b(junior|jr)\\b', title, re.IGNORECASE):\n",
    "        seniority = 'Junior'\n",
    "    return seniority\n",
    "\n",
    "results['seniority_level'] = results['job_title'].apply(determine_seniority)\n",
    "\n",
    "results[['posting_id', 'job_title', 'full_text', 'seniority_level']] \\\n",
    "    .to_csv('data/seniority-nl.csv', index=False, header=True, quoting=csv.QUOTE_ALL)"
   ]
  },
  {
   "cell_type": "code",
   "execution_count": null,
   "metadata": {},
   "outputs": [],
   "source": []
  },
  {
   "cell_type": "code",
   "execution_count": 18,
   "metadata": {},
   "outputs": [],
   "source": [
    "#import numpy as np\n",
    "#np.random.shuffle(df.values)\n",
    "#df = df.drop_duplicates(subset=['posting_id'])"
   ]
  },
  {
   "cell_type": "code",
   "execution_count": 44,
   "metadata": {},
   "outputs": [],
   "source": [
    "df.to_csv('data/seniority-nl.csv', index=False)"
   ]
  },
  {
   "cell_type": "code",
   "execution_count": null,
   "metadata": {},
   "outputs": [],
   "source": []
  },
  {
   "cell_type": "code",
   "execution_count": 40,
   "metadata": {},
   "outputs": [],
   "source": [
    "from langdetect import detect\n",
    "df['lang'] = df['full_text'].apply(detect)"
   ]
  },
  {
   "cell_type": "code",
   "execution_count": 43,
   "metadata": {},
   "outputs": [
    {
     "data": {
      "text/plain": [
       "<matplotlib.axes._subplots.AxesSubplot at 0x7efc41aa06d8>"
      ]
     },
     "execution_count": 43,
     "metadata": {},
     "output_type": "execute_result"
    },
    {
     "data": {
      "image/png": "[encoded data removed]",
      "text/plain": [
       "<Figure size 432x288 with 1 Axes>"
      ]
     },
     "metadata": {
      "needs_background": "light"
     },
     "output_type": "display_data"
    }
   ],
   "source": [
    "sns.countplot(x=df['lang'])"
   ]
  },
  {
   "cell_type": "code",
   "execution_count": 42,
   "metadata": {},
   "outputs": [],
   "source": [
    "df = df[df.lang == 'nl']"
   ]
  },
  {
   "cell_type": "code",
   "execution_count": null,
   "metadata": {},
   "outputs": [],
   "source": []
  },
  {
   "cell_type": "code",
   "execution_count": null,
   "metadata": {},
   "outputs": [],
   "source": []
  },
  {
   "cell_type": "code",
   "execution_count": 45,
   "metadata": {},
   "outputs": [],
   "source": [
    "import pandas as pd\n",
    "\n",
    "df = pd.read_csv('data/seniority-nl.csv', index_col=None)"
   ]
  },
  {
   "cell_type": "code",
   "execution_count": 46,
   "metadata": {},
   "outputs": [
    {
     "data": {
      "text/html": [
       "<div>\n",
       "<style scoped>\n",
       "    .dataframe tbody tr th:only-of-type {\n",
       "        vertical-align: middle;\n",
       "    }\n",
       "\n",
       "    .dataframe tbody tr th {\n",
       "        vertical-align: top;\n",
       "    }\n",
       "\n",
       "    .dataframe thead th {\n",
       "        text-align: right;\n",
       "    }\n",
       "</style>\n",
       "<table border=\"1\" class=\"dataframe\">\n",
       "  <thead>\n",
       "    <tr style=\"text-align: right;\">\n",
       "      <th></th>\n",
       "      <th>posting_id</th>\n",
       "      <th>job_title</th>\n",
       "      <th>full_text</th>\n",
       "      <th>seniority_level</th>\n",
       "      <th>lang</th>\n",
       "    </tr>\n",
       "  </thead>\n",
       "  <tbody>\n",
       "    <tr>\n",
       "      <th>0</th>\n",
       "      <td>efaeaed6e438415c8f38171d25716f32</td>\n",
       "      <td>Senior Projectleider Bouw</td>\n",
       "      <td>Senior Projectleider Bouw\\n\\n  Werkgever: Ce...</td>\n",
       "      <td>Senior</td>\n",
       "      <td>nl</td>\n",
       "    </tr>\n",
       "    <tr>\n",
       "      <th>1</th>\n",
       "      <td>018a0a712c444f38827a796cb8c4c72b</td>\n",
       "      <td>Gezocht: Medior Backend Developer /Uur</td>\n",
       "      <td>Gezocht: Medior Backend Developer /Uur\\n\\n  ...</td>\n",
       "      <td>Medior</td>\n",
       "      <td>nl</td>\n",
       "    </tr>\n",
       "    <tr>\n",
       "      <th>2</th>\n",
       "      <td>654c5d51de3b44e2876d2fa88c20c418</td>\n",
       "      <td>Senior Schadebehandelaar Volmacht</td>\n",
       "      <td>* Zoekresultaat\\n  * Vacature\\n\\n  Senior Sc...</td>\n",
       "      <td>Senior</td>\n",
       "      <td>nl</td>\n",
       "    </tr>\n",
       "    <tr>\n",
       "      <th>3</th>\n",
       "      <td>f2c5aed1e11c46ebb6c818b3f7b33235</td>\n",
       "      <td>Junior/medior software developer in het midden...</td>\n",
       "      <td>no.logo.alt\\n  no.logo.alt\\n\\n  Junior/medio...</td>\n",
       "      <td>Medior</td>\n",
       "      <td>nl</td>\n",
       "    </tr>\n",
       "    <tr>\n",
       "      <th>4</th>\n",
       "      <td>58a1a5ffb56b48cdaedd9e9045e3a011</td>\n",
       "      <td>Medior belastingadviseur - (inter)nationale MK...</td>\n",
       "      <td>Medior belastingadviseur - (inter)nationale ...</td>\n",
       "      <td>Medior</td>\n",
       "      <td>nl</td>\n",
       "    </tr>\n",
       "    <tr>\n",
       "      <th>5</th>\n",
       "      <td>02d1517026dd44ffb2b688bed296138e</td>\n",
       "      <td>Junior Werkvoorbereider</td>\n",
       "      <td>Junior Werkvoorbereider\\n\\n  Vacature omschr...</td>\n",
       "      <td>Junior</td>\n",
       "      <td>nl</td>\n",
       "    </tr>\n",
       "    <tr>\n",
       "      <th>6</th>\n",
       "      <td>94461eb87e5247158115c4e54eb1ca8d</td>\n",
       "      <td>Medior Consultant Microsoft s CRM</td>\n",
       "      <td>Medior Consultant Microsoft s CRM\\n\\n  Job i...</td>\n",
       "      <td>Medior</td>\n",
       "      <td>nl</td>\n",
       "    </tr>\n",
       "    <tr>\n",
       "      <th>7</th>\n",
       "      <td>2ef2f40a028144f999f372cff76c4c71</td>\n",
       "      <td>Junior BRP Specialist</td>\n",
       "      <td>« Ga terug Print\\n\\n  Junior BRP Specialist\\...</td>\n",
       "      <td>Junior</td>\n",
       "      <td>nl</td>\n",
       "    </tr>\n",
       "    <tr>\n",
       "      <th>8</th>\n",
       "      <td>529ff3befb224338a6d1dd70f4ebd3be</td>\n",
       "      <td>Senior Payroll Officer - Amsterdam</td>\n",
       "      <td>Senior Payroll Officer - Amsterdam\\n\\n  Wat ...</td>\n",
       "      <td>Senior</td>\n",
       "      <td>nl</td>\n",
       "    </tr>\n",
       "    <tr>\n",
       "      <th>9</th>\n",
       "      <td>3c1a9a405e66467da33027c8d36ef2a6</td>\n",
       "      <td>Medior Tester / geautomatiseerd testen / 2500 ...</td>\n",
       "      <td>Medior Tester / geautomatiseerd testen / 250...</td>\n",
       "      <td>Medior</td>\n",
       "      <td>nl</td>\n",
       "    </tr>\n",
       "    <tr>\n",
       "      <th>10</th>\n",
       "      <td>361ef566010546c68b9df6fa1269953f</td>\n",
       "      <td>Junior werkvoorbereider/uitvoerder</td>\n",
       "      <td>Vacature Junior werkvoorbereider/uitvoerder\\...</td>\n",
       "      <td>Junior</td>\n",
       "      <td>nl</td>\n",
       "    </tr>\n",
       "    <tr>\n",
       "      <th>11</th>\n",
       "      <td>c8e6bb5162204a2cab88ad94ad1e7fb0</td>\n",
       "      <td>Medior Software Engineer gezocht voor logistie...</td>\n",
       "      <td>Medior Software Engineer gezocht voor logist...</td>\n",
       "      <td>Medior</td>\n",
       "      <td>nl</td>\n",
       "    </tr>\n",
       "    <tr>\n",
       "      <th>12</th>\n",
       "      <td>309f4607c6b04731a609c14704cfd042</td>\n",
       "      <td>Software Developer - C#/ASP.NET - Almere - Med...</td>\n",
       "      <td>Software Developer - C#/ASP.NET - Almere - M...</td>\n",
       "      <td>Senior</td>\n",
       "      <td>nl</td>\n",
       "    </tr>\n",
       "    <tr>\n",
       "      <th>13</th>\n",
       "      <td>454ec2361c5d4872b3a278b192b136d4</td>\n",
       "      <td>Senior Systeembeheerder (inhouse 40 uur per we...</td>\n",
       "      <td>Senior Systeembeheerder (inhouse 40 uur per ...</td>\n",
       "      <td>Senior</td>\n",
       "      <td>nl</td>\n",
       "    </tr>\n",
       "    <tr>\n",
       "      <th>14</th>\n",
       "      <td>54ef722624d4428d96b437132ec43fa8</td>\n",
       "      <td>Medior Projectmedewerker Schade (36-40 uur)</td>\n",
       "      <td>Korte omschrijving : Vacature Medior Project...</td>\n",
       "      <td>Medior</td>\n",
       "      <td>nl</td>\n",
       "    </tr>\n",
       "    <tr>\n",
       "      <th>15</th>\n",
       "      <td>c1947a51beec4ab7b9a412fae5e2228c</td>\n",
       "      <td>Medior Assistent Accountant</td>\n",
       "      <td>« Ga terug Print\\n\\n  Medior Assistent Accou...</td>\n",
       "      <td>Medior</td>\n",
       "      <td>nl</td>\n",
       "    </tr>\n",
       "    <tr>\n",
       "      <th>16</th>\n",
       "      <td>b0ad1b9a78924097a0197716b1ba5813</td>\n",
       "      <td>Junior Technisch Beheer Vastgoed</td>\n",
       "      <td>Junior Technisch Beheer Vastgoed\\n\\n  Built ...</td>\n",
       "      <td>Junior</td>\n",
       "      <td>nl</td>\n",
       "    </tr>\n",
       "    <tr>\n",
       "      <th>17</th>\n",
       "      <td>9433448981a94fd3887c0686d1dd496d</td>\n",
       "      <td>Medior Analist CDD (Customer Due Diligence)</td>\n",
       "      <td>« Ga terug Print\\n\\n  Medior Analist CDD (Cu...</td>\n",
       "      <td>Medior</td>\n",
       "      <td>nl</td>\n",
       "    </tr>\n",
       "    <tr>\n",
       "      <th>18</th>\n",
       "      <td>9a9ca9c9ff2e44afa8a41940a4259772</td>\n",
       "      <td>Senior Secretaresse</td>\n",
       "      <td>1. Career\\n  2. Vacatures\\n  3. Senior Secre...</td>\n",
       "      <td>Senior</td>\n",
       "      <td>nl</td>\n",
       "    </tr>\n",
       "    <tr>\n",
       "      <th>19</th>\n",
       "      <td>153d3cbd083f40f6b97c5b55212fc71b</td>\n",
       "      <td>(Senior) Jurist Vergunningverlening</td>\n",
       "      <td>(Senior) Jurist Vergunningverlening\\n\\n  Wer...</td>\n",
       "      <td>Senior</td>\n",
       "      <td>nl</td>\n",
       "    </tr>\n",
       "    <tr>\n",
       "      <th>20</th>\n",
       "      <td>9eb19374188642e9a79093d4490cdcf0</td>\n",
       "      <td>Medior Front-end UX Ontwikkelaar Defensie</td>\n",
       "      <td>Medior Front-end UX Ontwikkelaar Defensie\\n\\...</td>\n",
       "      <td>Medior</td>\n",
       "      <td>nl</td>\n",
       "    </tr>\n",
       "    <tr>\n",
       "      <th>21</th>\n",
       "      <td>87cf6781149a4a83aeee3513a681d90a</td>\n",
       "      <td>junior makelaar</td>\n",
       "      <td>junior makelaar\\n\\n  Vacature omschrijving\\n...</td>\n",
       "      <td>Junior</td>\n",
       "      <td>nl</td>\n",
       "    </tr>\n",
       "    <tr>\n",
       "      <th>22</th>\n",
       "      <td>10640c4de24843bf83225cfb29b11663</td>\n",
       "      <td>Junior IT-Recruiter</td>\n",
       "      <td>Junior IT-Recruiter\\n\\n  Vacature omschrijvi...</td>\n",
       "      <td>Junior</td>\n",
       "      <td>nl</td>\n",
       "    </tr>\n",
       "    <tr>\n",
       "      <th>23</th>\n",
       "      <td>9c3c37ed5f0f4285ae52dd6003947956</td>\n",
       "      <td>Senior Engineer koeltechniek.</td>\n",
       "      <td>Vacature Senior Engineer koeltechniek.\\n  __...</td>\n",
       "      <td>Senior</td>\n",
       "      <td>nl</td>\n",
       "    </tr>\n",
       "    <tr>\n",
       "      <th>24</th>\n",
       "      <td>d24a08c57f214ce2b71d8a35ba54e69b</td>\n",
       "      <td>Systeembeheerder - Gouda - Medior/Senior</td>\n",
       "      <td>Systeembeheerder - Gouda - Medior/Senior\\n\\n...</td>\n",
       "      <td>Senior</td>\n",
       "      <td>nl</td>\n",
       "    </tr>\n",
       "  </tbody>\n",
       "</table>\n",
       "</div>"
      ],
      "text/plain": [
       "                          posting_id  \\\n",
       "0   efaeaed6e438415c8f38171d25716f32   \n",
       "1   018a0a712c444f38827a796cb8c4c72b   \n",
       "2   654c5d51de3b44e2876d2fa88c20c418   \n",
       "3   f2c5aed1e11c46ebb6c818b3f7b33235   \n",
       "4   58a1a5ffb56b48cdaedd9e9045e3a011   \n",
       "5   02d1517026dd44ffb2b688bed296138e   \n",
       "6   94461eb87e5247158115c4e54eb1ca8d   \n",
       "7   2ef2f40a028144f999f372cff76c4c71   \n",
       "8   529ff3befb224338a6d1dd70f4ebd3be   \n",
       "9   3c1a9a405e66467da33027c8d36ef2a6   \n",
       "10  361ef566010546c68b9df6fa1269953f   \n",
       "11  c8e6bb5162204a2cab88ad94ad1e7fb0   \n",
       "12  309f4607c6b04731a609c14704cfd042   \n",
       "13  454ec2361c5d4872b3a278b192b136d4   \n",
       "14  54ef722624d4428d96b437132ec43fa8   \n",
       "15  c1947a51beec4ab7b9a412fae5e2228c   \n",
       "16  b0ad1b9a78924097a0197716b1ba5813   \n",
       "17  9433448981a94fd3887c0686d1dd496d   \n",
       "18  9a9ca9c9ff2e44afa8a41940a4259772   \n",
       "19  153d3cbd083f40f6b97c5b55212fc71b   \n",
       "20  9eb19374188642e9a79093d4490cdcf0   \n",
       "21  87cf6781149a4a83aeee3513a681d90a   \n",
       "22  10640c4de24843bf83225cfb29b11663   \n",
       "23  9c3c37ed5f0f4285ae52dd6003947956   \n",
       "24  d24a08c57f214ce2b71d8a35ba54e69b   \n",
       "\n",
       "                                            job_title  \\\n",
       "0                           Senior Projectleider Bouw   \n",
       "1              Gezocht: Medior Backend Developer /Uur   \n",
       "2                   Senior Schadebehandelaar Volmacht   \n",
       "3   Junior/medior software developer in het midden...   \n",
       "4   Medior belastingadviseur - (inter)nationale MK...   \n",
       "5                             Junior Werkvoorbereider   \n",
       "6                   Medior Consultant Microsoft s CRM   \n",
       "7                               Junior BRP Specialist   \n",
       "8                  Senior Payroll Officer - Amsterdam   \n",
       "9   Medior Tester / geautomatiseerd testen / 2500 ...   \n",
       "10                 Junior werkvoorbereider/uitvoerder   \n",
       "11  Medior Software Engineer gezocht voor logistie...   \n",
       "12  Software Developer - C#/ASP.NET - Almere - Med...   \n",
       "13  Senior Systeembeheerder (inhouse 40 uur per we...   \n",
       "14        Medior Projectmedewerker Schade (36-40 uur)   \n",
       "15                        Medior Assistent Accountant   \n",
       "16                   Junior Technisch Beheer Vastgoed   \n",
       "17        Medior Analist CDD (Customer Due Diligence)   \n",
       "18                                Senior Secretaresse   \n",
       "19                (Senior) Jurist Vergunningverlening   \n",
       "20          Medior Front-end UX Ontwikkelaar Defensie   \n",
       "21                                    junior makelaar   \n",
       "22                                Junior IT-Recruiter   \n",
       "23                      Senior Engineer koeltechniek.   \n",
       "24           Systeembeheerder - Gouda - Medior/Senior   \n",
       "\n",
       "                                            full_text seniority_level lang  \n",
       "0     Senior Projectleider Bouw\\n\\n  Werkgever: Ce...          Senior   nl  \n",
       "1     Gezocht: Medior Backend Developer /Uur\\n\\n  ...          Medior   nl  \n",
       "2     * Zoekresultaat\\n  * Vacature\\n\\n  Senior Sc...          Senior   nl  \n",
       "3     no.logo.alt\\n  no.logo.alt\\n\\n  Junior/medio...          Medior   nl  \n",
       "4     Medior belastingadviseur - (inter)nationale ...          Medior   nl  \n",
       "5     Junior Werkvoorbereider\\n\\n  Vacature omschr...          Junior   nl  \n",
       "6     Medior Consultant Microsoft s CRM\\n\\n  Job i...          Medior   nl  \n",
       "7     « Ga terug Print\\n\\n  Junior BRP Specialist\\...          Junior   nl  \n",
       "8     Senior Payroll Officer - Amsterdam\\n\\n  Wat ...          Senior   nl  \n",
       "9     Medior Tester / geautomatiseerd testen / 250...          Medior   nl  \n",
       "10    Vacature Junior werkvoorbereider/uitvoerder\\...          Junior   nl  \n",
       "11    Medior Software Engineer gezocht voor logist...          Medior   nl  \n",
       "12    Software Developer - C#/ASP.NET - Almere - M...          Senior   nl  \n",
       "13    Senior Systeembeheerder (inhouse 40 uur per ...          Senior   nl  \n",
       "14    Korte omschrijving : Vacature Medior Project...          Medior   nl  \n",
       "15    « Ga terug Print\\n\\n  Medior Assistent Accou...          Medior   nl  \n",
       "16    Junior Technisch Beheer Vastgoed\\n\\n  Built ...          Junior   nl  \n",
       "17    « Ga terug Print\\n\\n  Medior Analist CDD (Cu...          Medior   nl  \n",
       "18    1. Career\\n  2. Vacatures\\n  3. Senior Secre...          Senior   nl  \n",
       "19    (Senior) Jurist Vergunningverlening\\n\\n  Wer...          Senior   nl  \n",
       "20    Medior Front-end UX Ontwikkelaar Defensie\\n\\...          Medior   nl  \n",
       "21    junior makelaar\\n\\n  Vacature omschrijving\\n...          Junior   nl  \n",
       "22    Junior IT-Recruiter\\n\\n  Vacature omschrijvi...          Junior   nl  \n",
       "23    Vacature Senior Engineer koeltechniek.\\n  __...          Senior   nl  \n",
       "24    Systeembeheerder - Gouda - Medior/Senior\\n\\n...          Senior   nl  "
      ]
     },
     "execution_count": 46,
     "metadata": {},
     "output_type": "execute_result"
    }
   ],
   "source": [
    "df.head(n=25)"
   ]
  },
  {
   "cell_type": "code",
   "execution_count": 47,
   "metadata": {},
   "outputs": [
    {
     "data": {
      "text/plain": [
       "(28026, 5)"
      ]
     },
     "execution_count": 47,
     "metadata": {},
     "output_type": "execute_result"
    }
   ],
   "source": [
    "df.shape"
   ]
  },
  {
   "cell_type": "code",
   "execution_count": null,
   "metadata": {},
   "outputs": [],
   "source": []
  },
  {
   "cell_type": "code",
   "execution_count": 48,
   "metadata": {},
   "outputs": [
    {
     "data": {
      "text/plain": [
       "<matplotlib.axes._subplots.AxesSubplot at 0x7efc477b6dd8>"
      ]
     },
     "execution_count": 48,
     "metadata": {},
     "output_type": "execute_result"
    },
    {
     "data": {
      "image/png": "[encoded data removed]",
      "text/plain": [
       "<Figure size 432x288 with 1 Axes>"
      ]
     },
     "metadata": {
      "needs_background": "light"
     },
     "output_type": "display_data"
    }
   ],
   "source": [
    "%matplotlib inline\n",
    "\n",
    "import seaborn as sns\n",
    "\n",
    "sns.countplot(x=df['seniority_level'])"
   ]
  },
  {
   "cell_type": "code",
   "execution_count": null,
   "metadata": {},
   "outputs": [],
   "source": []
  },
  {
   "cell_type": "code",
   "execution_count": 49,
   "metadata": {},
   "outputs": [],
   "source": [
    "from gensim.parsing.preprocessing import preprocess_string, RE_TAGS, strip_punctuation, stem_text, \\\n",
    "    strip_multiple_whitespaces, strip_numeric, remove_stopwords, strip_short, strip_non_alphanum\n",
    "from sklearn.feature_extraction.text import CountVectorizer\n",
    "from sklearn.preprocessing import LabelEncoder, MaxAbsScaler\n",
    "from sklearn.decomposition import TruncatedSVD\n",
    "from unicodedata import normalize\n",
    "\n",
    "my_filters = [\n",
    "    lambda x: x.lower(), strip_punctuation, strip_non_alphanum,\n",
    "    strip_multiple_whitespaces, remove_stopwords\n",
    "]\n",
    "\n",
    "def my_tokenizer(s):\n",
    "    return preprocess_string(s, filters=my_filters)\n",
    "\n",
    "stop_words = ['junior', 'medior', 'senior']\n",
    "    \n",
    "vect = CountVectorizer(min_df=750, max_df=0.2, analyzer='word', tokenizer=my_tokenizer, ngram_range=(1, 3),\n",
    "                       stop_words=stop_words)\n",
    "\n",
    "le = LabelEncoder()\n",
    "\n",
    "X = vect.fit_transform(df['full_text'])\n",
    "y = le.fit_transform(df['seniority_level'])"
   ]
  },
  {
   "cell_type": "code",
   "execution_count": null,
   "metadata": {},
   "outputs": [],
   "source": []
  },
  {
   "cell_type": "code",
   "execution_count": 50,
   "metadata": {},
   "outputs": [
    {
     "data": {
      "text/plain": [
       "(28026, 2924)"
      ]
     },
     "execution_count": 50,
     "metadata": {},
     "output_type": "execute_result"
    }
   ],
   "source": [
    "X.shape"
   ]
  },
  {
   "cell_type": "code",
   "execution_count": 51,
   "metadata": {},
   "outputs": [
    {
     "data": {
      "text/plain": [
       "(28026,)"
      ]
     },
     "execution_count": 51,
     "metadata": {},
     "output_type": "execute_result"
    }
   ],
   "source": [
    "y.shape"
   ]
  },
  {
   "cell_type": "code",
   "execution_count": null,
   "metadata": {},
   "outputs": [],
   "source": []
  },
  {
   "cell_type": "code",
   "execution_count": 52,
   "metadata": {},
   "outputs": [
    {
     "name": "stdout",
     "output_type": "stream",
     "text": [
      "           MultinomialNB Accuracy: 0.61 (+/- 0.01) F1: 0.60 (+/- 0.00) Log loss: -8.07 (+/- 0.11)\n",
      "      LogisticRegression Accuracy: 0.70 (+/- 0.00) F1: 0.70 (+/- 0.00) Log loss: -0.91 (+/- 0.01)\n"
     ]
    }
   ],
   "source": [
    "from sklearn.model_selection import cross_val_score, KFold, StratifiedKFold\n",
    "from sklearn.ensemble import RandomForestClassifier\n",
    "from sklearn.neighbors import KNeighborsClassifier\n",
    "from sklearn.linear_model import LogisticRegression\n",
    "from sklearn.neural_network import MLPClassifier\n",
    "from sklearn.naive_bayes import MultinomialNB\n",
    "from sklearn.svm import SVC, LinearSVC\n",
    "\n",
    "classifiers = [\n",
    "    MultinomialNB(),\n",
    "    LogisticRegression(solver='lbfgs', max_iter=1000, multi_class='multinomial'),\n",
    "    #LogisticRegression(solver='lbfgs', max_iter=500, multi_class='multinomial', class_weight='balanced'),\n",
    "]\n",
    "\n",
    "for clf in classifiers:\n",
    "    accs = cross_val_score(clf, X, y, cv=StratifiedKFold(n_splits=3, shuffle=True), scoring='accuracy')\n",
    "    f1s = cross_val_score(clf, X, y, cv=StratifiedKFold(n_splits=3, shuffle=True), scoring='f1_macro')\n",
    "    lls = cross_val_score(clf, X, y, cv=StratifiedKFold(n_splits=3, shuffle=True), scoring='neg_log_loss')\n",
    "\n",
    "    print(\"{:>24} Accuracy: {:.2f} (+/- {:.2f}) F1: {:.2f} (+/- {:.2f}) Log loss: {:.2f} (+/- {:.2f})\" \\\n",
    "          .format(clf.__class__.__name__, accs.mean(), accs.std(), f1s.mean(), f1s.std(), lls.mean(), lls.std()))"
   ]
  },
  {
   "cell_type": "code",
   "execution_count": null,
   "metadata": {},
   "outputs": [],
   "source": []
  },
  {
   "cell_type": "code",
   "execution_count": 53,
   "metadata": {},
   "outputs": [
    {
     "data": {
      "text/plain": [
       "LogisticRegression(C=1.0, class_weight=None, dual=False, fit_intercept=True,\n",
       "          intercept_scaling=1, max_iter=1000, multi_class='multinomial',\n",
       "          n_jobs=None, penalty='l2', random_state=None, solver='lbfgs',\n",
       "          tol=0.0001, verbose=0, warm_start=False)"
      ]
     },
     "execution_count": 53,
     "metadata": {},
     "output_type": "execute_result"
    }
   ],
   "source": [
    "from sklearn.model_selection import train_test_split\n",
    "\n",
    "Xtr, Xte, ytr, yte = train_test_split(X, y, test_size=0.33, stratify=y)\n",
    "\n",
    "#clf = MultinomialNB()\n",
    "clf = LogisticRegression(solver='lbfgs', max_iter=1000, multi_class='multinomial')\n",
    "clf.fit(Xtr, ytr)"
   ]
  },
  {
   "cell_type": "code",
   "execution_count": null,
   "metadata": {},
   "outputs": [],
   "source": []
  },
  {
   "cell_type": "code",
   "execution_count": 54,
   "metadata": {},
   "outputs": [
    {
     "name": "stdout",
     "output_type": "stream",
     "text": [
      "              precision    recall  f1-score   support\n",
      "\n",
      "      Junior       0.78      0.78      0.78      3195\n",
      "      Medior       0.65      0.67      0.66      2805\n",
      "      Senior       0.67      0.65      0.66      3249\n",
      "\n",
      "   micro avg       0.70      0.70      0.70      9249\n",
      "   macro avg       0.70      0.70      0.70      9249\n",
      "weighted avg       0.70      0.70      0.70      9249\n",
      "\n"
     ]
    }
   ],
   "source": [
    "from sklearn.metrics import classification_report\n",
    "\n",
    "ypred = clf.predict(Xte)\n",
    "\n",
    "print(classification_report(yte, ypred, target_names=le.classes_))"
   ]
  },
  {
   "cell_type": "code",
   "execution_count": null,
   "metadata": {},
   "outputs": [],
   "source": []
  },
  {
   "cell_type": "code",
   "execution_count": 55,
   "metadata": {},
   "outputs": [
    {
     "data": {
      "text/plain": [
       "array(['Junior', 'Medior', 'Senior'], dtype=object)"
      ]
     },
     "execution_count": 55,
     "metadata": {},
     "output_type": "execute_result"
    }
   ],
   "source": [
    "le.classes_"
   ]
  },
  {
   "cell_type": "code",
   "execution_count": null,
   "metadata": {},
   "outputs": [],
   "source": []
  },
  {
   "cell_type": "code",
   "execution_count": 56,
   "metadata": {},
   "outputs": [
    {
     "data": {
      "image/png": "[encoded data removed]",
      "text/plain": [
       "<Figure size 432x288 with 1 Axes>"
      ]
     },
     "metadata": {
      "needs_background": "light"
     },
     "output_type": "display_data"
    }
   ],
   "source": [
    "from mlxtend.evaluate import confusion_matrix\n",
    "from mlxtend.plotting import plot_confusion_matrix\n",
    "\n",
    "fig, ax = plot_confusion_matrix(confusion_matrix(yte, ypred))"
   ]
  },
  {
   "cell_type": "code",
   "execution_count": null,
   "metadata": {},
   "outputs": [],
   "source": []
  },
  {
   "cell_type": "code",
   "execution_count": 57,
   "metadata": {},
   "outputs": [
    {
     "name": "stdout",
     "output_type": "stream",
     "text": [
      "Junior: 2500, afgeronde mbo, uurloon, contactgegevens contactpersoon, 1 jaar, 2019 kunt, verwijderd, het maken van, starters, ga naar, industrial automation engineer, stage, applications, postcode plaats, datum geplaatst, met betrekking, 2 jaar, vaandel, ga naar website, starter\n",
      "\n",
      "Medior: tell, en engelse taal, deze vacature wordt, vaardig en, uren fulltime, meer informatie deze, lees dan, en heb je, salaris vast, taal woord, ervaring meer, bedrijfsnaam, interne en externe, een pré je, een afgeronde mbo, gesolliciteerd op, deel deze, dienstverband vast contract, daarnaast ben je, listed\n",
      "\n",
      "Senior: 4 jaar, snel mogelijk, vacaturekenmerken, contact met je, informatie deze, search jobs, interne en, geen beschrijving, jaar relevante, jouw wensen, je doen, taal woord en, een leaseauto, minimaal 2 jaar, dan snel verder, niet gewenst, years, minimaal 5, minimaal 3 jaar, 10 jaar\n",
      "\n"
     ]
    }
   ],
   "source": [
    "import numpy as np\n",
    "\n",
    "feature_names = vect.get_feature_names()\n",
    "\n",
    "for i, class_label in enumerate(le.classes_):\n",
    "    top10 = np.argsort(clf.coef_[i])[-20:]\n",
    "    print(\"%s: %s\" % (class_label, \", \".join(feature_names[j] for j in top10)))\n",
    "    print()"
   ]
  },
  {
   "cell_type": "code",
   "execution_count": null,
   "metadata": {},
   "outputs": [],
   "source": []
  },
  {
   "cell_type": "code",
   "execution_count": null,
   "metadata": {},
   "outputs": [],
   "source": []
  }
 ],
 "metadata": {
  "kernelspec": {
   "display_name": "Python 3",
   "language": "python",
   "name": "python3"
  },
  "language_info": {
   "codemirror_mode": {
    "name": "ipython",
    "version": 3
   },
   "file_extension": ".py",
   "mimetype": "text/x-python",
   "name": "python",
   "nbconvert_exporter": "python",
   "pygments_lexer": "ipython3",
   "version": "3.7.2"
  }
 },
 "nbformat": 4,
 "nbformat_minor": 2
}
