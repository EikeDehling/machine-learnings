{
 "cells": [
  {
   "cell_type": "code",
   "execution_count": 1,
   "metadata": {},
   "outputs": [],
   "source": [
    "from bs4 import BeautifulSoup"
   ]
  },
  {
   "cell_type": "code",
   "execution_count": 2,
   "metadata": {},
   "outputs": [],
   "source": [
    "def get_topics_for_reuter(reuter):\n",
    "    return [d.string for d in reuter.topics.find_all('d')]\n",
    "\n",
    "def get_text_for_reuter(reuter):\n",
    "    return reuter.find('text').get_text()\n",
    "\n",
    "def get_title_for_reuter(reuter):\n",
    "    title = reuter.find('text').find('title')\n",
    "    return title.string if title else ''\n",
    "\n",
    "def get_body_for_reuter(reuter):\n",
    "    return reuter.find('text').find('body').string\n",
    "\n",
    "def is_train(reuter):\n",
    "    return reuter.get('lewissplit').lower() == 'train' and reuter.get('topics').lower() != 'bypass'\n",
    "\n",
    "def is_test(reuter):\n",
    "    return reuter.get('lewissplit').lower() == 'test' and reuter.get('topics').lower() != 'bypass'\n",
    "\n",
    "def can_use(reuter):\n",
    "    return reuter.get('lewissplit').lower() in ('train', 'test') and reuter.get('topics').lower() == 'yes'"
   ]
  },
  {
   "cell_type": "code",
   "execution_count": 3,
   "metadata": {},
   "outputs": [],
   "source": [
    "#reuter = soup.find(newid=\"1\")\n",
    "#get_topics_for_reuter(reuter)\n",
    "#is_train(reuter)\n",
    "#is_test(reuter)\n",
    "#get_title_for_reuter(reuter)\n",
    "#get_text_for_reuter(reuter)"
   ]
  },
  {
   "cell_type": "code",
   "execution_count": 4,
   "metadata": {},
   "outputs": [],
   "source": [
    "data = {}\n",
    "\n",
    "for idx in range(22):\n",
    "    with open('/home/dehling/Downloads/reuters/reut2-%03d.sgm' % idx, 'rb') as fp:\n",
    "        #print('Loading reut2-%03d.sgm' % idx)\n",
    "        soup = BeautifulSoup(fp, from_encoding='ASCII')\n",
    "        for reuter in soup.find_all('reuters'):\n",
    "            if can_use(reuter):\n",
    "                data[reuter.get('newid')] = [\n",
    "                    reuter.get('newid'),\n",
    "                    get_topics_for_reuter(reuter),\n",
    "                    get_title_for_reuter(reuter),\n",
    "                    get_text_for_reuter(reuter)\n",
    "                ]"
   ]
  },
  {
   "cell_type": "code",
   "execution_count": null,
   "metadata": {},
   "outputs": [],
   "source": []
  },
  {
   "cell_type": "code",
   "execution_count": 6,
   "metadata": {},
   "outputs": [],
   "source": [
    "import pandas as pd\n",
    "\n",
    "df = pd.DataFrame.from_dict(data, orient='index').rename(columns={0: 'ID', 1: 'Topics', 2: 'Title', 3: 'Text'})"
   ]
  },
  {
   "cell_type": "code",
   "execution_count": null,
   "metadata": {},
   "outputs": [],
   "source": []
  },
  {
   "cell_type": "code",
   "execution_count": 18,
   "metadata": {},
   "outputs": [],
   "source": [
    "import unicodedata\n",
    "\n",
    "def remove_non_ascii(s):\n",
    "    return s.encode('ascii', 'ignore').decode('utf-8')\n",
    "\n",
    "def remove_control_characters(s):\n",
    "    return ''.join(c for c in s if unicodedata.category(c)[0] != 'C')\n",
    "\n",
    "df['Text'] = df['Text'] \\\n",
    "    .apply(remove_non_ascii) \\\n",
    "    .apply(strip_multiple_whitespaces) \\\n",
    "    .apply(remove_control_characters)"
   ]
  },
  {
   "cell_type": "code",
   "execution_count": 19,
   "metadata": {},
   "outputs": [],
   "source": [
    "from gensim.parsing.preprocessing import strip_tags, strip_multiple_whitespaces, strip_non_alphanum, strip_punctuation, \\\n",
    "    strip_short, remove_stopwords, preprocess_string\n",
    "\n",
    "my_filters = [\n",
    "    lambda x: x.lower(), strip_tags, strip_non_alphanum, strip_multiple_whitespaces,\n",
    "    strip_punctuation, strip_short, remove_stopwords\n",
    "]\n",
    "\n",
    "#df['Title'] = df['Title'].apply(lambda x: ' '.join(preprocess_string(x, my_filters)))\n",
    "df['TextClean'] = df['Text'].apply(lambda x: ' '.join(preprocess_string(x, my_filters)))\n",
    "\n",
    "#df.drop(['Title'], axis=1, inplace=True)\n",
    "#df.drop(['Title', 'Text'], axis=1, inplace=True)"
   ]
  },
  {
   "cell_type": "code",
   "execution_count": 8,
   "metadata": {},
   "outputs": [],
   "source": [
    "#df['Title'] = df['Title'].apply(lambda x: ' '.join(x))\n",
    "#df['Text'] = df['Text'].apply(lambda x: ' '.join(x))"
   ]
  },
  {
   "cell_type": "code",
   "execution_count": 20,
   "metadata": {},
   "outputs": [
    {
     "data": {
      "text/html": [
       "<div>\n",
       "<style scoped>\n",
       "    .dataframe tbody tr th:only-of-type {\n",
       "        vertical-align: middle;\n",
       "    }\n",
       "\n",
       "    .dataframe tbody tr th {\n",
       "        vertical-align: top;\n",
       "    }\n",
       "\n",
       "    .dataframe thead th {\n",
       "        text-align: right;\n",
       "    }\n",
       "</style>\n",
       "<table border=\"1\" class=\"dataframe\">\n",
       "  <thead>\n",
       "    <tr style=\"text-align: right;\">\n",
       "      <th></th>\n",
       "      <th>ID</th>\n",
       "      <th>Topics</th>\n",
       "      <th>Text</th>\n",
       "      <th>TextClean</th>\n",
       "    </tr>\n",
       "  </thead>\n",
       "  <tbody>\n",
       "    <tr>\n",
       "      <th>8937</th>\n",
       "      <td>8937</td>\n",
       "      <td>[]</td>\n",
       "      <td>TIME &lt;TL&gt; BEGINS DEBT TENDER, FILES SHELF NEW...</td>\n",
       "      <td>time begins debt tender files shelf new york m...</td>\n",
       "    </tr>\n",
       "    <tr>\n",
       "      <th>10337</th>\n",
       "      <td>10337</td>\n",
       "      <td>[money-fx, dlr]</td>\n",
       "      <td>****** Bundesbank bought dollars against yen ...</td>\n",
       "      <td>bundesbank bought dollars yen frankfurt dealer...</td>\n",
       "    </tr>\n",
       "    <tr>\n",
       "      <th>10811</th>\n",
       "      <td>10811</td>\n",
       "      <td>[gold]</td>\n",
       "      <td>PERU ANNOUNCES LARGE NEW GOLD FIND LIMA, Marc...</td>\n",
       "      <td>peru announces large new gold lima march presi...</td>\n",
       "    </tr>\n",
       "    <tr>\n",
       "      <th>10634</th>\n",
       "      <td>10634</td>\n",
       "      <td>[reserves]</td>\n",
       "      <td>CHINA FOREIGN RESERVES EXCEED 10 BILLION DLRS...</td>\n",
       "      <td>china foreign reserves exceed billion dlrs pek...</td>\n",
       "    </tr>\n",
       "    <tr>\n",
       "      <th>5596</th>\n",
       "      <td>5596</td>\n",
       "      <td>[acq]</td>\n",
       "      <td>CHEYENNE SOFTWARE &lt;CHEY&gt; IN ACQUISITION TALKS...</td>\n",
       "      <td>cheyenne software acquisition talks roslyn mar...</td>\n",
       "    </tr>\n",
       "    <tr>\n",
       "      <th>530</th>\n",
       "      <td>530</td>\n",
       "      <td>[earn]</td>\n",
       "      <td>GELCO CORP &lt;GEL&gt; 2ND QTR JAN 31 NET EDEN PRAI...</td>\n",
       "      <td>gelco corp 2nd qtr jan net eden prairie minn m...</td>\n",
       "    </tr>\n",
       "    <tr>\n",
       "      <th>4062</th>\n",
       "      <td>4062</td>\n",
       "      <td>[reserves]</td>\n",
       "      <td>****** German net currency reserves rise 400 ...</td>\n",
       "      <td>german net currency reserves rise 400 mln mark...</td>\n",
       "    </tr>\n",
       "    <tr>\n",
       "      <th>12753</th>\n",
       "      <td>12753</td>\n",
       "      <td>[meal-feed, soy-meal]</td>\n",
       "      <td>EUROPEAN SOY/FEED MARKET OPENS QUIETLY ROTTER...</td>\n",
       "      <td>european soy feed market opens quietly rotterd...</td>\n",
       "    </tr>\n",
       "    <tr>\n",
       "      <th>15669</th>\n",
       "      <td>15669</td>\n",
       "      <td>[earn]</td>\n",
       "      <td>RULE INDUSTRIES INC &lt;RULE&gt; 2ND QTR FEB 28 NET...</td>\n",
       "      <td>rule industries 2nd qtr feb net gloucester mas...</td>\n",
       "    </tr>\n",
       "    <tr>\n",
       "      <th>16512</th>\n",
       "      <td>16512</td>\n",
       "      <td>[acq]</td>\n",
       "      <td>ATLANTIC FINANCIAL &lt;ATLF.O&gt; TO ACQUIRE S AND ...</td>\n",
       "      <td>atlantic financial acquire bala cynwyd april a...</td>\n",
       "    </tr>\n",
       "  </tbody>\n",
       "</table>\n",
       "</div>"
      ],
      "text/plain": [
       "          ID                 Topics  \\\n",
       "8937    8937                     []   \n",
       "10337  10337        [money-fx, dlr]   \n",
       "10811  10811                 [gold]   \n",
       "10634  10634             [reserves]   \n",
       "5596    5596                  [acq]   \n",
       "530      530                 [earn]   \n",
       "4062    4062             [reserves]   \n",
       "12753  12753  [meal-feed, soy-meal]   \n",
       "15669  15669                 [earn]   \n",
       "16512  16512                  [acq]   \n",
       "\n",
       "                                                    Text  \\\n",
       "8937    TIME <TL> BEGINS DEBT TENDER, FILES SHELF NEW...   \n",
       "10337   ****** Bundesbank bought dollars against yen ...   \n",
       "10811   PERU ANNOUNCES LARGE NEW GOLD FIND LIMA, Marc...   \n",
       "10634   CHINA FOREIGN RESERVES EXCEED 10 BILLION DLRS...   \n",
       "5596    CHEYENNE SOFTWARE <CHEY> IN ACQUISITION TALKS...   \n",
       "530     GELCO CORP <GEL> 2ND QTR JAN 31 NET EDEN PRAI...   \n",
       "4062    ****** German net currency reserves rise 400 ...   \n",
       "12753   EUROPEAN SOY/FEED MARKET OPENS QUIETLY ROTTER...   \n",
       "15669   RULE INDUSTRIES INC <RULE> 2ND QTR FEB 28 NET...   \n",
       "16512   ATLANTIC FINANCIAL <ATLF.O> TO ACQUIRE S AND ...   \n",
       "\n",
       "                                               TextClean  \n",
       "8937   time begins debt tender files shelf new york m...  \n",
       "10337  bundesbank bought dollars yen frankfurt dealer...  \n",
       "10811  peru announces large new gold lima march presi...  \n",
       "10634  china foreign reserves exceed billion dlrs pek...  \n",
       "5596   cheyenne software acquisition talks roslyn mar...  \n",
       "530    gelco corp 2nd qtr jan net eden prairie minn m...  \n",
       "4062   german net currency reserves rise 400 mln mark...  \n",
       "12753  european soy feed market opens quietly rotterd...  \n",
       "15669  rule industries 2nd qtr feb net gloucester mas...  \n",
       "16512  atlantic financial acquire bala cynwyd april a...  "
      ]
     },
     "execution_count": 20,
     "metadata": {},
     "output_type": "execute_result"
    }
   ],
   "source": [
    "df.head(n=10)"
   ]
  },
  {
   "cell_type": "code",
   "execution_count": 21,
   "metadata": {},
   "outputs": [
    {
     "data": {
      "text/plain": [
       "(12902, 4)"
      ]
     },
     "execution_count": 21,
     "metadata": {},
     "output_type": "execute_result"
    }
   ],
   "source": [
    "df.shape"
   ]
  },
  {
   "cell_type": "code",
   "execution_count": null,
   "metadata": {},
   "outputs": [],
   "source": []
  },
  {
   "cell_type": "code",
   "execution_count": 56,
   "metadata": {},
   "outputs": [],
   "source": [
    "#df['Topics'] = df['Topics'].apply(lambda x: ','.join(x)).astype(str)\n",
    "#df.to_csv('data/reuters21578.csv', index=False, columns=['Topics', 'Title', 'Text'])"
   ]
  },
  {
   "cell_type": "code",
   "execution_count": 58,
   "metadata": {},
   "outputs": [],
   "source": [
    "import pandas as pd\n",
    "df = pd.read_csv('data/reuters21578.csv', index_col=None, dtype={'Topics': str, 'Title': str, 'Text': str})"
   ]
  },
  {
   "cell_type": "code",
   "execution_count": 60,
   "metadata": {},
   "outputs": [],
   "source": [
    "df['Topics'] = df['Topics'].fillna('').apply(lambda x: x.split(','))"
   ]
  },
  {
   "cell_type": "code",
   "execution_count": 61,
   "metadata": {},
   "outputs": [
    {
     "data": {
      "text/html": [
       "<div>\n",
       "<style scoped>\n",
       "    .dataframe tbody tr th:only-of-type {\n",
       "        vertical-align: middle;\n",
       "    }\n",
       "\n",
       "    .dataframe tbody tr th {\n",
       "        vertical-align: top;\n",
       "    }\n",
       "\n",
       "    .dataframe thead th {\n",
       "        text-align: right;\n",
       "    }\n",
       "</style>\n",
       "<table border=\"1\" class=\"dataframe\">\n",
       "  <thead>\n",
       "    <tr style=\"text-align: right;\">\n",
       "      <th></th>\n",
       "      <th>Topics</th>\n",
       "      <th>Title</th>\n",
       "      <th>Text</th>\n",
       "    </tr>\n",
       "  </thead>\n",
       "  <tbody>\n",
       "    <tr>\n",
       "      <th>0</th>\n",
       "      <td>[ship]</td>\n",
       "      <td>biffex members ballot merger</td>\n",
       "      <td>biffex members ballot merger london march memb...</td>\n",
       "    </tr>\n",
       "    <tr>\n",
       "      <th>1</th>\n",
       "      <td>[earn]</td>\n",
       "      <td>thackeray corp year loss</td>\n",
       "      <td>thackeray corp year loss new york march oper s...</td>\n",
       "    </tr>\n",
       "    <tr>\n",
       "      <th>2</th>\n",
       "      <td>[earn]</td>\n",
       "      <td>commonwealth edison months net</td>\n",
       "      <td>commonwealth edison months net chicago march p...</td>\n",
       "    </tr>\n",
       "    <tr>\n",
       "      <th>3</th>\n",
       "      <td>[sugar]</td>\n",
       "      <td>kaines confirms white sugar sales india</td>\n",
       "      <td>kaines confirms white sugar sales india london...</td>\n",
       "    </tr>\n",
       "    <tr>\n",
       "      <th>4</th>\n",
       "      <td>[earn]</td>\n",
       "      <td>ford nears executive bonuses</td>\n",
       "      <td>ford nears executive bonuses detroit march for...</td>\n",
       "    </tr>\n",
       "    <tr>\n",
       "      <th>5</th>\n",
       "      <td>[]</td>\n",
       "      <td>gmac canada unit issues canadian dollar bond</td>\n",
       "      <td>gmac canada unit issues canadian dollar bond l...</td>\n",
       "    </tr>\n",
       "    <tr>\n",
       "      <th>6</th>\n",
       "      <td>[]</td>\n",
       "      <td>money managers lean stocks bonds</td>\n",
       "      <td>money managers lean stocks bonds martin cherri...</td>\n",
       "    </tr>\n",
       "    <tr>\n",
       "      <th>7</th>\n",
       "      <td>[money-supply]</td>\n",
       "      <td>business loans fall 718 mln dlrs march week fe...</td>\n",
       "      <td>business loans fall 718 mln dlrs march week fe...</td>\n",
       "    </tr>\n",
       "    <tr>\n",
       "      <th>8</th>\n",
       "      <td>[earn]</td>\n",
       "      <td>gatx corp 3rd qtr net</td>\n",
       "      <td>gatx corp 3rd qtr net chicago oct shr cts cts ...</td>\n",
       "    </tr>\n",
       "    <tr>\n",
       "      <th>9</th>\n",
       "      <td>[earn]</td>\n",
       "      <td>lands end year jan net</td>\n",
       "      <td>lands end year jan net dodgeville wis march sh...</td>\n",
       "    </tr>\n",
       "    <tr>\n",
       "      <th>10</th>\n",
       "      <td>[]</td>\n",
       "      <td>bfce issues billion franc domestic bond</td>\n",
       "      <td>bfce issues billion franc domestic bond paris ...</td>\n",
       "    </tr>\n",
       "    <tr>\n",
       "      <th>11</th>\n",
       "      <td>[earn]</td>\n",
       "      <td>great lakes federal hikes dividend</td>\n",
       "      <td>great lakes federal hikes dividend ann arbor m...</td>\n",
       "    </tr>\n",
       "    <tr>\n",
       "      <th>12</th>\n",
       "      <td>[acq]</td>\n",
       "      <td>harper row mull options bids</td>\n",
       "      <td>harper row mull options bids new york march ha...</td>\n",
       "    </tr>\n",
       "    <tr>\n",
       "      <th>13</th>\n",
       "      <td>[coffee]</td>\n",
       "      <td>sees new coffee agreement talks soon</td>\n",
       "      <td>sees new coffee agreement talks soon washingto...</td>\n",
       "    </tr>\n",
       "    <tr>\n",
       "      <th>14</th>\n",
       "      <td>[crude]</td>\n",
       "      <td>soviet 1988 oil output target 625 mln tonnes</td>\n",
       "      <td>soviet 1988 oil output target 625 mln tonnes m...</td>\n",
       "    </tr>\n",
       "    <tr>\n",
       "      <th>15</th>\n",
       "      <td>[soy-meal, meal-feed]</td>\n",
       "      <td>dutch soymeal imports fall january</td>\n",
       "      <td>dutch soymeal imports fall january heerlen net...</td>\n",
       "    </tr>\n",
       "    <tr>\n",
       "      <th>16</th>\n",
       "      <td>[acq]</td>\n",
       "      <td>price buy pct tss seedman</td>\n",
       "      <td>price buy pct tss seedman san diego march pric...</td>\n",
       "    </tr>\n",
       "    <tr>\n",
       "      <th>17</th>\n",
       "      <td>[earn]</td>\n",
       "      <td>imatron 4th qtr loss</td>\n",
       "      <td>imatron 4th qtr loss san francisco march shr l...</td>\n",
       "    </tr>\n",
       "    <tr>\n",
       "      <th>18</th>\n",
       "      <td>[earn]</td>\n",
       "      <td>porex technologies sets initial dividend</td>\n",
       "      <td>porex technologies sets initial dividend fair ...</td>\n",
       "    </tr>\n",
       "    <tr>\n",
       "      <th>19</th>\n",
       "      <td>[earn]</td>\n",
       "      <td>gulf applied technologies 4th qtr</td>\n",
       "      <td>gulf applied technologies 4th qtr houston marc...</td>\n",
       "    </tr>\n",
       "    <tr>\n",
       "      <th>20</th>\n",
       "      <td>[earn]</td>\n",
       "      <td>newcor 1st qtr jan net</td>\n",
       "      <td>newcor 1st qtr jan net troy mich march shr pro...</td>\n",
       "    </tr>\n",
       "    <tr>\n",
       "      <th>21</th>\n",
       "      <td>[]</td>\n",
       "      <td>sells bills pct stop pct pct stop pct</td>\n",
       "      <td>sells bills pct stop pct pct stop pct blah bla...</td>\n",
       "    </tr>\n",
       "    <tr>\n",
       "      <th>22</th>\n",
       "      <td>[money-fx, interest]</td>\n",
       "      <td>german money drops month start</td>\n",
       "      <td>german money drops month start frankfurt april...</td>\n",
       "    </tr>\n",
       "    <tr>\n",
       "      <th>23</th>\n",
       "      <td>[earn]</td>\n",
       "      <td>sears roebuck 3rd qtr net</td>\n",
       "      <td>sears roebuck 3rd qtr net chicago oct shr dlrs...</td>\n",
       "    </tr>\n",
       "    <tr>\n",
       "      <th>24</th>\n",
       "      <td>[acq]</td>\n",
       "      <td>intercare says acquisition terminated</td>\n",
       "      <td>intercare says acquisition terminated culver c...</td>\n",
       "    </tr>\n",
       "  </tbody>\n",
       "</table>\n",
       "</div>"
      ],
      "text/plain": [
       "                   Topics                                              Title  \\\n",
       "0                  [ship]                       biffex members ballot merger   \n",
       "1                  [earn]                           thackeray corp year loss   \n",
       "2                  [earn]                     commonwealth edison months net   \n",
       "3                 [sugar]            kaines confirms white sugar sales india   \n",
       "4                  [earn]                       ford nears executive bonuses   \n",
       "5                      []       gmac canada unit issues canadian dollar bond   \n",
       "6                      []                   money managers lean stocks bonds   \n",
       "7          [money-supply]  business loans fall 718 mln dlrs march week fe...   \n",
       "8                  [earn]                              gatx corp 3rd qtr net   \n",
       "9                  [earn]                             lands end year jan net   \n",
       "10                     []            bfce issues billion franc domestic bond   \n",
       "11                 [earn]                 great lakes federal hikes dividend   \n",
       "12                  [acq]                       harper row mull options bids   \n",
       "13               [coffee]               sees new coffee agreement talks soon   \n",
       "14                [crude]       soviet 1988 oil output target 625 mln tonnes   \n",
       "15  [soy-meal, meal-feed]                 dutch soymeal imports fall january   \n",
       "16                  [acq]                          price buy pct tss seedman   \n",
       "17                 [earn]                               imatron 4th qtr loss   \n",
       "18                 [earn]           porex technologies sets initial dividend   \n",
       "19                 [earn]                  gulf applied technologies 4th qtr   \n",
       "20                 [earn]                             newcor 1st qtr jan net   \n",
       "21                     []              sells bills pct stop pct pct stop pct   \n",
       "22   [money-fx, interest]                     german money drops month start   \n",
       "23                 [earn]                          sears roebuck 3rd qtr net   \n",
       "24                  [acq]              intercare says acquisition terminated   \n",
       "\n",
       "                                                 Text  \n",
       "0   biffex members ballot merger london march memb...  \n",
       "1   thackeray corp year loss new york march oper s...  \n",
       "2   commonwealth edison months net chicago march p...  \n",
       "3   kaines confirms white sugar sales india london...  \n",
       "4   ford nears executive bonuses detroit march for...  \n",
       "5   gmac canada unit issues canadian dollar bond l...  \n",
       "6   money managers lean stocks bonds martin cherri...  \n",
       "7   business loans fall 718 mln dlrs march week fe...  \n",
       "8   gatx corp 3rd qtr net chicago oct shr cts cts ...  \n",
       "9   lands end year jan net dodgeville wis march sh...  \n",
       "10  bfce issues billion franc domestic bond paris ...  \n",
       "11  great lakes federal hikes dividend ann arbor m...  \n",
       "12  harper row mull options bids new york march ha...  \n",
       "13  sees new coffee agreement talks soon washingto...  \n",
       "14  soviet 1988 oil output target 625 mln tonnes m...  \n",
       "15  dutch soymeal imports fall january heerlen net...  \n",
       "16  price buy pct tss seedman san diego march pric...  \n",
       "17  imatron 4th qtr loss san francisco march shr l...  \n",
       "18  porex technologies sets initial dividend fair ...  \n",
       "19  gulf applied technologies 4th qtr houston marc...  \n",
       "20  newcor 1st qtr jan net troy mich march shr pro...  \n",
       "21  sells bills pct stop pct pct stop pct blah bla...  \n",
       "22  german money drops month start frankfurt april...  \n",
       "23  sears roebuck 3rd qtr net chicago oct shr dlrs...  \n",
       "24  intercare says acquisition terminated culver c...  "
      ]
     },
     "execution_count": 61,
     "metadata": {},
     "output_type": "execute_result"
    }
   ],
   "source": [
    "df.head(n=25)"
   ]
  },
  {
   "cell_type": "code",
   "execution_count": null,
   "metadata": {},
   "outputs": [],
   "source": []
  },
  {
   "cell_type": "code",
   "execution_count": 30,
   "metadata": {},
   "outputs": [],
   "source": [
    "from operator import itemgetter\n",
    "\n",
    "topic_freqs = {}\n",
    "\n",
    "for topics in df['Topics']:\n",
    "    for topic in topics:\n",
    "        if topic not in topic_freqs:\n",
    "            topic_freqs[topic] = 0\n",
    "        topic_freqs[topic] += 1\n",
    "    \n",
    "topic_freqs = sorted(topic_freqs.items(), key=itemgetter(1), reverse=True)\n",
    "\n",
    "labels_all = [x[0] for x in topic_freqs if x[1] > 5]\n",
    "\n",
    "labels_top50 = labels_all[:50]\n",
    "labels_top20 = labels_all[:20]\n",
    "labels_top10 = labels_all[:10]\n",
    "labels_top5 = labels_all[:5]"
   ]
  },
  {
   "cell_type": "code",
   "execution_count": 31,
   "metadata": {},
   "outputs": [
    {
     "data": {
      "text/plain": [
       "['earn',\n",
       " 'acq',\n",
       " 'nan',\n",
       " 'money-fx',\n",
       " 'grain',\n",
       " 'crude',\n",
       " 'trade',\n",
       " 'interest',\n",
       " 'ship',\n",
       " 'wheat']"
      ]
     },
     "execution_count": 31,
     "metadata": {},
     "output_type": "execute_result"
    }
   ],
   "source": [
    "labels_top10"
   ]
  },
  {
   "cell_type": "code",
   "execution_count": 32,
   "metadata": {},
   "outputs": [
    {
     "data": {
      "text/plain": [
       "77"
      ]
     },
     "execution_count": 32,
     "metadata": {},
     "output_type": "execute_result"
    }
   ],
   "source": [
    "len(labels_all)"
   ]
  },
  {
   "cell_type": "code",
   "execution_count": null,
   "metadata": {},
   "outputs": [],
   "source": []
  },
  {
   "cell_type": "code",
   "execution_count": 64,
   "metadata": {},
   "outputs": [],
   "source": [
    "from sklearn.feature_extraction.text import TfidfVectorizer, CountVectorizer\n",
    "\n",
    "X_count_unfiltered = CountVectorizer().fit_transform(df['Text'].values)\n",
    "X_tfidf_unfiltered = TfidfVectorizer().fit_transform(df['Text'].values)\n",
    "\n",
    "X_count = CountVectorizer(min_df=25, max_df=0.5).fit_transform(df['Text'].values)\n",
    "X_tfidf = TfidfVectorizer(min_df=25, max_df=0.5).fit_transform(df['Text'].values)\n",
    "\n",
    "X_ngram = CountVectorizer(min_df=50, max_df=0.5, analyzer='char', ngram_range=(3,3)).fit_transform(df['Text'].values)"
   ]
  },
  {
   "cell_type": "code",
   "execution_count": 65,
   "metadata": {},
   "outputs": [],
   "source": [
    "from scipy.sparse import hstack\n",
    "\n",
    "X_all = hstack((X_count, X_ngram))"
   ]
  },
  {
   "cell_type": "code",
   "execution_count": 66,
   "metadata": {},
   "outputs": [
    {
     "data": {
      "text/plain": [
       "<12902x3865 sparse matrix of type '<class 'numpy.int64'>'\n",
       "\twith 548564 stored elements in Compressed Sparse Row format>"
      ]
     },
     "execution_count": 66,
     "metadata": {},
     "output_type": "execute_result"
    }
   ],
   "source": [
    "X_count"
   ]
  },
  {
   "cell_type": "code",
   "execution_count": 67,
   "metadata": {},
   "outputs": [
    {
     "data": {
      "text/plain": [
       "<12902x4058 sparse matrix of type '<class 'numpy.int64'>'\n",
       "\twith 3357870 stored elements in Compressed Sparse Row format>"
      ]
     },
     "execution_count": 67,
     "metadata": {},
     "output_type": "execute_result"
    }
   ],
   "source": [
    "X_ngram"
   ]
  },
  {
   "cell_type": "code",
   "execution_count": null,
   "metadata": {},
   "outputs": [],
   "source": []
  },
  {
   "cell_type": "code",
   "execution_count": 68,
   "metadata": {},
   "outputs": [],
   "source": [
    "from sklearn.decomposition import TruncatedSVD\n",
    "\n",
    "tsvd = TruncatedSVD(n_components=500, n_iter=10)\n",
    "\n",
    "X_count_lsi = tsvd.fit_transform(X_count_unfiltered)\n",
    "\n",
    "X_tfidf_lsi = tsvd.fit_transform(X_tfidf_unfiltered)"
   ]
  },
  {
   "cell_type": "code",
   "execution_count": 82,
   "metadata": {},
   "outputs": [],
   "source": [
    "#tsvd.explained_variance_ratio_.sum()"
   ]
  },
  {
   "cell_type": "code",
   "execution_count": null,
   "metadata": {},
   "outputs": [],
   "source": []
  },
  {
   "cell_type": "code",
   "execution_count": 69,
   "metadata": {},
   "outputs": [
    {
     "name": "stdout",
     "output_type": "stream",
     "text": [
      "Score: 0.97 (+/- 0.00)\n",
      "Score: 0.93 (+/- 0.01)\n",
      "Score: 0.94 (+/- 0.00)\n"
     ]
    }
   ],
   "source": [
    "from sklearn.model_selection import cross_val_score, ShuffleSplit\n",
    "from sklearn.naive_bayes import MultinomialNB\n",
    "\n",
    "y_earn = df['Topics'].apply(lambda x: 'earn' in x).values\n",
    "y_acq = df['Topics'].apply(lambda x: 'acq' in x).values\n",
    "y_money_fx = df['Topics'].apply(lambda x: 'money-fx' in x).values\n",
    "\n",
    "cv = ShuffleSplit(n_splits=5, test_size=0.2)\n",
    "\n",
    "scores = cross_val_score(MultinomialNB(), X_count, y_earn, cv=cv)\n",
    "print(\"Score: %0.2f (+/- %0.2f)\" % (scores.mean(), scores.std()))\n",
    "\n",
    "scores = cross_val_score(MultinomialNB(), X_count, y_acq, cv=cv)\n",
    "print(\"Score: %0.2f (+/- %0.2f)\" % (scores.mean(), scores.std()))\n",
    "\n",
    "scores = cross_val_score(MultinomialNB(), X_count, y_money_fx, cv=cv)\n",
    "print(\"Score: %0.2f (+/- %0.2f)\" % (scores.mean(), scores.std()))"
   ]
  },
  {
   "cell_type": "code",
   "execution_count": 70,
   "metadata": {},
   "outputs": [
    {
     "name": "stdout",
     "output_type": "stream",
     "text": [
      "Score: 0.96 (+/- 0.00)\n",
      "Score: 0.97 (+/- 0.00)\n",
      "Score: 0.97 (+/- 0.00)\n",
      "Score: 0.95 (+/- 0.00)\n",
      "Score: 0.96 (+/- 0.00)\n"
     ]
    }
   ],
   "source": [
    "scores = cross_val_score(MultinomialNB(), X_count_unfiltered, y_earn, cv=cv)\n",
    "print(\"Score: %0.2f (+/- %0.2f)\" % (scores.mean(), scores.std()))\n",
    "\n",
    "scores = cross_val_score(MultinomialNB(), X_count, y_earn, cv=cv)\n",
    "print(\"Score: %0.2f (+/- %0.2f)\" % (scores.mean(), scores.std()))\n",
    "\n",
    "scores = cross_val_score(MultinomialNB(), X_tfidf, y_earn, cv=cv)\n",
    "print(\"Score: %0.2f (+/- %0.2f)\" % (scores.mean(), scores.std()))\n",
    "\n",
    "scores = cross_val_score(MultinomialNB(), X_ngram, y_earn, cv=cv)\n",
    "print(\"Score: %0.2f (+/- %0.2f)\" % (scores.mean(), scores.std()))\n",
    "\n",
    "scores = cross_val_score(MultinomialNB(), X_all, y_earn, cv=cv)\n",
    "print(\"Score: %0.2f (+/- %0.2f)\" % (scores.mean(), scores.std()))\n",
    "\n",
    "# Doesn't work because of negative values (?)\n",
    "#scores = cross_val_score(MultinomialNB(), X_lsi, y_earn, cv=cv)\n",
    "#print(\"Score: %0.2f (+/- %0.2f)\" % (scores.mean(), scores.std()))"
   ]
  },
  {
   "cell_type": "code",
   "execution_count": 71,
   "metadata": {},
   "outputs": [
    {
     "name": "stdout",
     "output_type": "stream",
     "text": [
      "Score: 0.98 (+/- 0.00)\n",
      "Score: 0.99 (+/- 0.00)\n",
      "Score: 0.98 (+/- 0.00)\n",
      "Score: 0.98 (+/- 0.00)\n"
     ]
    }
   ],
   "source": [
    "from sklearn.linear_model import LogisticRegression\n",
    "\n",
    "\n",
    "scores = cross_val_score(LogisticRegression(), X_count_unfiltered, y_earn, cv=cv)\n",
    "print(\"Score: %0.2f (+/- %0.2f)\" % (scores.mean(), scores.std()))\n",
    "\n",
    "scores = cross_val_score(LogisticRegression(), X_count, y_earn, cv=cv)\n",
    "print(\"Score: %0.2f (+/- %0.2f)\" % (scores.mean(), scores.std()))\n",
    "\n",
    "scores = cross_val_score(LogisticRegression(), X_tfidf, y_earn, cv=cv)\n",
    "print(\"Score: %0.2f (+/- %0.2f)\" % (scores.mean(), scores.std()))\n",
    "\n",
    "scores = cross_val_score(LogisticRegression(), X_ngram, y_earn, cv=cv)\n",
    "print(\"Score: %0.2f (+/- %0.2f)\" % (scores.mean(), scores.std()))\n",
    "\n",
    "#scores = cross_val_score(LogisticRegression(), X_count_lsi, y_earn, cv=cv)\n",
    "#print(\"Score: %0.2f (+/- %0.2f)\" % (scores.mean(), scores.std()))\n",
    "\n",
    "#scores = cross_val_score(LogisticRegression(), X_tfidf_lsi, y_earn, cv=cv)\n",
    "#print(\"Score: %0.2f (+/- %0.2f)\" % (scores.mean(), scores.std()))"
   ]
  },
  {
   "cell_type": "code",
   "execution_count": 72,
   "metadata": {},
   "outputs": [
    {
     "name": "stdout",
     "output_type": "stream",
     "text": [
      "Score: 0.98 (+/- 0.00)\n",
      "Score: 0.98 (+/- 0.00)\n",
      "Score: 0.99 (+/- 0.00)\n",
      "Score: 0.98 (+/- 0.00)\n"
     ]
    }
   ],
   "source": [
    "from sklearn.svm import LinearSVC\n",
    "\n",
    "scores = cross_val_score(LinearSVC(), X_count, y_earn, cv=cv)\n",
    "print(\"Score: %0.2f (+/- %0.2f)\" % (scores.mean(), scores.std()))\n",
    "\n",
    "scores = cross_val_score(LinearSVC(), X_tfidf, y_earn, cv=cv)\n",
    "print(\"Score: %0.2f (+/- %0.2f)\" % (scores.mean(), scores.std()))\n",
    "\n",
    "scores = cross_val_score(LinearSVC(), X_tfidf, y_earn, cv=cv)\n",
    "print(\"Score: %0.2f (+/- %0.2f)\" % (scores.mean(), scores.std()))\n",
    "\n",
    "scores = cross_val_score(LinearSVC(), X_ngram, y_earn, cv=cv)\n",
    "print(\"Score: %0.2f (+/- %0.2f)\" % (scores.mean(), scores.std()))\n",
    "\n",
    "#scores = cross_val_score(LinearSVC(), X_count_lsi, y_earn, cv=cv)\n",
    "#print(\"Score: %0.2f (+/- %0.2f)\" % (scores.mean(), scores.std()))\n",
    "\n",
    "#scores = cross_val_score(LinearSVC(), X_tfidf_lsi, y_earn, cv=cv)\n",
    "#print(\"Score: %0.2f (+/- %0.2f)\" % (scores.mean(), scores.std()))"
   ]
  },
  {
   "cell_type": "code",
   "execution_count": null,
   "metadata": {},
   "outputs": [],
   "source": []
  },
  {
   "cell_type": "code",
   "execution_count": 73,
   "metadata": {},
   "outputs": [],
   "source": [
    "from sklearn.preprocessing import MultiLabelBinarizer\n",
    "\n",
    "def keep_only_included(labels):\n",
    "    return [x for x in labels if x in labels_all]\n",
    "\n",
    "mlb = MultiLabelBinarizer(classes=labels_all)\n",
    "y = mlb.fit_transform(df['Topics'].apply(keep_only_included).values)"
   ]
  },
  {
   "cell_type": "code",
   "execution_count": 74,
   "metadata": {},
   "outputs": [
    {
     "data": {
      "text/plain": [
       "(12902, 77)"
      ]
     },
     "execution_count": 74,
     "metadata": {},
     "output_type": "execute_result"
    }
   ],
   "source": [
    "y.shape"
   ]
  },
  {
   "cell_type": "code",
   "execution_count": null,
   "metadata": {},
   "outputs": [],
   "source": []
  },
  {
   "cell_type": "code",
   "execution_count": 70,
   "metadata": {},
   "outputs": [],
   "source": [
    "#from sklearn.model_selection import StratifiedKFold\n",
    "#cv = StratifiedKFold(n_splits=5, shuffle=True)\n",
    "# NOTE: Doesn't work because of multilabel situation..."
   ]
  },
  {
   "cell_type": "code",
   "execution_count": null,
   "metadata": {},
   "outputs": [],
   "source": []
  },
  {
   "cell_type": "code",
   "execution_count": 60,
   "metadata": {},
   "outputs": [],
   "source": [
    "import warnings\n",
    "\n",
    "warnings.filterwarnings(\"ignore\")"
   ]
  },
  {
   "cell_type": "code",
   "execution_count": 61,
   "metadata": {},
   "outputs": [
    {
     "name": "stdout",
     "output_type": "stream",
     "text": [
      "Score: 0.24 (+/- 0.01)\n",
      "Score: 0.12 (+/- 0.00)\n",
      "Score: 0.25 (+/- 0.01)\n"
     ]
    }
   ],
   "source": [
    "from sklearn.multiclass import OneVsRestClassifier\n",
    "\n",
    "scores = cross_val_score(OneVsRestClassifier(MultinomialNB()), X_count, y, cv=cv, scoring='f1_macro')\n",
    "print(\"Score: %0.2f (+/- %0.2f)\" % (scores.mean(), scores.std()))\n",
    "\n",
    "scores = cross_val_score(OneVsRestClassifier(MultinomialNB()), X_tfidf, y, cv=cv, scoring='f1_macro')\n",
    "print(\"Score: %0.2f (+/- %0.2f)\" % (scores.mean(), scores.std()))\n",
    "\n",
    "scores = cross_val_score(OneVsRestClassifier(MultinomialNB()), X_ngram, y, cv=cv, scoring='f1_macro')\n",
    "print(\"Score: %0.2f (+/- %0.2f)\" % (scores.mean(), scores.std()))\n",
    "\n",
    "#scores = cross_val_score(OneVsRestClassifier(MultinomialNB()), X_lsi, y, cv=cv, scoring='f1_macro')\n",
    "#print(\"Score: %0.2f (+/- %0.2f)\" % (scores.mean(), scores.std()))"
   ]
  },
  {
   "cell_type": "code",
   "execution_count": 63,
   "metadata": {},
   "outputs": [
    {
     "name": "stdout",
     "output_type": "stream",
     "text": [
      "Score: 0.55 (+/- 0.03)\n",
      "Score: 0.22 (+/- 0.01)\n",
      "Score: 0.55 (+/- 0.02)\n"
     ]
    }
   ],
   "source": [
    "from sklearn.linear_model import LogisticRegression\n",
    "\n",
    "scores = cross_val_score(OneVsRestClassifier(LogisticRegression()), X_count, y, cv=cv, scoring='f1_macro')\n",
    "print(\"Score: %0.2f (+/- %0.2f)\" % (scores.mean(), scores.std()))\n",
    "\n",
    "scores = cross_val_score(OneVsRestClassifier(LogisticRegression()), X_tfidf, y, cv=cv, scoring='f1_macro')\n",
    "print(\"Score: %0.2f (+/- %0.2f)\" % (scores.mean(), scores.std()))\n",
    "\n",
    "scores = cross_val_score(OneVsRestClassifier(LogisticRegression()), X_ngram, y, cv=cv, scoring='f1_macro')\n",
    "print(\"Score: %0.2f (+/- %0.2f)\" % (scores.mean(), scores.std()))\n",
    "\n",
    "#scores = cross_val_score(OneVsRestClassifier(LogisticRegression()), X_count_lsi, y, cv=cv, scoring='f1_macro')\n",
    "#print(\"Score: %0.2f (+/- %0.2f)\" % (scores.mean(), scores.std()))\n",
    "\n",
    "#scores = cross_val_score(OneVsRestClassifier(LogisticRegression()), X_tfidf_lsi, y, cv=cv, scoring='f1_macro')\n",
    "#print(\"Score: %0.2f (+/- %0.2f)\" % (scores.mean(), scores.std()))"
   ]
  },
  {
   "cell_type": "code",
   "execution_count": 65,
   "metadata": {},
   "outputs": [
    {
     "name": "stdout",
     "output_type": "stream",
     "text": [
      "Score: 0.59 (+/- 0.01)\n",
      "Score: 0.61 (+/- 0.02)\n",
      "Score: 0.56 (+/- 0.03)\n"
     ]
    }
   ],
   "source": [
    "scores = cross_val_score(OneVsRestClassifier(LinearSVC(C=0.5, dual=False)), X_count, y, cv=cv, scoring='f1_macro')\n",
    "print(\"Score: %0.2f (+/- %0.2f)\" % (scores.mean(), scores.std()))\n",
    "\n",
    "scores = cross_val_score(OneVsRestClassifier(LinearSVC(C=10.0, dual=False)), X_tfidf, y, cv=cv, scoring='f1_macro')\n",
    "print(\"Score: %0.2f (+/- %0.2f)\" % (scores.mean(), scores.std()))\n",
    "\n",
    "scores = cross_val_score(OneVsRestClassifier(LinearSVC(C=0.5, dual=False)), X_ngram, y, cv=cv, scoring='f1_macro')\n",
    "print(\"Score: %0.2f (+/- %0.2f)\" % (scores.mean(), scores.std()))\n",
    "\n",
    "#scores = cross_val_score(OneVsRestClassifier(LinearSVC(C=0.5, dual=False)), X_count_lsi, y, cv=cv, scoring='f1_macro')\n",
    "#print(\"Score: %0.2f (+/- %0.2f)\" % (scores.mean(), scores.std()))\n",
    "\n",
    "#scores = cross_val_score(OneVsRestClassifier(LinearSVC(C=0.5, dual=False)), X_tfidf_lsi, y, cv=cv, scoring='f1_macro')\n",
    "#print(\"Score: %0.2f (+/- %0.2f)\" % (scores.mean(), scores.std()))"
   ]
  },
  {
   "cell_type": "code",
   "execution_count": 66,
   "metadata": {},
   "outputs": [
    {
     "name": "stdout",
     "output_type": "stream",
     "text": [
      "Score: 0.60 (+/- 0.02)\n"
     ]
    }
   ],
   "source": [
    "scores = cross_val_score(OneVsRestClassifier(LinearSVC(dual=False)), X_all, y, cv=cv, scoring='f1_macro')\n",
    "print(\"Score: %0.2f (+/- %0.2f)\" % (scores.mean(), scores.std()))"
   ]
  },
  {
   "cell_type": "code",
   "execution_count": null,
   "metadata": {},
   "outputs": [],
   "source": []
  },
  {
   "cell_type": "code",
   "execution_count": null,
   "metadata": {},
   "outputs": [],
   "source": [
    "from sklearnearn.pipeline import make_pipeline\n",
    "\n",
    "pipe = make_pipeline([\n",
    "    CountVectorizer(),\n",
    "    BinaryRelevance(LinearSVC())\n",
    "])"
   ]
  },
  {
   "cell_type": "code",
   "execution_count": null,
   "metadata": {
    "scrolled": false
   },
   "outputs": [],
   "source": [
    "from sklearn.model_selection import GridSearchCV\n",
    "\n",
    "gscv = GridSearchCV(\n",
    "    BinaryRelevance(LinearSVC(C=10.0, dual=False, penalty='l2')),\n",
    "    {\n",
    "        'classifier__C': [5.0, 10.0, 20.0],\n",
    "        #'classifier__dual': [False, True],\n",
    "        #'classifier__penalty': ['l1', 'l2'],\n",
    "    },\n",
    "    scoring='f1_macro',\n",
    "    cv=cv,\n",
    "    n_jobs=4,\n",
    "    verbose=5\n",
    ")\n",
    "\n",
    "results = gscv.fit(X_tfidf, y)"
   ]
  },
  {
   "cell_type": "code",
   "execution_count": 107,
   "metadata": {},
   "outputs": [
    {
     "data": {
      "text/plain": [
       "{'classifier__C': 10.0}"
      ]
     },
     "execution_count": 107,
     "metadata": {},
     "output_type": "execute_result"
    }
   ],
   "source": [
    "results.best_params_"
   ]
  },
  {
   "cell_type": "code",
   "execution_count": 108,
   "metadata": {},
   "outputs": [
    {
     "data": {
      "text/plain": [
       "0.7544819354761562"
      ]
     },
     "execution_count": 108,
     "metadata": {},
     "output_type": "execute_result"
    }
   ],
   "source": [
    "results.best_score_"
   ]
  },
  {
   "cell_type": "code",
   "execution_count": null,
   "metadata": {},
   "outputs": [],
   "source": []
  },
  {
   "cell_type": "code",
   "execution_count": 67,
   "metadata": {},
   "outputs": [
    {
     "name": "stdout",
     "output_type": "stream",
     "text": [
      "Score: 0.24 (+/- 0.00)\n",
      "Score: 0.20 (+/- 0.01)\n",
      "Score: 0.43 (+/- 0.01)\n"
     ]
    }
   ],
   "source": [
    "from skmultilearn.problem_transform import BinaryRelevance, ClassifierChain, LabelPowerset\n",
    "\n",
    "scores = cross_val_score(BinaryRelevance(MultinomialNB()), X_count, y, cv=cv, scoring='f1_macro')\n",
    "print(\"Score: %0.2f (+/- %0.2f)\" % (scores.mean(), scores.std()))\n",
    "\n",
    "scores = cross_val_score(ClassifierChain(MultinomialNB()), X_count, y, cv=cv, scoring='f1_macro')\n",
    "print(\"Score: %0.2f (+/- %0.2f)\" % (scores.mean(), scores.std()))\n",
    "\n",
    "scores = cross_val_score(LabelPowerset(MultinomialNB()), X_count, y, cv=cv, scoring='f1_macro')\n",
    "print(\"Score: %0.2f (+/- %0.2f)\" % (scores.mean(), scores.std()))"
   ]
  },
  {
   "cell_type": "code",
   "execution_count": null,
   "metadata": {},
   "outputs": [],
   "source": [
    "scores = cross_val_score(BinaryRelevance(LogisticRegression()), X_count, y, cv=cv, scoring='f1_macro')\n",
    "print(\"Score: %0.2f (+/- %0.2f)\" % (scores.mean(), scores.std()))\n",
    "\n",
    "scores = cross_val_score(ClassifierChain(LogisticRegression()), X_count, y, cv=cv, scoring='f1_macro')\n",
    "print(\"Score: %0.2f (+/- %0.2f)\" % (scores.mean(), scores.std()))\n",
    "\n",
    "scores = cross_val_score(LabelPowerset(LogisticRegression()), X_count, y, cv=cv, scoring='f1_macro')\n",
    "print(\"Score: %0.2f (+/- %0.2f)\" % (scores.mean(), scores.std()))"
   ]
  },
  {
   "cell_type": "code",
   "execution_count": 102,
   "metadata": {},
   "outputs": [
    {
     "name": "stderr",
     "output_type": "stream",
     "text": [
      "/home/dehling/Documents/machine-learnings/lib/python3.5/site-packages/sklearn/metrics/classification.py:1135: UndefinedMetricWarning: F-score is ill-defined and being set to 0.0 in labels with no predicted samples.\n",
      "  'precision', 'predicted', average, warn_for)\n",
      "/home/dehling/Documents/machine-learnings/lib/python3.5/site-packages/sklearn/metrics/classification.py:1135: UndefinedMetricWarning: F-score is ill-defined and being set to 0.0 in labels with no predicted samples.\n",
      "  'precision', 'predicted', average, warn_for)\n",
      "/home/dehling/Documents/machine-learnings/lib/python3.5/site-packages/sklearn/metrics/classification.py:1135: UndefinedMetricWarning: F-score is ill-defined and being set to 0.0 in labels with no predicted samples.\n",
      "  'precision', 'predicted', average, warn_for)\n",
      "/home/dehling/Documents/machine-learnings/lib/python3.5/site-packages/sklearn/metrics/classification.py:1135: UndefinedMetricWarning: F-score is ill-defined and being set to 0.0 in labels with no predicted samples.\n",
      "  'precision', 'predicted', average, warn_for)\n"
     ]
    },
    {
     "name": "stdout",
     "output_type": "stream",
     "text": [
      "Score: 0.76 (+/- 0.01)\n",
      "Score: 0.77 (+/- 0.02)\n"
     ]
    },
    {
     "name": "stderr",
     "output_type": "stream",
     "text": [
      "/home/dehling/Documents/machine-learnings/lib/python3.5/site-packages/sklearn/metrics/classification.py:1135: UndefinedMetricWarning: F-score is ill-defined and being set to 0.0 in labels with no predicted samples.\n",
      "  'precision', 'predicted', average, warn_for)\n",
      "/home/dehling/Documents/machine-learnings/lib/python3.5/site-packages/sklearn/metrics/classification.py:1135: UndefinedMetricWarning: F-score is ill-defined and being set to 0.0 in labels with no predicted samples.\n",
      "  'precision', 'predicted', average, warn_for)\n"
     ]
    },
    {
     "name": "stdout",
     "output_type": "stream",
     "text": [
      "Score: 0.71 (+/- 0.01)\n"
     ]
    }
   ],
   "source": [
    "scores = cross_val_score(BinaryRelevance(LinearSVC(C=10.0, dual=False)), X_tfidf, y, cv=cv, scoring='f1_macro')\n",
    "print(\"Score: %0.2f (+/- %0.2f)\" % (scores.mean(), scores.std()))\n",
    "\n",
    "scores = cross_val_score(ClassifierChain(LinearSVC(C=10.0, dual=False)), X_tfidf, y, cv=cv, scoring='f1_macro')\n",
    "print(\"Score: %0.2f (+/- %0.2f)\" % (scores.mean(), scores.std()))\n",
    "\n",
    "scores = cross_val_score(LabelPowerset(LinearSVC(C=10.0, dual=False)), X_tfidf, y, cv=cv, scoring='f1_macro')\n",
    "print(\"Score: %0.2f (+/- %0.2f)\" % (scores.mean(), scores.std()))"
   ]
  },
  {
   "cell_type": "code",
   "execution_count": null,
   "metadata": {},
   "outputs": [],
   "source": []
  },
  {
   "cell_type": "code",
   "execution_count": null,
   "metadata": {},
   "outputs": [],
   "source": []
  },
  {
   "cell_type": "code",
   "execution_count": null,
   "metadata": {},
   "outputs": [],
   "source": [
    "scores = cross_val_score(ClassifierChain(LinearSVC()), X_lsi, y, cv=cv, scoring='f1_macro')\n",
    "print(\"Score: %0.2f (+/- %0.2f)\" % (scores.mean(), scores.std()))\n",
    "\n",
    "scores = cross_val_score(ClassifierChain(LinearSVC(class_weight='balanced')), X_lsi, y, cv=cv, scoring='f1_macro')\n",
    "print(\"Score: %0.2f (+/- %0.2f)\" % (scores.mean(), scores.std()))"
   ]
  },
  {
   "cell_type": "code",
   "execution_count": null,
   "metadata": {},
   "outputs": [],
   "source": [
    "scores = cross_val_score(ClassifierChain(LogisticRegression()), X_count, y, cv=cv, scoring='f1_macro')\n",
    "print(\"Score: %0.2f (+/- %0.2f)\" % (scores.mean(), scores.std()))\n",
    "\n",
    "scores = cross_val_score(ClassifierChain(LogisticRegression(class_weight='balanced')), X_count, y, cv=cv, scoring='f1_macro')\n",
    "print(\"Score: %0.2f (+/- %0.2f)\" % (scores.mean(), scores.std()))"
   ]
  },
  {
   "cell_type": "code",
   "execution_count": null,
   "metadata": {},
   "outputs": [],
   "source": []
  },
  {
   "cell_type": "code",
   "execution_count": null,
   "metadata": {},
   "outputs": [],
   "source": []
  },
  {
   "cell_type": "code",
   "execution_count": 53,
   "metadata": {},
   "outputs": [
    {
     "name": "stdout",
     "output_type": "stream",
     "text": [
      "Score: 0.49 (+/- 0.00)\n",
      "Score: 0.53 (+/- 0.01)\n",
      "Score: 0.60 (+/- 0.01)\n"
     ]
    }
   ],
   "source": [
    "from skmultilearn.problem_transform import LabelPowerset\n",
    "from skmultilearn.ensemble import RakelO, RakelD\n",
    "\n",
    "scores = cross_val_score(RakelD(LabelPowerset(MultinomialNB()), labelset_size=2),\n",
    "                         X, y, cv=cv, scoring='f1_macro')\n",
    "print(\"Score: %0.2f (+/- %0.2f)\" % (scores.mean(), scores.std()))\n",
    "\n",
    "scores = cross_val_score(RakelD(LabelPowerset(MultinomialNB()), labelset_size=4),\n",
    "                         X, y, cv=cv, scoring='f1_macro')\n",
    "print(\"Score: %0.2f (+/- %0.2f)\" % (scores.mean(), scores.std()))\n",
    "\n",
    "scores = cross_val_score(RakelD(LabelPowerset(MultinomialNB()), labelset_size=8),\n",
    "                         X, y, cv=cv, scoring='f1_macro')\n",
    "print(\"Score: %0.2f (+/- %0.2f)\" % (scores.mean(), scores.std()))\n",
    "\n",
    "#scores = cross_val_score(RakelD(LabelPowerset(LogisticRegression()), labelset_size=2),\n",
    "#                         X, y, cv=cv, scoring='f1_macro')\n",
    "#print(\"Score: %0.2f (+/- %0.2f)\" % (scores.mean(), scores.std()))\n",
    "#\n",
    "#scores = cross_val_score(RakelD(LabelPowerset(LogisticRegression()), labelset_size=4),\n",
    "#                         X, y, cv=cv, scoring='f1_macro')\n",
    "#print(\"Score: %0.2f (+/- %0.2f)\" % (scores.mean(), scores.std()))\n",
    "#\n",
    "#scores = cross_val_score(RakelD(LabelPowerset(LogisticRegression()), labelset_size=8),\n",
    "#                         X, y, cv=cv, scoring='f1_macro')\n",
    "#print(\"Score: %0.2f (+/- %0.2f)\" % (scores.mean(), scores.std()))"
   ]
  },
  {
   "cell_type": "code",
   "execution_count": null,
   "metadata": {},
   "outputs": [],
   "source": []
  },
  {
   "cell_type": "code",
   "execution_count": 22,
   "metadata": {},
   "outputs": [],
   "source": [
    "from sklearn.model_selection import train_test_split\n",
    "from sklearn.metrics import classification_report\n",
    "\n",
    "X_train, X_test, y_train, y_test = train_test_split(X, y, test_size=0.2)"
   ]
  },
  {
   "cell_type": "code",
   "execution_count": 34,
   "metadata": {},
   "outputs": [
    {
     "name": "stdout",
     "output_type": "stream",
     "text": [
      "              precision    recall  f1-score   support\n",
      "\n",
      "        earn       0.97      0.95      0.96       840\n",
      "         acq       0.72      0.97      0.83       432\n",
      "    money-fx       0.47      0.98      0.63       128\n",
      "       grain       0.55      0.98      0.71       130\n",
      "       crude       0.56      0.95      0.71       108\n",
      "       trade       0.38      0.93      0.54       102\n",
      "    interest       0.35      0.96      0.51        84\n",
      "        ship       0.34      0.96      0.50        53\n",
      "       wheat       0.31      0.97      0.47        62\n",
      "        corn       0.28      1.00      0.43        52\n",
      "         dlr       0.21      0.97      0.34        34\n",
      "money-supply       0.23      0.97      0.37        36\n",
      "     oilseed       0.14      0.96      0.24        28\n",
      "       sugar       0.17      0.97      0.28        35\n",
      "      coffee       0.26      0.97      0.41        29\n",
      "         gnp       0.16      0.93      0.28        27\n",
      "        gold       0.41      1.00      0.59        24\n",
      "     veg-oil       0.16      0.85      0.27        27\n",
      "     soybean       0.10      1.00      0.18        17\n",
      "     nat-gas       0.18      0.94      0.31        18\n",
      "\n",
      " avg / total       0.66      0.96      0.74      2266\n",
      "\n"
     ]
    }
   ],
   "source": [
    "clf = OneVsRestClassifier(MultinomialNB())\n",
    "clf.fit(X_train, y_train)\n",
    "\n",
    "print(classification_report(y_test, clf.predict(X_test), target_names=mlb.classes_))"
   ]
  },
  {
   "cell_type": "code",
   "execution_count": 35,
   "metadata": {},
   "outputs": [
    {
     "name": "stdout",
     "output_type": "stream",
     "text": [
      "              precision    recall  f1-score   support\n",
      "\n",
      "        earn       0.99      0.97      0.98       840\n",
      "         acq       0.93      0.92      0.93       432\n",
      "    money-fx       0.88      0.84      0.86       128\n",
      "       grain       0.96      0.92      0.94       130\n",
      "       crude       0.88      0.85      0.86       108\n",
      "       trade       0.87      0.78      0.82       102\n",
      "    interest       0.70      0.68      0.69        84\n",
      "        ship       0.81      0.81      0.81        53\n",
      "       wheat       0.91      0.77      0.83        62\n",
      "        corn       0.98      0.88      0.93        52\n",
      "         dlr       0.82      0.68      0.74        34\n",
      "money-supply       0.77      0.67      0.72        36\n",
      "     oilseed       0.70      0.57      0.63        28\n",
      "       sugar       1.00      0.83      0.91        35\n",
      "      coffee       0.96      0.90      0.93        29\n",
      "         gnp       0.96      0.81      0.88        27\n",
      "        gold       0.95      0.83      0.89        24\n",
      "     veg-oil       0.93      0.48      0.63        27\n",
      "     soybean       0.71      0.59      0.65        17\n",
      "     nat-gas       0.53      0.44      0.48        18\n",
      "\n",
      " avg / total       0.92      0.88      0.90      2266\n",
      "\n"
     ]
    }
   ],
   "source": [
    "clf = OneVsRestClassifier(LogisticRegression())\n",
    "clf.fit(X_train, y_train)\n",
    "\n",
    "print(classification_report(y_test, clf.predict(X_test), target_names=mlb.classes_))"
   ]
  },
  {
   "cell_type": "code",
   "execution_count": 38,
   "metadata": {},
   "outputs": [
    {
     "name": "stdout",
     "output_type": "stream",
     "text": [
      "              precision    recall  f1-score   support\n",
      "\n",
      "        earn       0.98      0.98      0.98       840\n",
      "         acq       0.91      0.95      0.93       432\n",
      "    money-fx       0.78      0.88      0.83       128\n",
      "       grain       0.93      0.95      0.94       130\n",
      "       crude       0.82      0.89      0.85       108\n",
      "       trade       0.81      0.84      0.83       102\n",
      "    interest       0.66      0.86      0.75        84\n",
      "        ship       0.70      0.89      0.78        53\n",
      "       wheat       0.84      0.82      0.83        62\n",
      "        corn       0.89      0.92      0.91        52\n",
      "         dlr       0.63      0.85      0.72        34\n",
      "money-supply       0.71      0.83      0.77        36\n",
      "     oilseed       0.45      0.61      0.52        28\n",
      "       sugar       0.94      0.86      0.90        35\n",
      "      coffee       0.96      0.93      0.95        29\n",
      "         gnp       0.81      0.96      0.88        27\n",
      "        gold       0.92      0.96      0.94        24\n",
      "     veg-oil       0.90      0.67      0.77        27\n",
      "     soybean       0.54      0.76      0.63        17\n",
      "     nat-gas       0.60      0.67      0.63        18\n",
      "\n",
      " avg / total       0.89      0.92      0.90      2266\n",
      "\n"
     ]
    }
   ],
   "source": [
    "clf = ClassifierChain(LogisticRegression(class_weight='balanced'))\n",
    "clf.fit(X_train, y_train)\n",
    "\n",
    "print(classification_report(y_test, clf.predict(X_test), target_names=mlb.classes_))"
   ]
  },
  {
   "cell_type": "code",
   "execution_count": 63,
   "metadata": {},
   "outputs": [
    {
     "name": "stdout",
     "output_type": "stream",
     "text": [
      "              precision    recall  f1-score   support\n",
      "\n",
      "        earn       0.98      0.97      0.97       801\n",
      "         acq       0.89      0.92      0.91       463\n",
      "    money-fx       0.78      0.74      0.76       159\n",
      "       grain       0.95      0.92      0.94       115\n",
      "       crude       0.80      0.86      0.83       107\n",
      "       trade       0.80      0.75      0.77        96\n",
      "    interest       0.63      0.62      0.62        95\n",
      "        ship       0.82      0.89      0.85        46\n",
      "       wheat       0.93      0.93      0.93        56\n",
      "        corn       0.98      0.82      0.89        51\n",
      "         dlr       0.73      0.79      0.76        42\n",
      "money-supply       0.73      0.89      0.80        37\n",
      "     oilseed       0.61      0.57      0.59        30\n",
      "       sugar       0.93      0.90      0.92        31\n",
      "      coffee       0.96      0.92      0.94        24\n",
      "         gnp       0.83      0.80      0.81        30\n",
      "        gold       0.89      0.89      0.89        35\n",
      "     veg-oil       0.91      0.87      0.89        23\n",
      "     soybean       0.61      0.69      0.65        16\n",
      "         bop       0.75      0.79      0.77        19\n",
      "\n",
      " avg / total       0.89      0.89      0.89      2276\n",
      "\n"
     ]
    }
   ],
   "source": [
    "clf = ClassifierChain(LinearSVC())\n",
    "clf.fit(X_train, y_train)\n",
    "\n",
    "print(classification_report(y_test, clf.predict(X_test), target_names=mlb.classes_))"
   ]
  },
  {
   "cell_type": "code",
   "execution_count": null,
   "metadata": {},
   "outputs": [],
   "source": []
  },
  {
   "cell_type": "code",
   "execution_count": null,
   "metadata": {},
   "outputs": [],
   "source": []
  },
  {
   "cell_type": "code",
   "execution_count": 27,
   "metadata": {},
   "outputs": [
    {
     "ename": "ValueError",
     "evalue": "This solver needs samples of at least 2 classes in the data, but the data contains only one class: 0",
     "output_type": "error",
     "traceback": [
      "\u001b[0;31m---------------------------------------------------------------------------\u001b[0m",
      "\u001b[0;31mValueError\u001b[0m                                Traceback (most recent call last)",
      "\u001b[0;32m<ipython-input-27-538ad06fc474>\u001b[0m in \u001b[0;36m<module>\u001b[0;34m()\u001b[0m\n\u001b[1;32m      4\u001b[0m \u001b[0;34m\u001b[0m\u001b[0m\n\u001b[1;32m      5\u001b[0m _ = plot_learning_curves(X_train, y_train, X_test, y_test, ClassifierChain(LinearSVC(C=10.0, dual=False)),\n\u001b[0;32m----> 6\u001b[0;31m                          scoring='f1_macro', print_model=False)\n\u001b[0m",
      "\u001b[0;32m~/Documents/machine-learnings/lib/python3.5/site-packages/mlxtend/plotting/learning_curves.py\u001b[0m in \u001b[0;36mplot_learning_curves\u001b[0;34m(X_train, y_train, X_test, y_test, clf, train_marker, test_marker, scoring, suppress_plot, print_model, style, legend_loc)\u001b[0m\n\u001b[1;32m     79\u001b[0m     \u001b[0mrng\u001b[0m \u001b[0;34m=\u001b[0m \u001b[0;34m[\u001b[0m\u001b[0mint\u001b[0m\u001b[0;34m(\u001b[0m\u001b[0mi\u001b[0m\u001b[0;34m)\u001b[0m \u001b[0;32mfor\u001b[0m \u001b[0mi\u001b[0m \u001b[0;32min\u001b[0m \u001b[0mnp\u001b[0m\u001b[0;34m.\u001b[0m\u001b[0mlinspace\u001b[0m\u001b[0;34m(\u001b[0m\u001b[0;36m0\u001b[0m\u001b[0;34m,\u001b[0m \u001b[0mX_train\u001b[0m\u001b[0;34m.\u001b[0m\u001b[0mshape\u001b[0m\u001b[0;34m[\u001b[0m\u001b[0;36m0\u001b[0m\u001b[0;34m]\u001b[0m\u001b[0;34m,\u001b[0m \u001b[0;36m11\u001b[0m\u001b[0;34m)\u001b[0m\u001b[0;34m]\u001b[0m\u001b[0;34m[\u001b[0m\u001b[0;36m1\u001b[0m\u001b[0;34m:\u001b[0m\u001b[0;34m]\u001b[0m\u001b[0;34m\u001b[0m\u001b[0m\n\u001b[1;32m     80\u001b[0m     \u001b[0;32mfor\u001b[0m \u001b[0mr\u001b[0m \u001b[0;32min\u001b[0m \u001b[0mrng\u001b[0m\u001b[0;34m:\u001b[0m\u001b[0;34m\u001b[0m\u001b[0m\n\u001b[0;32m---> 81\u001b[0;31m         \u001b[0mmodel\u001b[0m \u001b[0;34m=\u001b[0m \u001b[0mclf\u001b[0m\u001b[0;34m.\u001b[0m\u001b[0mfit\u001b[0m\u001b[0;34m(\u001b[0m\u001b[0mX_train\u001b[0m\u001b[0;34m[\u001b[0m\u001b[0;34m:\u001b[0m\u001b[0mr\u001b[0m\u001b[0;34m]\u001b[0m\u001b[0;34m,\u001b[0m \u001b[0my_train\u001b[0m\u001b[0;34m[\u001b[0m\u001b[0;34m:\u001b[0m\u001b[0mr\u001b[0m\u001b[0;34m]\u001b[0m\u001b[0;34m)\u001b[0m\u001b[0;34m\u001b[0m\u001b[0m\n\u001b[0m\u001b[1;32m     82\u001b[0m \u001b[0;34m\u001b[0m\u001b[0m\n\u001b[1;32m     83\u001b[0m         \u001b[0my_train_predict\u001b[0m \u001b[0;34m=\u001b[0m \u001b[0mclf\u001b[0m\u001b[0;34m.\u001b[0m\u001b[0mpredict\u001b[0m\u001b[0;34m(\u001b[0m\u001b[0mX_train\u001b[0m\u001b[0;34m[\u001b[0m\u001b[0;34m:\u001b[0m\u001b[0mr\u001b[0m\u001b[0;34m]\u001b[0m\u001b[0;34m)\u001b[0m\u001b[0;34m\u001b[0m\u001b[0m\n",
      "\u001b[0;32m~/Documents/machine-learnings/lib/python3.5/site-packages/skmultilearn/problem_transform/cc.py\u001b[0m in \u001b[0;36mfit\u001b[0;34m(self, X, y)\u001b[0m\n\u001b[1;32m     61\u001b[0m \u001b[0;34m\u001b[0m\u001b[0m\n\u001b[1;32m     62\u001b[0m             self.classifiers[label] = self.classifier.fit(self.ensure_input_format(\n\u001b[0;32m---> 63\u001b[0;31m                 X_extended), self.ensure_output_format(y_subset))\n\u001b[0m\u001b[1;32m     64\u001b[0m             \u001b[0mX_extended\u001b[0m \u001b[0;34m=\u001b[0m \u001b[0mhstack\u001b[0m\u001b[0;34m(\u001b[0m\u001b[0;34m[\u001b[0m\u001b[0mX_extended\u001b[0m\u001b[0;34m,\u001b[0m \u001b[0my_subset\u001b[0m\u001b[0;34m]\u001b[0m\u001b[0;34m)\u001b[0m\u001b[0;34m\u001b[0m\u001b[0m\n\u001b[1;32m     65\u001b[0m \u001b[0;34m\u001b[0m\u001b[0m\n",
      "\u001b[0;32m~/Documents/machine-learnings/lib/python3.5/site-packages/sklearn/svm/classes.py\u001b[0m in \u001b[0;36mfit\u001b[0;34m(self, X, y, sample_weight)\u001b[0m\n\u001b[1;32m    233\u001b[0m             \u001b[0mself\u001b[0m\u001b[0;34m.\u001b[0m\u001b[0mclass_weight\u001b[0m\u001b[0;34m,\u001b[0m \u001b[0mself\u001b[0m\u001b[0;34m.\u001b[0m\u001b[0mpenalty\u001b[0m\u001b[0;34m,\u001b[0m \u001b[0mself\u001b[0m\u001b[0;34m.\u001b[0m\u001b[0mdual\u001b[0m\u001b[0;34m,\u001b[0m \u001b[0mself\u001b[0m\u001b[0;34m.\u001b[0m\u001b[0mverbose\u001b[0m\u001b[0;34m,\u001b[0m\u001b[0;34m\u001b[0m\u001b[0m\n\u001b[1;32m    234\u001b[0m             \u001b[0mself\u001b[0m\u001b[0;34m.\u001b[0m\u001b[0mmax_iter\u001b[0m\u001b[0;34m,\u001b[0m \u001b[0mself\u001b[0m\u001b[0;34m.\u001b[0m\u001b[0mtol\u001b[0m\u001b[0;34m,\u001b[0m \u001b[0mself\u001b[0m\u001b[0;34m.\u001b[0m\u001b[0mrandom_state\u001b[0m\u001b[0;34m,\u001b[0m \u001b[0mself\u001b[0m\u001b[0;34m.\u001b[0m\u001b[0mmulti_class\u001b[0m\u001b[0;34m,\u001b[0m\u001b[0;34m\u001b[0m\u001b[0m\n\u001b[0;32m--> 235\u001b[0;31m             self.loss, sample_weight=sample_weight)\n\u001b[0m\u001b[1;32m    236\u001b[0m \u001b[0;34m\u001b[0m\u001b[0m\n\u001b[1;32m    237\u001b[0m         \u001b[0;32mif\u001b[0m \u001b[0mself\u001b[0m\u001b[0;34m.\u001b[0m\u001b[0mmulti_class\u001b[0m \u001b[0;34m==\u001b[0m \u001b[0;34m\"crammer_singer\"\u001b[0m \u001b[0;32mand\u001b[0m \u001b[0mlen\u001b[0m\u001b[0;34m(\u001b[0m\u001b[0mself\u001b[0m\u001b[0;34m.\u001b[0m\u001b[0mclasses_\u001b[0m\u001b[0;34m)\u001b[0m \u001b[0;34m==\u001b[0m \u001b[0;36m2\u001b[0m\u001b[0;34m:\u001b[0m\u001b[0;34m\u001b[0m\u001b[0m\n",
      "\u001b[0;32m~/Documents/machine-learnings/lib/python3.5/site-packages/sklearn/svm/base.py\u001b[0m in \u001b[0;36m_fit_liblinear\u001b[0;34m(X, y, C, fit_intercept, intercept_scaling, class_weight, penalty, dual, verbose, max_iter, tol, random_state, multi_class, loss, epsilon, sample_weight)\u001b[0m\n\u001b[1;32m    851\u001b[0m             raise ValueError(\"This solver needs samples of at least 2 classes\"\n\u001b[1;32m    852\u001b[0m                              \u001b[0;34m\" in the data, but the data contains only one\"\u001b[0m\u001b[0;34m\u001b[0m\u001b[0m\n\u001b[0;32m--> 853\u001b[0;31m                              \" class: %r\" % classes_[0])\n\u001b[0m\u001b[1;32m    854\u001b[0m \u001b[0;34m\u001b[0m\u001b[0m\n\u001b[1;32m    855\u001b[0m         \u001b[0mclass_weight_\u001b[0m \u001b[0;34m=\u001b[0m \u001b[0mcompute_class_weight\u001b[0m\u001b[0;34m(\u001b[0m\u001b[0mclass_weight\u001b[0m\u001b[0;34m,\u001b[0m \u001b[0mclasses_\u001b[0m\u001b[0;34m,\u001b[0m \u001b[0my\u001b[0m\u001b[0;34m)\u001b[0m\u001b[0;34m\u001b[0m\u001b[0m\n",
      "\u001b[0;31mValueError\u001b[0m: This solver needs samples of at least 2 classes in the data, but the data contains only one class: 0"
     ]
    }
   ],
   "source": [
    "from mlxtend.plotting import plot_learning_curves\n",
    "\n",
    "%matplotlib inline\n",
    "\n",
    "_ = plot_learning_curves(X_train, y_train, X_test, y_test, ClassifierChain(LinearSVC(C=10.0, dual=False)),\n",
    "                         scoring='f1_macro', print_model=False)"
   ]
  },
  {
   "cell_type": "code",
   "execution_count": 32,
   "metadata": {},
   "outputs": [
    {
     "data": {
      "text/plain": [
       "<matplotlib.legend.Legend at 0x7f662aa26f28>"
      ]
     },
     "execution_count": 32,
     "metadata": {},
     "output_type": "execute_result"
    },
    {
     "data": {
      "image/png": "[encoded data removed]",
      "text/plain": [
       "<Figure size 432x288 with 1 Axes>"
      ]
     },
     "metadata": {},
     "output_type": "display_data"
    }
   ],
   "source": [
    "from sklearn.model_selection import learning_curve\n",
    "from matplotlib import pyplot as plt\n",
    "import numpy as np\n",
    "\n",
    "plt.figure()\n",
    "plt.title('Learning Curve')\n",
    "#plt.ylim(0.7, 0.9)\n",
    "plt.xlabel(\"Training examples\")\n",
    "plt.ylabel(\"Score\")\n",
    "\n",
    "train_sizes, train_scores, test_scores = learning_curve(\n",
    "    ClassifierChain(LinearSVC(C=10.0, dual=False)), X_tfidf, y, cv=cv,\n",
    "    n_jobs=4, train_sizes=[2000, 4000, 6000, 8000, 10000])\n",
    "\n",
    "train_scores_mean = np.mean(train_scores, axis=1)\n",
    "train_scores_std = np.std(train_scores, axis=1)\n",
    "test_scores_mean = np.mean(test_scores, axis=1)\n",
    "test_scores_std = np.std(test_scores, axis=1)\n",
    "\n",
    "plt.grid()\n",
    "plt.fill_between(train_sizes, train_scores_mean - train_scores_std,\n",
    "                 train_scores_mean + train_scores_std, alpha=0.1,\n",
    "                 color=\"r\")\n",
    "plt.fill_between(train_sizes, test_scores_mean - test_scores_std,\n",
    "                 test_scores_mean + test_scores_std, alpha=0.1, color=\"g\")\n",
    "plt.plot(train_sizes, train_scores_mean, 'o-', color=\"r\", label=\"Training score\")\n",
    "plt.plot(train_sizes, test_scores_mean, 'o-', color=\"g\", label=\"Validation score\")\n",
    "plt.legend(loc=\"best\")"
   ]
  },
  {
   "cell_type": "code",
   "execution_count": null,
   "metadata": {},
   "outputs": [],
   "source": []
  }
 ],
 "metadata": {
  "kernelspec": {
   "display_name": "Python 3",
   "language": "python",
   "name": "python3"
  },
  "language_info": {
   "codemirror_mode": {
    "name": "ipython",
    "version": 3
   },
   "file_extension": ".py",
   "mimetype": "text/x-python",
   "name": "python",
   "nbconvert_exporter": "python",
   "pygments_lexer": "ipython3",
   "version": "3.5.3"
  }
 },
 "nbformat": 4,
 "nbformat_minor": 2
}
