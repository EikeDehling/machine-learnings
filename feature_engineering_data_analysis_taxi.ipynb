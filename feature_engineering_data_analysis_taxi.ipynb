{
 "cells": [
  {
   "cell_type": "markdown",
   "metadata": {},
   "source": [
    "# Feature engineering - Taxi rides\n",
    "\n",
    "In this notebook i'll show some possible engineered features on a dataset about taxi rides.\n",
    "\n",
    "The dataset comes from here: http://www.nyc.gov/html/tlc/html/about/trip_record_data.shtml\n",
    "\n",
    "I've taken the data file of January 2016 and kept only trips of 1st January to keep data size manageable ;-)"
   ]
  },
  {
   "cell_type": "code",
   "execution_count": 2,
   "metadata": {},
   "outputs": [
    {
     "data": {
      "text/html": [
       "<div>\n",
       "<table border=\"1\" class=\"dataframe\">\n",
       "  <thead>\n",
       "    <tr style=\"text-align: right;\">\n",
       "      <th></th>\n",
       "      <th>VendorID</th>\n",
       "      <th>Pickup_datetime</th>\n",
       "      <th>Dropoff_datetime</th>\n",
       "      <th>Store_and_fwd_flag</th>\n",
       "      <th>RateCodeID</th>\n",
       "      <th>Pickup_longitude</th>\n",
       "      <th>Pickup_latitude</th>\n",
       "      <th>Dropoff_longitude</th>\n",
       "      <th>Dropoff_latitude</th>\n",
       "      <th>Passenger_count</th>\n",
       "      <th>...</th>\n",
       "      <th>Fare_amount</th>\n",
       "      <th>Extra</th>\n",
       "      <th>MTA_tax</th>\n",
       "      <th>Tip_amount</th>\n",
       "      <th>Tolls_amount</th>\n",
       "      <th>Ehail_fee</th>\n",
       "      <th>improvement_surcharge</th>\n",
       "      <th>Total_amount</th>\n",
       "      <th>Payment_type</th>\n",
       "      <th>Trip_type</th>\n",
       "    </tr>\n",
       "  </thead>\n",
       "  <tbody>\n",
       "    <tr>\n",
       "      <th>0</th>\n",
       "      <td>2</td>\n",
       "      <td>2016-01-01 00:29:24</td>\n",
       "      <td>2016-01-01 00:39:36</td>\n",
       "      <td>N</td>\n",
       "      <td>1</td>\n",
       "      <td>-73.928642</td>\n",
       "      <td>40.680611</td>\n",
       "      <td>-73.924278</td>\n",
       "      <td>40.698044</td>\n",
       "      <td>1</td>\n",
       "      <td>...</td>\n",
       "      <td>8.0</td>\n",
       "      <td>0.5</td>\n",
       "      <td>0.5</td>\n",
       "      <td>1.86</td>\n",
       "      <td>0.0</td>\n",
       "      <td>NaN</td>\n",
       "      <td>0.3</td>\n",
       "      <td>11.16</td>\n",
       "      <td>1</td>\n",
       "      <td>1</td>\n",
       "    </tr>\n",
       "    <tr>\n",
       "      <th>1</th>\n",
       "      <td>2</td>\n",
       "      <td>2016-01-01 00:19:39</td>\n",
       "      <td>2016-01-01 00:39:18</td>\n",
       "      <td>N</td>\n",
       "      <td>1</td>\n",
       "      <td>-73.952675</td>\n",
       "      <td>40.723175</td>\n",
       "      <td>-73.923920</td>\n",
       "      <td>40.761379</td>\n",
       "      <td>1</td>\n",
       "      <td>...</td>\n",
       "      <td>15.5</td>\n",
       "      <td>0.5</td>\n",
       "      <td>0.5</td>\n",
       "      <td>0.00</td>\n",
       "      <td>0.0</td>\n",
       "      <td>NaN</td>\n",
       "      <td>0.3</td>\n",
       "      <td>16.80</td>\n",
       "      <td>2</td>\n",
       "      <td>1</td>\n",
       "    </tr>\n",
       "    <tr>\n",
       "      <th>2</th>\n",
       "      <td>2</td>\n",
       "      <td>2016-01-01 00:19:33</td>\n",
       "      <td>2016-01-01 00:39:48</td>\n",
       "      <td>N</td>\n",
       "      <td>1</td>\n",
       "      <td>-73.971611</td>\n",
       "      <td>40.676105</td>\n",
       "      <td>-74.013161</td>\n",
       "      <td>40.646072</td>\n",
       "      <td>1</td>\n",
       "      <td>...</td>\n",
       "      <td>16.5</td>\n",
       "      <td>0.5</td>\n",
       "      <td>0.5</td>\n",
       "      <td>4.45</td>\n",
       "      <td>0.0</td>\n",
       "      <td>NaN</td>\n",
       "      <td>0.3</td>\n",
       "      <td>22.25</td>\n",
       "      <td>1</td>\n",
       "      <td>1</td>\n",
       "    </tr>\n",
       "    <tr>\n",
       "      <th>3</th>\n",
       "      <td>2</td>\n",
       "      <td>2016-01-01 00:22:12</td>\n",
       "      <td>2016-01-01 00:38:32</td>\n",
       "      <td>N</td>\n",
       "      <td>1</td>\n",
       "      <td>-73.989502</td>\n",
       "      <td>40.669579</td>\n",
       "      <td>-74.000648</td>\n",
       "      <td>40.689034</td>\n",
       "      <td>1</td>\n",
       "      <td>...</td>\n",
       "      <td>13.5</td>\n",
       "      <td>0.5</td>\n",
       "      <td>0.5</td>\n",
       "      <td>0.00</td>\n",
       "      <td>0.0</td>\n",
       "      <td>NaN</td>\n",
       "      <td>0.3</td>\n",
       "      <td>14.80</td>\n",
       "      <td>2</td>\n",
       "      <td>1</td>\n",
       "    </tr>\n",
       "    <tr>\n",
       "      <th>4</th>\n",
       "      <td>2</td>\n",
       "      <td>2016-01-01 00:24:01</td>\n",
       "      <td>2016-01-01 00:39:22</td>\n",
       "      <td>N</td>\n",
       "      <td>1</td>\n",
       "      <td>-73.964729</td>\n",
       "      <td>40.682854</td>\n",
       "      <td>-73.940720</td>\n",
       "      <td>40.663013</td>\n",
       "      <td>1</td>\n",
       "      <td>...</td>\n",
       "      <td>12.0</td>\n",
       "      <td>0.5</td>\n",
       "      <td>0.5</td>\n",
       "      <td>0.00</td>\n",
       "      <td>0.0</td>\n",
       "      <td>NaN</td>\n",
       "      <td>0.3</td>\n",
       "      <td>13.30</td>\n",
       "      <td>2</td>\n",
       "      <td>1</td>\n",
       "    </tr>\n",
       "  </tbody>\n",
       "</table>\n",
       "<p>5 rows × 21 columns</p>\n",
       "</div>"
      ],
      "text/plain": [
       "   VendorID     Pickup_datetime    Dropoff_datetime Store_and_fwd_flag  \\\n",
       "0         2 2016-01-01 00:29:24 2016-01-01 00:39:36                  N   \n",
       "1         2 2016-01-01 00:19:39 2016-01-01 00:39:18                  N   \n",
       "2         2 2016-01-01 00:19:33 2016-01-01 00:39:48                  N   \n",
       "3         2 2016-01-01 00:22:12 2016-01-01 00:38:32                  N   \n",
       "4         2 2016-01-01 00:24:01 2016-01-01 00:39:22                  N   \n",
       "\n",
       "   RateCodeID  Pickup_longitude  Pickup_latitude  Dropoff_longitude  \\\n",
       "0           1        -73.928642        40.680611         -73.924278   \n",
       "1           1        -73.952675        40.723175         -73.923920   \n",
       "2           1        -73.971611        40.676105         -74.013161   \n",
       "3           1        -73.989502        40.669579         -74.000648   \n",
       "4           1        -73.964729        40.682854         -73.940720   \n",
       "\n",
       "   Dropoff_latitude  Passenger_count    ...      Fare_amount  Extra  MTA_tax  \\\n",
       "0         40.698044                1    ...              8.0    0.5      0.5   \n",
       "1         40.761379                1    ...             15.5    0.5      0.5   \n",
       "2         40.646072                1    ...             16.5    0.5      0.5   \n",
       "3         40.689034                1    ...             13.5    0.5      0.5   \n",
       "4         40.663013                1    ...             12.0    0.5      0.5   \n",
       "\n",
       "   Tip_amount  Tolls_amount  Ehail_fee  improvement_surcharge  Total_amount  \\\n",
       "0        1.86           0.0        NaN                    0.3         11.16   \n",
       "1        0.00           0.0        NaN                    0.3         16.80   \n",
       "2        4.45           0.0        NaN                    0.3         22.25   \n",
       "3        0.00           0.0        NaN                    0.3         14.80   \n",
       "4        0.00           0.0        NaN                    0.3         13.30   \n",
       "\n",
       "   Payment_type  Trip_type  \n",
       "0             1          1  \n",
       "1             2          1  \n",
       "2             1          1  \n",
       "3             2          1  \n",
       "4             2          1  \n",
       "\n",
       "[5 rows x 21 columns]"
      ]
     },
     "execution_count": 2,
     "metadata": {},
     "output_type": "execute_result"
    }
   ],
   "source": [
    "import pandas\n",
    "\n",
    "df = pandas.read_csv('green_tripdata_2016_01_01.csv', parse_dates=['Pickup_datetime', 'Dropoff_datetime'])\n",
    "\n",
    "df.head()"
   ]
  },
  {
   "cell_type": "markdown",
   "metadata": {},
   "source": [
    "In this dataset there is data about times, locations, finances and much more about taxi trips. We can engineer some nice features here!\n",
    "\n",
    "## Trip duration\n",
    "\n",
    "Let's start with calculating the trip ducation:"
   ]
  },
  {
   "cell_type": "code",
   "execution_count": 3,
   "metadata": {
    "collapsed": true
   },
   "outputs": [],
   "source": [
    "df['Duration'] = df['Dropoff_datetime'] - df['Pickup_datetime']\n",
    "df['DurationSecs'] = df['Duration'].apply(lambda x: x.total_seconds())"
   ]
  },
  {
   "cell_type": "markdown",
   "metadata": {},
   "source": [
    "Let's check if that worked?"
   ]
  },
  {
   "cell_type": "code",
   "execution_count": 4,
   "metadata": {},
   "outputs": [
    {
     "data": {
      "text/html": [
       "<div>\n",
       "<table border=\"1\" class=\"dataframe\">\n",
       "  <thead>\n",
       "    <tr style=\"text-align: right;\">\n",
       "      <th></th>\n",
       "      <th>Duration</th>\n",
       "      <th>DurationSecs</th>\n",
       "      <th>Pickup_datetime</th>\n",
       "      <th>Dropoff_datetime</th>\n",
       "    </tr>\n",
       "  </thead>\n",
       "  <tbody>\n",
       "    <tr>\n",
       "      <th>0</th>\n",
       "      <td>00:10:12</td>\n",
       "      <td>612.0</td>\n",
       "      <td>2016-01-01 00:29:24</td>\n",
       "      <td>2016-01-01 00:39:36</td>\n",
       "    </tr>\n",
       "    <tr>\n",
       "      <th>1</th>\n",
       "      <td>00:19:39</td>\n",
       "      <td>1179.0</td>\n",
       "      <td>2016-01-01 00:19:39</td>\n",
       "      <td>2016-01-01 00:39:18</td>\n",
       "    </tr>\n",
       "    <tr>\n",
       "      <th>2</th>\n",
       "      <td>00:20:15</td>\n",
       "      <td>1215.0</td>\n",
       "      <td>2016-01-01 00:19:33</td>\n",
       "      <td>2016-01-01 00:39:48</td>\n",
       "    </tr>\n",
       "    <tr>\n",
       "      <th>3</th>\n",
       "      <td>00:16:20</td>\n",
       "      <td>980.0</td>\n",
       "      <td>2016-01-01 00:22:12</td>\n",
       "      <td>2016-01-01 00:38:32</td>\n",
       "    </tr>\n",
       "    <tr>\n",
       "      <th>4</th>\n",
       "      <td>00:15:21</td>\n",
       "      <td>921.0</td>\n",
       "      <td>2016-01-01 00:24:01</td>\n",
       "      <td>2016-01-01 00:39:22</td>\n",
       "    </tr>\n",
       "  </tbody>\n",
       "</table>\n",
       "</div>"
      ],
      "text/plain": [
       "   Duration  DurationSecs     Pickup_datetime    Dropoff_datetime\n",
       "0  00:10:12         612.0 2016-01-01 00:29:24 2016-01-01 00:39:36\n",
       "1  00:19:39        1179.0 2016-01-01 00:19:39 2016-01-01 00:39:18\n",
       "2  00:20:15        1215.0 2016-01-01 00:19:33 2016-01-01 00:39:48\n",
       "3  00:16:20         980.0 2016-01-01 00:22:12 2016-01-01 00:38:32\n",
       "4  00:15:21         921.0 2016-01-01 00:24:01 2016-01-01 00:39:22"
      ]
     },
     "execution_count": 4,
     "metadata": {},
     "output_type": "execute_result"
    }
   ],
   "source": [
    "df[['Duration', 'DurationSecs', 'Pickup_datetime', 'Dropoff_datetime']].head()"
   ]
  },
  {
   "cell_type": "markdown",
   "metadata": {},
   "source": [
    "## Trip distance\n",
    "\n",
    "Next up is trip distance! There is many ways to calculate distances, so i'm going to add multiple distance features.\n",
    "\n",
    "- Euclidean distance : Distance on a flat grid\n",
    "- Haversine distance : Distance between points on a sphere (Earth isn't flat!)\n",
    "- Manhattan distance : Vertical distance + horizontal distance, so not straight line but over grid lines."
   ]
  },
  {
   "cell_type": "code",
   "execution_count": 5,
   "metadata": {
    "collapsed": true
   },
   "outputs": [],
   "source": [
    "import haversine\n",
    "import numpy as np\n",
    "\n",
    "df['Distance_haversine'] = df.apply(lambda r: haversine.haversine((r['Pickup_latitude'], r['Pickup_longitude']), (r['Dropoff_latitude'], r['Dropoff_longitude'])), axis=1)\n",
    "\n",
    "df['Distance_euclidean'] = np.sqrt(\n",
    "    np.square(df['Dropoff_longitude'].values - df['Pickup_longitude'].values) +\n",
    "    np.square(df['Dropoff_latitude'].values - df['Pickup_latitude'].values)\n",
    ")\n",
    "\n",
    "df['Distance_manhattan'] = \\\n",
    "    np.absolute(df['Dropoff_longitude'].values - df['Pickup_longitude'].values) + \\\n",
    "    np.absolute(df['Dropoff_latitude'].values - df['Pickup_latitude'].values)"
   ]
  },
  {
   "cell_type": "markdown",
   "metadata": {},
   "source": [
    "So, did it work?"
   ]
  },
  {
   "cell_type": "code",
   "execution_count": 6,
   "metadata": {},
   "outputs": [
    {
     "data": {
      "text/html": [
       "<div>\n",
       "<table border=\"1\" class=\"dataframe\">\n",
       "  <thead>\n",
       "    <tr style=\"text-align: right;\">\n",
       "      <th></th>\n",
       "      <th>Pickup_latitude</th>\n",
       "      <th>Pickup_longitude</th>\n",
       "      <th>Dropoff_latitude</th>\n",
       "      <th>Dropoff_longitude</th>\n",
       "      <th>Distance_haversine</th>\n",
       "      <th>Distance_manhattan</th>\n",
       "      <th>Distance_euclidean</th>\n",
       "    </tr>\n",
       "  </thead>\n",
       "  <tbody>\n",
       "    <tr>\n",
       "      <th>0</th>\n",
       "      <td>40.680611</td>\n",
       "      <td>-73.928642</td>\n",
       "      <td>40.698044</td>\n",
       "      <td>-73.924278</td>\n",
       "      <td>1.973091</td>\n",
       "      <td>0.021797</td>\n",
       "      <td>0.017971</td>\n",
       "    </tr>\n",
       "    <tr>\n",
       "      <th>1</th>\n",
       "      <td>40.723175</td>\n",
       "      <td>-73.952675</td>\n",
       "      <td>40.761379</td>\n",
       "      <td>-73.923920</td>\n",
       "      <td>4.890314</td>\n",
       "      <td>0.066959</td>\n",
       "      <td>0.047817</td>\n",
       "    </tr>\n",
       "    <tr>\n",
       "      <th>2</th>\n",
       "      <td>40.676105</td>\n",
       "      <td>-73.971611</td>\n",
       "      <td>40.646072</td>\n",
       "      <td>-74.013161</td>\n",
       "      <td>4.841019</td>\n",
       "      <td>0.071583</td>\n",
       "      <td>0.051268</td>\n",
       "    </tr>\n",
       "    <tr>\n",
       "      <th>3</th>\n",
       "      <td>40.669579</td>\n",
       "      <td>-73.989502</td>\n",
       "      <td>40.689034</td>\n",
       "      <td>-74.000648</td>\n",
       "      <td>2.358675</td>\n",
       "      <td>0.030602</td>\n",
       "      <td>0.022422</td>\n",
       "    </tr>\n",
       "    <tr>\n",
       "      <th>4</th>\n",
       "      <td>40.682854</td>\n",
       "      <td>-73.964729</td>\n",
       "      <td>40.663013</td>\n",
       "      <td>-73.940720</td>\n",
       "      <td>2.994507</td>\n",
       "      <td>0.043850</td>\n",
       "      <td>0.031146</td>\n",
       "    </tr>\n",
       "  </tbody>\n",
       "</table>\n",
       "</div>"
      ],
      "text/plain": [
       "   Pickup_latitude  Pickup_longitude  Dropoff_latitude  Dropoff_longitude  \\\n",
       "0        40.680611        -73.928642         40.698044         -73.924278   \n",
       "1        40.723175        -73.952675         40.761379         -73.923920   \n",
       "2        40.676105        -73.971611         40.646072         -74.013161   \n",
       "3        40.669579        -73.989502         40.689034         -74.000648   \n",
       "4        40.682854        -73.964729         40.663013         -73.940720   \n",
       "\n",
       "   Distance_haversine  Distance_manhattan  Distance_euclidean  \n",
       "0            1.973091            0.021797            0.017971  \n",
       "1            4.890314            0.066959            0.047817  \n",
       "2            4.841019            0.071583            0.051268  \n",
       "3            2.358675            0.030602            0.022422  \n",
       "4            2.994507            0.043850            0.031146  "
      ]
     },
     "execution_count": 6,
     "metadata": {},
     "output_type": "execute_result"
    }
   ],
   "source": [
    "df[['Pickup_latitude', 'Pickup_longitude', 'Dropoff_latitude', 'Dropoff_longitude',\n",
    "    'Distance_haversine', 'Distance_manhattan', 'Distance_euclidean']].head()"
   ]
  },
  {
   "cell_type": "markdown",
   "metadata": {},
   "source": [
    "Yes! It worked... Note the scales of the distances are not all comparable! The haversine library computes distance in kilometers, while the euclidean and manhattan distance formulas calculate distance on a scale of latitude/longitude degrees."
   ]
  },
  {
   "cell_type": "markdown",
   "metadata": {},
   "source": [
    "## Time of day, weekday\n",
    "\n",
    "In traffic there is often peek hours and peek days. During rush-hour there might be total lockdown, while a few hours later the streets can be quiet. Let's add the time of the day as a feature!"
   ]
  },
  {
   "cell_type": "code",
   "execution_count": 7,
   "metadata": {
    "collapsed": true
   },
   "outputs": [],
   "source": [
    "df['Hour_of_day'] = df['Pickup_datetime'].dt.hour"
   ]
  },
  {
   "cell_type": "markdown",
   "metadata": {},
   "source": [
    "## Remove some outliers\n",
    "\n",
    "For readeable plots below, i will remove some outliers (trips longer than one hour, or longer than 10km)"
   ]
  },
  {
   "cell_type": "code",
   "execution_count": 8,
   "metadata": {
    "collapsed": true
   },
   "outputs": [],
   "source": [
    "df_no_outliers = df[(df['DurationSecs'] > 0) & (df['DurationSecs'] < 60*60*2) & \\\n",
    "                    (df['Distance_haversine'] < 50) & \\\n",
    "                    (df['Fare_amount'] > 0) & (df['Fare_amount'] < 100)] "
   ]
  },
  {
   "cell_type": "markdown",
   "metadata": {},
   "source": [
    "## Plots & correlation\n",
    "\n",
    "Now that we have added some features, let's have a look at correlations. If there is correlation, there is a relation between the variables that could be used by a machine learning model to make predictions."
   ]
  },
  {
   "cell_type": "code",
   "execution_count": 9,
   "metadata": {},
   "outputs": [
    {
     "data": {
      "text/plain": [
       "<matplotlib.axes._subplots.AxesSubplot at 0x7fc636bf7b70>"
      ]
     },
     "execution_count": 9,
     "metadata": {},
     "output_type": "execute_result"
    },
    {
     "data": {
      "image/png": "[encoded data removed]",
      "text/plain": [
       "<matplotlib.figure.Figure at 0x7fc656699f98>"
      ]
     },
     "metadata": {},
     "output_type": "display_data"
    }
   ],
   "source": [
    "import seaborn as sns\n",
    "%matplotlib inline\n",
    "\n",
    "sns.regplot(x=\"DurationSecs\", y=\"Distance_haversine\", data=df_no_outliers)"
   ]
  },
  {
   "cell_type": "code",
   "execution_count": 10,
   "metadata": {},
   "outputs": [
    {
     "data": {
      "text/plain": [
       "0.74696714005147868"
      ]
     },
     "execution_count": 10,
     "metadata": {},
     "output_type": "execute_result"
    }
   ],
   "source": [
    "from scipy.stats import pearsonr\n",
    "\n",
    "pearsonr(df_no_outliers['DurationSecs'], df_no_outliers['Distance_haversine'])[0]"
   ]
  },
  {
   "cell_type": "markdown",
   "metadata": {},
   "source": [
    "The plot above shows a positive relation between duration of a taxi ride and distance. Obvious and to be expected.. but nice to see how data confirms this. There is quite some scatter though, factors such as traffic density or city vs highway might also be of influence.\n",
    "\n",
    "The second code block calculatese the correlation coefficient, a value of ~0.75 confirms the relatively strong positive relation we saw in the chart."
   ]
  },
  {
   "cell_type": "code",
   "execution_count": 11,
   "metadata": {},
   "outputs": [
    {
     "data": {
      "text/plain": [
       "<matplotlib.axes._subplots.AxesSubplot at 0x7fc633559cf8>"
      ]
     },
     "execution_count": 11,
     "metadata": {},
     "output_type": "execute_result"
    },
    {
     "data": {
      "image/png": "[encoded data removed]",
      "text/plain": [
       "<matplotlib.figure.Figure at 0x7fc682a728d0>"
      ]
     },
     "metadata": {},
     "output_type": "display_data"
    }
   ],
   "source": [
    "sns.regplot(x=\"DurationSecs\", y=\"Distance_manhattan\", data=df_no_outliers)"
   ]
  },
  {
   "cell_type": "code",
   "execution_count": 12,
   "metadata": {},
   "outputs": [
    {
     "data": {
      "text/plain": [
       "0.72322769924711028"
      ]
     },
     "execution_count": 12,
     "metadata": {},
     "output_type": "execute_result"
    }
   ],
   "source": [
    "pearsonr(df_no_outliers['DurationSecs'], df_no_outliers['Distance_manhattan'])[0]"
   ]
  },
  {
   "cell_type": "markdown",
   "metadata": {},
   "source": [
    "As above the chart and correlation coefficient shows a positive relation between ride duration and distance.\n",
    "\n",
    "In this case we looked at the manhattan distance, which means not straight line, but horizontal plus vertical. That might work better in a city grid, but seems to make little difference actually."
   ]
  },
  {
   "cell_type": "code",
   "execution_count": 13,
   "metadata": {},
   "outputs": [
    {
     "data": {
      "text/plain": [
       "<matplotlib.axes._subplots.AxesSubplot at 0x7fc6335cd080>"
      ]
     },
     "execution_count": 13,
     "metadata": {},
     "output_type": "execute_result"
    },
    {
     "data": {
      "image/png": "[encoded data removed]",
      "text/plain": [
       "<matplotlib.figure.Figure at 0x7fc632b15518>"
      ]
     },
     "metadata": {},
     "output_type": "display_data"
    }
   ],
   "source": [
    "sns.regplot(x=\"DurationSecs\", y=\"Fare_amount\", data=df_no_outliers)"
   ]
  },
  {
   "cell_type": "code",
   "execution_count": 14,
   "metadata": {},
   "outputs": [
    {
     "data": {
      "text/plain": [
       "0.82975408187212585"
      ]
     },
     "execution_count": 14,
     "metadata": {},
     "output_type": "execute_result"
    }
   ],
   "source": [
    "pearsonr(df_no_outliers['DurationSecs'], df_no_outliers['Fare_amount'])[0]"
   ]
  },
  {
   "cell_type": "markdown",
   "metadata": {},
   "source": [
    "Fare amount seems to have a very strong relation with duration! Most taxi counters are based on time indeed..."
   ]
  },
  {
   "cell_type": "code",
   "execution_count": 80,
   "metadata": {},
   "outputs": [
    {
     "data": {
      "text/plain": [
       "<matplotlib.axes._subplots.AxesSubplot at 0x7f215228f400>"
      ]
     },
     "execution_count": 80,
     "metadata": {},
     "output_type": "execute_result"
    },
    {
     "data": {
      "image/png": "[encoded data removed]",
      "text/plain": [
       "<matplotlib.figure.Figure at 0x7f2152e5f9e8>"
      ]
     },
     "metadata": {},
     "output_type": "display_data"
    }
   ],
   "source": [
    "sns.barplot(y=\"DurationSecs\", x=\"Hour_of_day\", data=df_no_outliers)"
   ]
  },
  {
   "cell_type": "code",
   "execution_count": 15,
   "metadata": {},
   "outputs": [
    {
     "data": {
      "text/plain": [
       "-0.12435086691211367"
      ]
     },
     "execution_count": 15,
     "metadata": {},
     "output_type": "execute_result"
    }
   ],
   "source": [
    "pearsonr(df_no_outliers['DurationSecs'], df_no_outliers['Hour_of_day'])[0]"
   ]
  },
  {
   "cell_type": "markdown",
   "metadata": {},
   "source": [
    "The chart shows a relation beween hour-of-day and ride duration, but the effect is not huge. I expect the cause to be morning/afternoon rush hour traffic which is busy and causes traffic jams. Also night-time rides appear to be longer on average, maybe darkness means lower driving speeds?\n",
    "\n",
    "Note the pearsonr correlation is very small here. This is not a linear relation, so the pearson correlation coefficient is not the right tool to measure this relation!"
   ]
  },
  {
   "cell_type": "markdown",
   "metadata": {},
   "source": [
    "## Let's try a model..\n",
    "\n",
    "Now that we have added some features and checked that they correlate with trip duration, let's train a model and see if we added usefull information!\n",
    "\n",
    "I'm going to try to predict trip duration from distances, location, fare and hour of day."
   ]
  },
  {
   "cell_type": "code",
   "execution_count": 16,
   "metadata": {},
   "outputs": [
    {
     "data": {
      "text/plain": [
       "RandomForestRegressor(bootstrap=True, criterion='mse', max_depth=None,\n",
       "           max_features='auto', max_leaf_nodes=None,\n",
       "           min_impurity_split=1e-07, min_samples_leaf=25,\n",
       "           min_samples_split=50, min_weight_fraction_leaf=0.0,\n",
       "           n_estimators=100, n_jobs=1, oob_score=False, random_state=None,\n",
       "           verbose=0, warm_start=False)"
      ]
     },
     "execution_count": 16,
     "metadata": {},
     "output_type": "execute_result"
    }
   ],
   "source": [
    "from sklearn.ensemble import RandomForestRegressor\n",
    "\n",
    "X = df_no_outliers[['Distance_haversine', 'Distance_manhattan', 'Distance_euclidean', 'Hour_of_day',\n",
    "        'Pickup_latitude', 'Pickup_longitude', 'Dropoff_latitude', 'Dropoff_longitude']]\n",
    "y = df_no_outliers['Duration']\n",
    "\n",
    "model = RandomForestRegressor(n_estimators=100, min_samples_split=50, min_samples_leaf=25)\n",
    "\n",
    "model.fit(X, y)"
   ]
  },
  {
   "cell_type": "markdown",
   "metadata": {},
   "source": [
    "Finally let's plot the feature importances to see how much information each feature provided."
   ]
  },
  {
   "cell_type": "code",
   "execution_count": 17,
   "metadata": {},
   "outputs": [
    {
     "data": {
      "image/png": "[encoded data removed]",
      "text/plain": [
       "<matplotlib.figure.Figure at 0x7fc63209aba8>"
      ]
     },
     "metadata": {},
     "output_type": "display_data"
    }
   ],
   "source": [
    "from matplotlib import pyplot as plt\n",
    "\n",
    "dataz = pandas.DataFrame(model.feature_importances_, index=X.columns, columns=[\"Importance\"])\n",
    "dataz.plot(y='Importance', kind='bar')\n",
    "plt.show()"
   ]
  },
  {
   "cell_type": "markdown",
   "metadata": {},
   "source": [
    "So overall we seem to have added usefull features, especially the haversine distance seems to be a good predictor. Which is slightly surprising, i would expect manhattan distance to work better since taxis don't drive in straight lines..."
   ]
  }
 ],
 "metadata": {
  "kernelspec": {
   "display_name": "Python 3",
   "language": "python",
   "name": "python3"
  },
  "language_info": {
   "codemirror_mode": {
    "name": "ipython",
    "version": 3
   },
   "file_extension": ".py",
   "mimetype": "text/x-python",
   "name": "python",
   "nbconvert_exporter": "python",
   "pygments_lexer": "ipython3",
   "version": "3.6.1"
  }
 },
 "nbformat": 4,
 "nbformat_minor": 2
}
