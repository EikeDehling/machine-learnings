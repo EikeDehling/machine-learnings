{
 "cells": [
  {
   "cell_type": "code",
   "execution_count": 2,
   "metadata": {},
   "outputs": [],
   "source": [
    "import pandas as pd\n",
    "\n",
    "df = pd.read_csv('data/seniority-level-english.csv')"
   ]
  },
  {
   "cell_type": "code",
   "execution_count": 3,
   "metadata": {},
   "outputs": [],
   "source": [
    "df.dropna(axis=0, inplace=True)"
   ]
  },
  {
   "cell_type": "code",
   "execution_count": 4,
   "metadata": {},
   "outputs": [
    {
     "data": {
      "text/html": [
       "<div>\n",
       "<style scoped>\n",
       "    .dataframe tbody tr th:only-of-type {\n",
       "        vertical-align: middle;\n",
       "    }\n",
       "\n",
       "    .dataframe tbody tr th {\n",
       "        vertical-align: top;\n",
       "    }\n",
       "\n",
       "    .dataframe thead th {\n",
       "        text-align: right;\n",
       "    }\n",
       "</style>\n",
       "<table border=\"1\" class=\"dataframe\">\n",
       "  <thead>\n",
       "    <tr style=\"text-align: right;\">\n",
       "      <th></th>\n",
       "      <th>jobtitle</th>\n",
       "      <th>link</th>\n",
       "      <th>summary</th>\n",
       "      <th>description</th>\n",
       "      <th>seniority_level</th>\n",
       "    </tr>\n",
       "  </thead>\n",
       "  <tbody>\n",
       "    <tr>\n",
       "      <th>0</th>\n",
       "      <td>Administrative Assistant</td>\n",
       "      <td>https://www.roberthalf.com/job/cincinnati-oh/a...</td>\n",
       "      <td>Mail merging, pivot tables, and presentation d...</td>\n",
       "      <td>Mail merging, pivot tables, and presentation d...</td>\n",
       "      <td>Junior</td>\n",
       "    </tr>\n",
       "    <tr>\n",
       "      <th>1</th>\n",
       "      <td>Receptionist</td>\n",
       "      <td>https://www.roberthalf.com/job/charleston-sc/r...</td>\n",
       "      <td>OfficeTeam currently has a short-term temporar...</td>\n",
       "      <td>OfficeTeam currently has a short-term temporar...</td>\n",
       "      <td>Junior</td>\n",
       "    </tr>\n",
       "    <tr>\n",
       "      <th>2</th>\n",
       "      <td>Accounts Receivable Clerk</td>\n",
       "      <td>https://www.roberthalf.com/job/fresno-ca/accou...</td>\n",
       "      <td>If you're a self-starting and detail-oriented ...</td>\n",
       "      <td>If you're a self-starting and detail-oriented ...</td>\n",
       "      <td>Medior</td>\n",
       "    </tr>\n",
       "    <tr>\n",
       "      <th>3</th>\n",
       "      <td>Tax Staff - Public</td>\n",
       "      <td>https://www.roberthalf.com/job/dallas-tx/tax-s...</td>\n",
       "      <td>A multi-billion dollar company is looking for ...</td>\n",
       "      <td>A multi-billion dollar company is looking for ...</td>\n",
       "      <td>Medior</td>\n",
       "    </tr>\n",
       "    <tr>\n",
       "      <th>4</th>\n",
       "      <td>Customer Service Representative</td>\n",
       "      <td>https://www.roberthalf.com/job/palmer-ma/custo...</td>\n",
       "      <td>Seeking Customer Service Representatives!  Off...</td>\n",
       "      <td>Seeking Customer Service Representatives!\\n\\nO...</td>\n",
       "      <td>Medior</td>\n",
       "    </tr>\n",
       "  </tbody>\n",
       "</table>\n",
       "</div>"
      ],
      "text/plain": [
       "                          jobtitle  \\\n",
       "0         Administrative Assistant   \n",
       "1                     Receptionist   \n",
       "2        Accounts Receivable Clerk   \n",
       "3               Tax Staff - Public   \n",
       "4  Customer Service Representative   \n",
       "\n",
       "                                                link  \\\n",
       "0  https://www.roberthalf.com/job/cincinnati-oh/a...   \n",
       "1  https://www.roberthalf.com/job/charleston-sc/r...   \n",
       "2  https://www.roberthalf.com/job/fresno-ca/accou...   \n",
       "3  https://www.roberthalf.com/job/dallas-tx/tax-s...   \n",
       "4  https://www.roberthalf.com/job/palmer-ma/custo...   \n",
       "\n",
       "                                             summary  \\\n",
       "0  Mail merging, pivot tables, and presentation d...   \n",
       "1  OfficeTeam currently has a short-term temporar...   \n",
       "2  If you're a self-starting and detail-oriented ...   \n",
       "3  A multi-billion dollar company is looking for ...   \n",
       "4  Seeking Customer Service Representatives!  Off...   \n",
       "\n",
       "                                         description seniority_level  \n",
       "0  Mail merging, pivot tables, and presentation d...          Junior  \n",
       "1  OfficeTeam currently has a short-term temporar...          Junior  \n",
       "2  If you're a self-starting and detail-oriented ...          Medior  \n",
       "3  A multi-billion dollar company is looking for ...          Medior  \n",
       "4  Seeking Customer Service Representatives!\\n\\nO...          Medior  "
      ]
     },
     "execution_count": 4,
     "metadata": {},
     "output_type": "execute_result"
    }
   ],
   "source": [
    "df.head()"
   ]
  },
  {
   "cell_type": "code",
   "execution_count": 5,
   "metadata": {},
   "outputs": [
    {
     "data": {
      "text/plain": [
       "(607, 5)"
      ]
     },
     "execution_count": 5,
     "metadata": {},
     "output_type": "execute_result"
    }
   ],
   "source": [
    "df.shape"
   ]
  },
  {
   "cell_type": "code",
   "execution_count": null,
   "metadata": {},
   "outputs": [],
   "source": []
  },
  {
   "cell_type": "code",
   "execution_count": 6,
   "metadata": {},
   "outputs": [],
   "source": [
    "df_jf = pd.read_csv('data/seniority-level-english-jf.csv')"
   ]
  },
  {
   "cell_type": "code",
   "execution_count": 7,
   "metadata": {},
   "outputs": [],
   "source": [
    "df_jf.dropna(axis=0, inplace=True)"
   ]
  },
  {
   "cell_type": "code",
   "execution_count": 8,
   "metadata": {},
   "outputs": [
    {
     "data": {
      "text/html": [
       "<div>\n",
       "<style scoped>\n",
       "    .dataframe tbody tr th:only-of-type {\n",
       "        vertical-align: middle;\n",
       "    }\n",
       "\n",
       "    .dataframe tbody tr th {\n",
       "        vertical-align: top;\n",
       "    }\n",
       "\n",
       "    .dataframe thead th {\n",
       "        text-align: right;\n",
       "    }\n",
       "</style>\n",
       "<table border=\"1\" class=\"dataframe\">\n",
       "  <thead>\n",
       "    <tr style=\"text-align: right;\">\n",
       "      <th></th>\n",
       "      <th>Jobtitle</th>\n",
       "      <th>Vacancy</th>\n",
       "      <th>Seniority</th>\n",
       "    </tr>\n",
       "  </thead>\n",
       "  <tbody>\n",
       "    <tr>\n",
       "      <th>0</th>\n",
       "      <td>dns web security researcher</td>\n",
       "      <td>Job Details Senior DNS/Web Security Researcher...</td>\n",
       "      <td>Senior</td>\n",
       "    </tr>\n",
       "    <tr>\n",
       "      <th>1</th>\n",
       "      <td>cook food nutrition</td>\n",
       "      <td>Cook - Food and Nutrition at White Plains Hosp...</td>\n",
       "      <td>Junior</td>\n",
       "    </tr>\n",
       "    <tr>\n",
       "      <th>2</th>\n",
       "      <td>digital integrated circuit design engineer</td>\n",
       "      <td>Senior Digital IC Design Engineer at Maxim Int...</td>\n",
       "      <td>Senior</td>\n",
       "    </tr>\n",
       "    <tr>\n",
       "      <th>3</th>\n",
       "      <td>application architect mobile</td>\n",
       "      <td>Application Architect: Mobile at IBM Bluemix V...</td>\n",
       "      <td>Senior</td>\n",
       "    </tr>\n",
       "    <tr>\n",
       "      <th>4</th>\n",
       "      <td>associate director icahn school medicine talen...</td>\n",
       "      <td>Associate Director, Icahn School of Medicine, ...</td>\n",
       "      <td>Senior</td>\n",
       "    </tr>\n",
       "  </tbody>\n",
       "</table>\n",
       "</div>"
      ],
      "text/plain": [
       "                                            Jobtitle  \\\n",
       "0                        dns web security researcher   \n",
       "1                                cook food nutrition   \n",
       "2         digital integrated circuit design engineer   \n",
       "3                       application architect mobile   \n",
       "4  associate director icahn school medicine talen...   \n",
       "\n",
       "                                             Vacancy Seniority  \n",
       "0  Job Details Senior DNS/Web Security Researcher...    Senior  \n",
       "1  Cook - Food and Nutrition at White Plains Hosp...    Junior  \n",
       "2  Senior Digital IC Design Engineer at Maxim Int...    Senior  \n",
       "3  Application Architect: Mobile at IBM Bluemix V...    Senior  \n",
       "4  Associate Director, Icahn School of Medicine, ...    Senior  "
      ]
     },
     "execution_count": 8,
     "metadata": {},
     "output_type": "execute_result"
    }
   ],
   "source": [
    "df_jf.head()"
   ]
  },
  {
   "cell_type": "code",
   "execution_count": 10,
   "metadata": {},
   "outputs": [
    {
     "data": {
      "text/plain": [
       "(19, 3)"
      ]
     },
     "execution_count": 10,
     "metadata": {},
     "output_type": "execute_result"
    }
   ],
   "source": [
    "df_jf.shape"
   ]
  },
  {
   "cell_type": "code",
   "execution_count": null,
   "metadata": {},
   "outputs": [],
   "source": []
  },
  {
   "cell_type": "code",
   "execution_count": 5,
   "metadata": {},
   "outputs": [
    {
     "data": {
      "text/plain": [
       "'A multi-billion dollar company is looking for a Staff Tax Accountant for their growing tax team. The Staff Tax Accountant will be joining a growing team that is part of a growing company and under a management team that believes in growing their people! As a Staff Tax Accountant you will prepare and document tax provision calculations and disclosures, file extensions, assist with income tax audits and research technical tax issues. There will also be other ad hoc requirements of this job that will give you a chance to work outside of traditional tax. This firm has been recognized as one of the “Best Places to Work in DFW\" by the Dallas Business Journal and more recently as a “Best Accounting Firms to Work For\" in the nation by Accounting Today.\\n\\nFor confidential consideration, please e-mail your resume directly to Eric Ressler at [email\\xa0protected]\\nIf you would like to receive updates more frequently, send me a LinkedIn request. You can find me at: https://www.linkedin.com/in/eric-ressler-b187ab2b \\n - CPA or CPA Candidate\\n- 1+ year tax preparation experience (1040, 1065, 1120 and 1120‐S)\\n- Significant QuickBooks experience \\n Robert Half Finance & Accounting, the world\\'s leader in specialized financial staffing, provides exciting full-time opportunities in the areas of accounting, bookkeeping, finance, audit, taxation and more. We pioneered the professional staffing industry, and we\\'ve been successfully matching professionals with employers since 1948. Our proven proprietary processes, along with our relationships in 325 locations worldwide, allow us to provide you unparalleled access to exciting career opportunities. But don\\'t take our word for it. Our company has appeared on Fortune® magazine’s list of “World\\'s Most Admired Companies” since 1998, and 9 out of 10 of our customers would recommend our service to a colleague.\\n\\nApply for this job now or contact our nearest office at 888.490.5461 for additional information.\\n\\nAll applicants applying for U.S. job openings must be authorized to work in the United States. All applicants applying for Canadian job openings must be authorized to work in Canada.\\n\\n© 2019 Robert Half Finance & Accounting. An Equal Opportunity Employer M/F/Disability/Veterans\\n\\nBy clicking \\'Apply Now\\' you are agreeing to Robert Half Terms of Use.\\n'"
      ]
     },
     "execution_count": 5,
     "metadata": {},
     "output_type": "execute_result"
    }
   ],
   "source": [
    "df['description'][3]"
   ]
  },
  {
   "cell_type": "code",
   "execution_count": null,
   "metadata": {},
   "outputs": [],
   "source": []
  },
  {
   "cell_type": "code",
   "execution_count": 11,
   "metadata": {},
   "outputs": [],
   "source": [
    "from gensim.parsing.preprocessing import preprocess_string, RE_TAGS, strip_punctuation, stem_text, \\\n",
    "    strip_multiple_whitespaces, strip_numeric, remove_stopwords, strip_short, strip_non_alphanum\n",
    "from sklearn.feature_extraction.text import CountVectorizer\n",
    "from sklearn.preprocessing import LabelEncoder, MaxAbsScaler\n",
    "from sklearn.decomposition import TruncatedSVD\n",
    "from unicodedata import normalize\n",
    "\n",
    "def my_remove_tags(s):\n",
    "    return RE_TAGS.sub(\" \", s)\n",
    "\n",
    "my_filters = [\n",
    "    lambda x: x.lower(), my_remove_tags, strip_punctuation, strip_non_alphanum,\n",
    "    strip_multiple_whitespaces, remove_stopwords\n",
    "]\n",
    "\n",
    "def my_tokenizer(s):\n",
    "    return preprocess_string(s, filters=my_filters)\n",
    "    \n",
    "vect = CountVectorizer(min_df=10, max_df=0.2, analyzer='word', tokenizer=my_tokenizer, ngram_range=(1,2))\n",
    "\n",
    "le = LabelEncoder()\n",
    "\n",
    "X = vect.fit_transform(df['description'].tolist() + df_jf['Vacancy'].tolist())\n",
    "y = le.fit_transform(df['seniority_level'].tolist() + df_jf['Seniority'].tolist())\n",
    "\n",
    "scaler = MaxAbsScaler()\n",
    "X_scaled = scaler.fit_transform(X)\n",
    "\n",
    "#svd = TruncatedSVD(n_components=250)\n",
    "#X_lsa = svd.fit_transform(X)"
   ]
  },
  {
   "cell_type": "code",
   "execution_count": null,
   "metadata": {},
   "outputs": [],
   "source": []
  },
  {
   "cell_type": "code",
   "execution_count": 12,
   "metadata": {},
   "outputs": [
    {
     "data": {
      "text/plain": [
       "(626, 1888)"
      ]
     },
     "execution_count": 12,
     "metadata": {},
     "output_type": "execute_result"
    }
   ],
   "source": [
    "X.shape"
   ]
  },
  {
   "cell_type": "code",
   "execution_count": null,
   "metadata": {},
   "outputs": [],
   "source": []
  },
  {
   "cell_type": "code",
   "execution_count": 13,
   "metadata": {},
   "outputs": [
    {
     "data": {
      "image/png": "[encoded data removed]",
      "text/plain": [
       "<Figure size 432x288 with 1 Axes>"
      ]
     },
     "metadata": {
      "needs_background": "light"
     },
     "output_type": "display_data"
    }
   ],
   "source": [
    "import seaborn as sns\n",
    "%matplotlib inline\n",
    "\n",
    "ax = sns.countplot(x=df['seniority_level'])"
   ]
  },
  {
   "cell_type": "code",
   "execution_count": null,
   "metadata": {},
   "outputs": [],
   "source": []
  },
  {
   "cell_type": "code",
   "execution_count": 14,
   "metadata": {},
   "outputs": [
    {
     "name": "stdout",
     "output_type": "stream",
     "text": [
      "           MultinomialNB Accuracy: 0.53 (+/- 0.02) F1: 0.50 (+/- 0.04) Log loss: -8.03 (+/- 0.89)\n",
      "      LogisticRegression Accuracy: 0.65 (+/- 0.01) F1: 0.61 (+/- 0.01) Log loss: -0.97 (+/- 0.02)\n",
      "                     SVC Accuracy: 0.62 (+/- 0.01) F1: 0.64 (+/- 0.03) Log loss: -0.81 (+/- 0.01)\n",
      "  RandomForestClassifier Accuracy: 0.65 (+/- 0.00) F1: 0.54 (+/- 0.05) Log loss: -0.79 (+/- 0.01)\n",
      "           MLPClassifier Accuracy: 0.61 (+/- 0.02) F1: 0.56 (+/- 0.05) Log loss: -1.38 (+/- 0.24)\n"
     ]
    }
   ],
   "source": [
    "from sklearn.model_selection import cross_val_score, KFold, StratifiedKFold\n",
    "from sklearn.ensemble import RandomForestClassifier\n",
    "from sklearn.neighbors import KNeighborsClassifier\n",
    "from sklearn.linear_model import LogisticRegression\n",
    "from sklearn.neural_network import MLPClassifier\n",
    "from sklearn.naive_bayes import MultinomialNB\n",
    "from sklearn.svm import SVC, LinearSVC\n",
    "\n",
    "classifiers = [\n",
    "    MultinomialNB(),\n",
    "    #LogisticRegression(solver='lbfgs', multi_class='multinomial'),\n",
    "    LogisticRegression(solver='lbfgs', max_iter=250, multi_class='multinomial', class_weight='balanced'),\n",
    "    #LinearSVC(),\n",
    "    SVC(kernel='linear', probability=True),\n",
    "    #KNeighborsClassifier(),\n",
    "    RandomForestClassifier(n_estimators=25, min_samples_split=10),\n",
    "    MLPClassifier(hidden_layer_sizes=(8,), max_iter=500),\n",
    "]\n",
    "\n",
    "classifiers[-1]._use_scaling = True\n",
    "\n",
    "for clf in classifiers:\n",
    "    accs = cross_val_score(clf, X, y, cv=StratifiedKFold(n_splits=3, shuffle=True), scoring='accuracy')\n",
    "    f1s = cross_val_score(clf, X, y, cv=StratifiedKFold(n_splits=3, shuffle=True), scoring='f1_macro')\n",
    "    lls = cross_val_score(clf, X, y, cv=StratifiedKFold(n_splits=3, shuffle=True), scoring='neg_log_loss')\n",
    "\n",
    "    print(\"{:>24} Accuracy: {:.2f} (+/- {:.2f}) F1: {:.2f} (+/- {:.2f}) Log loss: {:.2f} (+/- {:.2f})\" \\\n",
    "          .format(clf.__class__.__name__, accs.mean(), accs.std(), f1s.mean(), f1s.std(), lls.mean(), lls.std()))"
   ]
  },
  {
   "cell_type": "code",
   "execution_count": null,
   "metadata": {},
   "outputs": [],
   "source": []
  },
  {
   "cell_type": "code",
   "execution_count": 15,
   "metadata": {},
   "outputs": [
    {
     "data": {
      "text/plain": [
       "(626, 1888)"
      ]
     },
     "execution_count": 15,
     "metadata": {},
     "output_type": "execute_result"
    }
   ],
   "source": [
    "X.shape"
   ]
  },
  {
   "cell_type": "code",
   "execution_count": 16,
   "metadata": {},
   "outputs": [
    {
     "data": {
      "text/plain": [
       "(626,)"
      ]
     },
     "execution_count": 16,
     "metadata": {},
     "output_type": "execute_result"
    }
   ],
   "source": [
    "y.shape"
   ]
  },
  {
   "cell_type": "code",
   "execution_count": null,
   "metadata": {},
   "outputs": [],
   "source": []
  },
  {
   "cell_type": "code",
   "execution_count": 21,
   "metadata": {},
   "outputs": [
    {
     "data": {
      "text/plain": [
       "LogisticRegression(C=1.0, class_weight='balanced', dual=False,\n",
       "          fit_intercept=True, intercept_scaling=1, max_iter=250,\n",
       "          multi_class='multinomial', n_jobs=None, penalty='l2',\n",
       "          random_state=None, solver='lbfgs', tol=0.0001, verbose=0,\n",
       "          warm_start=False)"
      ]
     },
     "execution_count": 21,
     "metadata": {},
     "output_type": "execute_result"
    }
   ],
   "source": [
    "from sklearn.model_selection import train_test_split\n",
    "\n",
    "Xtr, Xte, ytr, yte = train_test_split(X, y, test_size=0.33, stratify=y)\n",
    "\n",
    "#clf = MultinomialNB()\n",
    "clf = LogisticRegression(solver='lbfgs', max_iter=250, multi_class='multinomial', class_weight='balanced')\n",
    "#clf = SVC(kernel='linear', probability=True)\n",
    "clf.fit(Xtr, ytr)"
   ]
  },
  {
   "cell_type": "code",
   "execution_count": null,
   "metadata": {},
   "outputs": [],
   "source": []
  },
  {
   "cell_type": "code",
   "execution_count": 22,
   "metadata": {},
   "outputs": [
    {
     "data": {
      "text/plain": [
       "(419, 1888)"
      ]
     },
     "execution_count": 22,
     "metadata": {},
     "output_type": "execute_result"
    }
   ],
   "source": [
    "Xtr.shape"
   ]
  },
  {
   "cell_type": "code",
   "execution_count": 23,
   "metadata": {},
   "outputs": [
    {
     "data": {
      "text/plain": [
       "(207, 1888)"
      ]
     },
     "execution_count": 23,
     "metadata": {},
     "output_type": "execute_result"
    }
   ],
   "source": [
    "Xte.shape"
   ]
  },
  {
   "cell_type": "code",
   "execution_count": null,
   "metadata": {},
   "outputs": [],
   "source": []
  },
  {
   "cell_type": "code",
   "execution_count": 24,
   "metadata": {},
   "outputs": [
    {
     "name": "stdout",
     "output_type": "stream",
     "text": [
      "              precision    recall  f1-score   support\n",
      "\n",
      "      Junior       0.72      0.74      0.73        95\n",
      "      Medior       0.65      0.65      0.65        84\n",
      "      Senior       0.64      0.57      0.60        28\n",
      "\n",
      "   micro avg       0.68      0.68      0.68       207\n",
      "   macro avg       0.67      0.65      0.66       207\n",
      "weighted avg       0.68      0.68      0.68       207\n",
      "\n"
     ]
    }
   ],
   "source": [
    "from sklearn.metrics import classification_report\n",
    "\n",
    "ypred = clf.predict(Xte)\n",
    "\n",
    "print(classification_report(yte, ypred, target_names=le.classes_))"
   ]
  },
  {
   "cell_type": "code",
   "execution_count": null,
   "metadata": {},
   "outputs": [],
   "source": []
  },
  {
   "cell_type": "code",
   "execution_count": 25,
   "metadata": {},
   "outputs": [
    {
     "data": {
      "text/plain": [
       "array(['Junior', 'Medior', 'Senior'], dtype='<U6')"
      ]
     },
     "execution_count": 25,
     "metadata": {},
     "output_type": "execute_result"
    }
   ],
   "source": [
    "le.classes_"
   ]
  },
  {
   "cell_type": "code",
   "execution_count": null,
   "metadata": {},
   "outputs": [],
   "source": []
  },
  {
   "cell_type": "code",
   "execution_count": 26,
   "metadata": {},
   "outputs": [
    {
     "data": {
      "image/png": "[encoded data removed]",
      "text/plain": [
       "<Figure size 432x288 with 1 Axes>"
      ]
     },
     "metadata": {
      "needs_background": "light"
     },
     "output_type": "display_data"
    }
   ],
   "source": [
    "from mlxtend.evaluate import confusion_matrix\n",
    "from mlxtend.plotting import plot_confusion_matrix\n",
    "\n",
    "fig, ax = plot_confusion_matrix(confusion_matrix(yte, ypred))"
   ]
  },
  {
   "cell_type": "code",
   "execution_count": null,
   "metadata": {},
   "outputs": [],
   "source": []
  },
  {
   "cell_type": "code",
   "execution_count": 27,
   "metadata": {
    "scrolled": true
   },
   "outputs": [
    {
     "name": "stdout",
     "output_type": "stream",
     "text": [
      "Junior: administrative tasks, package, technician, cash, experience customer, email resume, analyst, databases, level, intermediate, data entry, materials, directly email, background, entry level, 1 2, junior, 1 year, year, 1 years\n",
      "\n",
      "Medior: workers, obtain, monthly, reputable, coordinating, independently, loans, experience working, work independently, corporate, reports, development, hardware, specialist, consideration send, california, video, 3 years, 3, 2 years\n",
      "\n",
      "Senior: patient, ideal, highly preferred, metrics, law, leadership, general, engineer, support team, good, phone, account, senior, state, manage, manager, analysis, lead, 5 years, 5\n",
      "\n"
     ]
    }
   ],
   "source": [
    "import numpy as np\n",
    "\n",
    "feature_names = vect.get_feature_names()\n",
    "for i, class_label in enumerate(le.classes_):\n",
    "    top10 = np.argsort(clf.coef_[i])[-20:]\n",
    "    print(\"%s: %s\" % (class_label, \", \".join(feature_names[j] for j in top10)))\n",
    "    print()"
   ]
  },
  {
   "cell_type": "code",
   "execution_count": null,
   "metadata": {},
   "outputs": [],
   "source": []
  },
  {
   "cell_type": "code",
   "execution_count": null,
   "metadata": {},
   "outputs": [],
   "source": []
  },
  {
   "cell_type": "code",
   "execution_count": null,
   "metadata": {},
   "outputs": [],
   "source": [
    "\n"
   ]
  },
  {
   "cell_type": "code",
   "execution_count": 26,
   "metadata": {},
   "outputs": [
    {
     "name": "stdout",
     "output_type": "stream",
     "text": [
      "Warning: xgboost.XGBClassifier is not available and will not be used by TPOT.\n"
     ]
    },
    {
     "data": {
      "application/vnd.jupyter.widget-view+json": {
       "model_id": "",
       "version_major": 2,
       "version_minor": 0
      },
      "text/plain": [
       "HBox(children=(IntProgress(value=0, description='Optimization Progress', max=310, style=ProgressStyle(descript…"
      ]
     },
     "metadata": {},
     "output_type": "display_data"
    },
    {
     "name": "stdout",
     "output_type": "stream",
     "text": [
      "Generation 1 - Current best internal CV score: -0.7416689405850022\n",
      "Generation 2 - Current best internal CV score: -0.7416689405850022\n",
      "Generation 3 - Current best internal CV score: -0.7416689405850022\n",
      "Generation 4 - Current best internal CV score: -0.7416689405850022\n",
      "Generation 5 - Current best internal CV score: -0.7416689405850022\n",
      "Generation 6 - Current best internal CV score: -0.7415928656683926\n",
      "Generation 7 - Current best internal CV score: -0.7244327000259926\n",
      "Generation 8 - Current best internal CV score: -0.7244327000259926\n",
      "Generation 9 - Current best internal CV score: -0.7244327000259926\n",
      "Generation 10 - Current best internal CV score: -0.7233350893815307\n",
      "Generation 11 - Current best internal CV score: -0.7233350893815307\n",
      "Generation 12 - Current best internal CV score: -0.7233350893815307\n",
      "Generation 13 - Current best internal CV score: -0.7226786898270599\n",
      "Generation 14 - Current best internal CV score: -0.7226786898270599\n",
      "Generation 15 - Current best internal CV score: -0.716172591339378\n",
      "Generation 16 - Current best internal CV score: -0.716172591339378\n",
      "Generation 17 - Current best internal CV score: -0.7082577059169283\n",
      "Generation 18 - Current best internal CV score: -0.7082577059169283\n",
      "Generation 19 - Current best internal CV score: -0.7082577059169283\n",
      "Generation 20 - Current best internal CV score: -0.7082577059169283\n",
      "Generation 21 - Current best internal CV score: -0.7055490570432268\n",
      "Generation 22 - Current best internal CV score: -0.7055490570432268\n",
      "Generation 23 - Current best internal CV score: -0.7055490570432268\n",
      "Generation 24 - Current best internal CV score: -0.7055490570432268\n",
      "Generation 25 - Current best internal CV score: -0.7055490570432268\n",
      "Generation 26 - Current best internal CV score: -0.7055490570432268\n",
      "Generation 27 - Current best internal CV score: -0.7055490570432268\n",
      "Generation 28 - Current best internal CV score: -0.7055490570432268\n",
      "Generation 29 - Current best internal CV score: -0.7055490570432268\n",
      "Generation 30 - Current best internal CV score: -0.7055490570432268\n",
      "\n",
      "Best pipeline: RandomForestClassifier(SelectPercentile(input_matrix, percentile=30), bootstrap=False, criterion=entropy, max_features=0.1, min_samples_leaf=2, min_samples_split=6, n_estimators=100)\n",
      "-0.6192228299633066\n"
     ]
    }
   ],
   "source": [
    "from tpot import TPOTClassifier\n",
    "\n",
    "tpot = TPOTClassifier(config_dict='TPOT sparse', generations=30, population_size=10, verbosity=2,\n",
    "                      scoring='neg_log_loss', cv=5, n_jobs=4)\n",
    "tpot.fit(Xtr, ytr)\n",
    "print(tpot.score(Xte, yte))"
   ]
  },
  {
   "cell_type": "code",
   "execution_count": null,
   "metadata": {},
   "outputs": [],
   "source": []
  }
 ],
 "metadata": {
  "kernelspec": {
   "display_name": "Python 3",
   "language": "python",
   "name": "python3"
  },
  "language_info": {
   "codemirror_mode": {
    "name": "ipython",
    "version": 3
   },
   "file_extension": ".py",
   "mimetype": "text/x-python",
   "name": "python",
   "nbconvert_exporter": "python",
   "pygments_lexer": "ipython3",
   "version": "3.7.2"
  }
 },
 "nbformat": 4,
 "nbformat_minor": 2
}
