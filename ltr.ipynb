{
 "cells": [
  {
   "cell_type": "markdown",
   "metadata": {},
   "source": [
    "# Learning to Rank\n",
    "\n",
    "This notebook is about learning to rank. After working on a few related projects, i have compiled an anonymized dataset to show what you can do with such data."
   ]
  },
  {
   "cell_type": "markdown",
   "metadata": {},
   "source": [
    "## Dataset overview\n",
    "\n",
    "We'll start this with an overview of the dataset"
   ]
  },
  {
   "cell_type": "code",
   "execution_count": 1,
   "metadata": {},
   "outputs": [],
   "source": [
    "import pandas as pd\n",
    "\n",
    "df = pd.read_csv('data/ltr.csv')"
   ]
  },
  {
   "cell_type": "code",
   "execution_count": 2,
   "metadata": {},
   "outputs": [
    {
     "data": {
      "text/plain": [
       "(1709, 38)"
      ]
     },
     "execution_count": 2,
     "metadata": {},
     "output_type": "execute_result"
    }
   ],
   "source": [
    "df.shape"
   ]
  },
  {
   "cell_type": "code",
   "execution_count": 3,
   "metadata": {
    "scrolled": false
   },
   "outputs": [
    {
     "data": {
      "text/html": [
       "<div>\n",
       "<style scoped>\n",
       "    .dataframe tbody tr th:only-of-type {\n",
       "        vertical-align: middle;\n",
       "    }\n",
       "\n",
       "    .dataframe tbody tr th {\n",
       "        vertical-align: top;\n",
       "    }\n",
       "\n",
       "    .dataframe thead th {\n",
       "        text-align: right;\n",
       "    }\n",
       "</style>\n",
       "<table border=\"1\" class=\"dataframe\">\n",
       "  <thead>\n",
       "    <tr style=\"text-align: right;\">\n",
       "      <th></th>\n",
       "      <th>query_id</th>\n",
       "      <th>doc_id</th>\n",
       "      <th>rel_human</th>\n",
       "      <th>rel_clicks</th>\n",
       "      <th>D.0</th>\n",
       "      <th>D.1</th>\n",
       "      <th>D.2</th>\n",
       "      <th>D.3</th>\n",
       "      <th>Q.0</th>\n",
       "      <th>Q.1</th>\n",
       "      <th>...</th>\n",
       "      <th>QD.15</th>\n",
       "      <th>QD.16</th>\n",
       "      <th>QD.17</th>\n",
       "      <th>QD.18</th>\n",
       "      <th>QD.19</th>\n",
       "      <th>QD.20</th>\n",
       "      <th>QD.21</th>\n",
       "      <th>action</th>\n",
       "      <th>query</th>\n",
       "      <th>last_jobtitle</th>\n",
       "    </tr>\n",
       "  </thead>\n",
       "  <tbody>\n",
       "    <tr>\n",
       "      <th>0</th>\n",
       "      <td>00da8ed9-18aa-48e8-98fe-07a49241ef82</td>\n",
       "      <td>11825afc-1e6c-3e5b-8572-4ec43647fda9</td>\n",
       "      <td>2.0</td>\n",
       "      <td>0</td>\n",
       "      <td>0.1</td>\n",
       "      <td>0.1</td>\n",
       "      <td>0.4</td>\n",
       "      <td>0.533333</td>\n",
       "      <td>1.0</td>\n",
       "      <td>0.0</td>\n",
       "      <td>...</td>\n",
       "      <td>0.0</td>\n",
       "      <td>0.0</td>\n",
       "      <td>0.0</td>\n",
       "      <td>0.0</td>\n",
       "      <td>0.0</td>\n",
       "      <td>0.0</td>\n",
       "      <td>0.059649</td>\n",
       "      <td>SaveResume</td>\n",
       "      <td>school psychologist</td>\n",
       "      <td>Psychologist</td>\n",
       "    </tr>\n",
       "    <tr>\n",
       "      <th>1</th>\n",
       "      <td>00da8ed9-18aa-48e8-98fe-07a49241ef82</td>\n",
       "      <td>2adc9883-3e32-3e1f-96ef-2a9bcd0cbe57</td>\n",
       "      <td>1.0</td>\n",
       "      <td>0</td>\n",
       "      <td>0.2</td>\n",
       "      <td>0.1</td>\n",
       "      <td>0.4</td>\n",
       "      <td>0.000000</td>\n",
       "      <td>1.0</td>\n",
       "      <td>0.0</td>\n",
       "      <td>...</td>\n",
       "      <td>0.0</td>\n",
       "      <td>0.0</td>\n",
       "      <td>0.0</td>\n",
       "      <td>0.0</td>\n",
       "      <td>0.0</td>\n",
       "      <td>0.0</td>\n",
       "      <td>0.059649</td>\n",
       "      <td>SaveResume</td>\n",
       "      <td>school psychologist</td>\n",
       "      <td>Psychologist</td>\n",
       "    </tr>\n",
       "    <tr>\n",
       "      <th>2</th>\n",
       "      <td>00da8ed9-18aa-48e8-98fe-07a49241ef82</td>\n",
       "      <td>e02cca7b-837c-3dcc-bdbb-5cff9975a20b</td>\n",
       "      <td>1.0</td>\n",
       "      <td>0</td>\n",
       "      <td>0.2</td>\n",
       "      <td>0.1</td>\n",
       "      <td>0.4</td>\n",
       "      <td>0.433333</td>\n",
       "      <td>1.0</td>\n",
       "      <td>0.0</td>\n",
       "      <td>...</td>\n",
       "      <td>0.0</td>\n",
       "      <td>0.0</td>\n",
       "      <td>0.0</td>\n",
       "      <td>0.0</td>\n",
       "      <td>0.0</td>\n",
       "      <td>0.0</td>\n",
       "      <td>0.127225</td>\n",
       "      <td>-</td>\n",
       "      <td>school psychologist</td>\n",
       "      <td>Research Psychologist</td>\n",
       "    </tr>\n",
       "    <tr>\n",
       "      <th>3</th>\n",
       "      <td>00da8ed9-18aa-48e8-98fe-07a49241ef82</td>\n",
       "      <td>db17e3c3-f4e8-3ce0-ac39-b700130358cf</td>\n",
       "      <td>1.0</td>\n",
       "      <td>0</td>\n",
       "      <td>0.2</td>\n",
       "      <td>0.1</td>\n",
       "      <td>0.4</td>\n",
       "      <td>0.666667</td>\n",
       "      <td>1.0</td>\n",
       "      <td>0.0</td>\n",
       "      <td>...</td>\n",
       "      <td>0.0</td>\n",
       "      <td>0.0</td>\n",
       "      <td>0.0</td>\n",
       "      <td>0.0</td>\n",
       "      <td>0.0</td>\n",
       "      <td>0.0</td>\n",
       "      <td>0.117020</td>\n",
       "      <td>-</td>\n",
       "      <td>school psychologist</td>\n",
       "      <td>Licensed Clinical Psychologist</td>\n",
       "    </tr>\n",
       "    <tr>\n",
       "      <th>4</th>\n",
       "      <td>00da8ed9-18aa-48e8-98fe-07a49241ef82</td>\n",
       "      <td>3f1a6869-5de4-3673-bc5f-9b859efe25b7</td>\n",
       "      <td>2.0</td>\n",
       "      <td>0</td>\n",
       "      <td>0.2</td>\n",
       "      <td>0.1</td>\n",
       "      <td>0.4</td>\n",
       "      <td>0.500000</td>\n",
       "      <td>1.0</td>\n",
       "      <td>0.0</td>\n",
       "      <td>...</td>\n",
       "      <td>0.0</td>\n",
       "      <td>0.0</td>\n",
       "      <td>0.0</td>\n",
       "      <td>0.0</td>\n",
       "      <td>0.0</td>\n",
       "      <td>0.0</td>\n",
       "      <td>0.117020</td>\n",
       "      <td>-</td>\n",
       "      <td>school psychologist</td>\n",
       "      <td>Continuing Care Clinical Psychologist</td>\n",
       "    </tr>\n",
       "  </tbody>\n",
       "</table>\n",
       "<p>5 rows × 38 columns</p>\n",
       "</div>"
      ],
      "text/plain": [
       "                               query_id                                doc_id  \\\n",
       "0  00da8ed9-18aa-48e8-98fe-07a49241ef82  11825afc-1e6c-3e5b-8572-4ec43647fda9   \n",
       "1  00da8ed9-18aa-48e8-98fe-07a49241ef82  2adc9883-3e32-3e1f-96ef-2a9bcd0cbe57   \n",
       "2  00da8ed9-18aa-48e8-98fe-07a49241ef82  e02cca7b-837c-3dcc-bdbb-5cff9975a20b   \n",
       "3  00da8ed9-18aa-48e8-98fe-07a49241ef82  db17e3c3-f4e8-3ce0-ac39-b700130358cf   \n",
       "4  00da8ed9-18aa-48e8-98fe-07a49241ef82  3f1a6869-5de4-3673-bc5f-9b859efe25b7   \n",
       "\n",
       "   rel_human  rel_clicks  D.0  D.1  D.2       D.3  Q.0  Q.1  \\\n",
       "0        2.0           0  0.1  0.1  0.4  0.533333  1.0  0.0   \n",
       "1        1.0           0  0.2  0.1  0.4  0.000000  1.0  0.0   \n",
       "2        1.0           0  0.2  0.1  0.4  0.433333  1.0  0.0   \n",
       "3        1.0           0  0.2  0.1  0.4  0.666667  1.0  0.0   \n",
       "4        2.0           0  0.2  0.1  0.4  0.500000  1.0  0.0   \n",
       "\n",
       "                   ...                    QD.15  QD.16  QD.17  QD.18  QD.19  \\\n",
       "0                  ...                      0.0    0.0    0.0    0.0    0.0   \n",
       "1                  ...                      0.0    0.0    0.0    0.0    0.0   \n",
       "2                  ...                      0.0    0.0    0.0    0.0    0.0   \n",
       "3                  ...                      0.0    0.0    0.0    0.0    0.0   \n",
       "4                  ...                      0.0    0.0    0.0    0.0    0.0   \n",
       "\n",
       "   QD.20     QD.21      action                query  \\\n",
       "0    0.0  0.059649  SaveResume  school psychologist   \n",
       "1    0.0  0.059649  SaveResume  school psychologist   \n",
       "2    0.0  0.127225           -  school psychologist   \n",
       "3    0.0  0.117020           -  school psychologist   \n",
       "4    0.0  0.117020           -  school psychologist   \n",
       "\n",
       "                           last_jobtitle  \n",
       "0                           Psychologist  \n",
       "1                           Psychologist  \n",
       "2                  Research Psychologist  \n",
       "3         Licensed Clinical Psychologist  \n",
       "4  Continuing Care Clinical Psychologist  \n",
       "\n",
       "[5 rows x 38 columns]"
      ]
     },
     "execution_count": 3,
     "metadata": {},
     "output_type": "execute_result"
    }
   ],
   "source": [
    "df.head()"
   ]
  },
  {
   "cell_type": "markdown",
   "metadata": {},
   "source": [
    "Above we have taken a first look at the dataset, we have 1709 rows of data, and 38 columns of identifiers, annotations, click actions, features and document information.\n",
    "\n",
    "The dataset is about matching job seekers with jobs.\n",
    "\n",
    "Some explanation of the columns:\n",
    "* **query_id/doc_id** : query and document identifiers\n",
    "* **rel_human/rel_clicks** : relevance as determined by human annotation and as extracted from logging data\n",
    "* **action** : The action(s) observed in the logs for this query and search result\n",
    "* **D...** : Document related features\n",
    "* **Q...** : Query related features\n",
    "* **QD...** : Query-document or matching related features\n",
    "* **query/last_jobtitle** : The query and jobtitle of this person.\n",
    "\n",
    "The columns starting with DOC... QUERY... or QUERY_DOC... are features available for modelling later on. The query and jobtitle are there to allow understandeable display of results."
   ]
  },
  {
   "cell_type": "markdown",
   "metadata": {},
   "source": [
    "## Looking for relations\n",
    "\n",
    "First thing to do it, inspect the dataset for relations. Our end goal is using Learning to Rank (LTR) to improve the order of search results, to get the best results to the top of the list.\n",
    "\n",
    "But first we need to see if and what relations exist in the data and if there is any variables that we could use to improve the ordering.\n",
    "\n",
    "First off, how often do we observe the various actions and how do they relate to the human assessed relevance?"
   ]
  },
  {
   "cell_type": "code",
   "execution_count": 16,
   "metadata": {},
   "outputs": [
    {
     "data": {
      "text/plain": [
       "action\n",
       "-                 1396\n",
       "DownloadResume     124\n",
       "ForwardResume       29\n",
       "GetResume          157\n",
       "SaveResume           3\n",
       "dtype: int64"
      ]
     },
     "execution_count": 16,
     "metadata": {},
     "output_type": "execute_result"
    }
   ],
   "source": [
    "df.groupby('action').size()"
   ]
  },
  {
   "cell_type": "code",
   "execution_count": 17,
   "metadata": {},
   "outputs": [
    {
     "data": {
      "image/png": "[encoded data removed]",
      "text/plain": [
       "<Figure size 432x288 with 1 Axes>"
      ]
     },
     "metadata": {},
     "output_type": "display_data"
    }
   ],
   "source": [
    "import seaborn as sns\n",
    "\n",
    "%matplotlib inline\n",
    "\n",
    "df['action'].fillna('-', inplace=True)\n",
    "\n",
    "_ = sns.countplot(df['action'])"
   ]
  },
  {
   "cell_type": "markdown",
   "metadata": {},
   "source": [
    "So most common, users do nothing with the results ;-) Second is inspection and viewing ('Get', 'Download') and then comes the rest.\n",
    "\n",
    "Let's see how these actions relate to human assessed relevance?"
   ]
  },
  {
   "cell_type": "code",
   "execution_count": 18,
   "metadata": {},
   "outputs": [
    {
     "data": {
      "image/png": "[encoded data removed]",
      "text/plain": [
       "<Figure size 432x288 with 1 Axes>"
      ]
     },
     "metadata": {},
     "output_type": "display_data"
    }
   ],
   "source": [
    "colours = [(0.8, 0.2, 0.2), (0.9, 0.8, 0.1), (0.2, 0.8, 0.2)]\n",
    "\n",
    "_ = pd.crosstab(df['action'], df['rel_human']).apply(lambda r: r/r.sum(), axis=1).plot.bar(stacked=True, color=colours)"
   ]
  },
  {
   "cell_type": "code",
   "execution_count": 19,
   "metadata": {},
   "outputs": [
    {
     "data": {
      "image/png": "[encoded data removed]",
      "text/plain": [
       "<Figure size 432x288 with 1 Axes>"
      ]
     },
     "metadata": {},
     "output_type": "display_data"
    }
   ],
   "source": [
    "_ = sns.barplot(x=df['action'], y=df['rel_human'])"
   ]
  },
  {
   "cell_type": "markdown",
   "metadata": {},
   "source": [
    "What the plots show, there seems to be a relation between the actions and the relevance. Different actions show a different mean relevance and the distribution of relevances is quite different between the actions.\n",
    "\n",
    "It appears the 'Download' and 'Forward' actions show a positive relation with high relevance. While the 'Get' action is less clear. Finally the 'Save' action occurs to infrequent to say much.\n",
    "\n",
    "From the product this data was gathered from, these relations make sense: Users can click on search results to expand them and see more detail (The 'Get' action) and then they can choose to 'Download' or 'Forward' resumes if they appear interesting.\n",
    "\n",
    "This tells us those signals could be usefull inputs for a LTR machine learning model."
   ]
  },
  {
   "cell_type": "markdown",
   "metadata": {},
   "source": [
    "## Statistical tests\n",
    "\n",
    "Out of curiosity and for practise i will also do a statistical test to confirm or disprove there is a relation between the action and the human assessed relevance.\n",
    "\n",
    "* **Null Hypothesis**: There is no relationship between action and human assessment\n",
    "* **Alternative Hypothesis**: There is a relationship between action and human assessment.\n",
    "\n",
    "Because both variables are categorical, we need to use a Chi-squared test.\n",
    "\n",
    "So let's see!"
   ]
  },
  {
   "cell_type": "code",
   "execution_count": 8,
   "metadata": {},
   "outputs": [
    {
     "data": {
      "text/html": [
       "<div>\n",
       "<style scoped>\n",
       "    .dataframe tbody tr th:only-of-type {\n",
       "        vertical-align: middle;\n",
       "    }\n",
       "\n",
       "    .dataframe tbody tr th {\n",
       "        vertical-align: top;\n",
       "    }\n",
       "\n",
       "    .dataframe thead th {\n",
       "        text-align: right;\n",
       "    }\n",
       "</style>\n",
       "<table border=\"1\" class=\"dataframe\">\n",
       "  <thead>\n",
       "    <tr style=\"text-align: right;\">\n",
       "      <th>rel_human</th>\n",
       "      <th>0.0</th>\n",
       "      <th>1.0</th>\n",
       "      <th>2.0</th>\n",
       "    </tr>\n",
       "    <tr>\n",
       "      <th>action</th>\n",
       "      <th></th>\n",
       "      <th></th>\n",
       "      <th></th>\n",
       "    </tr>\n",
       "  </thead>\n",
       "  <tbody>\n",
       "    <tr>\n",
       "      <th>-</th>\n",
       "      <td>264</td>\n",
       "      <td>370</td>\n",
       "      <td>762</td>\n",
       "    </tr>\n",
       "    <tr>\n",
       "      <th>DownloadResume</th>\n",
       "      <td>6</td>\n",
       "      <td>30</td>\n",
       "      <td>88</td>\n",
       "    </tr>\n",
       "    <tr>\n",
       "      <th>ForwardResume</th>\n",
       "      <td>0</td>\n",
       "      <td>3</td>\n",
       "      <td>26</td>\n",
       "    </tr>\n",
       "    <tr>\n",
       "      <th>GetResume</th>\n",
       "      <td>26</td>\n",
       "      <td>65</td>\n",
       "      <td>66</td>\n",
       "    </tr>\n",
       "    <tr>\n",
       "      <th>SaveResume</th>\n",
       "      <td>0</td>\n",
       "      <td>2</td>\n",
       "      <td>1</td>\n",
       "    </tr>\n",
       "  </tbody>\n",
       "</table>\n",
       "</div>"
      ],
      "text/plain": [
       "rel_human       0.0  1.0  2.0\n",
       "action                       \n",
       "-               264  370  762\n",
       "DownloadResume    6   30   88\n",
       "ForwardResume     0    3   26\n",
       "GetResume        26   65   66\n",
       "SaveResume        0    2    1"
      ]
     },
     "execution_count": 8,
     "metadata": {},
     "output_type": "execute_result"
    }
   ],
   "source": [
    "contingency_table = pd.crosstab(df['action'], df['rel_human'])\n",
    "\n",
    "contingency_table"
   ]
  },
  {
   "cell_type": "code",
   "execution_count": 9,
   "metadata": {},
   "outputs": [
    {
     "name": "stdout",
     "output_type": "stream",
     "text": [
      "Chi^2 = 52.7, P-value = 0.00, DoF = 8\n"
     ]
    }
   ],
   "source": [
    "from scipy.stats import chi2_contingency\n",
    "\n",
    "chi2, p, dof, _ = chi2_contingency(contingency_table)\n",
    "\n",
    "print(\"Chi^2 = {:.1f}, P-value = {:.2f}, DoF = {}\".format(chi2, p, dof))"
   ]
  },
  {
   "cell_type": "markdown",
   "metadata": {},
   "source": [
    "The result of this test confirms there is a relationship, we accept the alternative hypothesis. "
   ]
  },
  {
   "cell_type": "markdown",
   "metadata": {},
   "source": [
    "## Feature correlation?\n",
    "\n",
    "The next thing that interested me, if there is correlation between the annotated relevance and any of the features?"
   ]
  },
  {
   "cell_type": "code",
   "execution_count": 25,
   "metadata": {},
   "outputs": [
    {
     "data": {
      "image/png": "[encoded data removed]",
      "text/plain": [
       "<Figure size 576x1008 with 2 Axes>"
      ]
     },
     "metadata": {},
     "output_type": "display_data"
    }
   ],
   "source": [
    "from matplotlib import pyplot as plt\n",
    "\n",
    "feats_cols = ['rel_human'] + [x for x in df.columns if x.split('.')[0] in ('DOCUMENT', 'QUERY', 'CUSTOM_CLASS')]\n",
    "\n",
    "plt.figure(figsize = (8,14))\n",
    "_ = sns.heatmap(df[feats_cols].corr()[['rel_human']])\n",
    "\n",
    "#df[feats_cols].corr()[['rel_human']]"
   ]
  },
  {
   "cell_type": "markdown",
   "metadata": {},
   "source": [
    "It appears there is some nice correlations. Let's see what our LTR model can make of it?!"
   ]
  },
  {
   "cell_type": "markdown",
   "metadata": {},
   "source": [
    "## Tossing it into a model!\n",
    "\n",
    "For reranking we will use LightGBM library. That has a nice python interface and provides reranking functionality.\n",
    "\n",
    "First we prepare the data. For ranking this is slightly different than usual:\n",
    "\n",
    "* **X** -> the features\n",
    "* **y** -> the relevance labels, note we are not going to predict this label, but instead only try to optimize the order!\n",
    "* **groups** -> the samples are grouped per query, since relevance only matters within a query\n"
   ]
  },
  {
   "cell_type": "code",
   "execution_count": 5,
   "metadata": {},
   "outputs": [],
   "source": [
    "df = df[df['rel_human'].isna() == False]\n",
    "\n",
    "X = df[[x for x in df.columns if x.split('.')[0] in ('D', 'Q', 'QD')]]\n",
    "y = df['rel_human']\n",
    "groups = df['query_id']"
   ]
  },
  {
   "cell_type": "markdown",
   "metadata": {},
   "source": [
    "Now we create a train and test set."
   ]
  },
  {
   "cell_type": "code",
   "execution_count": 6,
   "metadata": {},
   "outputs": [],
   "source": [
    "import numpy as np\n",
    "\n",
    "unique_groups = groups.unique()\n",
    "\n",
    "train_groups = set(np.random.choice(unique_groups, size=int(len(unique_groups)*0.75)))\n",
    "\n",
    "train_indices = groups.map(lambda z: z in train_groups)\n",
    "test_indices = groups.map(lambda z: z not in train_groups)\n",
    "\n",
    "X_train = X[train_indices]\n",
    "X_test = X[test_indices]\n",
    "\n",
    "y_train = y[train_indices]\n",
    "y_test = y[test_indices]\n",
    "\n",
    "groups_train = groups[train_indices]\n",
    "groups_test = groups[test_indices]\n",
    "                     \n",
    "groups_train = pd.Series(groups_train).groupby(groups_train).size()\n",
    "groups_test = pd.Series(groups_test).groupby(groups_test).size()"
   ]
  },
  {
   "cell_type": "markdown",
   "metadata": {},
   "source": [
    "An finally we can put the data into our model."
   ]
  },
  {
   "cell_type": "code",
   "execution_count": 7,
   "metadata": {},
   "outputs": [
    {
     "name": "stdout",
     "output_type": "stream",
     "text": [
      "[5]\ttraining's ndcg@10: 0.951931\tvalid_0's ndcg@10: 0.932954\n",
      "[10]\ttraining's ndcg@10: 0.962511\tvalid_0's ndcg@10: 0.936641\n",
      "[15]\ttraining's ndcg@10: 0.966654\tvalid_0's ndcg@10: 0.938942\n",
      "[20]\ttraining's ndcg@10: 0.969931\tvalid_0's ndcg@10: 0.938707\n",
      "[25]\ttraining's ndcg@10: 0.970102\tvalid_0's ndcg@10: 0.934231\n"
     ]
    },
    {
     "data": {
      "text/plain": [
       "LGBMRanker(boosting_type='gbdt', class_weight=None, colsample_bytree=0.75,\n",
       "      learning_rate=0.1, max_depth=-1, min_child_samples=20,\n",
       "      min_child_weight=0.001, min_split_gain=0.0, n_estimators=25,\n",
       "      n_jobs=-1, num_leaves=7, objective=None, random_state=None,\n",
       "      reg_alpha=0.0, reg_lambda=0.0, silent=True, subsample=1.0,\n",
       "      subsample_for_bin=200000, subsample_freq=1)"
      ]
     },
     "execution_count": 7,
     "metadata": {},
     "output_type": "execute_result"
    }
   ],
   "source": [
    "from lightgbm import LGBMRanker\n",
    "\n",
    "model = LGBMRanker(n_estimators=25, num_leaves=7, colsample_bytree=0.75)\n",
    "\n",
    "model.fit(X_train, y_train, group=groups_train,\n",
    "          eval_set=[(X_test, y_test), (X_train, y_train)], eval_group=[groups_test, groups_train],\n",
    "          eval_at=[10], verbose=5)"
   ]
  },
  {
   "cell_type": "markdown",
   "metadata": {},
   "source": [
    "As a first inspection, we'll plot the score increase as the model trains. This should show a nice upward slope which flattens off."
   ]
  },
  {
   "cell_type": "code",
   "execution_count": 8,
   "metadata": {},
   "outputs": [
    {
     "data": {
      "text/plain": [
       "<matplotlib.axes._subplots.AxesSubplot at 0x7f999c3a27b8>"
      ]
     },
     "execution_count": 8,
     "metadata": {},
     "output_type": "execute_result"
    },
    {
     "data": {
      "image/png": "[encoded data removed]",
      "text/plain": [
       "<Figure size 936x504 with 1 Axes>"
      ]
     },
     "metadata": {},
     "output_type": "display_data"
    }
   ],
   "source": [
    "from lightgbm import plot_metric\n",
    "\n",
    "%matplotlib inline\n",
    "\n",
    "plot_metric(model, metric='ndcg@10', figsize=(13,7))"
   ]
  },
  {
   "cell_type": "markdown",
   "metadata": {},
   "source": [
    "It should also be interesting to see which features the model has relied on for the predictions?"
   ]
  },
  {
   "cell_type": "code",
   "execution_count": 9,
   "metadata": {},
   "outputs": [
    {
     "data": {
      "text/plain": [
       "<matplotlib.axes._subplots.AxesSubplot at 0x7f999c329e48>"
      ]
     },
     "execution_count": 9,
     "metadata": {},
     "output_type": "execute_result"
    },
    {
     "data": {
      "image/png": "[encoded data removed]",
      "text/plain": [
       "<Figure size 648x864 with 1 Axes>"
      ]
     },
     "metadata": {},
     "output_type": "display_data"
    }
   ],
   "source": [
    "from lightgbm import plot_importance\n",
    "\n",
    "plot_importance(model, max_num_features=25, figsize=(9,12))"
   ]
  },
  {
   "cell_type": "markdown",
   "metadata": {},
   "source": [
    "## Finally: Inspecting prediction?\n",
    "\n",
    "Now that we have a model that seems to improve quality of the ranking, let's see what it does to a list of search results? How does the model affect the result order? Do we like what we see?"
   ]
  },
  {
   "cell_type": "code",
   "execution_count": 54,
   "metadata": {},
   "outputs": [
    {
     "name": "stderr",
     "output_type": "stream",
     "text": [
      "/home/dehling/Documents/machine-learnings/lib/python3.5/site-packages/ipykernel_launcher.py:5: SettingWithCopyWarning: \n",
      "A value is trying to be set on a copy of a slice from a DataFrame.\n",
      "Try using .loc[row_indexer,col_indexer] = value instead\n",
      "\n",
      "See the caveats in the documentation: http://pandas.pydata.org/pandas-docs/stable/indexing.html#indexing-view-versus-copy\n",
      "  \"\"\"\n"
     ]
    }
   ],
   "source": [
    "df_pred = df[df['query_id'] == 'b1dea2de-dad9-4e7f-9b30-0759bd6ae1bd']\n",
    "\n",
    "X_pred = df_pred[[x for x in df.columns if x.split('.')[0] in ('D', 'Q', 'QD')]]\n",
    "\n",
    "df_pred['model_scores'] = model.predict(X_pred)"
   ]
  },
  {
   "cell_type": "code",
   "execution_count": 55,
   "metadata": {},
   "outputs": [
    {
     "data": {
      "text/html": [
       "<div>\n",
       "<style scoped>\n",
       "    .dataframe tbody tr th:only-of-type {\n",
       "        vertical-align: middle;\n",
       "    }\n",
       "\n",
       "    .dataframe tbody tr th {\n",
       "        vertical-align: top;\n",
       "    }\n",
       "\n",
       "    .dataframe thead th {\n",
       "        text-align: right;\n",
       "    }\n",
       "</style>\n",
       "<table border=\"1\" class=\"dataframe\">\n",
       "  <thead>\n",
       "    <tr style=\"text-align: right;\">\n",
       "      <th></th>\n",
       "      <th>rel_human</th>\n",
       "      <th>model_scores</th>\n",
       "      <th>QD.rank</th>\n",
       "      <th>query</th>\n",
       "      <th>last_jobtitle</th>\n",
       "    </tr>\n",
       "  </thead>\n",
       "  <tbody>\n",
       "    <tr>\n",
       "      <th>1705</th>\n",
       "      <td>2.0</td>\n",
       "      <td>0.274862</td>\n",
       "      <td>3.0</td>\n",
       "      <td>(\"PMC Technician\" OR \"Preventative Maintenance...</td>\n",
       "      <td>Technician</td>\n",
       "    </tr>\n",
       "    <tr>\n",
       "      <th>1703</th>\n",
       "      <td>1.0</td>\n",
       "      <td>0.172677</td>\n",
       "      <td>1.0</td>\n",
       "      <td>(\"PMC Technician\" OR \"Preventative Maintenance...</td>\n",
       "      <td>Technician</td>\n",
       "    </tr>\n",
       "    <tr>\n",
       "      <th>1708</th>\n",
       "      <td>2.0</td>\n",
       "      <td>0.105317</td>\n",
       "      <td>6.0</td>\n",
       "      <td>(\"PMC Technician\" OR \"Preventative Maintenance...</td>\n",
       "      <td>Technician</td>\n",
       "    </tr>\n",
       "    <tr>\n",
       "      <th>1704</th>\n",
       "      <td>1.0</td>\n",
       "      <td>-0.243204</td>\n",
       "      <td>2.0</td>\n",
       "      <td>(\"PMC Technician\" OR \"Preventative Maintenance...</td>\n",
       "      <td>Assembler</td>\n",
       "    </tr>\n",
       "    <tr>\n",
       "      <th>1706</th>\n",
       "      <td>1.0</td>\n",
       "      <td>-0.362718</td>\n",
       "      <td>4.0</td>\n",
       "      <td>(\"PMC Technician\" OR \"Preventative Maintenance...</td>\n",
       "      <td>Design Engineer, 3D CAD Designer</td>\n",
       "    </tr>\n",
       "    <tr>\n",
       "      <th>1707</th>\n",
       "      <td>1.0</td>\n",
       "      <td>-0.362718</td>\n",
       "      <td>5.0</td>\n",
       "      <td>(\"PMC Technician\" OR \"Preventative Maintenance...</td>\n",
       "      <td>NaN</td>\n",
       "    </tr>\n",
       "  </tbody>\n",
       "</table>\n",
       "</div>"
      ],
      "text/plain": [
       "      rel_human  model_scores  QD.rank  \\\n",
       "1705        2.0      0.274862      3.0   \n",
       "1703        1.0      0.172677      1.0   \n",
       "1708        2.0      0.105317      6.0   \n",
       "1704        1.0     -0.243204      2.0   \n",
       "1706        1.0     -0.362718      4.0   \n",
       "1707        1.0     -0.362718      5.0   \n",
       "\n",
       "                                                  query  \\\n",
       "1705  (\"PMC Technician\" OR \"Preventative Maintenance...   \n",
       "1703  (\"PMC Technician\" OR \"Preventative Maintenance...   \n",
       "1708  (\"PMC Technician\" OR \"Preventative Maintenance...   \n",
       "1704  (\"PMC Technician\" OR \"Preventative Maintenance...   \n",
       "1706  (\"PMC Technician\" OR \"Preventative Maintenance...   \n",
       "1707  (\"PMC Technician\" OR \"Preventative Maintenance...   \n",
       "\n",
       "                         last_jobtitle  \n",
       "1705                        Technician  \n",
       "1703                        Technician  \n",
       "1708                        Technician  \n",
       "1704                         Assembler  \n",
       "1706  Design Engineer, 3D CAD Designer  \n",
       "1707                               NaN  "
      ]
     },
     "execution_count": 55,
     "metadata": {},
     "output_type": "execute_result"
    }
   ],
   "source": [
    "df_pred[['rel_human', 'model_scores', 'QD.rank', 'query', 'last_jobtitle']] \\\n",
    "    .sort_values(by='model_scores', ascending=False)"
   ]
  },
  {
   "cell_type": "markdown",
   "metadata": {},
   "source": [
    "The table above show us the re-ordered results for a query for a 'PMC Technician'. A few of the lower ranking results (see original_rank column) have moved up, and those have been relevant results (see rel_human column). So in this example, the reranker has done a good job!\n",
    "\n",
    "Let's look at another result."
   ]
  },
  {
   "cell_type": "code",
   "execution_count": 10,
   "metadata": {},
   "outputs": [
    {
     "name": "stderr",
     "output_type": "stream",
     "text": [
      "/home/dehling/Documents/machine-learnings/lib/python3.5/site-packages/ipykernel_launcher.py:5: SettingWithCopyWarning: \n",
      "A value is trying to be set on a copy of a slice from a DataFrame.\n",
      "Try using .loc[row_indexer,col_indexer] = value instead\n",
      "\n",
      "See the caveats in the documentation: http://pandas.pydata.org/pandas-docs/stable/indexing.html#indexing-view-versus-copy\n",
      "  \"\"\"\n"
     ]
    }
   ],
   "source": [
    "df_pred = df[df['query_id'] == 'a49fec79-3b4d-48dd-9679-1aa1ef09f082']\n",
    "\n",
    "X_pred = df_pred[[x for x in df.columns if x.split('.')[0] in ('D', 'Q', 'QD')]]\n",
    "\n",
    "df_pred['model_scores'] = model.predict(X_pred)"
   ]
  },
  {
   "cell_type": "code",
   "execution_count": 11,
   "metadata": {},
   "outputs": [
    {
     "data": {
      "text/html": [
       "<div>\n",
       "<style scoped>\n",
       "    .dataframe tbody tr th:only-of-type {\n",
       "        vertical-align: middle;\n",
       "    }\n",
       "\n",
       "    .dataframe tbody tr th {\n",
       "        vertical-align: top;\n",
       "    }\n",
       "\n",
       "    .dataframe thead th {\n",
       "        text-align: right;\n",
       "    }\n",
       "</style>\n",
       "<table border=\"1\" class=\"dataframe\">\n",
       "  <thead>\n",
       "    <tr style=\"text-align: right;\">\n",
       "      <th></th>\n",
       "      <th>rel_human</th>\n",
       "      <th>model_scores</th>\n",
       "      <th>QD.rank</th>\n",
       "      <th>query</th>\n",
       "      <th>last_jobtitle</th>\n",
       "    </tr>\n",
       "  </thead>\n",
       "  <tbody>\n",
       "    <tr>\n",
       "      <th>1634</th>\n",
       "      <td>2.0</td>\n",
       "      <td>0.527631</td>\n",
       "      <td>2.0</td>\n",
       "      <td>\"marketing\" AND \"business intelligence\" AND \"t...</td>\n",
       "      <td>Business Analyst</td>\n",
       "    </tr>\n",
       "    <tr>\n",
       "      <th>1633</th>\n",
       "      <td>2.0</td>\n",
       "      <td>0.414389</td>\n",
       "      <td>1.0</td>\n",
       "      <td>\"marketing\" AND \"business intelligence\" AND \"t...</td>\n",
       "      <td>Assistant Business &amp; Advertising Manager</td>\n",
       "    </tr>\n",
       "    <tr>\n",
       "      <th>1635</th>\n",
       "      <td>1.0</td>\n",
       "      <td>0.187150</td>\n",
       "      <td>3.0</td>\n",
       "      <td>\"marketing\" AND \"business intelligence\" AND \"t...</td>\n",
       "      <td>ANALYST INTERN</td>\n",
       "    </tr>\n",
       "    <tr>\n",
       "      <th>1636</th>\n",
       "      <td>0.0</td>\n",
       "      <td>-0.159523</td>\n",
       "      <td>4.0</td>\n",
       "      <td>\"marketing\" AND \"business intelligence\" AND \"t...</td>\n",
       "      <td>Sr. Data Scientist</td>\n",
       "    </tr>\n",
       "    <tr>\n",
       "      <th>1637</th>\n",
       "      <td>1.0</td>\n",
       "      <td>-0.331828</td>\n",
       "      <td>5.0</td>\n",
       "      <td>\"marketing\" AND \"business intelligence\" AND \"t...</td>\n",
       "      <td>NaN</td>\n",
       "    </tr>\n",
       "  </tbody>\n",
       "</table>\n",
       "</div>"
      ],
      "text/plain": [
       "      rel_human  model_scores  QD.rank  \\\n",
       "1634        2.0      0.527631      2.0   \n",
       "1633        2.0      0.414389      1.0   \n",
       "1635        1.0      0.187150      3.0   \n",
       "1636        0.0     -0.159523      4.0   \n",
       "1637        1.0     -0.331828      5.0   \n",
       "\n",
       "                                                  query  \\\n",
       "1634  \"marketing\" AND \"business intelligence\" AND \"t...   \n",
       "1633  \"marketing\" AND \"business intelligence\" AND \"t...   \n",
       "1635  \"marketing\" AND \"business intelligence\" AND \"t...   \n",
       "1636  \"marketing\" AND \"business intelligence\" AND \"t...   \n",
       "1637  \"marketing\" AND \"business intelligence\" AND \"t...   \n",
       "\n",
       "                                 last_jobtitle  \n",
       "1634                          Business Analyst  \n",
       "1633  Assistant Business & Advertising Manager  \n",
       "1635                            ANALYST INTERN  \n",
       "1636                        Sr. Data Scientist  \n",
       "1637                                       NaN  "
      ]
     },
     "execution_count": 11,
     "metadata": {},
     "output_type": "execute_result"
    }
   ],
   "source": [
    "df_pred[['rel_human', 'model_scores', 'QD.rank', 'query', 'last_jobtitle']] \\\n",
    "    .sort_values(by='model_scores', ascending=False)"
   ]
  },
  {
   "cell_type": "code",
   "execution_count": null,
   "metadata": {},
   "outputs": [],
   "source": []
  }
 ],
 "metadata": {
  "kernelspec": {
   "display_name": "Python 3",
   "language": "python",
   "name": "python3"
  },
  "language_info": {
   "codemirror_mode": {
    "name": "ipython",
    "version": 3
   },
   "file_extension": ".py",
   "mimetype": "text/x-python",
   "name": "python",
   "nbconvert_exporter": "python",
   "pygments_lexer": "ipython3",
   "version": "3.5.3"
  }
 },
 "nbformat": 4,
 "nbformat_minor": 2
}
