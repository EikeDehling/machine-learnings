{
 "cells": [
  {
   "cell_type": "code",
   "execution_count": 2,
   "metadata": {},
   "outputs": [],
   "source": [
    "import pandas as pd\n",
    "\n",
    "df = pd.read_csv('data/twitter-hate-speech.csv', index_col=0)"
   ]
  },
  {
   "cell_type": "code",
   "execution_count": 3,
   "metadata": {},
   "outputs": [
    {
     "data": {
      "text/html": [
       "<div>\n",
       "<style scoped>\n",
       "    .dataframe tbody tr th:only-of-type {\n",
       "        vertical-align: middle;\n",
       "    }\n",
       "\n",
       "    .dataframe tbody tr th {\n",
       "        vertical-align: top;\n",
       "    }\n",
       "\n",
       "    .dataframe thead th {\n",
       "        text-align: right;\n",
       "    }\n",
       "</style>\n",
       "<table border=\"1\" class=\"dataframe\">\n",
       "  <thead>\n",
       "    <tr style=\"text-align: right;\">\n",
       "      <th></th>\n",
       "      <th>count</th>\n",
       "      <th>hate_speech</th>\n",
       "      <th>offensive_language</th>\n",
       "      <th>neither</th>\n",
       "      <th>class</th>\n",
       "      <th>tweet</th>\n",
       "    </tr>\n",
       "  </thead>\n",
       "  <tbody>\n",
       "    <tr>\n",
       "      <th>0</th>\n",
       "      <td>3</td>\n",
       "      <td>0</td>\n",
       "      <td>0</td>\n",
       "      <td>3</td>\n",
       "      <td>2</td>\n",
       "      <td>!!! RT @mayasolovely: As a woman you shouldn't...</td>\n",
       "    </tr>\n",
       "    <tr>\n",
       "      <th>1</th>\n",
       "      <td>3</td>\n",
       "      <td>0</td>\n",
       "      <td>3</td>\n",
       "      <td>0</td>\n",
       "      <td>1</td>\n",
       "      <td>!!!!! RT @mleew17: boy dats cold...tyga dwn ba...</td>\n",
       "    </tr>\n",
       "    <tr>\n",
       "      <th>2</th>\n",
       "      <td>3</td>\n",
       "      <td>0</td>\n",
       "      <td>3</td>\n",
       "      <td>0</td>\n",
       "      <td>1</td>\n",
       "      <td>!!!!!!! RT @UrKindOfBrand Dawg!!!! RT @80sbaby...</td>\n",
       "    </tr>\n",
       "    <tr>\n",
       "      <th>3</th>\n",
       "      <td>3</td>\n",
       "      <td>0</td>\n",
       "      <td>2</td>\n",
       "      <td>1</td>\n",
       "      <td>1</td>\n",
       "      <td>!!!!!!!!! RT @C_G_Anderson: @viva_based she lo...</td>\n",
       "    </tr>\n",
       "    <tr>\n",
       "      <th>4</th>\n",
       "      <td>6</td>\n",
       "      <td>0</td>\n",
       "      <td>6</td>\n",
       "      <td>0</td>\n",
       "      <td>1</td>\n",
       "      <td>!!!!!!!!!!!!! RT @ShenikaRoberts: The shit you...</td>\n",
       "    </tr>\n",
       "    <tr>\n",
       "      <th>5</th>\n",
       "      <td>3</td>\n",
       "      <td>1</td>\n",
       "      <td>2</td>\n",
       "      <td>0</td>\n",
       "      <td>1</td>\n",
       "      <td>!!!!!!!!!!!!!!!!!!\"@T_Madison_x: The shit just...</td>\n",
       "    </tr>\n",
       "    <tr>\n",
       "      <th>6</th>\n",
       "      <td>3</td>\n",
       "      <td>0</td>\n",
       "      <td>3</td>\n",
       "      <td>0</td>\n",
       "      <td>1</td>\n",
       "      <td>!!!!!!\"@__BrighterDays: I can not just sit up ...</td>\n",
       "    </tr>\n",
       "    <tr>\n",
       "      <th>7</th>\n",
       "      <td>3</td>\n",
       "      <td>0</td>\n",
       "      <td>3</td>\n",
       "      <td>0</td>\n",
       "      <td>1</td>\n",
       "      <td>!!!!&amp;#8220;@selfiequeenbri: cause I'm tired of...</td>\n",
       "    </tr>\n",
       "    <tr>\n",
       "      <th>8</th>\n",
       "      <td>3</td>\n",
       "      <td>0</td>\n",
       "      <td>3</td>\n",
       "      <td>0</td>\n",
       "      <td>1</td>\n",
       "      <td>\" &amp;amp; you might not get ya bitch back &amp;amp; ...</td>\n",
       "    </tr>\n",
       "    <tr>\n",
       "      <th>9</th>\n",
       "      <td>3</td>\n",
       "      <td>1</td>\n",
       "      <td>2</td>\n",
       "      <td>0</td>\n",
       "      <td>1</td>\n",
       "      <td>\" @rhythmixx_ :hobbies include: fighting Maria...</td>\n",
       "    </tr>\n",
       "  </tbody>\n",
       "</table>\n",
       "</div>"
      ],
      "text/plain": [
       "   count  hate_speech  offensive_language  neither  class  \\\n",
       "0      3            0                   0        3      2   \n",
       "1      3            0                   3        0      1   \n",
       "2      3            0                   3        0      1   \n",
       "3      3            0                   2        1      1   \n",
       "4      6            0                   6        0      1   \n",
       "5      3            1                   2        0      1   \n",
       "6      3            0                   3        0      1   \n",
       "7      3            0                   3        0      1   \n",
       "8      3            0                   3        0      1   \n",
       "9      3            1                   2        0      1   \n",
       "\n",
       "                                               tweet  \n",
       "0  !!! RT @mayasolovely: As a woman you shouldn't...  \n",
       "1  !!!!! RT @mleew17: boy dats cold...tyga dwn ba...  \n",
       "2  !!!!!!! RT @UrKindOfBrand Dawg!!!! RT @80sbaby...  \n",
       "3  !!!!!!!!! RT @C_G_Anderson: @viva_based she lo...  \n",
       "4  !!!!!!!!!!!!! RT @ShenikaRoberts: The shit you...  \n",
       "5  !!!!!!!!!!!!!!!!!!\"@T_Madison_x: The shit just...  \n",
       "6  !!!!!!\"@__BrighterDays: I can not just sit up ...  \n",
       "7  !!!!&#8220;@selfiequeenbri: cause I'm tired of...  \n",
       "8  \" &amp; you might not get ya bitch back &amp; ...  \n",
       "9  \" @rhythmixx_ :hobbies include: fighting Maria...  "
      ]
     },
     "execution_count": 3,
     "metadata": {},
     "output_type": "execute_result"
    }
   ],
   "source": [
    "df.head(n=10)"
   ]
  },
  {
   "cell_type": "code",
   "execution_count": 4,
   "metadata": {},
   "outputs": [
    {
     "name": "stderr",
     "output_type": "stream",
     "text": [
      "Using TensorFlow backend.\n"
     ]
    }
   ],
   "source": [
    "from gensim.parsing.preprocessing import preprocess_documents, preprocess_string, strip_punctuation, \\\n",
    "    strip_multiple_whitespaces, strip_numeric, remove_stopwords, strip_short\n",
    "from keras.preprocessing.sequence import pad_sequences\n",
    "from keras.utils import to_categorical\n",
    "from gensim.corpora import Dictionary\n",
    "import re\n",
    "\n",
    "RE_USERNAME = re.compile(r'@[a-z_]+', re.UNICODE)\n",
    "\n",
    "def strip_usernames(s):\n",
    "    return RE_USERNAME.sub('', s)\n",
    "\n",
    "MY_FILTERS = [\n",
    "    lambda x: x.lower(), strip_usernames, strip_punctuation, \n",
    "    strip_multiple_whitespaces, strip_numeric, remove_stopwords, strip_short\n",
    "]\n",
    "\n",
    "preprocessed = [preprocess_string(s, MY_FILTERS) for s in df['tweet']]\n",
    "\n",
    "dictionary = Dictionary(preprocessed)\n",
    "dictionary.filter_extremes(no_below=5, no_above=0.2)\n",
    "\n",
    "sequences = [dictionary.doc2idx(x, unknown_word_index=0) for x in preprocessed]\n",
    "\n",
    "MAXLEN = 25\n",
    "\n",
    "#padded = pad_sequences(sequences, MAXLEN, padding='post', truncating='post')\n",
    "padded = pad_sequences(sequences, MAXLEN)\n",
    "\n",
    "N_CLASS = 3\n",
    "HATE = 2\n",
    "OFFENSIVE = 1\n",
    "NEUTRAL = 0\n",
    "\n",
    "def determine_label(row):\n",
    "    if row['hate_speech'] >= row['offensive_language'] and row['hate_speech'] > row['neither']:\n",
    "        return HATE\n",
    "    elif row['offensive_language'] >= row['hate_speech'] and row['offensive_language'] > row['neither']:\n",
    "        return OFFENSIVE\n",
    "    else:\n",
    "        return NEUTRAL\n",
    "\n",
    "labels = df.apply(determine_label, axis=1)\n",
    "\n",
    "X = padded\n",
    "y = to_categorical(labels, num_classes=N_CLASS)"
   ]
  },
  {
   "cell_type": "code",
   "execution_count": null,
   "metadata": {},
   "outputs": [],
   "source": []
  },
  {
   "cell_type": "code",
   "execution_count": 5,
   "metadata": {},
   "outputs": [
    {
     "data": {
      "text/plain": [
       "[['woman', 'shouldn', 'complain', 'cleaning', 'house', 'amp', 'man', 'trash'],\n",
       " ['boy',\n",
       "  'dats',\n",
       "  'cold',\n",
       "  'tyga',\n",
       "  'dwn',\n",
       "  'bad',\n",
       "  'cuffin',\n",
       "  'dat',\n",
       "  'hoe',\n",
       "  'place'],\n",
       " ['dawg', 'sbabylife', 'fuck', 'bitch', 'start', 'confused', 'shit'],\n",
       " ['look', 'like', 'tranny'],\n",
       " ['shit', 'hear', 'true', 'faker', 'bitch', 'told']]"
      ]
     },
     "execution_count": 5,
     "metadata": {},
     "output_type": "execute_result"
    }
   ],
   "source": [
    "preprocessed[:5]"
   ]
  },
  {
   "cell_type": "code",
   "execution_count": null,
   "metadata": {},
   "outputs": [],
   "source": []
  },
  {
   "cell_type": "code",
   "execution_count": 6,
   "metadata": {},
   "outputs": [
    {
     "data": {
      "text/plain": [
       "<matplotlib.axes._subplots.AxesSubplot at 0x7f89ebc23518>"
      ]
     },
     "execution_count": 6,
     "metadata": {},
     "output_type": "execute_result"
    },
    {
     "data": {
      "image/png": "[encoded data removed]",
      "text/plain": [
       "<Figure size 432x288 with 1 Axes>"
      ]
     },
     "metadata": {},
     "output_type": "display_data"
    }
   ],
   "source": [
    "%matplotlib inline\n",
    "import seaborn as sns\n",
    "\n",
    "sns.countplot(labels)"
   ]
  },
  {
   "cell_type": "code",
   "execution_count": null,
   "metadata": {},
   "outputs": [],
   "source": []
  },
  {
   "cell_type": "code",
   "execution_count": 7,
   "metadata": {},
   "outputs": [],
   "source": [
    "from sklearn.model_selection import train_test_split\n",
    "\n",
    "X_train, X_test, y_train, y_test = train_test_split(X, y, test_size=0.2, shuffle=False)"
   ]
  },
  {
   "cell_type": "code",
   "execution_count": null,
   "metadata": {},
   "outputs": [],
   "source": []
  },
  {
   "cell_type": "code",
   "execution_count": 23,
   "metadata": {},
   "outputs": [],
   "source": [
    "from keras.models import Sequential\n",
    "from keras.layers import Dense, Embedding, LSTM, Dropout\n",
    "\n",
    "def build_lstm_model():\n",
    "    model = Sequential()\n",
    "    model.add(Embedding(len(dictionary), 50, input_length=MAXLEN))\n",
    "    model.add(LSTM(64))\n",
    "    model.add(Dropout(0.5))\n",
    "    model.add(Dense(N_CLASS, activation='sigmoid'))\n",
    "    model.compile(loss='categorical_crossentropy', optimizer='adam', metrics=['accuracy'])\n",
    "    return model"
   ]
  },
  {
   "cell_type": "code",
   "execution_count": null,
   "metadata": {},
   "outputs": [],
   "source": []
  },
  {
   "cell_type": "code",
   "execution_count": 32,
   "metadata": {},
   "outputs": [],
   "source": [
    "from sklearn.utils import class_weight\n",
    "\n",
    "class_weights = class_weight.compute_class_weight('balanced', (NEUTRAL, OFFENSIVE, HATE), labels)"
   ]
  },
  {
   "cell_type": "code",
   "execution_count": 33,
   "metadata": {},
   "outputs": [
    {
     "data": {
      "text/plain": [
       "array([1.98438626, 0.43048463, 5.77692308])"
      ]
     },
     "execution_count": 33,
     "metadata": {},
     "output_type": "execute_result"
    }
   ],
   "source": [
    "class_weights"
   ]
  },
  {
   "cell_type": "code",
   "execution_count": 43,
   "metadata": {},
   "outputs": [],
   "source": [
    "class_weights = {0: 5, 1:1, 2:18}"
   ]
  },
  {
   "cell_type": "code",
   "execution_count": null,
   "metadata": {},
   "outputs": [],
   "source": []
  },
  {
   "cell_type": "code",
   "execution_count": 47,
   "metadata": {},
   "outputs": [
    {
     "name": "stdout",
     "output_type": "stream",
     "text": [
      "Train on 19826 samples, validate on 4957 samples\n",
      "Epoch 1/20\n",
      "19826/19826 [==============================] - 4s 184us/step - loss: 2.9516 - acc: 0.1004 - val_loss: 1.1763 - val_acc: 0.0472\n",
      "Epoch 2/20\n",
      "19826/19826 [==============================] - 2s 119us/step - loss: 2.8791 - acc: 0.0639 - val_loss: 1.1435 - val_acc: 0.0510\n",
      "Epoch 3/20\n",
      "19826/19826 [==============================] - 2s 126us/step - loss: 2.5911 - acc: 0.1296 - val_loss: 1.1481 - val_acc: 0.1850\n",
      "Epoch 4/20\n",
      "19826/19826 [==============================] - 3s 163us/step - loss: 2.2534 - acc: 0.1885 - val_loss: 1.1519 - val_acc: 0.1745\n",
      "Epoch 5/20\n",
      "19826/19826 [==============================] - 3s 156us/step - loss: 1.9387 - acc: 0.2391 - val_loss: 0.9471 - val_acc: 0.1678\n",
      "Epoch 6/20\n",
      "19826/19826 [==============================] - 3s 160us/step - loss: 1.7572 - acc: 0.4167 - val_loss: 1.1081 - val_acc: 0.2207\n",
      "Epoch 7/20\n",
      "19826/19826 [==============================] - 3s 158us/step - loss: 1.4176 - acc: 0.5785 - val_loss: 0.6736 - val_acc: 0.7773\n",
      "Epoch 8/20\n",
      "19826/19826 [==============================] - 2s 105us/step - loss: 1.1869 - acc: 0.7501 - val_loss: 0.6297 - val_acc: 0.7940\n",
      "Epoch 9/20\n",
      "19826/19826 [==============================] - 2s 107us/step - loss: 1.0312 - acc: 0.7927 - val_loss: 0.6430 - val_acc: 0.7609\n",
      "Epoch 10/20\n",
      "19826/19826 [==============================] - 2s 102us/step - loss: 0.9141 - acc: 0.8135 - val_loss: 0.5142 - val_acc: 0.8152\n",
      "Epoch 11/20\n",
      "19826/19826 [==============================] - 3s 144us/step - loss: 0.8502 - acc: 0.8314 - val_loss: 0.6149 - val_acc: 0.7581\n",
      "Epoch 12/20\n",
      "19826/19826 [==============================] - 3s 130us/step - loss: 0.7858 - acc: 0.8313 - val_loss: 0.5960 - val_acc: 0.7777\n",
      "Epoch 13/20\n",
      "19826/19826 [==============================] - 3s 132us/step - loss: 0.7287 - acc: 0.8555 - val_loss: 0.6180 - val_acc: 0.7724\n",
      "Epoch 14/20\n",
      "19826/19826 [==============================] - 2s 120us/step - loss: 0.6662 - acc: 0.8618 - val_loss: 0.5732 - val_acc: 0.7989\n",
      "Epoch 15/20\n",
      "19826/19826 [==============================] - 2s 115us/step - loss: 0.6357 - acc: 0.8729 - val_loss: 0.6659 - val_acc: 0.7563\n",
      "Epoch 16/20\n",
      "19826/19826 [==============================] - 2s 114us/step - loss: 0.6101 - acc: 0.8731 - val_loss: 0.5843 - val_acc: 0.8033\n",
      "Epoch 17/20\n",
      "19826/19826 [==============================] - 2s 114us/step - loss: 0.5596 - acc: 0.8889 - val_loss: 0.6107 - val_acc: 0.7882\n",
      "Epoch 18/20\n",
      "19826/19826 [==============================] - 2s 122us/step - loss: 0.5331 - acc: 0.8949 - val_loss: 0.6447 - val_acc: 0.7878\n",
      "Epoch 19/20\n",
      "19826/19826 [==============================] - 2s 122us/step - loss: 0.5312 - acc: 0.8927 - val_loss: 0.6194 - val_acc: 0.7987\n",
      "Epoch 20/20\n",
      "19826/19826 [==============================] - 2s 122us/step - loss: 0.5092 - acc: 0.9027 - val_loss: 0.6325 - val_acc: 0.8077\n"
     ]
    },
    {
     "data": {
      "text/plain": [
       "<keras.callbacks.History at 0x7f898602ef60>"
      ]
     },
     "execution_count": 47,
     "metadata": {},
     "output_type": "execute_result"
    }
   ],
   "source": [
    "model = build_lstm_model()\n",
    "\n",
    "model.fit(X_train, y_train, batch_size=1000, epochs=20, validation_data=(X_test, y_test), class_weight=class_weights)"
   ]
  },
  {
   "cell_type": "code",
   "execution_count": null,
   "metadata": {},
   "outputs": [],
   "source": []
  },
  {
   "cell_type": "code",
   "execution_count": 48,
   "metadata": {},
   "outputs": [],
   "source": [
    "y_pred = model.predict(X_test)"
   ]
  },
  {
   "cell_type": "code",
   "execution_count": null,
   "metadata": {},
   "outputs": [],
   "source": []
  },
  {
   "cell_type": "code",
   "execution_count": 49,
   "metadata": {},
   "outputs": [
    {
     "name": "stdout",
     "output_type": "stream",
     "text": [
      "             precision    recall  f1-score   support\n",
      "\n",
      "    Neutral       0.66      0.83      0.73       795\n",
      "  Offensive       0.94      0.82      0.88      3928\n",
      "       Hate       0.21      0.45      0.29       234\n",
      "\n",
      "avg / total       0.86      0.81      0.83      4957\n",
      "\n"
     ]
    }
   ],
   "source": [
    "from sklearn.metrics import classification_report\n",
    "import numpy as np\n",
    "\n",
    "print(classification_report(np.argmax(y_test, axis=1), np.argmax(y_pred, axis=1),\n",
    "                            target_names=('Neutral', 'Offensive', 'Hate')))"
   ]
  },
  {
   "cell_type": "code",
   "execution_count": null,
   "metadata": {},
   "outputs": [],
   "source": []
  }
 ],
 "metadata": {
  "kernelspec": {
   "display_name": "Python 3",
   "language": "python",
   "name": "python3"
  },
  "language_info": {
   "codemirror_mode": {
    "name": "ipython",
    "version": 3
   },
   "file_extension": ".py",
   "mimetype": "text/x-python",
   "name": "python",
   "nbconvert_exporter": "python",
   "pygments_lexer": "ipython3",
   "version": "3.5.3"
  }
 },
 "nbformat": 4,
 "nbformat_minor": 2
}
