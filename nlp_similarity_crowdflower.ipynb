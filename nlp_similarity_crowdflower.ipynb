{
 "cells": [
  {
   "cell_type": "markdown",
   "metadata": {},
   "source": [
    "\n",
    "Dataset and competition for search relevance:\n",
    "\n",
    "https://www.kaggle.com/c/crowdflower-search-relevance"
   ]
  },
  {
   "cell_type": "code",
   "execution_count": 1,
   "metadata": {},
   "outputs": [],
   "source": [
    "import pandas as pd\n",
    "\n",
    "df = pd.read_csv('data/crowdflower-search-relevance.csv', index_col=0)"
   ]
  },
  {
   "cell_type": "code",
   "execution_count": 2,
   "metadata": {},
   "outputs": [
    {
     "data": {
      "text/plain": [
       "(10158, 5)"
      ]
     },
     "execution_count": 2,
     "metadata": {},
     "output_type": "execute_result"
    }
   ],
   "source": [
    "df.shape"
   ]
  },
  {
   "cell_type": "code",
   "execution_count": 36,
   "metadata": {},
   "outputs": [
    {
     "data": {
      "text/html": [
       "<div>\n",
       "<style scoped>\n",
       "    .dataframe tbody tr th:only-of-type {\n",
       "        vertical-align: middle;\n",
       "    }\n",
       "\n",
       "    .dataframe tbody tr th {\n",
       "        vertical-align: top;\n",
       "    }\n",
       "\n",
       "    .dataframe thead th {\n",
       "        text-align: right;\n",
       "    }\n",
       "</style>\n",
       "<table border=\"1\" class=\"dataframe\">\n",
       "  <thead>\n",
       "    <tr style=\"text-align: right;\">\n",
       "      <th></th>\n",
       "      <th>query</th>\n",
       "      <th>product_title</th>\n",
       "      <th>product_description</th>\n",
       "      <th>median_relevance</th>\n",
       "      <th>relevance_variance</th>\n",
       "      <th>product_title_and_description</th>\n",
       "      <th>query_tfidf</th>\n",
       "      <th>product_title_and_description_tfidf</th>\n",
       "      <th>query_lsi</th>\n",
       "      <th>product_title_and_description_lsi</th>\n",
       "      <th>distance_tfidf</th>\n",
       "      <th>distance_lsi</th>\n",
       "    </tr>\n",
       "    <tr>\n",
       "      <th>id</th>\n",
       "      <th></th>\n",
       "      <th></th>\n",
       "      <th></th>\n",
       "      <th></th>\n",
       "      <th></th>\n",
       "      <th></th>\n",
       "      <th></th>\n",
       "      <th></th>\n",
       "      <th></th>\n",
       "      <th></th>\n",
       "      <th></th>\n",
       "      <th></th>\n",
       "    </tr>\n",
       "  </thead>\n",
       "  <tbody>\n",
       "    <tr>\n",
       "      <th>1</th>\n",
       "      <td>bridal shower decorations</td>\n",
       "      <td>Accent Pillow with Heart Design - Red/Black</td>\n",
       "      <td>Red satin accent pillow embroidered with a hea...</td>\n",
       "      <td>1</td>\n",
       "      <td>0.000</td>\n",
       "      <td>Accent Pillow with Heart Design - Red/Black Re...</td>\n",
       "      <td>[0.67008, 0.42095277, 0.6113849, 0.0, 0.0, 0.0...</td>\n",
       "      <td>[0.0, 0.0, 0.0, 0.0, 0.0, 0.0, 0.0, 0.0, 0.0, ...</td>\n",
       "      <td>[-0.02180974, 0.049421445, -0.02118985, -0.002...</td>\n",
       "      <td>[-0.07893277, 0.19300768, -0.10535035, -0.0281...</td>\n",
       "      <td>1.000000</td>\n",
       "      <td>1.004718</td>\n",
       "    </tr>\n",
       "    <tr>\n",
       "      <th>2</th>\n",
       "      <td>led christmas lights</td>\n",
       "      <td>Set of 10 Battery Operated Multi LED Train Chr...</td>\n",
       "      <td>Set of 10 Battery Operated Train Christmas Lig...</td>\n",
       "      <td>4</td>\n",
       "      <td>0.000</td>\n",
       "      <td>Set of 10 Battery Operated Multi LED Train Chr...</td>\n",
       "      <td>[0.0, 0.0, 0.0, 0.7136383, 0.5487598, 0.435411...</td>\n",
       "      <td>[0.0, 0.0, 0.0, 0.16900037, 0.19493197, 0.3093...</td>\n",
       "      <td>[-0.02691677, 0.029319795, 0.022957109, 0.0302...</td>\n",
       "      <td>[-0.112073116, 0.11561964, 0.074471526, 0.1149...</td>\n",
       "      <td>0.637736</td>\n",
       "      <td>0.432910</td>\n",
       "    </tr>\n",
       "    <tr>\n",
       "      <th>5</th>\n",
       "      <td>wine rack</td>\n",
       "      <td>Concept Housewares WR-44526 Solid-Wood Ceiling...</td>\n",
       "      <td>Like a silent and sturdy tree, the Southern En...</td>\n",
       "      <td>4</td>\n",
       "      <td>0.000</td>\n",
       "      <td>Concept Housewares WR-44526 Solid-Wood Ceiling...</td>\n",
       "      <td>[0.0, 0.0, 0.0, 0.0, 0.0, 0.0, 0.63814485, 0.7...</td>\n",
       "      <td>[0.0, 0.0, 0.0, 0.0, 0.0, 0.0, 0.39997026, 0.0...</td>\n",
       "      <td>[-0.016031532, 0.021653702, 0.016151018, 0.022...</td>\n",
       "      <td>[-0.05600504, 0.064555354, 0.048362166, 0.0477...</td>\n",
       "      <td>0.670455</td>\n",
       "      <td>0.384528</td>\n",
       "    </tr>\n",
       "    <tr>\n",
       "      <th>7</th>\n",
       "      <td>light bulb</td>\n",
       "      <td>Wintergreen Lighting Christmas LED Light Bulb ...</td>\n",
       "      <td>WTGR1011\\nFeatures\\nNickel base, 60,000 averag...</td>\n",
       "      <td>2</td>\n",
       "      <td>0.471</td>\n",
       "      <td>Wintergreen Lighting Christmas LED Light Bulb ...</td>\n",
       "      <td>[0.0, 0.0, 0.0, 0.0, 0.0, 0.5853502, 0.0, 0.0,...</td>\n",
       "      <td>[0.0, 0.0, 0.0, 0.2346195, 0.18041319, 0.28629...</td>\n",
       "      <td>[-0.03293611, 0.036437854, 0.028536426, 0.0380...</td>\n",
       "      <td>[-0.047095515, 0.050624378, 0.035381578, 0.046...</td>\n",
       "      <td>0.430518</td>\n",
       "      <td>0.076438</td>\n",
       "    </tr>\n",
       "    <tr>\n",
       "      <th>8</th>\n",
       "      <td>oakley polarized radar</td>\n",
       "      <td>Oakley Sunglasses - Radar Path Polished Black/...</td>\n",
       "      <td>Durability and all-day comfort of lightweight,...</td>\n",
       "      <td>3</td>\n",
       "      <td>1.166</td>\n",
       "      <td>Oakley Sunglasses - Radar Path Polished Black/...</td>\n",
       "      <td>[0.0, 0.0, 0.0, 0.0, 0.0, 0.0, 0.0, 0.0, 0.0, ...</td>\n",
       "      <td>[0.0, 0.0, 0.0, 0.0, 0.0, 0.09897827, 0.0, 0.0...</td>\n",
       "      <td>[-0.0070212414, 0.008407454, 0.005639437, 0.01...</td>\n",
       "      <td>[-0.07500987, 0.07832663, 0.03937703, 0.072293...</td>\n",
       "      <td>0.740079</td>\n",
       "      <td>0.302889</td>\n",
       "    </tr>\n",
       "  </tbody>\n",
       "</table>\n",
       "</div>"
      ],
      "text/plain": [
       "                        query  \\\n",
       "id                              \n",
       "1   bridal shower decorations   \n",
       "2        led christmas lights   \n",
       "5                   wine rack   \n",
       "7                  light bulb   \n",
       "8      oakley polarized radar   \n",
       "\n",
       "                                        product_title  \\\n",
       "id                                                      \n",
       "1         Accent Pillow with Heart Design - Red/Black   \n",
       "2   Set of 10 Battery Operated Multi LED Train Chr...   \n",
       "5   Concept Housewares WR-44526 Solid-Wood Ceiling...   \n",
       "7   Wintergreen Lighting Christmas LED Light Bulb ...   \n",
       "8   Oakley Sunglasses - Radar Path Polished Black/...   \n",
       "\n",
       "                                  product_description  median_relevance  \\\n",
       "id                                                                        \n",
       "1   Red satin accent pillow embroidered with a hea...                 1   \n",
       "2   Set of 10 Battery Operated Train Christmas Lig...                 4   \n",
       "5   Like a silent and sturdy tree, the Southern En...                 4   \n",
       "7   WTGR1011\\nFeatures\\nNickel base, 60,000 averag...                 2   \n",
       "8   Durability and all-day comfort of lightweight,...                 3   \n",
       "\n",
       "    relevance_variance                      product_title_and_description  \\\n",
       "id                                                                          \n",
       "1                0.000  Accent Pillow with Heart Design - Red/Black Re...   \n",
       "2                0.000  Set of 10 Battery Operated Multi LED Train Chr...   \n",
       "5                0.000  Concept Housewares WR-44526 Solid-Wood Ceiling...   \n",
       "7                0.471  Wintergreen Lighting Christmas LED Light Bulb ...   \n",
       "8                1.166  Oakley Sunglasses - Radar Path Polished Black/...   \n",
       "\n",
       "                                          query_tfidf  \\\n",
       "id                                                      \n",
       "1   [0.67008, 0.42095277, 0.6113849, 0.0, 0.0, 0.0...   \n",
       "2   [0.0, 0.0, 0.0, 0.7136383, 0.5487598, 0.435411...   \n",
       "5   [0.0, 0.0, 0.0, 0.0, 0.0, 0.0, 0.63814485, 0.7...   \n",
       "7   [0.0, 0.0, 0.0, 0.0, 0.0, 0.5853502, 0.0, 0.0,...   \n",
       "8   [0.0, 0.0, 0.0, 0.0, 0.0, 0.0, 0.0, 0.0, 0.0, ...   \n",
       "\n",
       "                  product_title_and_description_tfidf  \\\n",
       "id                                                      \n",
       "1   [0.0, 0.0, 0.0, 0.0, 0.0, 0.0, 0.0, 0.0, 0.0, ...   \n",
       "2   [0.0, 0.0, 0.0, 0.16900037, 0.19493197, 0.3093...   \n",
       "5   [0.0, 0.0, 0.0, 0.0, 0.0, 0.0, 0.39997026, 0.0...   \n",
       "7   [0.0, 0.0, 0.0, 0.2346195, 0.18041319, 0.28629...   \n",
       "8   [0.0, 0.0, 0.0, 0.0, 0.0, 0.09897827, 0.0, 0.0...   \n",
       "\n",
       "                                            query_lsi  \\\n",
       "id                                                      \n",
       "1   [-0.02180974, 0.049421445, -0.02118985, -0.002...   \n",
       "2   [-0.02691677, 0.029319795, 0.022957109, 0.0302...   \n",
       "5   [-0.016031532, 0.021653702, 0.016151018, 0.022...   \n",
       "7   [-0.03293611, 0.036437854, 0.028536426, 0.0380...   \n",
       "8   [-0.0070212414, 0.008407454, 0.005639437, 0.01...   \n",
       "\n",
       "                    product_title_and_description_lsi  distance_tfidf  \\\n",
       "id                                                                      \n",
       "1   [-0.07893277, 0.19300768, -0.10535035, -0.0281...        1.000000   \n",
       "2   [-0.112073116, 0.11561964, 0.074471526, 0.1149...        0.637736   \n",
       "5   [-0.05600504, 0.064555354, 0.048362166, 0.0477...        0.670455   \n",
       "7   [-0.047095515, 0.050624378, 0.035381578, 0.046...        0.430518   \n",
       "8   [-0.07500987, 0.07832663, 0.03937703, 0.072293...        0.740079   \n",
       "\n",
       "    distance_lsi  \n",
       "id                \n",
       "1       1.004718  \n",
       "2       0.432910  \n",
       "5       0.384528  \n",
       "7       0.076438  \n",
       "8       0.302889  "
      ]
     },
     "execution_count": 36,
     "metadata": {},
     "output_type": "execute_result"
    }
   ],
   "source": [
    "df.head()"
   ]
  },
  {
   "cell_type": "code",
   "execution_count": 5,
   "metadata": {},
   "outputs": [],
   "source": [
    "df.fillna('', inplace=True)"
   ]
  },
  {
   "cell_type": "code",
   "execution_count": null,
   "metadata": {},
   "outputs": [],
   "source": []
  },
  {
   "cell_type": "code",
   "execution_count": 6,
   "metadata": {},
   "outputs": [],
   "source": [
    "def concatenate_title_and_description(row):\n",
    "    return row['product_title'] + ' ' + row['product_description']\n",
    "\n",
    "df['product_title_and_description'] = df.apply(concatenate_title_and_description, axis=1)"
   ]
  },
  {
   "cell_type": "code",
   "execution_count": null,
   "metadata": {},
   "outputs": [],
   "source": []
  },
  {
   "cell_type": "code",
   "execution_count": 19,
   "metadata": {},
   "outputs": [],
   "source": [
    "from gensim.parsing.preprocessing import preprocess_documents\n",
    "\n",
    "query_texts = preprocess_documents(df['query'])\n",
    "product_title_and_description_texts = preprocess_documents(df['product_title_and_description'])"
   ]
  },
  {
   "cell_type": "code",
   "execution_count": 10,
   "metadata": {},
   "outputs": [
    {
     "data": {
      "text/plain": [
       "['bridal', 'shower', 'decor']"
      ]
     },
     "execution_count": 10,
     "metadata": {},
     "output_type": "execute_result"
    }
   ],
   "source": [
    "query_corpus[0][:3]"
   ]
  },
  {
   "cell_type": "code",
   "execution_count": null,
   "metadata": {},
   "outputs": [],
   "source": []
  },
  {
   "cell_type": "code",
   "execution_count": 12,
   "metadata": {},
   "outputs": [],
   "source": [
    "from gensim.corpora import Dictionary\n",
    "\n",
    "dictionary = Dictionary(all_corpus)"
   ]
  },
  {
   "cell_type": "code",
   "execution_count": 13,
   "metadata": {},
   "outputs": [
    {
     "data": {
      "text/plain": [
       "17676"
      ]
     },
     "execution_count": 13,
     "metadata": {},
     "output_type": "execute_result"
    }
   ],
   "source": [
    "len(dictionary)"
   ]
  },
  {
   "cell_type": "code",
   "execution_count": 14,
   "metadata": {},
   "outputs": [],
   "source": [
    "dictionary.filter_extremes(no_below=5, no_above=0.2)"
   ]
  },
  {
   "cell_type": "code",
   "execution_count": 15,
   "metadata": {},
   "outputs": [
    {
     "data": {
      "text/plain": [
       "5591"
      ]
     },
     "execution_count": 15,
     "metadata": {},
     "output_type": "execute_result"
    }
   ],
   "source": [
    "len(dictionary)"
   ]
  },
  {
   "cell_type": "code",
   "execution_count": null,
   "metadata": {},
   "outputs": [],
   "source": []
  },
  {
   "cell_type": "code",
   "execution_count": 20,
   "metadata": {},
   "outputs": [],
   "source": [
    "query_corpus = [dictionary.doc2bow(x) for x in query_texts]\n",
    "product_title_and_description_corpus = [dictionary.doc2bow(x) for x in product_title_and_description_texts]\n",
    "\n",
    "all_corpus = query_corpus + product_title_and_description_corpus"
   ]
  },
  {
   "cell_type": "code",
   "execution_count": null,
   "metadata": {},
   "outputs": [],
   "source": []
  },
  {
   "cell_type": "code",
   "execution_count": 16,
   "metadata": {},
   "outputs": [],
   "source": [
    "tfidf_dimensions = len(dictionary)\n",
    "lsi_dimensions = 150"
   ]
  },
  {
   "cell_type": "code",
   "execution_count": null,
   "metadata": {},
   "outputs": [],
   "source": []
  },
  {
   "cell_type": "code",
   "execution_count": 21,
   "metadata": {},
   "outputs": [],
   "source": [
    "from gensim.models import TfidfModel\n",
    "\n",
    "tfidf = TfidfModel(all_corpus, id2word=dictionary)\n",
    "\n",
    "query_tfidf = tfidf[query_corpus]\n",
    "product_title_and_description_tfidf = tfidf[product_title_and_description_corpus]\n",
    "all_tfidf = tfidf[all_corpus]"
   ]
  },
  {
   "cell_type": "code",
   "execution_count": 22,
   "metadata": {},
   "outputs": [],
   "source": [
    "from gensim.models import LsiModel\n",
    "\n",
    "lsi = LsiModel(all_tfidf, id2word=dictionary)\n",
    "\n",
    "query_lsi = lsi[query_tfidf]\n",
    "product_title_and_description_lsi = lsi[product_title_and_description_tfidf]\n",
    "all_lsi = lsi[all_tfidf]"
   ]
  },
  {
   "cell_type": "code",
   "execution_count": null,
   "metadata": {},
   "outputs": [],
   "source": []
  },
  {
   "cell_type": "code",
   "execution_count": 24,
   "metadata": {},
   "outputs": [],
   "source": [
    "from gensim.matutils import sparse2full\n",
    "\n",
    "df['query_tfidf'] = [sparse2full(x, tfidf_dimensions) for x in query_tfidf]\n",
    "df['product_title_and_description_tfidf'] = [sparse2full(x, tfidf_dimensions) for x in product_title_and_description_tfidf]\n",
    "\n",
    "df['query_lsi'] = [sparse2full(x, tfidf_dimensions) for x in query_lsi]\n",
    "df['product_title_and_description_lsi'] = [sparse2full(x, tfidf_dimensions) for x in product_title_and_description_lsi]"
   ]
  },
  {
   "cell_type": "code",
   "execution_count": null,
   "metadata": {},
   "outputs": [],
   "source": []
  },
  {
   "cell_type": "code",
   "execution_count": 28,
   "metadata": {},
   "outputs": [
    {
     "name": "stderr",
     "output_type": "stream",
     "text": [
      "/home/dehling/Documents/machine-learnings/lib/python3.5/site-packages/scipy/spatial/distance.py:644: RuntimeWarning: invalid value encountered in float_scalars\n",
      "  dist = 1.0 - uv / np.sqrt(uu * vv)\n"
     ]
    }
   ],
   "source": [
    "from scipy.spatial.distance import cosine\n",
    "\n",
    "def cosine_distance_tfidf(row):\n",
    "    return cosine(row['query_tfidf'], row['product_title_and_description_tfidf'])\n",
    "\n",
    "def cosine_distance_lsi(row):\n",
    "    return cosine(row['query_lsi'], row['product_title_and_description_lsi'])\n",
    "\n",
    "df['distance_tfidf'] = df.apply(cosine_distance_tfidf, axis=1)\n",
    "df['distance_lsi'] = df.apply(cosine_distance_lsi, axis=1)"
   ]
  },
  {
   "cell_type": "code",
   "execution_count": null,
   "metadata": {},
   "outputs": [],
   "source": []
  },
  {
   "cell_type": "code",
   "execution_count": 29,
   "metadata": {
    "scrolled": false
   },
   "outputs": [],
   "source": [
    "# df[['query', 'product_title_and_desription', 'median_relevance', 'dist']].sort_values(by=['dist']).head(n=10)"
   ]
  },
  {
   "cell_type": "code",
   "execution_count": null,
   "metadata": {},
   "outputs": [],
   "source": []
  },
  {
   "cell_type": "code",
   "execution_count": 30,
   "metadata": {},
   "outputs": [
    {
     "data": {
      "text/plain": [
       "-0.3668918343245772"
      ]
     },
     "execution_count": 30,
     "metadata": {},
     "output_type": "execute_result"
    }
   ],
   "source": [
    "df['median_relevance'].corr(df['distance_tfidf'])"
   ]
  },
  {
   "cell_type": "code",
   "execution_count": 31,
   "metadata": {},
   "outputs": [
    {
     "data": {
      "text/plain": [
       "-0.3587136456709309"
      ]
     },
     "execution_count": 31,
     "metadata": {},
     "output_type": "execute_result"
    }
   ],
   "source": [
    "df['median_relevance'].corr(df['distance_lsi'])"
   ]
  },
  {
   "cell_type": "code",
   "execution_count": null,
   "metadata": {},
   "outputs": [],
   "source": []
  },
  {
   "cell_type": "code",
   "execution_count": 32,
   "metadata": {},
   "outputs": [
    {
     "data": {
      "text/plain": [
       "<matplotlib.axes._subplots.AxesSubplot at 0x7f9b583f82b0>"
      ]
     },
     "execution_count": 32,
     "metadata": {},
     "output_type": "execute_result"
    },
    {
     "data": {
      "image/png": "[encoded data removed]",
      "text/plain": [
       "<Figure size 432x288 with 1 Axes>"
      ]
     },
     "metadata": {},
     "output_type": "display_data"
    }
   ],
   "source": [
    "import seaborn as sns\n",
    "%matplotlib inline\n",
    "\n",
    "sns.violinplot(x='median_relevance', y='distance_tfidf', data=df)"
   ]
  },
  {
   "cell_type": "code",
   "execution_count": 33,
   "metadata": {},
   "outputs": [
    {
     "data": {
      "text/plain": [
       "<matplotlib.axes._subplots.AxesSubplot at 0x7f9b561b9b00>"
      ]
     },
     "execution_count": 33,
     "metadata": {},
     "output_type": "execute_result"
    },
    {
     "data": {
      "image/png": "[encoded data removed]",
      "text/plain": [
       "<Figure size 432x288 with 1 Axes>"
      ]
     },
     "metadata": {},
     "output_type": "display_data"
    }
   ],
   "source": [
    "sns.violinplot(x='median_relevance', y='distance_lsi', data=df)"
   ]
  },
  {
   "cell_type": "code",
   "execution_count": null,
   "metadata": {},
   "outputs": [],
   "source": []
  },
  {
   "cell_type": "code",
   "execution_count": 34,
   "metadata": {},
   "outputs": [
    {
     "data": {
      "text/plain": [
       "<matplotlib.axes._subplots.AxesSubplot at 0x7f9b55959438>"
      ]
     },
     "execution_count": 34,
     "metadata": {},
     "output_type": "execute_result"
    },
    {
     "data": {
      "image/png": "[encoded data removed]",
      "text/plain": [
       "<Figure size 432x288 with 1 Axes>"
      ]
     },
     "metadata": {},
     "output_type": "display_data"
    }
   ],
   "source": [
    "df['distance_tfidf'].hist()"
   ]
  },
  {
   "cell_type": "code",
   "execution_count": 35,
   "metadata": {},
   "outputs": [
    {
     "data": {
      "text/plain": [
       "<matplotlib.axes._subplots.AxesSubplot at 0x7f9b5591b0f0>"
      ]
     },
     "execution_count": 35,
     "metadata": {},
     "output_type": "execute_result"
    },
    {
     "data": {
      "image/png": "[encoded data removed]",
      "text/plain": [
       "<Figure size 432x288 with 1 Axes>"
      ]
     },
     "metadata": {},
     "output_type": "display_data"
    }
   ],
   "source": [
    "df['distance_lsi'].hist()"
   ]
  },
  {
   "cell_type": "code",
   "execution_count": null,
   "metadata": {},
   "outputs": [],
   "source": []
  }
 ],
 "metadata": {
  "kernelspec": {
   "display_name": "Python 3",
   "language": "python",
   "name": "python3"
  },
  "language_info": {
   "codemirror_mode": {
    "name": "ipython",
    "version": 3
   },
   "file_extension": ".py",
   "mimetype": "text/x-python",
   "name": "python",
   "nbconvert_exporter": "python",
   "pygments_lexer": "ipython3",
   "version": "3.5.3"
  }
 },
 "nbformat": 4,
 "nbformat_minor": 2
}
