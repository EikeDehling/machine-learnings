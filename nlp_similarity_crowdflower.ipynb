{
 "cells": [
  {
   "cell_type": "markdown",
   "metadata": {},
   "source": [
    "# NLP Similarity Approaches\n",
    "\n",
    "In this notebook i'll show alternative approaches to determine textual similarity. Basic approach from IR is keyword matching (tf/idf), but there is more options that can work as well or better. Combining approaches can give best resuts/\n",
    "\n",
    "Dataset and competition for search relevance is here: https://www.kaggle.com/c/crowdflower-search-relevance"
   ]
  },
  {
   "cell_type": "code",
   "execution_count": 1,
   "metadata": {},
   "outputs": [],
   "source": [
    "import pandas as pd\n",
    "\n",
    "df = pd.read_csv('data/crowdflower-search-relevance.csv', index_col=0)"
   ]
  },
  {
   "cell_type": "markdown",
   "metadata": {},
   "source": [
    "## Dataset\n",
    "\n",
    "Let's load the data and have a quick look at the available variables."
   ]
  },
  {
   "cell_type": "code",
   "execution_count": 2,
   "metadata": {},
   "outputs": [
    {
     "data": {
      "text/html": [
       "<div>\n",
       "<style scoped>\n",
       "    .dataframe tbody tr th:only-of-type {\n",
       "        vertical-align: middle;\n",
       "    }\n",
       "\n",
       "    .dataframe tbody tr th {\n",
       "        vertical-align: top;\n",
       "    }\n",
       "\n",
       "    .dataframe thead th {\n",
       "        text-align: right;\n",
       "    }\n",
       "</style>\n",
       "<table border=\"1\" class=\"dataframe\">\n",
       "  <thead>\n",
       "    <tr style=\"text-align: right;\">\n",
       "      <th></th>\n",
       "      <th>query</th>\n",
       "      <th>product_title</th>\n",
       "      <th>product_description</th>\n",
       "      <th>median_relevance</th>\n",
       "      <th>relevance_variance</th>\n",
       "    </tr>\n",
       "    <tr>\n",
       "      <th>id</th>\n",
       "      <th></th>\n",
       "      <th></th>\n",
       "      <th></th>\n",
       "      <th></th>\n",
       "      <th></th>\n",
       "    </tr>\n",
       "  </thead>\n",
       "  <tbody>\n",
       "    <tr>\n",
       "      <th>1</th>\n",
       "      <td>bridal shower decorations</td>\n",
       "      <td>Accent Pillow with Heart Design - Red/Black</td>\n",
       "      <td>Red satin accent pillow embroidered with a hea...</td>\n",
       "      <td>1</td>\n",
       "      <td>0.000</td>\n",
       "    </tr>\n",
       "    <tr>\n",
       "      <th>2</th>\n",
       "      <td>led christmas lights</td>\n",
       "      <td>Set of 10 Battery Operated Multi LED Train Chr...</td>\n",
       "      <td>Set of 10 Battery Operated Train Christmas Lig...</td>\n",
       "      <td>4</td>\n",
       "      <td>0.000</td>\n",
       "    </tr>\n",
       "    <tr>\n",
       "      <th>4</th>\n",
       "      <td>projector</td>\n",
       "      <td>ViewSonic Pro8200 DLP Multimedia Projector</td>\n",
       "      <td>NaN</td>\n",
       "      <td>4</td>\n",
       "      <td>0.471</td>\n",
       "    </tr>\n",
       "    <tr>\n",
       "      <th>5</th>\n",
       "      <td>wine rack</td>\n",
       "      <td>Concept Housewares WR-44526 Solid-Wood Ceiling...</td>\n",
       "      <td>Like a silent and sturdy tree, the Southern En...</td>\n",
       "      <td>4</td>\n",
       "      <td>0.000</td>\n",
       "    </tr>\n",
       "    <tr>\n",
       "      <th>7</th>\n",
       "      <td>light bulb</td>\n",
       "      <td>Wintergreen Lighting Christmas LED Light Bulb ...</td>\n",
       "      <td>WTGR1011\\nFeatures\\nNickel base, 60,000 averag...</td>\n",
       "      <td>2</td>\n",
       "      <td>0.471</td>\n",
       "    </tr>\n",
       "  </tbody>\n",
       "</table>\n",
       "</div>"
      ],
      "text/plain": [
       "                        query  \\\n",
       "id                              \n",
       "1   bridal shower decorations   \n",
       "2        led christmas lights   \n",
       "4                   projector   \n",
       "5                   wine rack   \n",
       "7                  light bulb   \n",
       "\n",
       "                                        product_title  \\\n",
       "id                                                      \n",
       "1         Accent Pillow with Heart Design - Red/Black   \n",
       "2   Set of 10 Battery Operated Multi LED Train Chr...   \n",
       "4          ViewSonic Pro8200 DLP Multimedia Projector   \n",
       "5   Concept Housewares WR-44526 Solid-Wood Ceiling...   \n",
       "7   Wintergreen Lighting Christmas LED Light Bulb ...   \n",
       "\n",
       "                                  product_description  median_relevance  \\\n",
       "id                                                                        \n",
       "1   Red satin accent pillow embroidered with a hea...                 1   \n",
       "2   Set of 10 Battery Operated Train Christmas Lig...                 4   \n",
       "4                                                 NaN                 4   \n",
       "5   Like a silent and sturdy tree, the Southern En...                 4   \n",
       "7   WTGR1011\\nFeatures\\nNickel base, 60,000 averag...                 2   \n",
       "\n",
       "    relevance_variance  \n",
       "id                      \n",
       "1                0.000  \n",
       "2                0.000  \n",
       "4                0.471  \n",
       "5                0.000  \n",
       "7                0.471  "
      ]
     },
     "execution_count": 2,
     "metadata": {},
     "output_type": "execute_result"
    }
   ],
   "source": [
    "df.head()"
   ]
  },
  {
   "cell_type": "code",
   "execution_count": 3,
   "metadata": {},
   "outputs": [
    {
     "data": {
      "text/plain": [
       "(10158, 5)"
      ]
     },
     "execution_count": 3,
     "metadata": {},
     "output_type": "execute_result"
    }
   ],
   "source": [
    "df.shape"
   ]
  },
  {
   "cell_type": "markdown",
   "metadata": {},
   "source": [
    "## Preprocessing \n",
    "\n",
    "So from the dataset we saw two columns describing the product (title, description) and one column with a query. We'll combine the two product columns. Also there is some empty values, so we'll fill those up."
   ]
  },
  {
   "cell_type": "code",
   "execution_count": 4,
   "metadata": {},
   "outputs": [],
   "source": [
    "df['query'].fillna('', inplace=True)\n",
    "df['product_title'].fillna('', inplace=True)\n",
    "df['product_description'].fillna('', inplace=True)"
   ]
  },
  {
   "cell_type": "code",
   "execution_count": 5,
   "metadata": {},
   "outputs": [],
   "source": [
    "def concatenate_title_and_description(row):\n",
    "    return row['product_title'] + ' ' + row['product_description']\n",
    "\n",
    "df['product_title_and_description'] = df.apply(concatenate_title_and_description, axis=1)"
   ]
  },
  {
   "cell_type": "markdown",
   "metadata": {},
   "source": [
    "## Text cleaning\n",
    "\n",
    "Next step is cleaning of the texts. The gensim library has nice functions for this, so we'll use those. Basically it will remove punctuation, symbols, stopwords and numbers. This should help determining textual similarity."
   ]
  },
  {
   "cell_type": "code",
   "execution_count": 7,
   "metadata": {},
   "outputs": [],
   "source": [
    "from gensim.parsing.preprocessing import preprocess_documents\n",
    "\n",
    "query_texts = preprocess_documents(df['query'])\n",
    "product_title_and_description_texts = preprocess_documents(df['product_title_and_description'])"
   ]
  },
  {
   "cell_type": "markdown",
   "metadata": {},
   "source": [
    "Let's check out a few examples:"
   ]
  },
  {
   "cell_type": "code",
   "execution_count": 8,
   "metadata": {},
   "outputs": [
    {
     "data": {
      "text/plain": [
       "['bridal', 'shower', 'decor']"
      ]
     },
     "execution_count": 8,
     "metadata": {},
     "output_type": "execute_result"
    }
   ],
   "source": [
    "query_texts[0]"
   ]
  },
  {
   "cell_type": "code",
   "execution_count": 9,
   "metadata": {},
   "outputs": [
    {
     "data": {
      "text/plain": [
       "['girl', 'halloween', 'costum']"
      ]
     },
     "execution_count": 9,
     "metadata": {},
     "output_type": "execute_result"
    }
   ],
   "source": [
    "query_texts[23]"
   ]
  },
  {
   "cell_type": "markdown",
   "metadata": {},
   "source": [
    "## Dictionary & transforming to numbers\n",
    "\n",
    "Now we have the cleaned texts, so we'll transform them to numbers as gensim library requires that for further processing."
   ]
  },
  {
   "cell_type": "code",
   "execution_count": 10,
   "metadata": {},
   "outputs": [],
   "source": [
    "from gensim.corpora import Dictionary\n",
    "\n",
    "dictionary = Dictionary(query_texts + product_title_and_description_texts)"
   ]
  },
  {
   "cell_type": "code",
   "execution_count": 11,
   "metadata": {},
   "outputs": [
    {
     "data": {
      "text/plain": [
       "18303"
      ]
     },
     "execution_count": 11,
     "metadata": {},
     "output_type": "execute_result"
    }
   ],
   "source": [
    "len(dictionary)"
   ]
  },
  {
   "cell_type": "code",
   "execution_count": 12,
   "metadata": {},
   "outputs": [],
   "source": [
    "dictionary.filter_extremes(no_below=5, no_above=0.2)"
   ]
  },
  {
   "cell_type": "code",
   "execution_count": 13,
   "metadata": {},
   "outputs": [
    {
     "data": {
      "text/plain": [
       "5784"
      ]
     },
     "execution_count": 13,
     "metadata": {},
     "output_type": "execute_result"
    }
   ],
   "source": [
    "len(dictionary)"
   ]
  },
  {
   "cell_type": "code",
   "execution_count": 14,
   "metadata": {},
   "outputs": [],
   "source": [
    "query_corpus = [dictionary.doc2bow(x) for x in query_texts]\n",
    "product_title_and_description_corpus = [dictionary.doc2bow(x) for x in product_title_and_description_texts]\n",
    "\n",
    "all_corpus = query_corpus + product_title_and_description_corpus"
   ]
  },
  {
   "cell_type": "markdown",
   "metadata": {},
   "source": [
    "## Process with Tf/Idf and LSI\n",
    "\n",
    "So now we'll apply two possible similarity models to our data:\n",
    "\n",
    "- Tf/Idf transformation: This counts word frequencies in documents (query/product) and overall. The logic is that uncommon words that appear multiple times in a product carry a lot of meaning. (This principle is common in all search engines)\n",
    "- LSI transformation: This is an SVD decomposition on top of tf/idf. It finds co-occurring words and decomposes the texts into co-occurring topics/dimensions. The idea is that each topic/diminsion has a specific semantic meaning.\n",
    "- Doc2Vec embedding: An embedding technique for words/docs. It analyzes which words occur in the same context and maps them close in a high dimensional space. The idea is that similar context means the words share meaning.\n",
    "\n",
    "So let's go transform out data!"
   ]
  },
  {
   "cell_type": "code",
   "execution_count": 15,
   "metadata": {},
   "outputs": [],
   "source": [
    "tfidf_dimensions = len(dictionary)\n",
    "lsi_dimensions = 150\n",
    "doc2vec_dimensions = 75"
   ]
  },
  {
   "cell_type": "code",
   "execution_count": 16,
   "metadata": {},
   "outputs": [],
   "source": [
    "from gensim.models import TfidfModel\n",
    "\n",
    "tfidf = TfidfModel(all_corpus, id2word=dictionary)\n",
    "\n",
    "query_tfidf = tfidf[query_corpus]\n",
    "product_title_and_description_tfidf = tfidf[product_title_and_description_corpus]\n",
    "all_tfidf = tfidf[all_corpus]"
   ]
  },
  {
   "cell_type": "code",
   "execution_count": 17,
   "metadata": {},
   "outputs": [],
   "source": [
    "from gensim.models import LsiModel\n",
    "\n",
    "lsi = LsiModel(all_tfidf, id2word=dictionary)\n",
    "\n",
    "query_lsi = lsi[query_tfidf]\n",
    "product_title_and_description_lsi = lsi[product_title_and_description_tfidf]\n",
    "all_lsi = lsi[all_tfidf]"
   ]
  },
  {
   "cell_type": "code",
   "execution_count": 18,
   "metadata": {},
   "outputs": [],
   "source": [
    "from gensim.models.doc2vec import Doc2Vec, TaggedDocument\n",
    "\n",
    "query_tagged_docs = [TaggedDocument(x, [i]) for i, x in enumerate(query_texts)]\n",
    "title_and_description_tagged_docs = [TaggedDocument(x, [i]) for i, x in enumerate(product_title_and_description_texts, len(query_texts))]\n",
    "\n",
    "all_tagged_docs = query_tagged_docs + title_and_description_tagged_docs\n",
    "\n",
    "d2v_model = Doc2Vec(all_tagged_docs, vector_size=doc2vec_dimensions, epochs=40, workers=4)"
   ]
  },
  {
   "cell_type": "markdown",
   "metadata": {},
   "source": [
    "Quick intermezzo, what did doc2vec learn? What words are similar to \"pillow\"? Does it make sense?"
   ]
  },
  {
   "cell_type": "code",
   "execution_count": 19,
   "metadata": {},
   "outputs": [
    {
     "data": {
      "text/plain": [
       "[('bed', 0.57822585105896),\n",
       " ('sleep', 0.538665235042572),\n",
       " ('sleeper', 0.5267432928085327),\n",
       " ('sham', 0.5035320520401001),\n",
       " ('surya', 0.49588605761528015),\n",
       " ('stomach', 0.48900169134140015),\n",
       " ('topper', 0.4878620505332947),\n",
       " ('blanket', 0.45482903718948364),\n",
       " ('luxuri', 0.44911447167396545),\n",
       " ('snore', 0.4265357255935669)]"
      ]
     },
     "execution_count": 19,
     "metadata": {},
     "output_type": "execute_result"
    }
   ],
   "source": [
    "d2v_model.wv.most_similar('pillow')"
   ]
  },
  {
   "cell_type": "markdown",
   "metadata": {},
   "source": [
    "So now we've trained the models, so let's transform our data."
   ]
  },
  {
   "cell_type": "code",
   "execution_count": 20,
   "metadata": {},
   "outputs": [],
   "source": [
    "from gensim.matutils import sparse2full\n",
    "\n",
    "df['query_tfidf'] = [sparse2full(x, tfidf_dimensions) for x in query_tfidf]\n",
    "df['product_title_and_description_tfidf'] = [sparse2full(x, tfidf_dimensions) for x in product_title_and_description_tfidf]\n",
    "\n",
    "df['query_lsi'] = [sparse2full(x, tfidf_dimensions) for x in query_lsi]\n",
    "df['product_title_and_description_lsi'] = [sparse2full(x, tfidf_dimensions) for x in product_title_and_description_lsi]\n",
    "\n",
    "df['query_doc2vec'] = [d2v_model.infer_vector(x) for x in query_texts]\n",
    "df['product_title_and_description_doc2vec'] = [d2v_model.infer_vector(x) for x in product_title_and_description_texts]"
   ]
  },
  {
   "cell_type": "markdown",
   "metadata": {},
   "source": [
    "## Similarity\n",
    "\n",
    "We've learned/trained our models and transformed our data. Next step is to determine similarity between product and query, this then could be used in a search engine to sort results!\n",
    "\n",
    "We'll determine similarity by cosine distance:"
   ]
  },
  {
   "cell_type": "code",
   "execution_count": 21,
   "metadata": {},
   "outputs": [
    {
     "name": "stderr",
     "output_type": "stream",
     "text": [
      "/home/dehling/Documents/machine-learnings/lib/python3.5/site-packages/scipy/spatial/distance.py:644: RuntimeWarning: invalid value encountered in float_scalars\n",
      "  dist = 1.0 - uv / np.sqrt(uu * vv)\n"
     ]
    }
   ],
   "source": [
    "from scipy.spatial.distance import cosine\n",
    "\n",
    "def cosine_distance_tfidf(row):\n",
    "    return cosine(row['query_tfidf'], row['product_title_and_description_tfidf'])\n",
    "\n",
    "def cosine_distance_lsi(row):\n",
    "    return cosine(row['query_lsi'], row['product_title_and_description_lsi'])\n",
    "\n",
    "def cosine_distance_doc2vec(row):\n",
    "    return cosine(row['query_doc2vec'], row['product_title_and_description_doc2vec'])\n",
    "\n",
    "df['distance_tfidf'] = df.apply(cosine_distance_tfidf, axis=1)\n",
    "df['distance_lsi'] = df.apply(cosine_distance_lsi, axis=1)\n",
    "df['distance_doc2vec'] = df.apply(cosine_distance_doc2vec, axis=1)"
   ]
  },
  {
   "cell_type": "markdown",
   "metadata": {},
   "source": [
    "Lets look at some examples to see which products would match a query with our approach:"
   ]
  },
  {
   "cell_type": "code",
   "execution_count": 25,
   "metadata": {
    "scrolled": false
   },
   "outputs": [
    {
     "data": {
      "text/html": [
       "<div>\n",
       "<style scoped>\n",
       "    .dataframe tbody tr th:only-of-type {\n",
       "        vertical-align: middle;\n",
       "    }\n",
       "\n",
       "    .dataframe tbody tr th {\n",
       "        vertical-align: top;\n",
       "    }\n",
       "\n",
       "    .dataframe thead th {\n",
       "        text-align: right;\n",
       "    }\n",
       "</style>\n",
       "<table border=\"1\" class=\"dataframe\">\n",
       "  <thead>\n",
       "    <tr style=\"text-align: right;\">\n",
       "      <th></th>\n",
       "      <th>query</th>\n",
       "      <th>product_title</th>\n",
       "      <th>median_relevance</th>\n",
       "      <th>distance_tfidf</th>\n",
       "    </tr>\n",
       "    <tr>\n",
       "      <th>id</th>\n",
       "      <th></th>\n",
       "      <th></th>\n",
       "      <th></th>\n",
       "      <th></th>\n",
       "    </tr>\n",
       "  </thead>\n",
       "  <tbody>\n",
       "    <tr>\n",
       "      <th>14692</th>\n",
       "      <td>16 gb memory card</td>\n",
       "      <td>Cisco - flash memory card - 16 GB - SD</td>\n",
       "      <td>4</td>\n",
       "      <td>0.377292</td>\n",
       "    </tr>\n",
       "    <tr>\n",
       "      <th>23279</th>\n",
       "      <td>16 gb memory card</td>\n",
       "      <td>EP Memory - flash memory card - 16 GB - Compac...</td>\n",
       "      <td>4</td>\n",
       "      <td>0.392852</td>\n",
       "    </tr>\n",
       "    <tr>\n",
       "      <th>4058</th>\n",
       "      <td>16 gb memory card</td>\n",
       "      <td>Samsung EVO MB-SP16D/AM 16GB Class 10 SD Memor...</td>\n",
       "      <td>4</td>\n",
       "      <td>0.399038</td>\n",
       "    </tr>\n",
       "    <tr>\n",
       "      <th>17873</th>\n",
       "      <td>16 gb memory card</td>\n",
       "      <td>Samsung 16gb Micro SDHC Class 2 Memory Card wi...</td>\n",
       "      <td>4</td>\n",
       "      <td>0.411266</td>\n",
       "    </tr>\n",
       "    <tr>\n",
       "      <th>9497</th>\n",
       "      <td>16 gb memory card</td>\n",
       "      <td>Lexar 600x 16GB MicroSDHC Memory Card with USB...</td>\n",
       "      <td>4</td>\n",
       "      <td>0.417127</td>\n",
       "    </tr>\n",
       "    <tr>\n",
       "      <th>20526</th>\n",
       "      <td>16 gb memory card</td>\n",
       "      <td>SanDisk 16GB microSDHC Memory Card - Black (SD...</td>\n",
       "      <td>4</td>\n",
       "      <td>0.442482</td>\n",
       "    </tr>\n",
       "    <tr>\n",
       "      <th>19846</th>\n",
       "      <td>16 gb memory card</td>\n",
       "      <td>Dane 16GB microSD Memory Card with Adapter - B...</td>\n",
       "      <td>4</td>\n",
       "      <td>0.445012</td>\n",
       "    </tr>\n",
       "    <tr>\n",
       "      <th>18757</th>\n",
       "      <td>16 gb memory card</td>\n",
       "      <td>16GB MicroSD Memory Card with SD Adapter (Pack...</td>\n",
       "      <td>4</td>\n",
       "      <td>0.449338</td>\n",
       "    </tr>\n",
       "    <tr>\n",
       "      <th>24971</th>\n",
       "      <td>16 gb memory card</td>\n",
       "      <td>SanDisk Ultra 16GB microSDHC Memory Card</td>\n",
       "      <td>4</td>\n",
       "      <td>0.463154</td>\n",
       "    </tr>\n",
       "    <tr>\n",
       "      <th>23804</th>\n",
       "      <td>16 gb memory card</td>\n",
       "      <td>SanDisk Ultra 16GB UHI-I Class 10 Micro SDHC M...</td>\n",
       "      <td>4</td>\n",
       "      <td>0.464085</td>\n",
       "    </tr>\n",
       "  </tbody>\n",
       "</table>\n",
       "</div>"
      ],
      "text/plain": [
       "                   query                                      product_title  \\\n",
       "id                                                                            \n",
       "14692  16 gb memory card             Cisco - flash memory card - 16 GB - SD   \n",
       "23279  16 gb memory card  EP Memory - flash memory card - 16 GB - Compac...   \n",
       "4058   16 gb memory card  Samsung EVO MB-SP16D/AM 16GB Class 10 SD Memor...   \n",
       "17873  16 gb memory card  Samsung 16gb Micro SDHC Class 2 Memory Card wi...   \n",
       "9497   16 gb memory card  Lexar 600x 16GB MicroSDHC Memory Card with USB...   \n",
       "20526  16 gb memory card  SanDisk 16GB microSDHC Memory Card - Black (SD...   \n",
       "19846  16 gb memory card  Dane 16GB microSD Memory Card with Adapter - B...   \n",
       "18757  16 gb memory card  16GB MicroSD Memory Card with SD Adapter (Pack...   \n",
       "24971  16 gb memory card           SanDisk Ultra 16GB microSDHC Memory Card   \n",
       "23804  16 gb memory card  SanDisk Ultra 16GB UHI-I Class 10 Micro SDHC M...   \n",
       "\n",
       "       median_relevance  distance_tfidf  \n",
       "id                                       \n",
       "14692                 4        0.377292  \n",
       "23279                 4        0.392852  \n",
       "4058                  4        0.399038  \n",
       "17873                 4        0.411266  \n",
       "9497                  4        0.417127  \n",
       "20526                 4        0.442482  \n",
       "19846                 4        0.445012  \n",
       "18757                 4        0.449338  \n",
       "24971                 4        0.463154  \n",
       "23804                 4        0.464085  "
      ]
     },
     "execution_count": 25,
     "metadata": {},
     "output_type": "execute_result"
    }
   ],
   "source": [
    "df[['query', 'product_title', 'median_relevance', 'distance_tfidf']].sort_values(by=['query', 'distance_tfidf']).head(n=10)"
   ]
  },
  {
   "cell_type": "markdown",
   "metadata": {},
   "source": [
    "Looks pretty sensible, right? For a query about a memory card various memory cards are suggested. I'm happy!"
   ]
  },
  {
   "cell_type": "code",
   "execution_count": 26,
   "metadata": {},
   "outputs": [
    {
     "data": {
      "text/html": [
       "<div>\n",
       "<style scoped>\n",
       "    .dataframe tbody tr th:only-of-type {\n",
       "        vertical-align: middle;\n",
       "    }\n",
       "\n",
       "    .dataframe tbody tr th {\n",
       "        vertical-align: top;\n",
       "    }\n",
       "\n",
       "    .dataframe thead th {\n",
       "        text-align: right;\n",
       "    }\n",
       "</style>\n",
       "<table border=\"1\" class=\"dataframe\">\n",
       "  <thead>\n",
       "    <tr style=\"text-align: right;\">\n",
       "      <th></th>\n",
       "      <th>query</th>\n",
       "      <th>product_title</th>\n",
       "      <th>median_relevance</th>\n",
       "      <th>distance_lsi</th>\n",
       "    </tr>\n",
       "    <tr>\n",
       "      <th>id</th>\n",
       "      <th></th>\n",
       "      <th></th>\n",
       "      <th></th>\n",
       "      <th></th>\n",
       "    </tr>\n",
       "  </thead>\n",
       "  <tbody>\n",
       "    <tr>\n",
       "      <th>19182</th>\n",
       "      <td>16 gb memory card</td>\n",
       "      <td>Transcend 16GB MicroSD Class 4 Flash Memory Card</td>\n",
       "      <td>4</td>\n",
       "      <td>0.007564</td>\n",
       "    </tr>\n",
       "    <tr>\n",
       "      <th>32384</th>\n",
       "      <td>16 gb memory card</td>\n",
       "      <td>Transcend 16gb Class 10 SDHC Flash Memory Card</td>\n",
       "      <td>4</td>\n",
       "      <td>0.010354</td>\n",
       "    </tr>\n",
       "    <tr>\n",
       "      <th>23279</th>\n",
       "      <td>16 gb memory card</td>\n",
       "      <td>EP Memory - flash memory card - 16 GB - Compac...</td>\n",
       "      <td>4</td>\n",
       "      <td>0.012274</td>\n",
       "    </tr>\n",
       "    <tr>\n",
       "      <th>29717</th>\n",
       "      <td>16 gb memory card</td>\n",
       "      <td>Kingston 4GB 8GB 16GB 32GB Class 4 microSD SDH...</td>\n",
       "      <td>4</td>\n",
       "      <td>0.016376</td>\n",
       "    </tr>\n",
       "    <tr>\n",
       "      <th>20967</th>\n",
       "      <td>16 gb memory card</td>\n",
       "      <td>SanDisk Ultra 16G 32GB 64GB 128GB 40MB/S SD SD...</td>\n",
       "      <td>4</td>\n",
       "      <td>0.024250</td>\n",
       "    </tr>\n",
       "    <tr>\n",
       "      <th>14692</th>\n",
       "      <td>16 gb memory card</td>\n",
       "      <td>Cisco - flash memory card - 16 GB - SD</td>\n",
       "      <td>4</td>\n",
       "      <td>0.028702</td>\n",
       "    </tr>\n",
       "    <tr>\n",
       "      <th>13919</th>\n",
       "      <td>16 gb memory card</td>\n",
       "      <td>SanDisk - flash memory card - 16 GB - microSDHC</td>\n",
       "      <td>4</td>\n",
       "      <td>0.041562</td>\n",
       "    </tr>\n",
       "    <tr>\n",
       "      <th>19317</th>\n",
       "      <td>16 gb memory card</td>\n",
       "      <td>SanDisk 16GB Class 4 microSDHC Memory Card</td>\n",
       "      <td>4</td>\n",
       "      <td>0.042414</td>\n",
       "    </tr>\n",
       "    <tr>\n",
       "      <th>23804</th>\n",
       "      <td>16 gb memory card</td>\n",
       "      <td>SanDisk Ultra 16GB UHI-I Class 10 Micro SDHC M...</td>\n",
       "      <td>4</td>\n",
       "      <td>0.054703</td>\n",
       "    </tr>\n",
       "    <tr>\n",
       "      <th>4058</th>\n",
       "      <td>16 gb memory card</td>\n",
       "      <td>Samsung EVO MB-SP16D/AM 16GB Class 10 SD Memor...</td>\n",
       "      <td>4</td>\n",
       "      <td>0.059089</td>\n",
       "    </tr>\n",
       "  </tbody>\n",
       "</table>\n",
       "</div>"
      ],
      "text/plain": [
       "                   query                                      product_title  \\\n",
       "id                                                                            \n",
       "19182  16 gb memory card   Transcend 16GB MicroSD Class 4 Flash Memory Card   \n",
       "32384  16 gb memory card     Transcend 16gb Class 10 SDHC Flash Memory Card   \n",
       "23279  16 gb memory card  EP Memory - flash memory card - 16 GB - Compac...   \n",
       "29717  16 gb memory card  Kingston 4GB 8GB 16GB 32GB Class 4 microSD SDH...   \n",
       "20967  16 gb memory card  SanDisk Ultra 16G 32GB 64GB 128GB 40MB/S SD SD...   \n",
       "14692  16 gb memory card             Cisco - flash memory card - 16 GB - SD   \n",
       "13919  16 gb memory card    SanDisk - flash memory card - 16 GB - microSDHC   \n",
       "19317  16 gb memory card         SanDisk 16GB Class 4 microSDHC Memory Card   \n",
       "23804  16 gb memory card  SanDisk Ultra 16GB UHI-I Class 10 Micro SDHC M...   \n",
       "4058   16 gb memory card  Samsung EVO MB-SP16D/AM 16GB Class 10 SD Memor...   \n",
       "\n",
       "       median_relevance  distance_lsi  \n",
       "id                                     \n",
       "19182                 4      0.007564  \n",
       "32384                 4      0.010354  \n",
       "23279                 4      0.012274  \n",
       "29717                 4      0.016376  \n",
       "20967                 4      0.024250  \n",
       "14692                 4      0.028702  \n",
       "13919                 4      0.041562  \n",
       "19317                 4      0.042414  \n",
       "23804                 4      0.054703  \n",
       "4058                  4      0.059089  "
      ]
     },
     "execution_count": 26,
     "metadata": {},
     "output_type": "execute_result"
    }
   ],
   "source": [
    "df[['query', 'product_title', 'median_relevance', 'distance_lsi']].sort_values(by=['query', 'distance_lsi']).head(n=10)"
   ]
  },
  {
   "cell_type": "markdown",
   "metadata": {},
   "source": [
    "LSI also looks sensible, similar products are suggested."
   ]
  },
  {
   "cell_type": "markdown",
   "metadata": {},
   "source": [
    "## Evaluation\n",
    "\n",
    "Let's compare the similarity we calculated against the human assessed relevance. For this we'll use correlation."
   ]
  },
  {
   "cell_type": "code",
   "execution_count": 20,
   "metadata": {},
   "outputs": [
    {
     "data": {
      "text/plain": [
       "-0.364037545605384"
      ]
     },
     "execution_count": 20,
     "metadata": {},
     "output_type": "execute_result"
    }
   ],
   "source": [
    "df['median_relevance'].corr(df['distance_tfidf'])"
   ]
  },
  {
   "cell_type": "code",
   "execution_count": 21,
   "metadata": {},
   "outputs": [
    {
     "data": {
      "text/plain": [
       "-0.3669726247025937"
      ]
     },
     "execution_count": 21,
     "metadata": {},
     "output_type": "execute_result"
    }
   ],
   "source": [
    "df['median_relevance'].corr(df['distance_lsi'])"
   ]
  },
  {
   "cell_type": "code",
   "execution_count": 72,
   "metadata": {},
   "outputs": [
    {
     "data": {
      "text/plain": [
       "-0.08686668817840917"
      ]
     },
     "execution_count": 72,
     "metadata": {},
     "output_type": "execute_result"
    }
   ],
   "source": [
    "df['median_relevance'].corr(df['distance_doc2vec'])"
   ]
  },
  {
   "cell_type": "markdown",
   "metadata": {},
   "source": [
    "Let's also make some plots to visualize the relation between calculated similarity and assessed relevance."
   ]
  },
  {
   "cell_type": "code",
   "execution_count": 22,
   "metadata": {},
   "outputs": [
    {
     "data": {
      "text/plain": [
       "<matplotlib.axes._subplots.AxesSubplot at 0x7f30389ab940>"
      ]
     },
     "execution_count": 22,
     "metadata": {},
     "output_type": "execute_result"
    },
    {
     "data": {
      "image/png": "[encoded data removed]",
      "text/plain": [
       "<Figure size 432x288 with 1 Axes>"
      ]
     },
     "metadata": {},
     "output_type": "display_data"
    }
   ],
   "source": [
    "import seaborn as sns\n",
    "%matplotlib inline\n",
    "\n",
    "sns.violinplot(x='median_relevance', y='distance_tfidf', data=df)"
   ]
  },
  {
   "cell_type": "code",
   "execution_count": 23,
   "metadata": {},
   "outputs": [
    {
     "data": {
      "text/plain": [
       "<matplotlib.axes._subplots.AxesSubplot at 0x7f2fe3aea940>"
      ]
     },
     "execution_count": 23,
     "metadata": {},
     "output_type": "execute_result"
    },
    {
     "data": {
      "image/png": "[encoded data removed]",
      "text/plain": [
       "<Figure size 432x288 with 1 Axes>"
      ]
     },
     "metadata": {},
     "output_type": "display_data"
    }
   ],
   "source": [
    "sns.violinplot(x='median_relevance', y='distance_lsi', data=df)"
   ]
  },
  {
   "cell_type": "code",
   "execution_count": 34,
   "metadata": {},
   "outputs": [
    {
     "data": {
      "text/plain": [
       "<matplotlib.axes._subplots.AxesSubplot at 0x7f2fe08bbe10>"
      ]
     },
     "execution_count": 34,
     "metadata": {},
     "output_type": "execute_result"
    },
    {
     "data": {
      "image/png": "[encoded data removed]",
      "text/plain": [
       "<Figure size 432x288 with 1 Axes>"
      ]
     },
     "metadata": {},
     "output_type": "display_data"
    }
   ],
   "source": [
    "sns.violinplot(x='median_relevance', y='distance_doc2vec', data=df)"
   ]
  },
  {
   "cell_type": "markdown",
   "metadata": {},
   "source": [
    "Each of the similarity approaches shows different results, and perform differently good/bad.\n",
    "\n",
    "* TF/IDF and LSI do quite well on correlation and find relevant product for a query\n",
    "* Doc2Vec doesn't do well, probably it needs better training data or more finetuning. With more energy spent it might work, but not out-of-the-box at least.\n",
    "\n",
    "I hope you enjoyed!"
   ]
  },
  {
   "cell_type": "code",
   "execution_count": null,
   "metadata": {},
   "outputs": [],
   "source": []
  }
 ],
 "metadata": {
  "kernelspec": {
   "display_name": "Python 3",
   "language": "python",
   "name": "python3"
  },
  "language_info": {
   "codemirror_mode": {
    "name": "ipython",
    "version": 3
   },
   "file_extension": ".py",
   "mimetype": "text/x-python",
   "name": "python",
   "nbconvert_exporter": "python",
   "pygments_lexer": "ipython3",
   "version": "3.5.3"
  }
 },
 "nbformat": 4,
 "nbformat_minor": 2
}
