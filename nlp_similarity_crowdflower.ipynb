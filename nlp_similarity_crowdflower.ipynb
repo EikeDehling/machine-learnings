{
 "cells": [
  {
   "cell_type": "markdown",
   "metadata": {},
   "source": [
    "\n",
    "Dataset and competition for search relevance:\n",
    "\n",
    "https://www.kaggle.com/c/crowdflower-search-relevance"
   ]
  },
  {
   "cell_type": "code",
   "execution_count": 1,
   "metadata": {},
   "outputs": [],
   "source": [
    "import pandas as pd\n",
    "\n",
    "df = pd.read_csv('data/crowdflower-search-relevance.csv', index_col=0)"
   ]
  },
  {
   "cell_type": "code",
   "execution_count": 2,
   "metadata": {},
   "outputs": [
    {
     "data": {
      "text/plain": [
       "(10158, 5)"
      ]
     },
     "execution_count": 2,
     "metadata": {},
     "output_type": "execute_result"
    }
   ],
   "source": [
    "df.shape"
   ]
  },
  {
   "cell_type": "code",
   "execution_count": 3,
   "metadata": {},
   "outputs": [
    {
     "data": {
      "text/html": [
       "<div>\n",
       "<style scoped>\n",
       "    .dataframe tbody tr th:only-of-type {\n",
       "        vertical-align: middle;\n",
       "    }\n",
       "\n",
       "    .dataframe tbody tr th {\n",
       "        vertical-align: top;\n",
       "    }\n",
       "\n",
       "    .dataframe thead th {\n",
       "        text-align: right;\n",
       "    }\n",
       "</style>\n",
       "<table border=\"1\" class=\"dataframe\">\n",
       "  <thead>\n",
       "    <tr style=\"text-align: right;\">\n",
       "      <th></th>\n",
       "      <th>query</th>\n",
       "      <th>product_title</th>\n",
       "      <th>product_description</th>\n",
       "      <th>median_relevance</th>\n",
       "      <th>relevance_variance</th>\n",
       "    </tr>\n",
       "    <tr>\n",
       "      <th>id</th>\n",
       "      <th></th>\n",
       "      <th></th>\n",
       "      <th></th>\n",
       "      <th></th>\n",
       "      <th></th>\n",
       "    </tr>\n",
       "  </thead>\n",
       "  <tbody>\n",
       "    <tr>\n",
       "      <th>1</th>\n",
       "      <td>bridal shower decorations</td>\n",
       "      <td>Accent Pillow with Heart Design - Red/Black</td>\n",
       "      <td>Red satin accent pillow embroidered with a hea...</td>\n",
       "      <td>1</td>\n",
       "      <td>0.000</td>\n",
       "    </tr>\n",
       "    <tr>\n",
       "      <th>2</th>\n",
       "      <td>led christmas lights</td>\n",
       "      <td>Set of 10 Battery Operated Multi LED Train Chr...</td>\n",
       "      <td>Set of 10 Battery Operated Train Christmas Lig...</td>\n",
       "      <td>4</td>\n",
       "      <td>0.000</td>\n",
       "    </tr>\n",
       "    <tr>\n",
       "      <th>4</th>\n",
       "      <td>projector</td>\n",
       "      <td>ViewSonic Pro8200 DLP Multimedia Projector</td>\n",
       "      <td>NaN</td>\n",
       "      <td>4</td>\n",
       "      <td>0.471</td>\n",
       "    </tr>\n",
       "    <tr>\n",
       "      <th>5</th>\n",
       "      <td>wine rack</td>\n",
       "      <td>Concept Housewares WR-44526 Solid-Wood Ceiling...</td>\n",
       "      <td>Like a silent and sturdy tree, the Southern En...</td>\n",
       "      <td>4</td>\n",
       "      <td>0.000</td>\n",
       "    </tr>\n",
       "    <tr>\n",
       "      <th>7</th>\n",
       "      <td>light bulb</td>\n",
       "      <td>Wintergreen Lighting Christmas LED Light Bulb ...</td>\n",
       "      <td>WTGR1011\\nFeatures\\nNickel base, 60,000 averag...</td>\n",
       "      <td>2</td>\n",
       "      <td>0.471</td>\n",
       "    </tr>\n",
       "  </tbody>\n",
       "</table>\n",
       "</div>"
      ],
      "text/plain": [
       "                        query  \\\n",
       "id                              \n",
       "1   bridal shower decorations   \n",
       "2        led christmas lights   \n",
       "4                   projector   \n",
       "5                   wine rack   \n",
       "7                  light bulb   \n",
       "\n",
       "                                        product_title  \\\n",
       "id                                                      \n",
       "1         Accent Pillow with Heart Design - Red/Black   \n",
       "2   Set of 10 Battery Operated Multi LED Train Chr...   \n",
       "4          ViewSonic Pro8200 DLP Multimedia Projector   \n",
       "5   Concept Housewares WR-44526 Solid-Wood Ceiling...   \n",
       "7   Wintergreen Lighting Christmas LED Light Bulb ...   \n",
       "\n",
       "                                  product_description  median_relevance  \\\n",
       "id                                                                        \n",
       "1   Red satin accent pillow embroidered with a hea...                 1   \n",
       "2   Set of 10 Battery Operated Train Christmas Lig...                 4   \n",
       "4                                                 NaN                 4   \n",
       "5   Like a silent and sturdy tree, the Southern En...                 4   \n",
       "7   WTGR1011\\nFeatures\\nNickel base, 60,000 averag...                 2   \n",
       "\n",
       "    relevance_variance  \n",
       "id                      \n",
       "1                0.000  \n",
       "2                0.000  \n",
       "4                0.471  \n",
       "5                0.000  \n",
       "7                0.471  "
      ]
     },
     "execution_count": 3,
     "metadata": {},
     "output_type": "execute_result"
    }
   ],
   "source": [
    "df.head()"
   ]
  },
  {
   "cell_type": "code",
   "execution_count": 4,
   "metadata": {},
   "outputs": [],
   "source": [
    "df.dropna(inplace=True)"
   ]
  },
  {
   "cell_type": "code",
   "execution_count": 5,
   "metadata": {},
   "outputs": [],
   "source": [
    "def concat_text(row):\n",
    "    return row['product_title'] + ' ' + row['product_description']\n",
    "\n",
    "df['product_title_descr'] = df.apply(concat_text, axis=1)"
   ]
  },
  {
   "cell_type": "code",
   "execution_count": 6,
   "metadata": {},
   "outputs": [],
   "source": [
    "from sklearn.feature_extraction.text import TfidfVectorizer\n",
    "\n",
    "vect = TfidfVectorizer()\n",
    "\n",
    "vect.fit(df['product_title_descr'])\n",
    "\n",
    "product_vectors = vect.transform(df['product_title_descr']).todense()\n",
    "query_vectors = vect.transform(df['query']).todense()"
   ]
  },
  {
   "cell_type": "code",
   "execution_count": 7,
   "metadata": {},
   "outputs": [
    {
     "data": {
      "text/plain": [
       "(7714, 28036)"
      ]
     },
     "execution_count": 7,
     "metadata": {},
     "output_type": "execute_result"
    }
   ],
   "source": [
    "product_vectors.shape"
   ]
  },
  {
   "cell_type": "code",
   "execution_count": 8,
   "metadata": {},
   "outputs": [
    {
     "data": {
      "text/plain": [
       "(1, 28036)"
      ]
     },
     "execution_count": 8,
     "metadata": {},
     "output_type": "execute_result"
    }
   ],
   "source": [
    "product_vectors[0].shape"
   ]
  },
  {
   "cell_type": "code",
   "execution_count": 9,
   "metadata": {},
   "outputs": [
    {
     "data": {
      "text/plain": [
       "(7714, 28036)"
      ]
     },
     "execution_count": 9,
     "metadata": {},
     "output_type": "execute_result"
    }
   ],
   "source": [
    "query_vectors.shape"
   ]
  },
  {
   "cell_type": "code",
   "execution_count": 16,
   "metadata": {},
   "outputs": [
    {
     "name": "stderr",
     "output_type": "stream",
     "text": [
      "/home/dehling/Documents/machine-learnings/lib/python3.5/site-packages/scipy/spatial/distance.py:649: RuntimeWarning: invalid value encountered in double_scalars\n",
      "  dist = 1.0 - uv / np.sqrt(uu * vv)\n"
     ]
    }
   ],
   "source": [
    "from scipy.spatial.distance import cosine, euclidean\n",
    "                  \n",
    "df['dist'] = list(map(lambda x: cosine(x[0], x[1]), zip(product_vectors, query_vectors)))"
   ]
  },
  {
   "cell_type": "code",
   "execution_count": 17,
   "metadata": {
    "scrolled": false
   },
   "outputs": [
    {
     "data": {
      "text/html": [
       "<div>\n",
       "<style scoped>\n",
       "    .dataframe tbody tr th:only-of-type {\n",
       "        vertical-align: middle;\n",
       "    }\n",
       "\n",
       "    .dataframe tbody tr th {\n",
       "        vertical-align: top;\n",
       "    }\n",
       "\n",
       "    .dataframe thead th {\n",
       "        text-align: right;\n",
       "    }\n",
       "</style>\n",
       "<table border=\"1\" class=\"dataframe\">\n",
       "  <thead>\n",
       "    <tr style=\"text-align: right;\">\n",
       "      <th></th>\n",
       "      <th>query</th>\n",
       "      <th>product_title</th>\n",
       "      <th>median_relevance</th>\n",
       "      <th>dist</th>\n",
       "    </tr>\n",
       "    <tr>\n",
       "      <th>id</th>\n",
       "      <th></th>\n",
       "      <th></th>\n",
       "      <th></th>\n",
       "      <th></th>\n",
       "    </tr>\n",
       "  </thead>\n",
       "  <tbody>\n",
       "    <tr>\n",
       "      <th>20622</th>\n",
       "      <td>cast iron skillet</td>\n",
       "      <td>Man Law Cast Iron 12-inch Skillet</td>\n",
       "      <td>4</td>\n",
       "      <td>0.200876</td>\n",
       "    </tr>\n",
       "    <tr>\n",
       "      <th>26118</th>\n",
       "      <td>galaxy note 3</td>\n",
       "      <td>ARCLYTE TECHNOLOGIES, INC. SAMSUNG BATTERY FOR...</td>\n",
       "      <td>2</td>\n",
       "      <td>0.226219</td>\n",
       "    </tr>\n",
       "    <tr>\n",
       "      <th>22307</th>\n",
       "      <td>memory foam mattress topper</td>\n",
       "      <td>Select Luxury 3-inch Memory Foam 7-zone Mattre...</td>\n",
       "      <td>4</td>\n",
       "      <td>0.228700</td>\n",
       "    </tr>\n",
       "    <tr>\n",
       "      <th>16658</th>\n",
       "      <td>gold toe socks</td>\n",
       "      <td>Gold Toe 3-Pk. Microfiber Socks</td>\n",
       "      <td>4</td>\n",
       "      <td>0.230734</td>\n",
       "    </tr>\n",
       "    <tr>\n",
       "      <th>5208</th>\n",
       "      <td>bluetooth speaker</td>\n",
       "      <td>Mini Portable Bluetooth Speaker</td>\n",
       "      <td>4</td>\n",
       "      <td>0.235643</td>\n",
       "    </tr>\n",
       "    <tr>\n",
       "      <th>2561</th>\n",
       "      <td>fifa 15</td>\n",
       "      <td>Ea Sports Fifa 15 - Xbox One (36779)</td>\n",
       "      <td>4</td>\n",
       "      <td>0.239309</td>\n",
       "    </tr>\n",
       "    <tr>\n",
       "      <th>11315</th>\n",
       "      <td>hello kitty</td>\n",
       "      <td>Hello Kitty Hello Kitty HK218 Prescription Eye...</td>\n",
       "      <td>2</td>\n",
       "      <td>0.242603</td>\n",
       "    </tr>\n",
       "    <tr>\n",
       "      <th>5124</th>\n",
       "      <td>werewolf costume</td>\n",
       "      <td>Child Werewolf Costume</td>\n",
       "      <td>4</td>\n",
       "      <td>0.242918</td>\n",
       "    </tr>\n",
       "    <tr>\n",
       "      <th>3988</th>\n",
       "      <td>minecraft diamond sword</td>\n",
       "      <td>Minecraft Foam Diamond Sword</td>\n",
       "      <td>4</td>\n",
       "      <td>0.253502</td>\n",
       "    </tr>\n",
       "    <tr>\n",
       "      <th>19300</th>\n",
       "      <td>bluetooth speaker</td>\n",
       "      <td>Waterproof Bluetooth Speaker - White</td>\n",
       "      <td>4</td>\n",
       "      <td>0.256616</td>\n",
       "    </tr>\n",
       "  </tbody>\n",
       "</table>\n",
       "</div>"
      ],
      "text/plain": [
       "                             query  \\\n",
       "id                                   \n",
       "20622            cast iron skillet   \n",
       "26118                galaxy note 3   \n",
       "22307  memory foam mattress topper   \n",
       "16658               gold toe socks   \n",
       "5208             bluetooth speaker   \n",
       "2561                       fifa 15   \n",
       "11315                  hello kitty   \n",
       "5124              werewolf costume   \n",
       "3988       minecraft diamond sword   \n",
       "19300            bluetooth speaker   \n",
       "\n",
       "                                           product_title  median_relevance  \\\n",
       "id                                                                           \n",
       "20622                  Man Law Cast Iron 12-inch Skillet                 4   \n",
       "26118  ARCLYTE TECHNOLOGIES, INC. SAMSUNG BATTERY FOR...                 2   \n",
       "22307  Select Luxury 3-inch Memory Foam 7-zone Mattre...                 4   \n",
       "16658                    Gold Toe 3-Pk. Microfiber Socks                 4   \n",
       "5208                     Mini Portable Bluetooth Speaker                 4   \n",
       "2561                Ea Sports Fifa 15 - Xbox One (36779)                 4   \n",
       "11315  Hello Kitty Hello Kitty HK218 Prescription Eye...                 2   \n",
       "5124                              Child Werewolf Costume                 4   \n",
       "3988                        Minecraft Foam Diamond Sword                 4   \n",
       "19300               Waterproof Bluetooth Speaker - White                 4   \n",
       "\n",
       "           dist  \n",
       "id               \n",
       "20622  0.200876  \n",
       "26118  0.226219  \n",
       "22307  0.228700  \n",
       "16658  0.230734  \n",
       "5208   0.235643  \n",
       "2561   0.239309  \n",
       "11315  0.242603  \n",
       "5124   0.242918  \n",
       "3988   0.253502  \n",
       "19300  0.256616  "
      ]
     },
     "execution_count": 17,
     "metadata": {},
     "output_type": "execute_result"
    }
   ],
   "source": [
    "df[['query', 'product_title', 'median_relevance', 'dist']].sort_values(by=['dist']).head(n=10)"
   ]
  },
  {
   "cell_type": "code",
   "execution_count": 13,
   "metadata": {},
   "outputs": [
    {
     "data": {
      "text/plain": [
       "-0.318611530997336"
      ]
     },
     "execution_count": 13,
     "metadata": {},
     "output_type": "execute_result"
    }
   ],
   "source": [
    "df['median_relevance'].corr(df['dist'])"
   ]
  },
  {
   "cell_type": "code",
   "execution_count": 14,
   "metadata": {},
   "outputs": [
    {
     "data": {
      "text/plain": [
       "<matplotlib.axes._subplots.AxesSubplot at 0x7f610fdb96d8>"
      ]
     },
     "execution_count": 14,
     "metadata": {},
     "output_type": "execute_result"
    },
    {
     "data": {
      "image/png": "[encoded data removed]",
      "text/plain": [
       "<Figure size 432x288 with 1 Axes>"
      ]
     },
     "metadata": {},
     "output_type": "display_data"
    }
   ],
   "source": [
    "import seaborn as sns\n",
    "%matplotlib inline\n",
    "\n",
    "sns.violinplot(x='median_relevance', y='dist', data=df)"
   ]
  },
  {
   "cell_type": "code",
   "execution_count": 15,
   "metadata": {},
   "outputs": [
    {
     "data": {
      "text/plain": [
       "<matplotlib.axes._subplots.AxesSubplot at 0x7f603d3747f0>"
      ]
     },
     "execution_count": 15,
     "metadata": {},
     "output_type": "execute_result"
    },
    {
     "data": {
      "image/png": "[encoded data removed]",
      "text/plain": [
       "<Figure size 432x288 with 1 Axes>"
      ]
     },
     "metadata": {},
     "output_type": "display_data"
    }
   ],
   "source": [
    "df['dist'].hist()"
   ]
  },
  {
   "cell_type": "code",
   "execution_count": null,
   "metadata": {},
   "outputs": [],
   "source": []
  }
 ],
 "metadata": {
  "kernelspec": {
   "display_name": "Python 3",
   "language": "python",
   "name": "python3"
  },
  "language_info": {
   "codemirror_mode": {
    "name": "ipython",
    "version": 3
   },
   "file_extension": ".py",
   "mimetype": "text/x-python",
   "name": "python",
   "nbconvert_exporter": "python",
   "pygments_lexer": "ipython3",
   "version": "3.5.2"
  }
 },
 "nbformat": 4,
 "nbformat_minor": 2
}
