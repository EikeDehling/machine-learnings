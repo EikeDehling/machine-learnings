{
 "cells": [
  {
   "cell_type": "code",
   "execution_count": 23,
   "metadata": {},
   "outputs": [],
   "source": [
    "import pandas as pd\n",
    "\n",
    "pd.set_option('max_colwidth', 250)\n",
    "pd.set_option('display.height', 500)\n",
    "pd.set_option('display.max_rows', 500)\n",
    "\n",
    "df = pd.read_csv('data/home-depot.csv', nrows=10000)"
   ]
  },
  {
   "cell_type": "code",
   "execution_count": 24,
   "metadata": {},
   "outputs": [
    {
     "data": {
      "text/html": [
       "<div>\n",
       "<style scoped>\n",
       "    .dataframe tbody tr th:only-of-type {\n",
       "        vertical-align: middle;\n",
       "    }\n",
       "\n",
       "    .dataframe tbody tr th {\n",
       "        vertical-align: top;\n",
       "    }\n",
       "\n",
       "    .dataframe thead th {\n",
       "        text-align: right;\n",
       "    }\n",
       "</style>\n",
       "<table border=\"1\" class=\"dataframe\">\n",
       "  <thead>\n",
       "    <tr style=\"text-align: right;\">\n",
       "      <th></th>\n",
       "      <th>search_term</th>\n",
       "      <th>product_uid</th>\n",
       "      <th>product_title</th>\n",
       "      <th>product_description</th>\n",
       "      <th>relevance</th>\n",
       "    </tr>\n",
       "  </thead>\n",
       "  <tbody>\n",
       "    <tr>\n",
       "      <th>0</th>\n",
       "      <td>angle bracket</td>\n",
       "      <td>100001</td>\n",
       "      <td>Simpson Strong-Tie 12-Gauge Angle</td>\n",
       "      <td>Not only do angles make joints stronger, they also provide more consistent, straight corners. Simpson Strong-Tie offers a wide variety of angles in various sizes and thicknesses to handle light-duty jobs or projects where a structural connection ...</td>\n",
       "      <td>3.00</td>\n",
       "    </tr>\n",
       "    <tr>\n",
       "      <th>1</th>\n",
       "      <td>l bracket</td>\n",
       "      <td>100001</td>\n",
       "      <td>Simpson Strong-Tie 12-Gauge Angle</td>\n",
       "      <td>Not only do angles make joints stronger, they also provide more consistent, straight corners. Simpson Strong-Tie offers a wide variety of angles in various sizes and thicknesses to handle light-duty jobs or projects where a structural connection ...</td>\n",
       "      <td>2.50</td>\n",
       "    </tr>\n",
       "    <tr>\n",
       "      <th>2</th>\n",
       "      <td>deck over</td>\n",
       "      <td>100002</td>\n",
       "      <td>BEHR Premium Textured DeckOver 1-gal. #SC-141 Tugboat Wood and Concrete Coating</td>\n",
       "      <td>BEHR Premium Textured DECKOVER is an innovative solid color coating. It will bring your old, weathered wood or concrete back to life. The advanced 100% acrylic resin formula creates a durable coating for your tired and worn out deck, rejuvenating...</td>\n",
       "      <td>3.00</td>\n",
       "    </tr>\n",
       "    <tr>\n",
       "      <th>3</th>\n",
       "      <td>rain shower head</td>\n",
       "      <td>100005</td>\n",
       "      <td>Delta Vero 1-Handle Shower Only Faucet Trim Kit in Chrome (Valve Not Included)</td>\n",
       "      <td>Update your bathroom with the Delta Vero Single-Handle Shower Faucet Trim Kit in Chrome. It has a sleek, modern and minimalistic aesthetic. The MultiChoice universal valve keeps the water temperature within +/-3 degrees Fahrenheit to help prevent...</td>\n",
       "      <td>2.33</td>\n",
       "    </tr>\n",
       "    <tr>\n",
       "      <th>4</th>\n",
       "      <td>shower only faucet</td>\n",
       "      <td>100005</td>\n",
       "      <td>Delta Vero 1-Handle Shower Only Faucet Trim Kit in Chrome (Valve Not Included)</td>\n",
       "      <td>Update your bathroom with the Delta Vero Single-Handle Shower Faucet Trim Kit in Chrome. It has a sleek, modern and minimalistic aesthetic. The MultiChoice universal valve keeps the water temperature within +/-3 degrees Fahrenheit to help prevent...</td>\n",
       "      <td>2.67</td>\n",
       "    </tr>\n",
       "  </tbody>\n",
       "</table>\n",
       "</div>"
      ],
      "text/plain": [
       "          search_term  product_uid  \\\n",
       "0       angle bracket       100001   \n",
       "1           l bracket       100001   \n",
       "2           deck over       100002   \n",
       "3    rain shower head       100005   \n",
       "4  shower only faucet       100005   \n",
       "\n",
       "                                                                     product_title  \\\n",
       "0                                                Simpson Strong-Tie 12-Gauge Angle   \n",
       "1                                                Simpson Strong-Tie 12-Gauge Angle   \n",
       "2  BEHR Premium Textured DeckOver 1-gal. #SC-141 Tugboat Wood and Concrete Coating   \n",
       "3   Delta Vero 1-Handle Shower Only Faucet Trim Kit in Chrome (Valve Not Included)   \n",
       "4   Delta Vero 1-Handle Shower Only Faucet Trim Kit in Chrome (Valve Not Included)   \n",
       "\n",
       "                                                                                                                                                                                                                                         product_description  \\\n",
       "0  Not only do angles make joints stronger, they also provide more consistent, straight corners. Simpson Strong-Tie offers a wide variety of angles in various sizes and thicknesses to handle light-duty jobs or projects where a structural connection ...   \n",
       "1  Not only do angles make joints stronger, they also provide more consistent, straight corners. Simpson Strong-Tie offers a wide variety of angles in various sizes and thicknesses to handle light-duty jobs or projects where a structural connection ...   \n",
       "2  BEHR Premium Textured DECKOVER is an innovative solid color coating. It will bring your old, weathered wood or concrete back to life. The advanced 100% acrylic resin formula creates a durable coating for your tired and worn out deck, rejuvenating...   \n",
       "3  Update your bathroom with the Delta Vero Single-Handle Shower Faucet Trim Kit in Chrome. It has a sleek, modern and minimalistic aesthetic. The MultiChoice universal valve keeps the water temperature within +/-3 degrees Fahrenheit to help prevent...   \n",
       "4  Update your bathroom with the Delta Vero Single-Handle Shower Faucet Trim Kit in Chrome. It has a sleek, modern and minimalistic aesthetic. The MultiChoice universal valve keeps the water temperature within +/-3 degrees Fahrenheit to help prevent...   \n",
       "\n",
       "   relevance  \n",
       "0       3.00  \n",
       "1       2.50  \n",
       "2       3.00  \n",
       "3       2.33  \n",
       "4       2.67  "
      ]
     },
     "execution_count": 24,
     "metadata": {},
     "output_type": "execute_result"
    }
   ],
   "source": [
    "df.head()"
   ]
  },
  {
   "cell_type": "code",
   "execution_count": 25,
   "metadata": {},
   "outputs": [
    {
     "data": {
      "text/html": [
       "<div>\n",
       "<style scoped>\n",
       "    .dataframe tbody tr th:only-of-type {\n",
       "        vertical-align: middle;\n",
       "    }\n",
       "\n",
       "    .dataframe tbody tr th {\n",
       "        vertical-align: top;\n",
       "    }\n",
       "\n",
       "    .dataframe thead th {\n",
       "        text-align: right;\n",
       "    }\n",
       "</style>\n",
       "<table border=\"1\" class=\"dataframe\">\n",
       "  <thead>\n",
       "    <tr style=\"text-align: right;\">\n",
       "      <th></th>\n",
       "      <th>search_term</th>\n",
       "      <th>product_uid</th>\n",
       "      <th>product_title</th>\n",
       "      <th>product_description</th>\n",
       "      <th>relevance</th>\n",
       "    </tr>\n",
       "  </thead>\n",
       "  <tbody>\n",
       "    <tr>\n",
       "      <th>881</th>\n",
       "      <td>$ hole saw</td>\n",
       "      <td>100490</td>\n",
       "      <td>Milwaukee Metal Hole Saw Kit (15-Piece)</td>\n",
       "      <td>The Milwaukee Hole Dozer Bi-Metal Hole Saw features Rip Guard, the strongest tooth form in the industry, backed by the Rip Guard Limited Lifetime Tooth Break Warranty. Each tooth is built with more steel behind the cutting edge for added strength...</td>\n",
       "      <td>3.00</td>\n",
       "    </tr>\n",
       "    <tr>\n",
       "      <th>1341</th>\n",
       "      <td>$ hole saw</td>\n",
       "      <td>100712</td>\n",
       "      <td>Milwaukee 4 in. Bi-Metal Hole Saw</td>\n",
       "      <td>Use the Milwaukee 4 in. Bi-Metal Hole Saw to cut holes in a variety of materials. The steel hole saw can drill almost 2 in. deep. Milwaukee Ice Hardened products utilize a proprietary cryogenic hardening process that improves upon traditional hea...</td>\n",
       "      <td>3.00</td>\n",
       "    </tr>\n",
       "    <tr>\n",
       "      <th>5124</th>\n",
       "      <td>. exterior floor stain</td>\n",
       "      <td>102836</td>\n",
       "      <td>BEHR Premium 1-gal. #902 Slate Gray 1-Part Epoxy Concrete and Garage Floor Paint</td>\n",
       "      <td>The BEHR Premium 1-Part Epoxy is a high-performance, ready-to-use, water-based floor paint that resists hot tire pick-up and marring. The finish is highly resistant to chemicals, oil and gasoline, which reduces the need for maintenance of hard-to...</td>\n",
       "      <td>2.33</td>\n",
       "    </tr>\n",
       "    <tr>\n",
       "      <th>4121</th>\n",
       "      <td>. exterior floor stain</td>\n",
       "      <td>102253</td>\n",
       "      <td>Glidden Porch and Floor 1-gal. Gloss Polyurethane Oil Paint</td>\n",
       "      <td>Glidden 1-gal. Gloss Porch and Floor Polyurethane Oil Paint provides a durable gloss finish that withstands the demands of foot traffic and adds a beautiful, lasting look to interior and exterior wood and concrete floors, stairs, boat decks, maso...</td>\n",
       "      <td>3.00</td>\n",
       "    </tr>\n",
       "    <tr>\n",
       "      <th>5889</th>\n",
       "      <td>.110 wire connector</td>\n",
       "      <td>103297</td>\n",
       "      <td>Ideal Twister Wire Connectors 341 Tan (100 per Package)_x000D_</td>\n",
       "      <td>The Twister is the industry's premier wire connector and easily handles the most common wiring configurations for residential construction projects. The durable polypropylene shell expands for progressive tightening, a feature that ensures depend...</td>\n",
       "      <td>2.00</td>\n",
       "    </tr>\n",
       "  </tbody>\n",
       "</table>\n",
       "</div>"
      ],
      "text/plain": [
       "                 search_term  product_uid  \\\n",
       "881               $ hole saw       100490   \n",
       "1341              $ hole saw       100712   \n",
       "5124  . exterior floor stain       102836   \n",
       "4121  . exterior floor stain       102253   \n",
       "5889     .110 wire connector       103297   \n",
       "\n",
       "                                                                         product_title  \\\n",
       "881                                            Milwaukee Metal Hole Saw Kit (15-Piece)   \n",
       "1341                                                 Milwaukee 4 in. Bi-Metal Hole Saw   \n",
       "5124  BEHR Premium 1-gal. #902 Slate Gray 1-Part Epoxy Concrete and Garage Floor Paint   \n",
       "4121                       Glidden Porch and Floor 1-gal. Gloss Polyurethane Oil Paint   \n",
       "5889                    Ideal Twister Wire Connectors 341 Tan (100 per Package)_x000D_   \n",
       "\n",
       "                                                                                                                                                                                                                                            product_description  \\\n",
       "881   The Milwaukee Hole Dozer Bi-Metal Hole Saw features Rip Guard, the strongest tooth form in the industry, backed by the Rip Guard Limited Lifetime Tooth Break Warranty. Each tooth is built with more steel behind the cutting edge for added strength...   \n",
       "1341  Use the Milwaukee 4 in. Bi-Metal Hole Saw to cut holes in a variety of materials. The steel hole saw can drill almost 2 in. deep. Milwaukee Ice Hardened products utilize a proprietary cryogenic hardening process that improves upon traditional hea...   \n",
       "5124  The BEHR Premium 1-Part Epoxy is a high-performance, ready-to-use, water-based floor paint that resists hot tire pick-up and marring. The finish is highly resistant to chemicals, oil and gasoline, which reduces the need for maintenance of hard-to...   \n",
       "4121  Glidden 1-gal. Gloss Porch and Floor Polyurethane Oil Paint provides a durable gloss finish that withstands the demands of foot traffic and adds a beautiful, lasting look to interior and exterior wood and concrete floors, stairs, boat decks, maso...   \n",
       "5889  The Twister is the industry's premier wire connector and easily handles the most common wiring configurations for residential construction projects. The durable polypropylene shell expands for progressive tightening, a feature that ensures depend...   \n",
       "\n",
       "      relevance  \n",
       "881        3.00  \n",
       "1341       3.00  \n",
       "5124       2.33  \n",
       "4121       3.00  \n",
       "5889       2.00  "
      ]
     },
     "execution_count": 25,
     "metadata": {},
     "output_type": "execute_result"
    }
   ],
   "source": [
    "df.sort_values(by=['search_term', 'relevance'], ascending=True).head()"
   ]
  },
  {
   "cell_type": "code",
   "execution_count": 26,
   "metadata": {},
   "outputs": [],
   "source": [
    "df['product_title_and_description'] = df['product_title'] + ' ' + df['product_description']"
   ]
  },
  {
   "cell_type": "code",
   "execution_count": 27,
   "metadata": {},
   "outputs": [],
   "source": [
    "df.drop(['product_uid', 'product_title', 'product_description'], axis=1, inplace=True)"
   ]
  },
  {
   "cell_type": "code",
   "execution_count": 28,
   "metadata": {
    "scrolled": false
   },
   "outputs": [
    {
     "data": {
      "text/html": [
       "<div>\n",
       "<style scoped>\n",
       "    .dataframe tbody tr th:only-of-type {\n",
       "        vertical-align: middle;\n",
       "    }\n",
       "\n",
       "    .dataframe tbody tr th {\n",
       "        vertical-align: top;\n",
       "    }\n",
       "\n",
       "    .dataframe thead th {\n",
       "        text-align: right;\n",
       "    }\n",
       "</style>\n",
       "<table border=\"1\" class=\"dataframe\">\n",
       "  <thead>\n",
       "    <tr style=\"text-align: right;\">\n",
       "      <th></th>\n",
       "      <th>search_term</th>\n",
       "      <th>relevance</th>\n",
       "      <th>product_title_and_description</th>\n",
       "    </tr>\n",
       "  </thead>\n",
       "  <tbody>\n",
       "    <tr>\n",
       "      <th>881</th>\n",
       "      <td>$ hole saw</td>\n",
       "      <td>3.00</td>\n",
       "      <td>Milwaukee Metal Hole Saw Kit (15-Piece) The Milwaukee Hole Dozer Bi-Metal Hole Saw features Rip Guard, the strongest tooth form in the industry, backed by the Rip Guard Limited Lifetime Tooth Break Warranty. Each tooth is built with more steel be...</td>\n",
       "    </tr>\n",
       "    <tr>\n",
       "      <th>1341</th>\n",
       "      <td>$ hole saw</td>\n",
       "      <td>3.00</td>\n",
       "      <td>Milwaukee 4 in. Bi-Metal Hole Saw Use the Milwaukee 4 in. Bi-Metal Hole Saw to cut holes in a variety of materials. The steel hole saw can drill almost 2 in. deep. Milwaukee Ice Hardened products utilize a proprietary cryogenic hardening process ...</td>\n",
       "    </tr>\n",
       "    <tr>\n",
       "      <th>5124</th>\n",
       "      <td>. exterior floor stain</td>\n",
       "      <td>2.33</td>\n",
       "      <td>BEHR Premium 1-gal. #902 Slate Gray 1-Part Epoxy Concrete and Garage Floor Paint The BEHR Premium 1-Part Epoxy is a high-performance, ready-to-use, water-based floor paint that resists hot tire pick-up and marring. The finish is highly resistant ...</td>\n",
       "    </tr>\n",
       "    <tr>\n",
       "      <th>4121</th>\n",
       "      <td>. exterior floor stain</td>\n",
       "      <td>3.00</td>\n",
       "      <td>Glidden Porch and Floor 1-gal. Gloss Polyurethane Oil Paint Glidden 1-gal. Gloss Porch and Floor Polyurethane Oil Paint provides a durable gloss finish that withstands the demands of foot traffic and adds a beautiful, lasting look to interior and...</td>\n",
       "    </tr>\n",
       "    <tr>\n",
       "      <th>5889</th>\n",
       "      <td>.110 wire connector</td>\n",
       "      <td>2.00</td>\n",
       "      <td>Ideal Twister Wire Connectors 341 Tan (100 per Package)_x000D_ The Twister is the industry's premier wire connector and easily handles the most common wiring configurations for residential construction projects. The durable polypropylene shell ex...</td>\n",
       "    </tr>\n",
       "  </tbody>\n",
       "</table>\n",
       "</div>"
      ],
      "text/plain": [
       "                 search_term  relevance  \\\n",
       "881               $ hole saw       3.00   \n",
       "1341              $ hole saw       3.00   \n",
       "5124  . exterior floor stain       2.33   \n",
       "4121  . exterior floor stain       3.00   \n",
       "5889     .110 wire connector       2.00   \n",
       "\n",
       "                                                                                                                                                                                                                                  product_title_and_description  \n",
       "881   Milwaukee Metal Hole Saw Kit (15-Piece) The Milwaukee Hole Dozer Bi-Metal Hole Saw features Rip Guard, the strongest tooth form in the industry, backed by the Rip Guard Limited Lifetime Tooth Break Warranty. Each tooth is built with more steel be...  \n",
       "1341  Milwaukee 4 in. Bi-Metal Hole Saw Use the Milwaukee 4 in. Bi-Metal Hole Saw to cut holes in a variety of materials. The steel hole saw can drill almost 2 in. deep. Milwaukee Ice Hardened products utilize a proprietary cryogenic hardening process ...  \n",
       "5124  BEHR Premium 1-gal. #902 Slate Gray 1-Part Epoxy Concrete and Garage Floor Paint The BEHR Premium 1-Part Epoxy is a high-performance, ready-to-use, water-based floor paint that resists hot tire pick-up and marring. The finish is highly resistant ...  \n",
       "4121  Glidden Porch and Floor 1-gal. Gloss Polyurethane Oil Paint Glidden 1-gal. Gloss Porch and Floor Polyurethane Oil Paint provides a durable gloss finish that withstands the demands of foot traffic and adds a beautiful, lasting look to interior and...  \n",
       "5889  Ideal Twister Wire Connectors 341 Tan (100 per Package)_x000D_ The Twister is the industry's premier wire connector and easily handles the most common wiring configurations for residential construction projects. The durable polypropylene shell ex...  "
      ]
     },
     "execution_count": 28,
     "metadata": {},
     "output_type": "execute_result"
    }
   ],
   "source": [
    "df.sort_values(by=['search_term', 'relevance'], ascending=True).head()"
   ]
  },
  {
   "cell_type": "code",
   "execution_count": null,
   "metadata": {},
   "outputs": [],
   "source": []
  },
  {
   "cell_type": "code",
   "execution_count": 30,
   "metadata": {},
   "outputs": [
    {
     "data": {
      "text/plain": [
       "<matplotlib.axes._subplots.AxesSubplot at 0x7f83e3b85630>"
      ]
     },
     "execution_count": 30,
     "metadata": {},
     "output_type": "execute_result"
    },
    {
     "data": {
      "image/png": "[encoded data removed]",
      "text/plain": [
       "<Figure size 432x288 with 1 Axes>"
      ]
     },
     "metadata": {},
     "output_type": "display_data"
    }
   ],
   "source": [
    "%matplotlib inline\n",
    "df['relevance'].hist()"
   ]
  },
  {
   "cell_type": "code",
   "execution_count": null,
   "metadata": {},
   "outputs": [],
   "source": []
  },
  {
   "cell_type": "code",
   "execution_count": 31,
   "metadata": {},
   "outputs": [
    {
     "data": {
      "text/plain": [
       "(10000, 3)"
      ]
     },
     "execution_count": 31,
     "metadata": {},
     "output_type": "execute_result"
    }
   ],
   "source": [
    "df.shape"
   ]
  },
  {
   "cell_type": "code",
   "execution_count": null,
   "metadata": {},
   "outputs": [],
   "source": []
  },
  {
   "cell_type": "code",
   "execution_count": 32,
   "metadata": {},
   "outputs": [],
   "source": [
    "#relations = []\n",
    "#\n",
    "#for idx, row in df.iterrows():\n",
    "#    relations.append([\n",
    "#        round(row['relevance']),\n",
    "#        search_term_ids[row['search_term']],\n",
    "#        product_ids[row['product_title_and_description']]\n",
    "#    ])"
   ]
  },
  {
   "cell_type": "code",
   "execution_count": null,
   "metadata": {},
   "outputs": [],
   "source": []
  },
  {
   "cell_type": "code",
   "execution_count": 62,
   "metadata": {},
   "outputs": [],
   "source": [
    "targets = df['relevance'].values"
   ]
  },
  {
   "cell_type": "code",
   "execution_count": null,
   "metadata": {},
   "outputs": [],
   "source": []
  },
  {
   "cell_type": "code",
   "execution_count": 34,
   "metadata": {},
   "outputs": [],
   "source": [
    "from gensim.parsing.preprocessing import preprocess_documents\n",
    "from gensim.corpora import Dictionary\n",
    "\n",
    "queries_preprocessed = preprocess_documents(df['search_term'].values)\n",
    "products_preprocessed = preprocess_documents(df['product_title_and_description'].values)\n",
    "\n",
    "dictionary = Dictionary([['NONEXISTANT']] + queries_preprocessed + products_preprocessed)\n",
    "\n",
    "dictionary.filter_extremes(no_below=5, no_above=0.2)\n",
    "\n",
    "queries_preprocessed = [dictionary.doc2idx(x, unknown_word_index=0) for x in queries_preprocessed]\n",
    "products_preprocessed = [dictionary.doc2idx(x, unknown_word_index=0) for x in products_preprocessed]"
   ]
  },
  {
   "cell_type": "code",
   "execution_count": 35,
   "metadata": {},
   "outputs": [
    {
     "data": {
      "text/plain": [
       "8521"
      ]
     },
     "execution_count": 35,
     "metadata": {},
     "output_type": "execute_result"
    }
   ],
   "source": [
    "len(dictionary)"
   ]
  },
  {
   "cell_type": "code",
   "execution_count": null,
   "metadata": {},
   "outputs": [],
   "source": []
  },
  {
   "cell_type": "code",
   "execution_count": 63,
   "metadata": {},
   "outputs": [],
   "source": [
    "queries_preprocessed = [query for query, product in zip(queries_preprocessed, products_preprocessed)\n",
    "                        if len(query) and len(product)]\n",
    "products_preprocessed = [product for query, product in zip(queries_preprocessed, products_preprocessed)\n",
    "                         if len(query) and len(product)]\n",
    "targets = [target for target, query, product in zip(targets, queries_preprocessed, products_preprocessed)\n",
    "                         if len(query) and len(product)]"
   ]
  },
  {
   "cell_type": "code",
   "execution_count": null,
   "metadata": {},
   "outputs": [],
   "source": []
  },
  {
   "cell_type": "code",
   "execution_count": 37,
   "metadata": {},
   "outputs": [],
   "source": [
    "# https://github.com/faneshion/MatchZoo"
   ]
  },
  {
   "cell_type": "code",
   "execution_count": null,
   "metadata": {},
   "outputs": [],
   "source": []
  },
  {
   "cell_type": "markdown",
   "metadata": {},
   "source": [
    "## Borrowed from MatchZoo"
   ]
  },
  {
   "cell_type": "code",
   "execution_count": 38,
   "metadata": {},
   "outputs": [],
   "source": [
    "from keras.layers import Input\n",
    "from keras import backend as K\n",
    "from keras.engine.topology import Layer\n",
    "import numpy as np\n",
    "\n",
    "class DynamicMaxPooling(Layer):\n",
    "    def __init__(self, psize1, psize2, **kwargs):\n",
    "        self.psize1 = psize1\n",
    "        self.psize2 = psize2\n",
    "        super(DynamicMaxPooling, self).__init__(**kwargs)\n",
    "\n",
    "    def build(self, input_shape):\n",
    "        input_shape_one = input_shape[0]\n",
    "        self.msize1 = input_shape_one[1]\n",
    "        self.msize2 = input_shape_one[2]\n",
    "        super(DynamicMaxPooling, self).build(input_shape)  # Be sure to call this somewhere!\n",
    "\n",
    "    def call(self, data):\n",
    "        x, dpool_index = data\n",
    "        x_expand = K.tf.gather_nd(x, dpool_index)\n",
    "        x_pool = K.tf.nn.max_pool(x_expand, \n",
    "                    [1, self.msize1 / self.psize1, self.msize2 / self.psize2, 1], \n",
    "                    [1, self.msize1 / self.psize1, self.msize2 / self.psize2, 1], \n",
    "                    \"VALID\")\n",
    "        return x_pool\n",
    "\n",
    "    def compute_output_shape(self, input_shape):\n",
    "        input_shape_one = input_shape[0]\n",
    "        return (None, self.psize1, self.psize2, input_shape_one[3])"
   ]
  },
  {
   "cell_type": "code",
   "execution_count": null,
   "metadata": {},
   "outputs": [],
   "source": []
  },
  {
   "cell_type": "code",
   "execution_count": 68,
   "metadata": {},
   "outputs": [
    {
     "ename": "TypeError",
     "evalue": "object of type 'NoneType' has no len()",
     "output_type": "error",
     "traceback": [
      "\u001b[0;31m---------------------------------------------------------------------------\u001b[0m",
      "\u001b[0;31mTypeError\u001b[0m                                 Traceback (most recent call last)",
      "\u001b[0;32m<ipython-input-68-501cd49d21d9>\u001b[0m in \u001b[0;36m<module>\u001b[0;34m()\u001b[0m\n\u001b[1;32m     11\u001b[0m \u001b[0mdpool_index\u001b[0m \u001b[0;34m=\u001b[0m \u001b[0mInput\u001b[0m\u001b[0;34m(\u001b[0m\u001b[0mname\u001b[0m\u001b[0;34m=\u001b[0m\u001b[0;34m'dpool_index'\u001b[0m\u001b[0;34m,\u001b[0m \u001b[0mshape\u001b[0m\u001b[0;34m=\u001b[0m\u001b[0;34m[\u001b[0m\u001b[0mquery_maxlen\u001b[0m\u001b[0;34m,\u001b[0m \u001b[0mproduct_maxlen\u001b[0m\u001b[0;34m,\u001b[0m \u001b[0;36m3\u001b[0m\u001b[0;34m]\u001b[0m\u001b[0;34m,\u001b[0m \u001b[0mdtype\u001b[0m\u001b[0;34m=\u001b[0m\u001b[0;34m'int32'\u001b[0m\u001b[0;34m)\u001b[0m\u001b[0;34m\u001b[0m\u001b[0m\n\u001b[1;32m     12\u001b[0m \u001b[0;34m\u001b[0m\u001b[0m\n\u001b[0;32m---> 13\u001b[0;31m \u001b[0membedding\u001b[0m \u001b[0;34m=\u001b[0m \u001b[0mEmbedding\u001b[0m\u001b[0;34m(\u001b[0m\u001b[0mlen\u001b[0m\u001b[0;34m(\u001b[0m\u001b[0mdictionary\u001b[0m\u001b[0;34m)\u001b[0m\u001b[0;34m,\u001b[0m \u001b[0;36m50\u001b[0m\u001b[0;34m,\u001b[0m \u001b[0mtrainable\u001b[0m\u001b[0;34m=\u001b[0m\u001b[0;32mTrue\u001b[0m\u001b[0;34m)\u001b[0m\u001b[0;34m\u001b[0m\u001b[0m\n\u001b[0m\u001b[1;32m     14\u001b[0m \u001b[0mq_embed\u001b[0m \u001b[0;34m=\u001b[0m \u001b[0membedding\u001b[0m\u001b[0;34m(\u001b[0m\u001b[0mquery\u001b[0m\u001b[0;34m)\u001b[0m\u001b[0;34m\u001b[0m\u001b[0m\n\u001b[1;32m     15\u001b[0m \u001b[0md_embed\u001b[0m \u001b[0;34m=\u001b[0m \u001b[0membedding\u001b[0m\u001b[0;34m(\u001b[0m\u001b[0mdoc\u001b[0m\u001b[0;34m)\u001b[0m\u001b[0;34m\u001b[0m\u001b[0m\n",
      "\u001b[0;31mTypeError\u001b[0m: object of type 'NoneType' has no len()"
     ]
    }
   ],
   "source": [
    "from keras.models import Sequential, Model\n",
    "from keras.layers import *\n",
    "from keras.layers import Reshape, Embedding, Merge, Dot\n",
    "from keras.optimizers import Adam\n",
    "\n",
    "query_maxlen = 10\n",
    "product_maxlen = 200\n",
    "\n",
    "query = Input(name='query', shape=(query_maxlen,))\n",
    "doc = Input(name='doc', shape=(product_maxlen,))\n",
    "dpool_index = Input(name='dpool_index', shape=[query_maxlen, product_maxlen, 3], dtype='int32')\n",
    "\n",
    "embedding = Embedding(len(dictionary), 50, trainable=True)\n",
    "q_embed = embedding(query)\n",
    "d_embed = embedding(doc)\n",
    "\n",
    "cross = Dot(axes=[2, 2], normalize=False)([q_embed, d_embed])\n",
    "cross_reshape = Reshape((query_maxlen, product_maxlen, 1))(cross)\n",
    "\n",
    "conv1 = Conv2D(32, [3,3], padding='same', activation='relu')(cross_reshape)\n",
    "pool1 = DynamicMaxPooling(3, 10)([conv1, dpool_index])\n",
    "pool1_flat = Flatten()(pool1)\n",
    "pool1_flat_drop = Dropout(rate=0.4)(pool1_flat)\n",
    "out = Dense(1)(pool1_flat_drop)\n",
    "\n",
    "model = Model(inputs=[query, doc, dpool_index], outputs=out)"
   ]
  },
  {
   "cell_type": "code",
   "execution_count": null,
   "metadata": {},
   "outputs": [],
   "source": []
  },
  {
   "cell_type": "code",
   "execution_count": 42,
   "metadata": {},
   "outputs": [],
   "source": [
    "from keras.preprocessing.sequence import pad_sequences\n",
    "\n",
    "query_lengths = [min(query_maxlen, len(query)) for query in queries_preprocessed]\n",
    "product_lengths = [min(product_maxlen, len(product)) for product in products_preprocessed]\n",
    "\n",
    "query_seqs = pad_sequences(queries_preprocessed, query_maxlen, padding='post', truncating='post')\n",
    "product_seqs = pad_sequences(products_preprocessed, product_maxlen, padding='post', truncating='post')"
   ]
  },
  {
   "cell_type": "code",
   "execution_count": null,
   "metadata": {},
   "outputs": [],
   "source": []
  },
  {
   "cell_type": "code",
   "execution_count": 64,
   "metadata": {},
   "outputs": [],
   "source": [
    "from sklearn.model_selection import train_test_split\n",
    "\n",
    "query_lengths, query_lengths_val, query_seqs, query_seqs_val, product_lengths, product_lengths_val, product_seqs, product_seqs_val, targets, targets_val = \\\n",
    "    train_test_split(query_lengths, query_seqs, product_lengths, product_seqs, targets, test_size=0.2, shuffle=False)"
   ]
  },
  {
   "cell_type": "code",
   "execution_count": null,
   "metadata": {},
   "outputs": [],
   "source": []
  },
  {
   "cell_type": "code",
   "execution_count": 65,
   "metadata": {},
   "outputs": [],
   "source": [
    "def dpool_index(batch_idx, len1_one, len2_one, max_len1, max_len2):\n",
    "    stride1 = 1.0 * max_len1 / len1_one\n",
    "    stride2 = 1.0 * max_len2 / len2_one\n",
    "    idx1_one = [int(i/stride1) for i in range(max_len1)]\n",
    "    idx2_one = [int(i/stride2) for i in range(max_len2)]\n",
    "    mesh1, mesh2 = np.meshgrid(idx1_one, idx2_one)\n",
    "    index_one = np.transpose(np.stack([np.ones(mesh1.shape) * batch_idx, mesh1, mesh2]), (2,1,0))\n",
    "    return index_one"
   ]
  },
  {
   "cell_type": "code",
   "execution_count": 66,
   "metadata": {},
   "outputs": [],
   "source": [
    "dpool_indices = np.array([\n",
    "    dpool_index(i, q_len, p_len, query_maxlen, product_maxlen)\n",
    "    for i, q_len, p_len in zip(range(len(query_lengths)), query_lengths, product_lengths)\n",
    "])\n",
    "\n",
    "dpool_indices_val = np.array([\n",
    "    dpool_index(i, q_len, p_len, query_maxlen, product_maxlen)\n",
    "    for i, q_len, p_len in zip(range(len(query_lengths_val)), query_lengths_val, product_lengths_val)\n",
    "])"
   ]
  },
  {
   "cell_type": "code",
   "execution_count": null,
   "metadata": {},
   "outputs": [],
   "source": []
  },
  {
   "cell_type": "code",
   "execution_count": 67,
   "metadata": {},
   "outputs": [
    {
     "data": {
      "text/plain": [
       "1101"
      ]
     },
     "execution_count": 67,
     "metadata": {},
     "output_type": "execute_result"
    }
   ],
   "source": [
    "import gc\n",
    "\n",
    "df = None\n",
    "dictionary = None\n",
    "query_lengths = None\n",
    "product_lengths = None\n",
    "\n",
    "gc.collect()"
   ]
  },
  {
   "cell_type": "code",
   "execution_count": null,
   "metadata": {},
   "outputs": [],
   "source": []
  },
  {
   "cell_type": "code",
   "execution_count": 33,
   "metadata": {},
   "outputs": [],
   "source": [
    "#query_seqs.shape"
   ]
  },
  {
   "cell_type": "code",
   "execution_count": 34,
   "metadata": {},
   "outputs": [],
   "source": [
    "#product_seqs.shape"
   ]
  },
  {
   "cell_type": "code",
   "execution_count": 35,
   "metadata": {},
   "outputs": [],
   "source": [
    "#dpool_indices.shape"
   ]
  },
  {
   "cell_type": "code",
   "execution_count": 32,
   "metadata": {},
   "outputs": [],
   "source": [
    "#len(targets)"
   ]
  },
  {
   "cell_type": "code",
   "execution_count": null,
   "metadata": {},
   "outputs": [],
   "source": []
  },
  {
   "cell_type": "code",
   "execution_count": 60,
   "metadata": {},
   "outputs": [],
   "source": [
    "import tensorflow as tf\n",
    "\n",
    "def rank_hinge_loss(y_true, y_pred):\n",
    "    y_pos = Lambda(lambda a: a[::2, :], output_shape= (1,))(y_pred)\n",
    "    y_neg = Lambda(lambda a: a[1::2, :], output_shape= (1,))(y_pred)\n",
    "    loss = K.maximum(0., 1.0 + y_neg - y_pos)\n",
    "    return K.mean(loss)\n",
    "\n",
    "def rank_crossentropy_loss(y_true, y_pred):\n",
    "    neg_num = 1\n",
    "    y_pos_logits = Lambda(lambda a: a[::(neg_num+1), :], output_shape= (1,))(y_pred)\n",
    "    y_pos_labels = Lambda(lambda a: a[::(neg_num+1), :], output_shape= (1,))(y_true)\n",
    "    logits_list, labels_list = [y_pos_logits], [y_pos_labels]\n",
    "    for i in range(neg_num):\n",
    "        y_neg_logits = Lambda(lambda a: a[(i+1)::(neg_num+1), :], output_shape= (1,))(y_pred)\n",
    "        y_neg_labels = Lambda(lambda a: a[(i+1)::(neg_num+1), :], output_shape= (1,))(y_true)\n",
    "        logits_list.append(y_neg_logits)\n",
    "        labels_list.append(y_neg_labels)\n",
    "    logits = tf.concat(logits_list, axis=1)\n",
    "    labels = tf.concat(labels_list, axis=1)\n",
    "    return tf.reduce_mean(tf.nn.softmax_cross_entropy_with_logits(labels=labels, logits=logits))\n",
    "\n",
    "model.compile(optimizer='adam', loss='categorical_hinge')\n",
    "#model.compile(optimizer='adam', loss=rank_hinge_loss)"
   ]
  },
  {
   "cell_type": "code",
   "execution_count": null,
   "metadata": {},
   "outputs": [],
   "source": []
  },
  {
   "cell_type": "code",
   "execution_count": 21,
   "metadata": {
    "scrolled": false
   },
   "outputs": [
    {
     "name": "stdout",
     "output_type": "stream",
     "text": [
      "Train on 7914 samples, validate on 1979 samples\n",
      "Epoch 1/15\n",
      "7914/7914 [==============================] - 8s 988us/step - loss: 1.0241 - val_loss: 0.9889\n",
      "Epoch 2/15\n",
      "7914/7914 [==============================] - 7s 837us/step - loss: 0.9874 - val_loss: 0.9548\n",
      "Epoch 3/15\n",
      "7914/7914 [==============================] - 6s 784us/step - loss: 0.9562 - val_loss: 0.9244\n",
      "Epoch 4/15\n",
      "7914/7914 [==============================] - 6s 794us/step - loss: 0.9276 - val_loss: 0.8945\n",
      "Epoch 5/15\n",
      "7914/7914 [==============================] - 7s 825us/step - loss: 0.8994 - val_loss: 0.8633\n",
      "Epoch 6/15\n",
      "7914/7914 [==============================] - 6s 810us/step - loss: 0.8693 - val_loss: 0.8292\n",
      "Epoch 7/15\n",
      "7914/7914 [==============================] - 6s 808us/step - loss: 0.8355 - val_loss: 0.7913\n",
      "Epoch 8/15\n",
      "7914/7914 [==============================] - 6s 805us/step - loss: 0.7986 - val_loss: 0.7493\n",
      "Epoch 9/15\n",
      "7914/7914 [==============================] - 7s 906us/step - loss: 0.7577 - val_loss: 0.7027\n",
      "Epoch 10/15\n",
      "7914/7914 [==============================] - 6s 745us/step - loss: 0.7117 - val_loss: 0.6514\n",
      "Epoch 11/15\n",
      "7914/7914 [==============================] - 6s 742us/step - loss: 0.6622 - val_loss: 0.5948\n",
      "Epoch 12/15\n",
      "7914/7914 [==============================] - 6s 719us/step - loss: 0.6063 - val_loss: 0.5327\n",
      "Epoch 13/15\n",
      "7914/7914 [==============================] - 6s 758us/step - loss: 0.5463 - val_loss: 0.4646\n",
      "Epoch 14/15\n",
      "7914/7914 [==============================] - 6s 762us/step - loss: 0.4785 - val_loss: 0.3901\n",
      "Epoch 15/15\n",
      "7914/7914 [==============================] - 6s 731us/step - loss: 0.4069 - val_loss: 0.3090\n"
     ]
    },
    {
     "data": {
      "text/plain": [
       "<keras.callbacks.History at 0x7f83e5999e10>"
      ]
     },
     "execution_count": 21,
     "metadata": {},
     "output_type": "execute_result"
    }
   ],
   "source": [
    "model.fit(x=[query_seqs, product_seqs, dpool_indices], y=targets, \n",
    "          validation_data=([query_seqs_val, product_seqs_val, dpool_indices_val], targets_val),\n",
    "          batch_size=len(query_seqs), epochs=15)"
   ]
  },
  {
   "cell_type": "code",
   "execution_count": null,
   "metadata": {},
   "outputs": [],
   "source": []
  },
  {
   "cell_type": "code",
   "execution_count": 58,
   "metadata": {},
   "outputs": [
    {
     "data": {
      "text/html": [
       "<div>\n",
       "<style scoped>\n",
       "    .dataframe tbody tr th:only-of-type {\n",
       "        vertical-align: middle;\n",
       "    }\n",
       "\n",
       "    .dataframe tbody tr th {\n",
       "        vertical-align: top;\n",
       "    }\n",
       "\n",
       "    .dataframe thead th {\n",
       "        text-align: right;\n",
       "    }\n",
       "</style>\n",
       "<table border=\"1\" class=\"dataframe\">\n",
       "  <thead>\n",
       "    <tr style=\"text-align: right;\">\n",
       "      <th></th>\n",
       "      <th>search_term</th>\n",
       "      <th>relevance</th>\n",
       "      <th>product_title_and_description</th>\n",
       "    </tr>\n",
       "  </thead>\n",
       "  <tbody>\n",
       "    <tr>\n",
       "      <th>352</th>\n",
       "      <td>20v dewalt kombo</td>\n",
       "      <td>1.67</td>\n",
       "      <td>DEWALT 20-Volt 3Ah Max Lithium-Ion Battery (2-Pack) DEWALT delivers huge value with this two-pack, priced only marginally higher than a single device. These lithium-ion batteries are compatible with all tools in the DEWALT 20-Volt Max product lin...</td>\n",
       "    </tr>\n",
       "    <tr>\n",
       "      <th>4223</th>\n",
       "      <td>20v dewalt kombo</td>\n",
       "      <td>3.00</td>\n",
       "      <td>DEWALT 20-Volt Max Lithium-Ion Cordless Combo Kit (2-Tool) The DEWALT DCK240C2 Combo Kit is versatile enough to handle most drilling and driving applications. This kit includes a DEWALT DCD771 1/2 in. Drill/Driver and a DCF885 1/4 in. Impact Driv...</td>\n",
       "    </tr>\n",
       "    <tr>\n",
       "      <th>4401</th>\n",
       "      <td>20v dewalt kombo</td>\n",
       "      <td>3.00</td>\n",
       "      <td>DEWALT 20-Volt MAX Lithium-Ion Cordless Combo Kit with Tough Case (3-Tool) The DEWALT DCKTS386D2 is ideal for most drilling, hammering, driving and lighting applications. This value filled combo kit includes a hammer drill, impact driver, work li...</td>\n",
       "    </tr>\n",
       "    <tr>\n",
       "      <th>5860</th>\n",
       "      <td>20v dewalt kombo</td>\n",
       "      <td>2.67</td>\n",
       "      <td>DEWALT Max Fit Screwdriving Set (30-Piece) Securely fasten a variety of flathead, Phillips and Torx screws with this 30-piece MaxFit Screw Lock Set from DEWALT. It includes a magnetic screw lock sleeve so you won't drop any fasteners, and a bit t...</td>\n",
       "    </tr>\n",
       "    <tr>\n",
       "      <th>7550</th>\n",
       "      <td>20v dewalt kombo</td>\n",
       "      <td>3.00</td>\n",
       "      <td>DEWALT 20-Volt Max (3Ah) Lithium-Ion Hammer Drill and Impact Combo Kit (2-Tool) DEWALT's new 20-Volt Max Power Tools are designed to surpass professional's expectations and address the need for tools that have the power to withstand rigorous jobs...</td>\n",
       "    </tr>\n",
       "  </tbody>\n",
       "</table>\n",
       "</div>"
      ],
      "text/plain": [
       "           search_term  relevance  \\\n",
       "352   20v dewalt kombo       1.67   \n",
       "4223  20v dewalt kombo       3.00   \n",
       "4401  20v dewalt kombo       3.00   \n",
       "5860  20v dewalt kombo       2.67   \n",
       "7550  20v dewalt kombo       3.00   \n",
       "\n",
       "                                                                                                                                                                                                                                  product_title_and_description  \n",
       "352   DEWALT 20-Volt 3Ah Max Lithium-Ion Battery (2-Pack) DEWALT delivers huge value with this two-pack, priced only marginally higher than a single device. These lithium-ion batteries are compatible with all tools in the DEWALT 20-Volt Max product lin...  \n",
       "4223  DEWALT 20-Volt Max Lithium-Ion Cordless Combo Kit (2-Tool) The DEWALT DCK240C2 Combo Kit is versatile enough to handle most drilling and driving applications. This kit includes a DEWALT DCD771 1/2 in. Drill/Driver and a DCF885 1/4 in. Impact Driv...  \n",
       "4401  DEWALT 20-Volt MAX Lithium-Ion Cordless Combo Kit with Tough Case (3-Tool) The DEWALT DCKTS386D2 is ideal for most drilling, hammering, driving and lighting applications. This value filled combo kit includes a hammer drill, impact driver, work li...  \n",
       "5860  DEWALT Max Fit Screwdriving Set (30-Piece) Securely fasten a variety of flathead, Phillips and Torx screws with this 30-piece MaxFit Screw Lock Set from DEWALT. It includes a magnetic screw lock sleeve so you won't drop any fasteners, and a bit t...  \n",
       "7550  DEWALT 20-Volt Max (3Ah) Lithium-Ion Hammer Drill and Impact Combo Kit (2-Tool) DEWALT's new 20-Volt Max Power Tools are designed to surpass professional's expectations and address the need for tools that have the power to withstand rigorous jobs...  "
      ]
     },
     "execution_count": 58,
     "metadata": {},
     "output_type": "execute_result"
    }
   ],
   "source": [
    "df[df['search_term'] == '20v dewalt kombo']"
   ]
  },
  {
   "cell_type": "code",
   "execution_count": null,
   "metadata": {},
   "outputs": [],
   "source": []
  },
  {
   "cell_type": "code",
   "execution_count": 59,
   "metadata": {},
   "outputs": [
    {
     "data": {
      "text/plain": [
       "[352, 4223, 4401, 5860, 7550]"
      ]
     },
     "execution_count": 59,
     "metadata": {},
     "output_type": "execute_result"
    }
   ],
   "source": [
    "example_indices = df.index[df['search_term'] == '20v dewalt kombo'].tolist()\n",
    "example_indices"
   ]
  },
  {
   "cell_type": "code",
   "execution_count": null,
   "metadata": {},
   "outputs": [],
   "source": []
  },
  {
   "cell_type": "code",
   "execution_count": 55,
   "metadata": {},
   "outputs": [],
   "source": [
    "query_lengths_example = [query_lengths[x] for x in example_indices]\n",
    "product_lengths_example = [product_lengths[x] for x in example_indices]\n",
    "\n",
    "query_seqs_example = np.array([query_seqs[x] for x in example_indices])\n",
    "product_seqs_example = np.array([product_seqs[x] for x in example_indices])\n",
    "\n",
    "targets_example = [targets[x] for x in example_indices]"
   ]
  },
  {
   "cell_type": "code",
   "execution_count": 56,
   "metadata": {},
   "outputs": [],
   "source": [
    "dpool_indices_example = np.array([\n",
    "    dpool_index(i, q_len, p_len, query_maxlen, product_maxlen)\n",
    "    for i, q_len, p_len in zip(range(len(query_lengths_example)), query_lengths_example, product_lengths_example)\n",
    "])"
   ]
  },
  {
   "cell_type": "code",
   "execution_count": null,
   "metadata": {},
   "outputs": [],
   "source": []
  },
  {
   "cell_type": "code",
   "execution_count": 57,
   "metadata": {},
   "outputs": [
    {
     "data": {
      "text/plain": [
       "array([[-0.00274162],\n",
       "       [-0.00560461],\n",
       "       [-0.00296127],\n",
       "       [-0.00512522],\n",
       "       [-0.00612148]], dtype=float32)"
      ]
     },
     "execution_count": 57,
     "metadata": {},
     "output_type": "execute_result"
    }
   ],
   "source": [
    "model.predict(x=[query_seqs_example, product_seqs_example, dpool_indices_example], batch_size=len(query_seqs_example))"
   ]
  },
  {
   "cell_type": "code",
   "execution_count": null,
   "metadata": {},
   "outputs": [],
   "source": []
  }
 ],
 "metadata": {
  "kernelspec": {
   "display_name": "Python 3",
   "language": "python",
   "name": "python3"
  },
  "language_info": {
   "codemirror_mode": {
    "name": "ipython",
    "version": 3
   },
   "file_extension": ".py",
   "mimetype": "text/x-python",
   "name": "python",
   "nbconvert_exporter": "python",
   "pygments_lexer": "ipython3",
   "version": "3.5.3"
  }
 },
 "nbformat": 4,
 "nbformat_minor": 2
}
