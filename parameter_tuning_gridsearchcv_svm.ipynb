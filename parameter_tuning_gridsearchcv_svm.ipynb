{
 "cells": [
  {
   "cell_type": "markdown",
   "metadata": {},
   "source": [
    "## Parameter tuning using GridSearchCV\n",
    "\n",
    "In this notebook i'm showing some tricks for using the GridSearchCV utility from scikit-learn library. This is used for parameter tuning of machine learning models. Most machine learning algorithms have some parameters that can (should) be tuned for optimum performance, this can be regularization strength, tree depth and many more. To get the best results, it pays off to tune these on your dataset.\n",
    "\n",
    "The GridSearchCV utility basically goes through an exhaustive search of all parameter combinations to find the best values, based on cross-validation score.\n",
    "\n",
    "Let's start by loading a dataset.."
   ]
  },
  {
   "cell_type": "code",
   "execution_count": 1,
   "metadata": {
    "collapsed": true
   },
   "outputs": [],
   "source": [
    "from sklearn import datasets\n",
    "\n",
    "X,y = datasets.load_diabetes(return_X_y=True)"
   ]
  },
  {
   "cell_type": "markdown",
   "metadata": {},
   "source": [
    "### SVM tuning, the C parameter\n",
    "\n",
    "In the first example i'm going to explore the effect of the C parameter of a SVM regressor on results:"
   ]
  },
  {
   "cell_type": "code",
   "execution_count": 26,
   "metadata": {},
   "outputs": [
    {
     "name": "stdout",
     "output_type": "stream",
     "text": [
      "Best: 0.431543 using {'C': 1300}\n"
     ]
    }
   ],
   "source": [
    "from sklearn.model_selection import GridSearchCV, ShuffleSplit\n",
    "from sklearn.svm import SVR\n",
    "\n",
    "param_range = range(50, 3001, 50)\n",
    "\n",
    "gsc = GridSearchCV(\n",
    "    estimator=SVR(C=1500, epsilon=7),\n",
    "    param_grid={\n",
    "        'C': param_range\n",
    "    },\n",
    "    cv=ShuffleSplit(n_splits=10, test_size=0.2)\n",
    ")\n",
    "\n",
    "grid_result = gsc.fit(X, y)\n",
    "\n",
    "print(\"Best: %f using %s\" % (grid_result.best_score_, grid_result.best_params_))"
   ]
  },
  {
   "cell_type": "markdown",
   "metadata": {},
   "source": [
    "So the above gave us the best value, now let's visualize the scores vs C value, to get a better understanding of the optimum value:"
   ]
  },
  {
   "cell_type": "code",
   "execution_count": 27,
   "metadata": {},
   "outputs": [
    {
     "data": {
      "image/png": "[encoded data removed]",
      "text/plain": [
       "<matplotlib.figure.Figure at 0x7fabac338668>"
      ]
     },
     "metadata": {},
     "output_type": "display_data"
    }
   ],
   "source": [
    "import matplotlib.pyplot as plt\n",
    "import pandas as pd\n",
    "\n",
    "dataz = pd.DataFrame({ 'test_score': grid_result.cv_results_['mean_test_score'],\n",
    "                       'train_score': grid_result.cv_results_['mean_train_score'],\n",
    "                       'C': param_range })\n",
    "dataz.plot(x='C')\n",
    "plt.show()"
   ]
  },
  {
   "cell_type": "markdown",
   "metadata": {},
   "source": [
    "The chart shows us that low values for C give bad results, and above ~ 1000 there is no more gains. Optimum looks to be in the 1000-1500 range."
   ]
  },
  {
   "cell_type": "markdown",
   "metadata": {},
   "source": [
    "### SVM tuning, the epsilon parameter\n",
    "\n",
    "Second example, let's explore effects of the epsilon parameter."
   ]
  },
  {
   "cell_type": "code",
   "execution_count": 34,
   "metadata": {},
   "outputs": [
    {
     "name": "stdout",
     "output_type": "stream",
     "text": [
      "Best: 0.492939 using {'epsilon': 10}\n"
     ]
    }
   ],
   "source": [
    "param_range = range(2, 30, 2)\n",
    "\n",
    "gsc = GridSearchCV(\n",
    "    estimator=SVR(C=2500, epsilon=7),\n",
    "    param_grid={\n",
    "        'epsilon': param_range\n",
    "    },\n",
    "    cv=ShuffleSplit(n_splits=25, test_size=0.2)\n",
    ")\n",
    "\n",
    "grid_result = gsc.fit(X, y)\n",
    "\n",
    "print(\"Best: %f using %s\" % (grid_result.best_score_, grid_result.best_params_))"
   ]
  },
  {
   "cell_type": "code",
   "execution_count": 35,
   "metadata": {},
   "outputs": [
    {
     "data": {
      "image/png": "[encoded data removed]",
      "text/plain": [
       "<matplotlib.figure.Figure at 0x7fabad21e898>"
      ]
     },
     "metadata": {},
     "output_type": "display_data"
    }
   ],
   "source": [
    "dataz = pd.DataFrame({ 'test_score': grid_result.cv_results_['mean_test_score'],\n",
    "                       'train_score': grid_result.cv_results_['mean_train_score'],\n",
    "                       'epsilon': param_range })\n",
    "dataz.plot(x='epsilon')\n",
    "plt.show()"
   ]
  },
  {
   "cell_type": "markdown",
   "metadata": {},
   "source": [
    "The epsilon parameter has a less strong effect on outcome than the C parameter, for good results the range 8-20 looks fine. Note above chart is influenced by random seed and exact optimum differs, but seems to be within that range."
   ]
  },
  {
   "cell_type": "markdown",
   "metadata": {},
   "source": [
    "### SVM Tuning, both parameters\n",
    "\n",
    "You can also tune multiple parameters simultaneously to explore interactions. Note this can take very long on larger datasets, since the amount of model fitting steps is related to the total number of parameter combinations.."
   ]
  },
  {
   "cell_type": "code",
   "execution_count": 36,
   "metadata": {},
   "outputs": [
    {
     "name": "stdout",
     "output_type": "stream",
     "text": [
      "Best: 0.491127 using {'C': 2000, 'epsilon': 10}\n"
     ]
    }
   ],
   "source": [
    "gsc = GridSearchCV(\n",
    "    estimator=SVR(),\n",
    "    param_grid={\n",
    "        'C': range(750,2001,250),\n",
    "        'epsilon': range(6,15,2)\n",
    "    },\n",
    "    cv=ShuffleSplit(n_splits=25, test_size=0.2)\n",
    ")\n",
    "\n",
    "grid_result = gsc.fit(X, y)\n",
    "\n",
    "print(\"Best: %f using %s\" % (grid_result.best_score_, grid_result.best_params_))"
   ]
  },
  {
   "cell_type": "markdown",
   "metadata": {},
   "source": [
    "So overall the values we obtained tuning the individual parameters look fine. Combined the result is in the same range we found before!"
   ]
  }
 ],
 "metadata": {
  "kernelspec": {
   "display_name": "Python 3",
   "language": "python",
   "name": "python3"
  },
  "language_info": {
   "codemirror_mode": {
    "name": "ipython",
    "version": 3
   },
   "file_extension": ".py",
   "mimetype": "text/x-python",
   "name": "python",
   "nbconvert_exporter": "python",
   "pygments_lexer": "ipython3",
   "version": "3.6.1"
  }
 },
 "nbformat": 4,
 "nbformat_minor": 2
}
