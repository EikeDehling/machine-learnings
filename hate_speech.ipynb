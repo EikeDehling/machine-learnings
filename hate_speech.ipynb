{
 "cells": [
  {
   "cell_type": "markdown",
   "metadata": {},
   "source": [
    "# Hate speech identification\n",
    "\n",
    "The dataset in this notebook is from https://github.com/t-davidson/hate-speech-and-offensive-language\n",
    "\n",
    "We're going to look at text classification, namely classifying whether tweets contain hate speech or offensive language.\n",
    "\n",
    "I'm going to use some easy techniques here, LogisticRegression and TfIdfVectorizer from sklearn. I'll look at using character and word based features. We'll also explore what influence various parameters have on classification performance."
   ]
  },
  {
   "cell_type": "code",
   "execution_count": 1,
   "metadata": {},
   "outputs": [],
   "source": [
    "import pandas as pd\n",
    "\n",
    "df = pd.read_csv('twitter-hate-speech.csv', index_col=0)"
   ]
  },
  {
   "cell_type": "markdown",
   "metadata": {},
   "source": [
    "So data was loaded - let's have a quick look at what's in there?"
   ]
  },
  {
   "cell_type": "code",
   "execution_count": 2,
   "metadata": {},
   "outputs": [
    {
     "data": {
      "text/html": [
       "<div>\n",
       "<table border=\"1\" class=\"dataframe\">\n",
       "  <thead>\n",
       "    <tr style=\"text-align: right;\">\n",
       "      <th></th>\n",
       "      <th>count</th>\n",
       "      <th>hate_speech</th>\n",
       "      <th>offensive_language</th>\n",
       "      <th>neither</th>\n",
       "      <th>class</th>\n",
       "      <th>tweet</th>\n",
       "    </tr>\n",
       "  </thead>\n",
       "  <tbody>\n",
       "    <tr>\n",
       "      <th>0</th>\n",
       "      <td>3</td>\n",
       "      <td>0</td>\n",
       "      <td>0</td>\n",
       "      <td>3</td>\n",
       "      <td>2</td>\n",
       "      <td>!!! RT @mayasolovely: As a woman you shouldn't...</td>\n",
       "    </tr>\n",
       "    <tr>\n",
       "      <th>1</th>\n",
       "      <td>3</td>\n",
       "      <td>0</td>\n",
       "      <td>3</td>\n",
       "      <td>0</td>\n",
       "      <td>1</td>\n",
       "      <td>!!!!! RT @mleew17: boy dats cold...tyga dwn ba...</td>\n",
       "    </tr>\n",
       "    <tr>\n",
       "      <th>2</th>\n",
       "      <td>3</td>\n",
       "      <td>0</td>\n",
       "      <td>3</td>\n",
       "      <td>0</td>\n",
       "      <td>1</td>\n",
       "      <td>!!!!!!! RT @UrKindOfBrand Dawg!!!! RT @80sbaby...</td>\n",
       "    </tr>\n",
       "    <tr>\n",
       "      <th>3</th>\n",
       "      <td>3</td>\n",
       "      <td>0</td>\n",
       "      <td>2</td>\n",
       "      <td>1</td>\n",
       "      <td>1</td>\n",
       "      <td>!!!!!!!!! RT @C_G_Anderson: @viva_based she lo...</td>\n",
       "    </tr>\n",
       "    <tr>\n",
       "      <th>4</th>\n",
       "      <td>6</td>\n",
       "      <td>0</td>\n",
       "      <td>6</td>\n",
       "      <td>0</td>\n",
       "      <td>1</td>\n",
       "      <td>!!!!!!!!!!!!! RT @ShenikaRoberts: The shit you...</td>\n",
       "    </tr>\n",
       "    <tr>\n",
       "      <th>5</th>\n",
       "      <td>3</td>\n",
       "      <td>1</td>\n",
       "      <td>2</td>\n",
       "      <td>0</td>\n",
       "      <td>1</td>\n",
       "      <td>!!!!!!!!!!!!!!!!!!\"@T_Madison_x: The shit just...</td>\n",
       "    </tr>\n",
       "    <tr>\n",
       "      <th>6</th>\n",
       "      <td>3</td>\n",
       "      <td>0</td>\n",
       "      <td>3</td>\n",
       "      <td>0</td>\n",
       "      <td>1</td>\n",
       "      <td>!!!!!!\"@__BrighterDays: I can not just sit up ...</td>\n",
       "    </tr>\n",
       "    <tr>\n",
       "      <th>7</th>\n",
       "      <td>3</td>\n",
       "      <td>0</td>\n",
       "      <td>3</td>\n",
       "      <td>0</td>\n",
       "      <td>1</td>\n",
       "      <td>!!!!&amp;#8220;@selfiequeenbri: cause I'm tired of...</td>\n",
       "    </tr>\n",
       "    <tr>\n",
       "      <th>8</th>\n",
       "      <td>3</td>\n",
       "      <td>0</td>\n",
       "      <td>3</td>\n",
       "      <td>0</td>\n",
       "      <td>1</td>\n",
       "      <td>\" &amp;amp; you might not get ya bitch back &amp;amp; ...</td>\n",
       "    </tr>\n",
       "    <tr>\n",
       "      <th>9</th>\n",
       "      <td>3</td>\n",
       "      <td>1</td>\n",
       "      <td>2</td>\n",
       "      <td>0</td>\n",
       "      <td>1</td>\n",
       "      <td>\" @rhythmixx_ :hobbies include: fighting Maria...</td>\n",
       "    </tr>\n",
       "  </tbody>\n",
       "</table>\n",
       "</div>"
      ],
      "text/plain": [
       "   count  hate_speech  offensive_language  neither  class  \\\n",
       "0      3            0                   0        3      2   \n",
       "1      3            0                   3        0      1   \n",
       "2      3            0                   3        0      1   \n",
       "3      3            0                   2        1      1   \n",
       "4      6            0                   6        0      1   \n",
       "5      3            1                   2        0      1   \n",
       "6      3            0                   3        0      1   \n",
       "7      3            0                   3        0      1   \n",
       "8      3            0                   3        0      1   \n",
       "9      3            1                   2        0      1   \n",
       "\n",
       "                                               tweet  \n",
       "0  !!! RT @mayasolovely: As a woman you shouldn't...  \n",
       "1  !!!!! RT @mleew17: boy dats cold...tyga dwn ba...  \n",
       "2  !!!!!!! RT @UrKindOfBrand Dawg!!!! RT @80sbaby...  \n",
       "3  !!!!!!!!! RT @C_G_Anderson: @viva_based she lo...  \n",
       "4  !!!!!!!!!!!!! RT @ShenikaRoberts: The shit you...  \n",
       "5  !!!!!!!!!!!!!!!!!!\"@T_Madison_x: The shit just...  \n",
       "6  !!!!!!\"@__BrighterDays: I can not just sit up ...  \n",
       "7  !!!!&#8220;@selfiequeenbri: cause I'm tired of...  \n",
       "8  \" &amp; you might not get ya bitch back &amp; ...  \n",
       "9  \" @rhythmixx_ :hobbies include: fighting Maria...  "
      ]
     },
     "execution_count": 2,
     "metadata": {},
     "output_type": "execute_result"
    }
   ],
   "source": [
    "df.head(n=10)"
   ]
  },
  {
   "cell_type": "markdown",
   "metadata": {},
   "source": [
    "So we have the tweet text and numbers for how many people considered tweets as hate speech or offensive language.\n",
    "\n",
    "The offensive and hate counts are what we'll try to predict, i will convert those to a binary True/False value.\n",
    "\n",
    "For the text, we can use TfIdfVectorizer to create numerical features from the text. Basically each word will get assigned a unique feature ID. We can create the textual features based on characters (3-grams) and words, this captures different information because characters keep symbols and punctuation, while words keep the meaning a bit better. \n",
    "\n",
    "Character and word based features together should give us the best results - let's see!"
   ]
  },
  {
   "cell_type": "code",
   "execution_count": 3,
   "metadata": {},
   "outputs": [],
   "source": [
    "from sklearn.feature_extraction.text import TfidfVectorizer\n",
    "from gensim.parsing.preprocessing import preprocess_string\n",
    "from scipy.sparse import hstack\n",
    "\n",
    "char_trigrams = TfidfVectorizer(min_df=25, max_df=0.75, strip_accents='ascii', analyzer='char', ngram_range=(3, 3),\n",
    "                                sublinear_tf=True)\n",
    "\n",
    "word_unigrams = TfidfVectorizer(min_df=25, max_df=0.75, strip_accents='unicode', analyzer='word',\n",
    "                                tokenizer=preprocess_string, sublinear_tf=True, stop_words='english')\n",
    "\n",
    "X_chars = char_trigrams.fit_transform(df['tweet'].values)\n",
    "X_words = word_unigrams.fit_transform(df['tweet'].values)\n",
    "X_both = hstack((X_chars, X_words))\n",
    "\n",
    "y_hate = (df['hate_speech'] >= 1).values\n",
    "y_offensive = (df['offensive_language'] >= 1).values"
   ]
  },
  {
   "cell_type": "markdown",
   "metadata": {},
   "source": [
    "Let's look how many features were created?"
   ]
  },
  {
   "cell_type": "code",
   "execution_count": 4,
   "metadata": {},
   "outputs": [
    {
     "name": "stdout",
     "output_type": "stream",
     "text": [
      "(24783, 5657)\n",
      "(24783, 936)\n",
      "(24783, 6593)\n"
     ]
    }
   ],
   "source": [
    "print(X_chars.shape)\n",
    "print(X_words.shape)\n",
    "print(X_both.shape)"
   ]
  },
  {
   "cell_type": "markdown",
   "metadata": {},
   "source": [
    "So we've created our features, now i'm doing some plots of the target variables. What this will show is the strong class imbalance. That's something we should deal with in the models!"
   ]
  },
  {
   "cell_type": "code",
   "execution_count": 5,
   "metadata": {},
   "outputs": [
    {
     "data": {
      "image/png": "[encoded data removed]",
      "text/plain": [
       "<matplotlib.figure.Figure at 0x7fa71c9ed080>"
      ]
     },
     "metadata": {},
     "output_type": "display_data"
    }
   ],
   "source": [
    "import seaborn as sns\n",
    "%matplotlib inline\n",
    "\n",
    "ax = sns.countplot(x=y_hate)"
   ]
  },
  {
   "cell_type": "code",
   "execution_count": 6,
   "metadata": {},
   "outputs": [
    {
     "data": {
      "image/png": "[encoded data removed]",
      "text/plain": [
       "<matplotlib.figure.Figure at 0x7fa6dc22d198>"
      ]
     },
     "metadata": {},
     "output_type": "display_data"
    }
   ],
   "source": [
    "ax = sns.countplot(x=y_offensive)"
   ]
  },
  {
   "cell_type": "markdown",
   "metadata": {},
   "source": [
    "So now we train and evaluate some basic models on the data - comparing how the model does with character, word and both features. Also comparing performance between hate speech and offensive language."
   ]
  },
  {
   "cell_type": "code",
   "execution_count": 7,
   "metadata": {},
   "outputs": [
    {
     "name": "stdout",
     "output_type": "stream",
     "text": [
      "Score [chars] [is_hate]: 0.8172 (+/- 0.0037)\n",
      "Score [words] [is_hate]: 0.8269 (+/- 0.0076)\n",
      "Score [both] [is_hate]: 0.8294 (+/- 0.0073)\n",
      "Score [chars] [is_offensive]: 0.8881 (+/- 0.0060)\n",
      "Score [words] [is_offensive]: 0.9059 (+/- 0.0086)\n",
      "Score [both] [is_offensive]: 0.9130 (+/- 0.0088)\n"
     ]
    }
   ],
   "source": [
    "from sklearn.model_selection import cross_val_score\n",
    "from sklearn.linear_model import LogisticRegression\n",
    "\n",
    "\n",
    "\n",
    "scores = cross_val_score(LogisticRegression(C=0.25), X_chars, y_hate, cv=5)\n",
    "print(\"Score [chars] [is_hate]: {:.4f} (+/- {:.4f})\".format(scores.mean(), scores.std()))\n",
    "\n",
    "scores = cross_val_score(LogisticRegression(C=0.25), X_words, y_hate, cv=5)\n",
    "print(\"Score [words] [is_hate]: {:.4f} (+/- {:.4f})\".format(scores.mean(), scores.std()))\n",
    "\n",
    "scores = cross_val_score(LogisticRegression(C=0.25), X_both, y_hate, cv=5)\n",
    "print(\"Score [both] [is_hate]: {:.4f} (+/- {:.4f})\".format(scores.mean(), scores.std()))\n",
    "\n",
    "\n",
    "\n",
    "scores = cross_val_score(LogisticRegression(C=0.25), X_chars, y_offensive, cv=5)\n",
    "print(\"Score [chars] [is_offensive]: {:.4f} (+/- {:.4f})\".format(scores.mean(), scores.std()))\n",
    "\n",
    "scores = cross_val_score(LogisticRegression(C=0.25), X_words, y_offensive, cv=5)\n",
    "print(\"Score [words] [is_offensive]: {:.4f} (+/- {:.4f})\".format(scores.mean(), scores.std()))\n",
    "\n",
    "scores = cross_val_score(LogisticRegression(C=0.25), X_both, y_offensive, cv=5)\n",
    "print(\"Score [both] [is_offensive]: {:.4f} (+/- {:.4f})\".format(scores.mean(), scores.std()))"
   ]
  },
  {
   "cell_type": "markdown",
   "metadata": {},
   "source": [
    "So the model does a bit better at predicting offensive speech - and you can see how the word and character based features together indeed give best results.\n",
    "\n",
    "Next we'll do some parameter tuning to optimize performance. We do that twice: Once for hate speech and once for offensive language as they might need different parameters.\n",
    "\n",
    "I'm using the f1 score as scoring metric to get a balanced view of precision and recall."
   ]
  },
  {
   "cell_type": "code",
   "execution_count": 8,
   "metadata": {},
   "outputs": [],
   "source": [
    "from sklearn.model_selection import GridSearchCV, StratifiedShuffleSplit\n",
    "import numpy as np\n",
    "\n",
    "gsc = GridSearchCV(\n",
    "    estimator=LogisticRegression(),\n",
    "    param_grid={\n",
    "        'C': np.arange(0.01, 1.0, 0.1),\n",
    "        'class_weight': [None, {0:1,1:5}, {0:1,1:10}, {0:1,1:15}, 'balanced']\n",
    "    },\n",
    "    scoring='f1',\n",
    "    cv=StratifiedShuffleSplit(n_splits=5, test_size=0.2)\n",
    ")"
   ]
  },
  {
   "cell_type": "markdown",
   "metadata": {},
   "source": [
    "Now that we've set up parameter tuning, let's look at what the optimal settings are for hate speech and offensive language..."
   ]
  },
  {
   "cell_type": "code",
   "execution_count": 9,
   "metadata": {},
   "outputs": [
    {
     "name": "stdout",
     "output_type": "stream",
     "text": [
      "Best score : 0.56 using {'C': 0.11, 'class_weight': 'balanced'}\n"
     ]
    }
   ],
   "source": [
    "grid_result = gsc.fit(X_both, y_hate)\n",
    "print(\"Best score : %.2f using %s\" % (grid_result.best_score_, grid_result.best_params_))"
   ]
  },
  {
   "cell_type": "code",
   "execution_count": 10,
   "metadata": {},
   "outputs": [
    {
     "name": "stdout",
     "output_type": "stream",
     "text": [
      "Best score : 0.96 using {'C': 0.91000000000000003, 'class_weight': None}\n"
     ]
    }
   ],
   "source": [
    "grid_result = gsc.fit(X_both, y_offensive)\n",
    "print(\"Best score : %.2f using %s\" % (grid_result.best_score_, grid_result.best_params_))"
   ]
  },
  {
   "cell_type": "markdown",
   "metadata": {},
   "source": [
    "So we've determine good parameters for the models - let's check how well they clasify the tweets?"
   ]
  },
  {
   "cell_type": "code",
   "execution_count": 11,
   "metadata": {},
   "outputs": [
    {
     "name": "stdout",
     "output_type": "stream",
     "text": [
      "             precision    recall  f1-score   support\n",
      "\n",
      "      False       0.90      0.83      0.87      3948\n",
      "       True       0.50      0.64      0.56      1009\n",
      "\n",
      "avg / total       0.82      0.80      0.80      4957\n",
      "\n"
     ]
    }
   ],
   "source": [
    "from sklearn.model_selection import train_test_split\n",
    "from sklearn.metrics import classification_report\n",
    "\n",
    "X_train, X_test, y_train, y_test = train_test_split(X_both, y_hate, test_size=0.2)\n",
    "\n",
    "lr = LogisticRegression(C=0.1, class_weight='balanced')\n",
    "lr.fit(X_train, y_train)\n",
    "\n",
    "print(classification_report(y_test, lr.predict(X_test)))"
   ]
  },
  {
   "cell_type": "markdown",
   "metadata": {},
   "source": [
    "So for hate speech, it's good but not great. Let's look at offensive language?"
   ]
  },
  {
   "cell_type": "code",
   "execution_count": 12,
   "metadata": {},
   "outputs": [
    {
     "name": "stdout",
     "output_type": "stream",
     "text": [
      "             precision    recall  f1-score   support\n",
      "\n",
      "      False       0.77      0.64      0.70       719\n",
      "       True       0.94      0.97      0.95      4238\n",
      "\n",
      "avg / total       0.92      0.92      0.92      4957\n",
      "\n"
     ]
    }
   ],
   "source": [
    "X_train, X_test, y_train, y_test = train_test_split(X_both, y_offensive, test_size=0.2)\n",
    "\n",
    "lr = LogisticRegression(C=0.8)\n",
    "lr.fit(X_train, y_train)\n",
    "\n",
    "print(classification_report(y_test, lr.predict(X_test)))"
   ]
  },
  {
   "cell_type": "markdown",
   "metadata": {},
   "source": [
    "For offensive language we're doing a bit better it seems"
   ]
  },
  {
   "cell_type": "code",
   "execution_count": null,
   "metadata": {},
   "outputs": [],
   "source": []
  }
 ],
 "metadata": {
  "kernelspec": {
   "display_name": "Python 3",
   "language": "python",
   "name": "python3"
  },
  "language_info": {
   "codemirror_mode": {
    "name": "ipython",
    "version": 3
   },
   "file_extension": ".py",
   "mimetype": "text/x-python",
   "name": "python",
   "nbconvert_exporter": "python",
   "pygments_lexer": "ipython3",
   "version": "3.6.3"
  }
 },
 "nbformat": 4,
 "nbformat_minor": 2
}
