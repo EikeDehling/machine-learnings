{
 "cells": [
  {
   "cell_type": "markdown",
   "metadata": {},
   "source": [
    "# Preprocessing - Encoding data\n",
    "\n",
    "Most machine learning algorithms only work with numeric data, so if your dataset contains for example categorical data, you'll need to encode that into a numeric format. There is multipe approaches to doing this, which i' ll show in this notebook.\n",
    "\n",
    "First we load some example data:"
   ]
  },
  {
   "cell_type": "code",
   "execution_count": 1,
   "metadata": {},
   "outputs": [
    {
     "data": {
      "text/html": [
       "<div>\n",
       "<table border=\"1\" class=\"dataframe\">\n",
       "  <thead>\n",
       "    <tr style=\"text-align: right;\">\n",
       "      <th></th>\n",
       "      <th>Address</th>\n",
       "      <th>Price</th>\n",
       "      <th>LivingArea</th>\n",
       "      <th>Rooms</th>\n",
       "      <th>LotArea</th>\n",
       "      <th>Type</th>\n",
       "    </tr>\n",
       "  </thead>\n",
       "  <tbody>\n",
       "    <tr>\n",
       "      <th>0</th>\n",
       "      <td>Adriaan van Bergenstraat 47</td>\n",
       "      <td>250000</td>\n",
       "      <td>71</td>\n",
       "      <td>4</td>\n",
       "      <td>92</td>\n",
       "      <td>Row</td>\n",
       "    </tr>\n",
       "    <tr>\n",
       "      <th>1</th>\n",
       "      <td>Jan van Zutphenlaan 56</td>\n",
       "      <td>209500</td>\n",
       "      <td>98</td>\n",
       "      <td>5</td>\n",
       "      <td>123</td>\n",
       "      <td>Row</td>\n",
       "    </tr>\n",
       "    <tr>\n",
       "      <th>2</th>\n",
       "      <td>Prinses irenelaan 126</td>\n",
       "      <td>349500</td>\n",
       "      <td>128</td>\n",
       "      <td>6</td>\n",
       "      <td>114</td>\n",
       "      <td>Row</td>\n",
       "    </tr>\n",
       "    <tr>\n",
       "      <th>3</th>\n",
       "      <td>Hubert Duyfhuysstraat 36</td>\n",
       "      <td>250000</td>\n",
       "      <td>86</td>\n",
       "      <td>4</td>\n",
       "      <td>98</td>\n",
       "      <td>Row</td>\n",
       "    </tr>\n",
       "    <tr>\n",
       "      <th>4</th>\n",
       "      <td>Prinses ireneplateau 125</td>\n",
       "      <td>419000</td>\n",
       "      <td>173</td>\n",
       "      <td>6</td>\n",
       "      <td>99</td>\n",
       "      <td>Row</td>\n",
       "    </tr>\n",
       "  </tbody>\n",
       "</table>\n",
       "</div>"
      ],
      "text/plain": [
       "                       Address   Price  LivingArea  Rooms  LotArea Type\n",
       "0  Adriaan van Bergenstraat 47  250000          71      4       92  Row\n",
       "1       Jan van Zutphenlaan 56  209500          98      5      123  Row\n",
       "2        Prinses irenelaan 126  349500         128      6      114  Row\n",
       "3     Hubert Duyfhuysstraat 36  250000          86      4       98  Row\n",
       "4     Prinses ireneplateau 125  419000         173      6       99  Row"
      ]
     },
     "execution_count": 1,
     "metadata": {},
     "output_type": "execute_result"
    }
   ],
   "source": [
    "import pandas\n",
    "\n",
    "df = pandas.read_csv('houses.csv')\n",
    "\n",
    "df.head()"
   ]
  },
  {
   "cell_type": "code",
   "execution_count": 2,
   "metadata": {},
   "outputs": [
    {
     "data": {
      "text/plain": [
       "count      42\n",
       "unique      3\n",
       "top       Row\n",
       "freq       36\n",
       "Name: Type, dtype: object"
      ]
     },
     "execution_count": 2,
     "metadata": {},
     "output_type": "execute_result"
    }
   ],
   "source": [
    "df['Type'].describe()"
   ]
  },
  {
   "cell_type": "markdown",
   "metadata": {},
   "source": [
    "As you can see, the \"Address\" and \"Type\" columns need some attention before we can load the data into a machine learning model. We'll drop the \"Address\" column and deal with type in the rest of this notebook."
   ]
  },
  {
   "cell_type": "code",
   "execution_count": 3,
   "metadata": {
    "collapsed": true
   },
   "outputs": [],
   "source": [
    "df.drop('Address', axis=1, inplace=True)"
   ]
  },
  {
   "cell_type": "markdown",
   "metadata": {},
   "source": [
    "## One-hot or dummy encoding\n",
    "\n",
    "First strategy for dealing with categorical data is to apply one-hot or dummy encoding. Basically that means creating binary(0/1) columns for each possible value of the categorical variable.\n",
    "\n",
    "This approach works best if there is small-ish list of values and/or there is no natural ordering of values."
   ]
  },
  {
   "cell_type": "code",
   "execution_count": 4,
   "metadata": {},
   "outputs": [
    {
     "data": {
      "text/html": [
       "<div>\n",
       "<table border=\"1\" class=\"dataframe\">\n",
       "  <thead>\n",
       "    <tr style=\"text-align: right;\">\n",
       "      <th></th>\n",
       "      <th>Price</th>\n",
       "      <th>LivingArea</th>\n",
       "      <th>Rooms</th>\n",
       "      <th>LotArea</th>\n",
       "      <th>Type_Corner</th>\n",
       "      <th>Type_Detached</th>\n",
       "      <th>Type_Row</th>\n",
       "    </tr>\n",
       "  </thead>\n",
       "  <tbody>\n",
       "    <tr>\n",
       "      <th>0</th>\n",
       "      <td>250000</td>\n",
       "      <td>71</td>\n",
       "      <td>4</td>\n",
       "      <td>92</td>\n",
       "      <td>0</td>\n",
       "      <td>0</td>\n",
       "      <td>1</td>\n",
       "    </tr>\n",
       "    <tr>\n",
       "      <th>1</th>\n",
       "      <td>209500</td>\n",
       "      <td>98</td>\n",
       "      <td>5</td>\n",
       "      <td>123</td>\n",
       "      <td>0</td>\n",
       "      <td>0</td>\n",
       "      <td>1</td>\n",
       "    </tr>\n",
       "    <tr>\n",
       "      <th>2</th>\n",
       "      <td>349500</td>\n",
       "      <td>128</td>\n",
       "      <td>6</td>\n",
       "      <td>114</td>\n",
       "      <td>0</td>\n",
       "      <td>0</td>\n",
       "      <td>1</td>\n",
       "    </tr>\n",
       "    <tr>\n",
       "      <th>3</th>\n",
       "      <td>250000</td>\n",
       "      <td>86</td>\n",
       "      <td>4</td>\n",
       "      <td>98</td>\n",
       "      <td>0</td>\n",
       "      <td>0</td>\n",
       "      <td>1</td>\n",
       "    </tr>\n",
       "    <tr>\n",
       "      <th>4</th>\n",
       "      <td>419000</td>\n",
       "      <td>173</td>\n",
       "      <td>6</td>\n",
       "      <td>99</td>\n",
       "      <td>0</td>\n",
       "      <td>0</td>\n",
       "      <td>1</td>\n",
       "    </tr>\n",
       "  </tbody>\n",
       "</table>\n",
       "</div>"
      ],
      "text/plain": [
       "    Price  LivingArea  Rooms  LotArea  Type_Corner  Type_Detached  Type_Row\n",
       "0  250000          71      4       92            0              0         1\n",
       "1  209500          98      5      123            0              0         1\n",
       "2  349500         128      6      114            0              0         1\n",
       "3  250000          86      4       98            0              0         1\n",
       "4  419000         173      6       99            0              0         1"
      ]
     },
     "execution_count": 4,
     "metadata": {},
     "output_type": "execute_result"
    }
   ],
   "source": [
    "df_dummies = pandas.get_dummies(df)\n",
    "\n",
    "df_dummies.head()"
   ]
  },
  {
   "cell_type": "markdown",
   "metadata": {},
   "source": [
    "So pandas has indeed converted the \"Type\" column into three, one for each value.\n",
    "\n",
    "Now we can train and evaluate a machine learning model for price to see if it all worked:"
   ]
  },
  {
   "cell_type": "code",
   "execution_count": 5,
   "metadata": {},
   "outputs": [
    {
     "name": "stdout",
     "output_type": "stream",
     "text": [
      "Score: 0.65 (0.21)\n"
     ]
    }
   ],
   "source": [
    "from sklearn.model_selection import cross_val_score\n",
    "from sklearn.linear_model import Ridge\n",
    "\n",
    "results = cross_val_score(Ridge(), df_dummies.drop('Price', axis=1), df_dummies['Price'], cv=5)\n",
    "print(\"Score: %.2f (%.2f)\" % (results.mean(), results.std()))"
   ]
  },
  {
   "cell_type": "markdown",
   "metadata": {},
   "source": [
    "## Label or factor encoding\n",
    "\n",
    "Another approach to encoding categorical data is to assign a number to each value and replace the values with their numeric counterpart.\n",
    "\n",
    "This approach works best if there is a natural ordering and/or linear relationship with the predicted variable, at least for linear models (tree-based models usually don't care)."
   ]
  },
  {
   "cell_type": "code",
   "execution_count": 6,
   "metadata": {},
   "outputs": [
    {
     "data": {
      "text/html": [
       "<div>\n",
       "<table border=\"1\" class=\"dataframe\">\n",
       "  <thead>\n",
       "    <tr style=\"text-align: right;\">\n",
       "      <th></th>\n",
       "      <th>Price</th>\n",
       "      <th>LivingArea</th>\n",
       "      <th>Rooms</th>\n",
       "      <th>LotArea</th>\n",
       "      <th>Type</th>\n",
       "    </tr>\n",
       "  </thead>\n",
       "  <tbody>\n",
       "    <tr>\n",
       "      <th>0</th>\n",
       "      <td>250000</td>\n",
       "      <td>71</td>\n",
       "      <td>4</td>\n",
       "      <td>92</td>\n",
       "      <td>0</td>\n",
       "    </tr>\n",
       "    <tr>\n",
       "      <th>1</th>\n",
       "      <td>209500</td>\n",
       "      <td>98</td>\n",
       "      <td>5</td>\n",
       "      <td>123</td>\n",
       "      <td>0</td>\n",
       "    </tr>\n",
       "    <tr>\n",
       "      <th>2</th>\n",
       "      <td>349500</td>\n",
       "      <td>128</td>\n",
       "      <td>6</td>\n",
       "      <td>114</td>\n",
       "      <td>0</td>\n",
       "    </tr>\n",
       "    <tr>\n",
       "      <th>3</th>\n",
       "      <td>250000</td>\n",
       "      <td>86</td>\n",
       "      <td>4</td>\n",
       "      <td>98</td>\n",
       "      <td>0</td>\n",
       "    </tr>\n",
       "    <tr>\n",
       "      <th>4</th>\n",
       "      <td>419000</td>\n",
       "      <td>173</td>\n",
       "      <td>6</td>\n",
       "      <td>99</td>\n",
       "      <td>0</td>\n",
       "    </tr>\n",
       "  </tbody>\n",
       "</table>\n",
       "</div>"
      ],
      "text/plain": [
       "    Price  LivingArea  Rooms  LotArea  Type\n",
       "0  250000          71      4       92     0\n",
       "1  209500          98      5      123     0\n",
       "2  349500         128      6      114     0\n",
       "3  250000          86      4       98     0\n",
       "4  419000         173      6       99     0"
      ]
     },
     "execution_count": 6,
     "metadata": {},
     "output_type": "execute_result"
    }
   ],
   "source": [
    "df_factor = df.copy()\n",
    "df_factor['Type'], _ = pandas.factorize(df_factor['Type'])\n",
    "\n",
    "df_factor.head()"
   ]
  },
  {
   "cell_type": "markdown",
   "metadata": {},
   "source": [
    "Indeed the \"Type\" column has been converted to a numeric one, so we can again apply a machine learning model and see if this approach produces similar performance as above."
   ]
  },
  {
   "cell_type": "code",
   "execution_count": 7,
   "metadata": {},
   "outputs": [
    {
     "name": "stdout",
     "output_type": "stream",
     "text": [
      "Score: 0.66 (0.22)\n"
     ]
    }
   ],
   "source": [
    "results = cross_val_score(Ridge(), df_factor.drop('Price', axis=1), df_factor['Price'], cv=5)\n",
    "print(\"Score: %.2f (%.2f)\" % (results.mean(), results.std()))"
   ]
  },
  {
   "cell_type": "markdown",
   "metadata": {},
   "source": [
    "Indeed the model works fine and performance is pretty similar in this case.\n",
    "\n",
    "Good luck!"
   ]
  }
 ],
 "metadata": {
  "kernelspec": {
   "display_name": "Python 3",
   "language": "python",
   "name": "python3"
  },
  "language_info": {
   "codemirror_mode": {
    "name": "ipython",
    "version": 3
   },
   "file_extension": ".py",
   "mimetype": "text/x-python",
   "name": "python",
   "nbconvert_exporter": "python",
   "pygments_lexer": "ipython3",
   "version": "3.6.1"
  }
 },
 "nbformat": 4,
 "nbformat_minor": 2
}
