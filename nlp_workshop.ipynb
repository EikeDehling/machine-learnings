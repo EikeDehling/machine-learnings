{
 "cells": [
  {
   "cell_type": "code",
   "execution_count": 13,
   "metadata": {},
   "outputs": [],
   "source": [
    "import pandas as pd\n",
    "\n",
    "pd.set_option('max_colwidth', 140)\n",
    "\n",
    "df = pd.read_csv('data/twitter-hate-speech.csv', index_col=0)"
   ]
  },
  {
   "cell_type": "code",
   "execution_count": 2,
   "metadata": {},
   "outputs": [
    {
     "data": {
      "text/html": [
       "<div>\n",
       "<style scoped>\n",
       "    .dataframe tbody tr th:only-of-type {\n",
       "        vertical-align: middle;\n",
       "    }\n",
       "\n",
       "    .dataframe tbody tr th {\n",
       "        vertical-align: top;\n",
       "    }\n",
       "\n",
       "    .dataframe thead th {\n",
       "        text-align: right;\n",
       "    }\n",
       "</style>\n",
       "<table border=\"1\" class=\"dataframe\">\n",
       "  <thead>\n",
       "    <tr style=\"text-align: right;\">\n",
       "      <th></th>\n",
       "      <th>count</th>\n",
       "      <th>hate_speech</th>\n",
       "      <th>offensive_language</th>\n",
       "      <th>neither</th>\n",
       "      <th>class</th>\n",
       "      <th>tweet</th>\n",
       "    </tr>\n",
       "  </thead>\n",
       "  <tbody>\n",
       "    <tr>\n",
       "      <th>0</th>\n",
       "      <td>3</td>\n",
       "      <td>0</td>\n",
       "      <td>0</td>\n",
       "      <td>3</td>\n",
       "      <td>2</td>\n",
       "      <td>!!! RT @mayasolovely: As a woman you shouldn't complain about cleaning up your house. &amp;amp; as a man you should always take the trash ou...</td>\n",
       "    </tr>\n",
       "    <tr>\n",
       "      <th>1</th>\n",
       "      <td>3</td>\n",
       "      <td>0</td>\n",
       "      <td>3</td>\n",
       "      <td>0</td>\n",
       "      <td>1</td>\n",
       "      <td>!!!!! RT @mleew17: boy dats cold...tyga dwn bad for cuffin dat hoe in the 1st place!!</td>\n",
       "    </tr>\n",
       "    <tr>\n",
       "      <th>2</th>\n",
       "      <td>3</td>\n",
       "      <td>0</td>\n",
       "      <td>3</td>\n",
       "      <td>0</td>\n",
       "      <td>1</td>\n",
       "      <td>!!!!!!! RT @UrKindOfBrand Dawg!!!! RT @80sbaby4life: You ever fuck a bitch and she start to cry? You be confused as shit</td>\n",
       "    </tr>\n",
       "    <tr>\n",
       "      <th>3</th>\n",
       "      <td>3</td>\n",
       "      <td>0</td>\n",
       "      <td>2</td>\n",
       "      <td>1</td>\n",
       "      <td>1</td>\n",
       "      <td>!!!!!!!!! RT @C_G_Anderson: @viva_based she look like a tranny</td>\n",
       "    </tr>\n",
       "    <tr>\n",
       "      <th>4</th>\n",
       "      <td>6</td>\n",
       "      <td>0</td>\n",
       "      <td>6</td>\n",
       "      <td>0</td>\n",
       "      <td>1</td>\n",
       "      <td>!!!!!!!!!!!!! RT @ShenikaRoberts: The shit you hear about me might be true or it might be faker than the bitch who told it to ya &amp;#57361;</td>\n",
       "    </tr>\n",
       "  </tbody>\n",
       "</table>\n",
       "</div>"
      ],
      "text/plain": [
       "   count  hate_speech  offensive_language  neither  class  \\\n",
       "0      3            0                   0        3      2   \n",
       "1      3            0                   3        0      1   \n",
       "2      3            0                   3        0      1   \n",
       "3      3            0                   2        1      1   \n",
       "4      6            0                   6        0      1   \n",
       "\n",
       "                                                                                                                                         tweet  \n",
       "0  !!! RT @mayasolovely: As a woman you shouldn't complain about cleaning up your house. &amp; as a man you should always take the trash ou...  \n",
       "1                                                        !!!!! RT @mleew17: boy dats cold...tyga dwn bad for cuffin dat hoe in the 1st place!!  \n",
       "2                     !!!!!!! RT @UrKindOfBrand Dawg!!!! RT @80sbaby4life: You ever fuck a bitch and she start to cry? You be confused as shit  \n",
       "3                                                                               !!!!!!!!! RT @C_G_Anderson: @viva_based she look like a tranny  \n",
       "4    !!!!!!!!!!!!! RT @ShenikaRoberts: The shit you hear about me might be true or it might be faker than the bitch who told it to ya &#57361;  "
      ]
     },
     "execution_count": 2,
     "metadata": {},
     "output_type": "execute_result"
    }
   ],
   "source": [
    "df.head()"
   ]
  },
  {
   "cell_type": "markdown",
   "metadata": {},
   "source": [
    "http://scikit-learn.org/stable/modules/feature_extraction.html#text-feature-extraction"
   ]
  },
  {
   "cell_type": "code",
   "execution_count": 15,
   "metadata": {},
   "outputs": [],
   "source": [
    "from sklearn.feature_extraction.text import TfidfVectorizer, CountVectorizer\n",
    "from gensim.parsing.preprocessing import preprocess_string\n",
    "\n",
    "simple = CountVectorizer(min_df=25, max_df=0.75, strip_accents='unicode', analyzer='word')\n",
    "\n",
    "count = CountVectorizer(min_df=25, max_df=0.75, strip_accents='unicode', analyzer='word',\n",
    "                        tokenizer=preprocess_string, stop_words='english')\n",
    "\n",
    "tfidf = TfidfVectorizer(min_df=25, max_df=0.75, strip_accents='unicode', analyzer='word',\n",
    "                        tokenizer=preprocess_string, stop_words='english')\n",
    "\n",
    "trigrams = CountVectorizer(min_df=25, max_df=0.75, strip_accents='ascii', analyzer='char',\n",
    "                           ngram_range=(3, 3))\n",
    "\n",
    "X_simple = simple.fit_transform(df['tweet'].values)\n",
    "X_count = count.fit_transform(df['tweet'].values)\n",
    "X_tfidf = tfidf.fit_transform(df['tweet'].values)\n",
    "X_trigrams = trigrams.fit_transform(df['tweet'].values)\n",
    "\n",
    "y = df['class'].values"
   ]
  },
  {
   "cell_type": "code",
   "execution_count": 16,
   "metadata": {},
   "outputs": [
    {
     "data": {
      "text/plain": [
       "0    [rt, mayasolovely, as, woman, you, shouldn, complain, about, cleaning, up, your, house, amp, as, man, you, should, always, take, the, tr...\n",
       "1                                                     [rt, mleew17, boy, dats, cold, tyga, dwn, bad, for, cuffin, dat, hoe, in, the, 1st, place]\n",
       "2                     [rt, urkindofbrand, dawg, rt, 80sbaby4life, you, ever, fuck, bitch, and, she, start, to, cry, you, be, confused, as, shit]\n",
       "3                                                                                        [rt, c_g_anderson, viva_based, she, look, like, tranny]\n",
       "4    [rt, shenikaroberts, the, shit, you, hear, about, me, might, be, true, or, it, might, be, faker, than, the, bitch, who, told, it, to, ya...\n",
       "Name: tweet, dtype: object"
      ]
     },
     "execution_count": 16,
     "metadata": {},
     "output_type": "execute_result"
    }
   ],
   "source": [
    "analyzer = simple.build_analyzer()\n",
    "\n",
    "df['tweet'].head(n=5).apply(analyzer)"
   ]
  },
  {
   "cell_type": "code",
   "execution_count": 17,
   "metadata": {},
   "outputs": [
    {
     "data": {
      "text/plain": [
       "0    [mayasolov, woman, shouldn, complain, clean, hous, amp, man, trash]\n",
       "1       [mleew, boi, dat, cold, tyga, dwn, bad, cuffin, dat, hoe, place]\n",
       "2      [urkindofbrand, dawg, sbabylif, fuck, bitch, start, confus, shit]\n",
       "3                             [anderson, viva, base, look, like, tranni]\n",
       "4                  [shenikarobert, shit, hear, true, faker, bitch, told]\n",
       "Name: tweet, dtype: object"
      ]
     },
     "execution_count": 17,
     "metadata": {},
     "output_type": "execute_result"
    }
   ],
   "source": [
    "analyzer = count.build_analyzer()\n",
    "\n",
    "df['tweet'].head(n=5).apply(analyzer)"
   ]
  },
  {
   "cell_type": "code",
   "execution_count": 20,
   "metadata": {},
   "outputs": [
    {
     "data": {
      "text/plain": [
       "0    [!!!, !! , ! r,  rt, rt , t @,  @m, @ma, may, aya, yas, aso, sol, olo, lov, ove, vel, ely, ly:, y: , : a,  as, as , s a,  a , a w,  wo, ...\n",
       "1    [!!!, !!!, !!!, !! , ! r,  rt, rt , t @,  @m, @ml, mle, lee, eew, ew1, w17, 17:, 7: , : b,  bo, boy, oy , y d,  da, dat, ats, ts , s c, ...\n",
       "2    [!!!, !!!, !!!, !!!, !!!, !! , ! r,  rt, rt , t @,  @u, @ur, urk, rki, kin, ind, ndo, dof, ofb, fbr, bra, ran, and, nd , d d,  da, daw, ...\n",
       "3    [!!!, !!!, !!!, !!!, !!!, !!!, !!!, !! , ! r,  rt, rt , t @,  @c, @c_, c_g, _g_, g_a, _an, and, nde, der, ers, rso, son, on:, n: , : @, ...\n",
       "4    [!!!, !!!, !!!, !!!, !!!, !!!, !!!, !!!, !!!, !!!, !!!, !! , ! r,  rt, rt , t @,  @s, @sh, she, hen, eni, nik, ika, kar, aro, rob, obe, ...\n",
       "Name: tweet, dtype: object"
      ]
     },
     "execution_count": 20,
     "metadata": {},
     "output_type": "execute_result"
    }
   ],
   "source": [
    "analyzer = trigrams.build_analyzer()\n",
    "\n",
    "df['tweet'].head(n=5).apply(analyzer)"
   ]
  },
  {
   "cell_type": "code",
   "execution_count": null,
   "metadata": {},
   "outputs": [],
   "source": []
  },
  {
   "cell_type": "code",
   "execution_count": 19,
   "metadata": {},
   "outputs": [
    {
     "data": {
      "text/plain": [
       "<matplotlib.axes._subplots.AxesSubplot at 0x7fc34f159f98>"
      ]
     },
     "execution_count": 19,
     "metadata": {},
     "output_type": "execute_result"
    },
    {
     "data": {
      "image/png": "[encoded data removed]",
      "text/plain": [
       "<Figure size 432x288 with 1 Axes>"
      ]
     },
     "metadata": {},
     "output_type": "display_data"
    }
   ],
   "source": [
    "import seaborn as sns\n",
    "\n",
    "%matplotlib inline\n",
    "\n",
    "sns.countplot(df['class'])"
   ]
  },
  {
   "cell_type": "code",
   "execution_count": 18,
   "metadata": {},
   "outputs": [
    {
     "name": "stdout",
     "output_type": "stream",
     "text": [
      "Features Count score: 0.88 (+/- 0.00)\n",
      "Features Count score: 0.89 (+/- 0.00)\n",
      "Features TF/IDF score: 0.85 (+/- 0.00)\n",
      "Features Trigrams score: 0.82 (+/- 0.01)\n"
     ]
    }
   ],
   "source": [
    "scores = cross_val_score(MultinomialNB(), X_simple, y, cv=ShuffleSplit(n_splits=10, test_size=0.2))\n",
    "print(\"Features %s score: %0.2f (+/- %0.2f)\" % ('Simple', scores.mean(), scores.std()))\n",
    "\n",
    "scores = cross_val_score(MultinomialNB(), X_count, y, cv=ShuffleSplit(n_splits=10, test_size=0.2))\n",
    "print(\"Features %s score: %0.2f (+/- %0.2f)\" % ('Count', scores.mean(), scores.std()))\n",
    "\n",
    "scores = cross_val_score(MultinomialNB(), X_tfidf, y, cv=ShuffleSplit(n_splits=10, test_size=0.2))\n",
    "print(\"Features %s score: %0.2f (+/- %0.2f)\" % ('TF/IDF', scores.mean(), scores.std()))\n",
    "\n",
    "scores = cross_val_score(MultinomialNB(), X_trigrams, y, cv=ShuffleSplit(n_splits=10, test_size=0.2))\n",
    "print(\"Features %s score: %0.2f (+/- %0.2f)\" % ('Trigrams', scores.mean(), scores.std()))"
   ]
  },
  {
   "cell_type": "code",
   "execution_count": null,
   "metadata": {},
   "outputs": [],
   "source": []
  },
  {
   "cell_type": "code",
   "execution_count": 9,
   "metadata": {},
   "outputs": [
    {
     "name": "stdout",
     "output_type": "stream",
     "text": [
      "Model LogisticRegression score: 0.91 (+/- 0.00)\n",
      "Model MultinomialNB score: 0.89 (+/- 0.00)\n",
      "Model DecisionTreeClassifier score: 0.89 (+/- 0.00)\n"
     ]
    }
   ],
   "source": [
    "from sklearn.model_selection import cross_val_score, ShuffleSplit\n",
    "from sklearn.linear_model import LogisticRegression\n",
    "from sklearn.naive_bayes import MultinomialNB\n",
    "from sklearn.tree import DecisionTreeClassifier\n",
    "\n",
    "models = [\n",
    "    LogisticRegression(multi_class='multinomial', solver='newton-cg'),\n",
    "    MultinomialNB(),\n",
    "    DecisionTreeClassifier(min_samples_split=50)\n",
    "]\n",
    "\n",
    "for model in models:\n",
    "    scores = cross_val_score(model, X_count, y, cv=ShuffleSplit(n_splits=10, test_size=0.2))\n",
    "    print(\"Model %s score: %0.2f (+/- %0.2f)\" % (model.__class__.__name__, scores.mean(), scores.std()))"
   ]
  },
  {
   "cell_type": "code",
   "execution_count": 10,
   "metadata": {},
   "outputs": [
    {
     "name": "stdout",
     "output_type": "stream",
     "text": [
      "Model LogisticRegression score: 0.83 (+/- 0.01)\n",
      "Model DecisionTreeClassifier score: 0.83 (+/- 0.00)\n"
     ]
    }
   ],
   "source": [
    "models = [\n",
    "    LogisticRegression(multi_class='multinomial', solver='newton-cg', class_weight='balanced'),\n",
    "    DecisionTreeClassifier(min_samples_split=50, class_weight='balanced')\n",
    "]\n",
    "\n",
    "for model in models:\n",
    "    scores = cross_val_score(model, X_count, y, cv=ShuffleSplit(n_splits=10, test_size=0.2))\n",
    "    print(\"Model %s score: %0.2f (+/- %0.2f)\" % (model.__class__.__name__, scores.mean(), scores.std()))"
   ]
  },
  {
   "cell_type": "code",
   "execution_count": null,
   "metadata": {},
   "outputs": [],
   "source": []
  },
  {
   "cell_type": "code",
   "execution_count": 11,
   "metadata": {},
   "outputs": [
    {
     "name": "stdout",
     "output_type": "stream",
     "text": [
      "             precision    recall  f1-score   support\n",
      "\n",
      "       Hate       0.49      0.22      0.30       300\n",
      "  Offensive       0.93      0.96      0.95      3835\n",
      "    Neither       0.84      0.90      0.87       822\n",
      "\n",
      "avg / total       0.89      0.90      0.89      4957\n",
      "\n"
     ]
    }
   ],
   "source": [
    "from sklearn.model_selection import train_test_split\n",
    "from sklearn.metrics import classification_report\n",
    "\n",
    "X_train, X_test, y_train, y_test = train_test_split(X_count, y, test_size=0.2)\n",
    "\n",
    "lr = LogisticRegression(multi_class='multinomial', solver='newton-cg')\n",
    "lr.fit(X_train, y_train)\n",
    "\n",
    "print(classification_report(y_test, lr.predict(X_test), target_names=('Hate', 'Offensive', 'Neither')))"
   ]
  },
  {
   "cell_type": "code",
   "execution_count": 12,
   "metadata": {},
   "outputs": [
    {
     "name": "stdout",
     "output_type": "stream",
     "text": [
      "             precision    recall  f1-score   support\n",
      "\n",
      "       Hate       0.48      0.29      0.36       282\n",
      "  Offensive       0.91      0.95      0.93      3833\n",
      "    Neither       0.84      0.79      0.81       842\n",
      "\n",
      "avg / total       0.88      0.89      0.88      4957\n",
      "\n"
     ]
    }
   ],
   "source": [
    "from sklearn.model_selection import train_test_split\n",
    "from sklearn.metrics import classification_report\n",
    "\n",
    "X_train, X_test, y_train, y_test = train_test_split(X_count, y, test_size=0.2)\n",
    "\n",
    "lr = MultinomialNB()\n",
    "lr.fit(X_train, y_train)\n",
    "\n",
    "print(classification_report(y_test, lr.predict(X_test), target_names=('Hate', 'Offensive', 'Neither')))"
   ]
  },
  {
   "cell_type": "code",
   "execution_count": null,
   "metadata": {},
   "outputs": [],
   "source": []
  }
 ],
 "metadata": {
  "kernelspec": {
   "display_name": "Python 3",
   "language": "python",
   "name": "python3"
  },
  "language_info": {
   "codemirror_mode": {
    "name": "ipython",
    "version": 3
   },
   "file_extension": ".py",
   "mimetype": "text/x-python",
   "name": "python",
   "nbconvert_exporter": "python",
   "pygments_lexer": "ipython3",
   "version": "3.5.3"
  }
 },
 "nbformat": 4,
 "nbformat_minor": 2
}
