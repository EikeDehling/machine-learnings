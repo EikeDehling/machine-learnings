{
 "cells": [
  {
   "cell_type": "code",
   "execution_count": 1,
   "metadata": {},
   "outputs": [
    {
     "name": "stdout",
     "output_type": "stream",
     "text": [
      "Model score =  0.9705241472207916\n"
     ]
    }
   ],
   "source": [
    "from nltk.tag.perceptron import PerceptronTagger\n",
    "from sklearn.model_selection import train_test_split\n",
    "import nltk\n",
    "\n",
    "sentences = nltk.corpus.treebank.tagged_sents()\n",
    "\n",
    "train_sentences, test_sentences = train_test_split(sentences, test_size=0.25)\n",
    "\n",
    "model = PerceptronTagger()\n",
    "model.train(train_sentences)\n",
    "\n",
    "print(\"Model score = \", model.evaluate(test_sentences))"
   ]
  },
  {
   "cell_type": "code",
   "execution_count": 2,
   "metadata": {},
   "outputs": [
    {
     "name": "stdout",
     "output_type": "stream",
     "text": [
      "Model score =  0.3814428905352403\n"
     ]
    }
   ],
   "source": [
    "from nltk.tag.hmm import HiddenMarkovModelTrainer\n",
    "\n",
    "trainer = HiddenMarkovModelTrainer()\n",
    "tagger = trainer.train_supervised(train_sentences)\n",
    "\n",
    "print(\"Model score = \", tagger.evaluate(test_sentences))"
   ]
  },
  {
   "cell_type": "code",
   "execution_count": 3,
   "metadata": {},
   "outputs": [
    {
     "name": "stdout",
     "output_type": "stream",
     "text": [
      "Model score =  0.9463174993066835\n"
     ]
    }
   ],
   "source": [
    "from nltk.tag.crf import CRFTagger\n",
    "\n",
    "model = CRFTagger()\n",
    "model.train(train_sentences, 'model.bin')\n",
    "\n",
    "print(\"Model score = \", model.evaluate(test_sentences))"
   ]
  },
  {
   "cell_type": "code",
   "execution_count": null,
   "metadata": {},
   "outputs": [],
   "source": []
  }
 ],
 "metadata": {
  "kernelspec": {
   "display_name": "Python 3",
   "language": "python",
   "name": "python3"
  },
  "language_info": {
   "codemirror_mode": {
    "name": "ipython",
    "version": 3
   },
   "file_extension": ".py",
   "mimetype": "text/x-python",
   "name": "python",
   "nbconvert_exporter": "python",
   "pygments_lexer": "ipython3",
   "version": "3.6.6"
  }
 },
 "nbformat": 4,
 "nbformat_minor": 2
}
