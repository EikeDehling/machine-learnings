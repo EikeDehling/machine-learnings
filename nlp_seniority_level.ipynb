{
 "cells": [
  {
   "cell_type": "code",
   "execution_count": 159,
   "metadata": {},
   "outputs": [],
   "source": [
    "import pandas as pd\n",
    "\n",
    "df = pd.read_csv('data/seniority-level.csv')"
   ]
  },
  {
   "cell_type": "code",
   "execution_count": 160,
   "metadata": {},
   "outputs": [],
   "source": [
    "df.dropna(axis=0, inplace=True)"
   ]
  },
  {
   "cell_type": "code",
   "execution_count": 161,
   "metadata": {},
   "outputs": [
    {
     "data": {
      "text/html": [
       "<div>\n",
       "<style scoped>\n",
       "    .dataframe tbody tr th:only-of-type {\n",
       "        vertical-align: middle;\n",
       "    }\n",
       "\n",
       "    .dataframe tbody tr th {\n",
       "        vertical-align: top;\n",
       "    }\n",
       "\n",
       "    .dataframe thead th {\n",
       "        text-align: right;\n",
       "    }\n",
       "</style>\n",
       "<table border=\"1\" class=\"dataframe\">\n",
       "  <thead>\n",
       "    <tr style=\"text-align: right;\">\n",
       "      <th></th>\n",
       "      <th>jobtitle</th>\n",
       "      <th>link</th>\n",
       "      <th>summary</th>\n",
       "      <th>description</th>\n",
       "      <th>Seniority</th>\n",
       "    </tr>\n",
       "  </thead>\n",
       "  <tbody>\n",
       "    <tr>\n",
       "      <th>0</th>\n",
       "      <td>Einkäufer (w/m/d)</td>\n",
       "      <td>https://www.roberthalf.de/job/munchen/einkaufe...</td>\n",
       "      <td>Einkäufer (w/m/d) gesucht - Für unseren Kunden...</td>\n",
       "      <td>&lt;div class=\"rh-job-page__job-info-text\"&gt;&lt;p&gt;&lt;st...</td>\n",
       "      <td>Medior</td>\n",
       "    </tr>\n",
       "    <tr>\n",
       "      <th>1</th>\n",
       "      <td>Bilanzbuchhalter (w/m/d)</td>\n",
       "      <td>https://www.roberthalf.de/job/essen/bilanzbuch...</td>\n",
       "      <td>Bilanzbuchhalter (w/m/d) gesucht - Für unseren...</td>\n",
       "      <td>&lt;div class=\"rh-job-page__job-info-text\"&gt;&lt;p&gt;&lt;st...</td>\n",
       "      <td>Senior</td>\n",
       "    </tr>\n",
       "    <tr>\n",
       "      <th>2</th>\n",
       "      <td>Bilanzbuchhalter (w/m/d)</td>\n",
       "      <td>https://www.roberthalf.de/job/duisburg/bilanzb...</td>\n",
       "      <td>Bilanzbuchhalter (w/m/d) gesucht - Für unseren...</td>\n",
       "      <td>&lt;div class=\"rh-job-page__job-info-text\"&gt;&lt;p&gt;&lt;st...</td>\n",
       "      <td>Senior</td>\n",
       "    </tr>\n",
       "    <tr>\n",
       "      <th>3</th>\n",
       "      <td>Finanzbuchhalter (w/m/d)</td>\n",
       "      <td>https://www.roberthalf.de/job/unna/finanzbuchh...</td>\n",
       "      <td>Finanzbuchhalter (w/m/d) gesucht - Für unseren...</td>\n",
       "      <td>&lt;div class=\"rh-job-page__job-info-text\"&gt;&lt;p&gt;&lt;st...</td>\n",
       "      <td>Medior</td>\n",
       "    </tr>\n",
       "    <tr>\n",
       "      <th>4</th>\n",
       "      <td>Sachbearbeiter Logistik (w/m/d)</td>\n",
       "      <td>https://www.roberthalf.de/job/worms/sachbearbe...</td>\n",
       "      <td>Sachbearbeiter Logistik (w/m/d) gesucht - Für ...</td>\n",
       "      <td>&lt;div class=\"rh-job-page__job-info-text\"&gt;&lt;p&gt;&lt;st...</td>\n",
       "      <td>Junior</td>\n",
       "    </tr>\n",
       "  </tbody>\n",
       "</table>\n",
       "</div>"
      ],
      "text/plain": [
       "                          jobtitle  \\\n",
       "0                Einkäufer (w/m/d)   \n",
       "1         Bilanzbuchhalter (w/m/d)   \n",
       "2         Bilanzbuchhalter (w/m/d)   \n",
       "3         Finanzbuchhalter (w/m/d)   \n",
       "4  Sachbearbeiter Logistik (w/m/d)   \n",
       "\n",
       "                                                link  \\\n",
       "0  https://www.roberthalf.de/job/munchen/einkaufe...   \n",
       "1  https://www.roberthalf.de/job/essen/bilanzbuch...   \n",
       "2  https://www.roberthalf.de/job/duisburg/bilanzb...   \n",
       "3  https://www.roberthalf.de/job/unna/finanzbuchh...   \n",
       "4  https://www.roberthalf.de/job/worms/sachbearbe...   \n",
       "\n",
       "                                             summary  \\\n",
       "0  Einkäufer (w/m/d) gesucht - Für unseren Kunden...   \n",
       "1  Bilanzbuchhalter (w/m/d) gesucht - Für unseren...   \n",
       "2  Bilanzbuchhalter (w/m/d) gesucht - Für unseren...   \n",
       "3  Finanzbuchhalter (w/m/d) gesucht - Für unseren...   \n",
       "4  Sachbearbeiter Logistik (w/m/d) gesucht - Für ...   \n",
       "\n",
       "                                         description Seniority  \n",
       "0  <div class=\"rh-job-page__job-info-text\"><p><st...    Medior  \n",
       "1  <div class=\"rh-job-page__job-info-text\"><p><st...    Senior  \n",
       "2  <div class=\"rh-job-page__job-info-text\"><p><st...    Senior  \n",
       "3  <div class=\"rh-job-page__job-info-text\"><p><st...    Medior  \n",
       "4  <div class=\"rh-job-page__job-info-text\"><p><st...    Junior  "
      ]
     },
     "execution_count": 161,
     "metadata": {},
     "output_type": "execute_result"
    }
   ],
   "source": [
    "df.head()"
   ]
  },
  {
   "cell_type": "code",
   "execution_count": 162,
   "metadata": {},
   "outputs": [
    {
     "data": {
      "text/plain": [
       "(140, 5)"
      ]
     },
     "execution_count": 162,
     "metadata": {},
     "output_type": "execute_result"
    }
   ],
   "source": [
    "df.shape"
   ]
  },
  {
   "cell_type": "code",
   "execution_count": null,
   "metadata": {},
   "outputs": [],
   "source": []
  },
  {
   "cell_type": "code",
   "execution_count": 196,
   "metadata": {},
   "outputs": [],
   "source": [
    "df_jf = pd.read_csv('data/seniority-level-jf.csv')"
   ]
  },
  {
   "cell_type": "code",
   "execution_count": 197,
   "metadata": {},
   "outputs": [],
   "source": [
    "df_jf.dropna(axis=0, inplace=True)"
   ]
  },
  {
   "cell_type": "code",
   "execution_count": 198,
   "metadata": {},
   "outputs": [
    {
     "data": {
      "text/html": [
       "<div>\n",
       "<style scoped>\n",
       "    .dataframe tbody tr th:only-of-type {\n",
       "        vertical-align: middle;\n",
       "    }\n",
       "\n",
       "    .dataframe tbody tr th {\n",
       "        vertical-align: top;\n",
       "    }\n",
       "\n",
       "    .dataframe thead th {\n",
       "        text-align: right;\n",
       "    }\n",
       "</style>\n",
       "<table border=\"1\" class=\"dataframe\">\n",
       "  <thead>\n",
       "    <tr style=\"text-align: right;\">\n",
       "      <th></th>\n",
       "      <th>filename</th>\n",
       "      <th>derived_vac_title</th>\n",
       "      <th>derived_vac_job_title</th>\n",
       "      <th>derived_profession_final</th>\n",
       "      <th>fulltext</th>\n",
       "      <th>Seniority</th>\n",
       "    </tr>\n",
       "  </thead>\n",
       "  <tbody>\n",
       "    <tr>\n",
       "      <th>0</th>\n",
       "      <td>file:/home/dehling/Downloads/jf_data_de/jf_dat...</td>\n",
       "      <td>Praktikant IT-Entwicklung - Projekt Industrie ...</td>\n",
       "      <td>Praktikant IT-Entwicklung - Projekt Industrie ...</td>\n",
       "      <td>praktikant</td>\n",
       "      <td>Praktikant IT-Entwicklung - Projekt Industrie ...</td>\n",
       "      <td>Junior</td>\n",
       "    </tr>\n",
       "    <tr>\n",
       "      <th>1</th>\n",
       "      <td>file:/home/dehling/Downloads/jf_data_de/jf_dat...</td>\n",
       "      <td>Assistenzärzte (m/w) für ein Ausbildungscurric...</td>\n",
       "      <td>Assistenzärzte (m/w) für ein Ausbildungscurric...</td>\n",
       "      <td>assistenzärzte ausbildungscurriculum innere me...</td>\n",
       "      <td>assistenzärzte (m/w) für ein ausbildungscurric...</td>\n",
       "      <td>Medior</td>\n",
       "    </tr>\n",
       "    <tr>\n",
       "      <th>2</th>\n",
       "      <td>file:/home/dehling/Downloads/jf_data_de/jf_dat...</td>\n",
       "      <td>Koch (m/w)</td>\n",
       "      <td>Koch (m/w)</td>\n",
       "      <td>koch</td>\n",
       "      <td>Das Sylter Stadtgeflüster ist eine Genussoase ...</td>\n",
       "      <td>Medior</td>\n",
       "    </tr>\n",
       "    <tr>\n",
       "      <th>3</th>\n",
       "      <td>file:/home/dehling/Downloads/jf_data_de/jf_dat...</td>\n",
       "      <td>Fachinformatiker/in, Systemintegration</td>\n",
       "      <td>Fachinformatiker/in, Systemintegration</td>\n",
       "      <td>fachinformatiker systemintegration</td>\n",
       "      <td>Fachinformatiker/in, Systemintegration ?% Eign...</td>\n",
       "      <td>Junior</td>\n",
       "    </tr>\n",
       "    <tr>\n",
       "      <th>4</th>\n",
       "      <td>file:/home/dehling/Downloads/jf_data_de/jf_dat...</td>\n",
       "      <td>Praktikum im Spezialtiefbau - Bauingenieurwesen</td>\n",
       "      <td>Praktikum im Spezialtiefbau - Bauingenieurwesen</td>\n",
       "      <td>praktikum</td>\n",
       "      <td>Praktikum im Spezialtiefbau - Bauingenieurwese...</td>\n",
       "      <td>Junior</td>\n",
       "    </tr>\n",
       "  </tbody>\n",
       "</table>\n",
       "</div>"
      ],
      "text/plain": [
       "                                            filename  \\\n",
       "0  file:/home/dehling/Downloads/jf_data_de/jf_dat...   \n",
       "1  file:/home/dehling/Downloads/jf_data_de/jf_dat...   \n",
       "2  file:/home/dehling/Downloads/jf_data_de/jf_dat...   \n",
       "3  file:/home/dehling/Downloads/jf_data_de/jf_dat...   \n",
       "4  file:/home/dehling/Downloads/jf_data_de/jf_dat...   \n",
       "\n",
       "                                   derived_vac_title  \\\n",
       "0  Praktikant IT-Entwicklung - Projekt Industrie ...   \n",
       "1  Assistenzärzte (m/w) für ein Ausbildungscurric...   \n",
       "2                                         Koch (m/w)   \n",
       "3             Fachinformatiker/in, Systemintegration   \n",
       "4    Praktikum im Spezialtiefbau - Bauingenieurwesen   \n",
       "\n",
       "                               derived_vac_job_title  \\\n",
       "0  Praktikant IT-Entwicklung - Projekt Industrie ...   \n",
       "1  Assistenzärzte (m/w) für ein Ausbildungscurric...   \n",
       "2                                         Koch (m/w)   \n",
       "3             Fachinformatiker/in, Systemintegration   \n",
       "4    Praktikum im Spezialtiefbau - Bauingenieurwesen   \n",
       "\n",
       "                            derived_profession_final  \\\n",
       "0                                         praktikant   \n",
       "1  assistenzärzte ausbildungscurriculum innere me...   \n",
       "2                                               koch   \n",
       "3                 fachinformatiker systemintegration   \n",
       "4                                          praktikum   \n",
       "\n",
       "                                            fulltext Seniority  \n",
       "0  Praktikant IT-Entwicklung - Projekt Industrie ...    Junior  \n",
       "1  assistenzärzte (m/w) für ein ausbildungscurric...    Medior  \n",
       "2  Das Sylter Stadtgeflüster ist eine Genussoase ...    Medior  \n",
       "3  Fachinformatiker/in, Systemintegration ?% Eign...    Junior  \n",
       "4  Praktikum im Spezialtiefbau - Bauingenieurwese...    Junior  "
      ]
     },
     "execution_count": 198,
     "metadata": {},
     "output_type": "execute_result"
    }
   ],
   "source": [
    "df_jf.head()"
   ]
  },
  {
   "cell_type": "code",
   "execution_count": 199,
   "metadata": {},
   "outputs": [
    {
     "data": {
      "text/plain": [
       "(101, 6)"
      ]
     },
     "execution_count": 199,
     "metadata": {},
     "output_type": "execute_result"
    }
   ],
   "source": [
    "df_jf.shape"
   ]
  },
  {
   "cell_type": "code",
   "execution_count": null,
   "metadata": {},
   "outputs": [],
   "source": []
  },
  {
   "cell_type": "code",
   "execution_count": null,
   "metadata": {},
   "outputs": [],
   "source": []
  },
  {
   "cell_type": "code",
   "execution_count": 200,
   "metadata": {},
   "outputs": [],
   "source": [
    "from gensim.parsing.preprocessing import preprocess_string, RE_TAGS, strip_punctuation, \\\n",
    "    strip_multiple_whitespaces, strip_numeric, remove_stopwords, strip_short, stem_text\n",
    "from sklearn.feature_extraction.text import CountVectorizer\n",
    "from sklearn.preprocessing import LabelEncoder, MaxAbsScaler\n",
    "\n",
    "\n",
    "def my_remove_tags(s):\n",
    "    return RE_TAGS.sub(\" \", s)\n",
    "\n",
    "my_filters = [\n",
    "    lambda x: x.lower(), my_remove_tags, strip_punctuation,\n",
    "    strip_multiple_whitespaces, strip_numeric,\n",
    "    remove_stopwords, strip_short, stem_text\n",
    "]\n",
    "\n",
    "def my_tokenizer(s):\n",
    "    return preprocess_string(s, my_filters)\n",
    "    \n",
    "vect = CountVectorizer(min_df=8, max_df=0.33, strip_accents='unicode', analyzer='word',\n",
    "                       tokenizer=my_tokenizer, ngram_range=(1,2))\n",
    "\n",
    "le = LabelEncoder()\n",
    "\n",
    "X = vect.fit_transform(df['description'].tolist() + df_jf['fulltext'].tolist())\n",
    "y = le.fit_transform(df['Seniority'].tolist() + df_jf['Seniority'].tolist())\n",
    "\n",
    "#scaler = MaxAbsScaler()\n",
    "#X_scaled = scaler.fit_transform(X)"
   ]
  },
  {
   "cell_type": "code",
   "execution_count": null,
   "metadata": {},
   "outputs": [],
   "source": []
  },
  {
   "cell_type": "code",
   "execution_count": 201,
   "metadata": {},
   "outputs": [
    {
     "data": {
      "image/png": "[encoded data removed]",
      "text/plain": [
       "<Figure size 432x288 with 1 Axes>"
      ]
     },
     "metadata": {
      "needs_background": "light"
     },
     "output_type": "display_data"
    }
   ],
   "source": [
    "import seaborn as sns\n",
    "%matplotlib inline\n",
    "\n",
    "ax = sns.countplot(x=(df['Seniority'].tolist() + df_jf['Seniority'].tolist()))"
   ]
  },
  {
   "cell_type": "code",
   "execution_count": 202,
   "metadata": {},
   "outputs": [
    {
     "data": {
      "text/plain": [
       "(241, 847)"
      ]
     },
     "execution_count": 202,
     "metadata": {},
     "output_type": "execute_result"
    }
   ],
   "source": [
    "X.shape"
   ]
  },
  {
   "cell_type": "code",
   "execution_count": null,
   "metadata": {},
   "outputs": [],
   "source": []
  },
  {
   "cell_type": "code",
   "execution_count": 233,
   "metadata": {},
   "outputs": [
    {
     "name": "stdout",
     "output_type": "stream",
     "text": [
      "Accuracy: 0.5233 (+/- 0.0798)\n",
      "F1: 0.5031 (+/- 0.1098)\n",
      "Log loss: -4.7871 (+/- 1.5038)\n"
     ]
    }
   ],
   "source": [
    "from sklearn.model_selection import cross_val_score, KFold, StratifiedKFold\n",
    "from sklearn.naive_bayes import MultinomialNB\n",
    "\n",
    "clf = MultinomialNB()\n",
    "\n",
    "scores = cross_val_score(clf, X, y, cv=StratifiedKFold(n_splits=5, shuffle=True), scoring='accuracy')\n",
    "print(\"Accuracy: {:.4f} (+/- {:.4f})\".format(scores.mean(), scores.std()))\n",
    "\n",
    "scores = cross_val_score(clf, X, y, cv=StratifiedKFold(n_splits=5, shuffle=True), scoring='f1_macro')\n",
    "print(\"F1: {:.4f} (+/- {:.4f})\".format(scores.mean(), scores.std()))\n",
    "\n",
    "scores = cross_val_score(clf, X, y, cv=StratifiedKFold(n_splits=5, shuffle=True), scoring='neg_log_loss')\n",
    "print(\"Log loss: {:.4f} (+/- {:.4f})\".format(scores.mean(), scores.std()))"
   ]
  },
  {
   "cell_type": "code",
   "execution_count": null,
   "metadata": {},
   "outputs": [],
   "source": []
  },
  {
   "cell_type": "code",
   "execution_count": 234,
   "metadata": {},
   "outputs": [
    {
     "name": "stdout",
     "output_type": "stream",
     "text": [
      "Accuracy: 0.6065 (+/- 0.0673)\n",
      "F1: 0.5007 (+/- 0.1041)\n",
      "Log loss: -1.1492 (+/- 0.2554)\n"
     ]
    }
   ],
   "source": [
    "from sklearn.linear_model import LogisticRegression\n",
    "\n",
    "clf = LogisticRegression(solver='lbfgs', multi_class='auto')\n",
    "\n",
    "scores = cross_val_score(clf, X, y, cv=StratifiedKFold(n_splits=5, shuffle=True), scoring='accuracy')\n",
    "print(\"Accuracy: {:.4f} (+/- {:.4f})\".format(scores.mean(), scores.std()))\n",
    "\n",
    "scores = cross_val_score(clf, X, y, cv=StratifiedKFold(n_splits=5, shuffle=True), scoring='f1_macro')\n",
    "print(\"F1: {:.4f} (+/- {:.4f})\".format(scores.mean(), scores.std()))\n",
    "\n",
    "scores = cross_val_score(clf, X, y, cv=StratifiedKFold(n_splits=5, shuffle=True), scoring='neg_log_loss')\n",
    "print(\"Log loss: {:.4f} (+/- {:.4f})\".format(scores.mean(), scores.std()))"
   ]
  },
  {
   "cell_type": "code",
   "execution_count": null,
   "metadata": {},
   "outputs": [],
   "source": []
  },
  {
   "cell_type": "code",
   "execution_count": 235,
   "metadata": {},
   "outputs": [
    {
     "name": "stdout",
     "output_type": "stream",
     "text": [
      "Accuracy: 0.5727 (+/- 0.0820)\n",
      "F1: 0.5203 (+/- 0.0605)\n",
      "Log loss: -0.9036 (+/- 0.0203)\n"
     ]
    }
   ],
   "source": [
    "from sklearn.svm import SVC, LinearSVC\n",
    "\n",
    "#clf = LinearSVC()\n",
    "clf = SVC(kernel='linear', probability=True)\n",
    "\n",
    "\n",
    "scores = cross_val_score(clf, X, y, cv=StratifiedKFold(n_splits=5, shuffle=True), scoring='accuracy')\n",
    "print(\"Accuracy: {:.4f} (+/- {:.4f})\".format(scores.mean(), scores.std()))\n",
    "\n",
    "scores = cross_val_score(clf, X, y, cv=StratifiedKFold(n_splits=5, shuffle=True), scoring='f1_macro')\n",
    "print(\"F1: {:.4f} (+/- {:.4f})\".format(scores.mean(), scores.std()))\n",
    "\n",
    "scores = cross_val_score(clf, X, y, cv=StratifiedKFold(n_splits=5, shuffle=True), scoring='neg_log_loss')\n",
    "print(\"Log loss: {:.4f} (+/- {:.4f})\".format(scores.mean(), scores.std()))"
   ]
  },
  {
   "cell_type": "code",
   "execution_count": null,
   "metadata": {},
   "outputs": [],
   "source": []
  },
  {
   "cell_type": "code",
   "execution_count": null,
   "metadata": {},
   "outputs": [],
   "source": []
  },
  {
   "cell_type": "code",
   "execution_count": 224,
   "metadata": {},
   "outputs": [
    {
     "name": "stderr",
     "output_type": "stream",
     "text": [
      "/home/dehling/Documents/machine-learnings/lib/python3.7/site-packages/sklearn/linear_model/sag.py:334: ConvergenceWarning: The max_iter was reached which means the coef_ did not converge\n",
      "  \"the coef_ did not converge\", ConvergenceWarning)\n"
     ]
    },
    {
     "data": {
      "text/plain": [
       "LogisticRegression(C=1.0, class_weight=None, dual=False, fit_intercept=True,\n",
       "          intercept_scaling=1, max_iter=100, multi_class='auto',\n",
       "          n_jobs=None, penalty='l2', random_state=None, solver='sag',\n",
       "          tol=0.0001, verbose=0, warm_start=False)"
      ]
     },
     "execution_count": 224,
     "metadata": {},
     "output_type": "execute_result"
    }
   ],
   "source": [
    "from sklearn.model_selection import train_test_split\n",
    "\n",
    "Xtr, Xte, ytr, yte = train_test_split(X, y, test_size=0.2, stratify=y)\n",
    "\n",
    "#clf = MultinomialNB()\n",
    "clf = LogisticRegression(solver='sag', multi_class='auto')\n",
    "#clf = LinearSVC()\n",
    "clf.fit(Xtr, ytr)"
   ]
  },
  {
   "cell_type": "code",
   "execution_count": null,
   "metadata": {},
   "outputs": [],
   "source": []
  },
  {
   "cell_type": "code",
   "execution_count": 221,
   "metadata": {},
   "outputs": [
    {
     "data": {
      "text/plain": [
       "(192, 847)"
      ]
     },
     "execution_count": 221,
     "metadata": {},
     "output_type": "execute_result"
    }
   ],
   "source": [
    "Xtr.shape"
   ]
  },
  {
   "cell_type": "code",
   "execution_count": 222,
   "metadata": {},
   "outputs": [
    {
     "data": {
      "text/plain": [
       "(49, 847)"
      ]
     },
     "execution_count": 222,
     "metadata": {},
     "output_type": "execute_result"
    }
   ],
   "source": [
    "Xte.shape"
   ]
  },
  {
   "cell_type": "code",
   "execution_count": null,
   "metadata": {},
   "outputs": [],
   "source": []
  },
  {
   "cell_type": "code",
   "execution_count": 225,
   "metadata": {},
   "outputs": [
    {
     "name": "stdout",
     "output_type": "stream",
     "text": [
      "              precision    recall  f1-score   support\n",
      "\n",
      "      Junior       0.70      0.73      0.71        22\n",
      "      Medior       0.57      0.67      0.62        18\n",
      "      Senior       0.60      0.33      0.43         9\n",
      "\n",
      "   micro avg       0.63      0.63      0.63        49\n",
      "   macro avg       0.62      0.58      0.59        49\n",
      "weighted avg       0.63      0.63      0.62        49\n",
      "\n"
     ]
    }
   ],
   "source": [
    "from sklearn.metrics import classification_report\n",
    "\n",
    "ypred = clf.predict(Xte)\n",
    "\n",
    "print(classification_report(yte, ypred, target_names=le.classes_))"
   ]
  },
  {
   "cell_type": "code",
   "execution_count": null,
   "metadata": {},
   "outputs": [],
   "source": []
  },
  {
   "cell_type": "code",
   "execution_count": 185,
   "metadata": {},
   "outputs": [
    {
     "data": {
      "text/plain": [
       "array(['Junior', 'Medior', 'Senior'], dtype='<U6')"
      ]
     },
     "execution_count": 185,
     "metadata": {},
     "output_type": "execute_result"
    }
   ],
   "source": [
    "le.classes_"
   ]
  },
  {
   "cell_type": "code",
   "execution_count": null,
   "metadata": {},
   "outputs": [],
   "source": []
  },
  {
   "cell_type": "code",
   "execution_count": 226,
   "metadata": {},
   "outputs": [
    {
     "data": {
      "image/png": "[encoded data removed]",
      "text/plain": [
       "<Figure size 432x288 with 1 Axes>"
      ]
     },
     "metadata": {
      "needs_background": "light"
     },
     "output_type": "display_data"
    }
   ],
   "source": [
    "from mlxtend.evaluate import confusion_matrix\n",
    "from mlxtend.plotting import plot_confusion_matrix\n",
    "\n",
    "fig, ax = plot_confusion_matrix(confusion_matrix(yte, ypred))"
   ]
  },
  {
   "cell_type": "code",
   "execution_count": null,
   "metadata": {},
   "outputs": [],
   "source": []
  },
  {
   "cell_type": "code",
   "execution_count": 227,
   "metadata": {},
   "outputs": [
    {
     "name": "stdout",
     "output_type": "stream",
     "text": [
      "Junior: korrespondenz, pflege, umgang, herr, arbeiten, einarbeitung, lohn, rollout, such, anwendungen, ihnen herr, zuverlassig, student, dein, moglich, umgang mit, bewerbung, recruit, erst berufserfahrung, erst\n",
      "\n",
      "Medior: deutschland, durchfuhrung, unternehmen mit, teamfahigkeit, ist ein, market, der buchhaltung, einer, profil erfolgreich, team, raum, fuhrerschein, produkt, berlin, bearbeitung, administr, stuttgart, wunschenswert, wir suchen, gmbh\n",
      "\n",
      "Senior: posit, anderen, fundiert, buchhaltung, rechnungen, al mitarbeit, eigenstandig, develop, mehrjahrig berufserfahrung, art, softwar, dies, vorbereitung, account, nach hgb, mehrjahrig, durch, hgb, einschlagig, control\n",
      "\n"
     ]
    }
   ],
   "source": [
    "import numpy as np\n",
    "\n",
    "feature_names = vect.get_feature_names()\n",
    "for i, class_label in enumerate(le.classes_):\n",
    "    top10 = np.argsort(clf.coef_[i])[-20:]\n",
    "    print(\"%s: %s\" % (class_label, \", \".join(feature_names[j] for j in top10)))\n",
    "    print()"
   ]
  },
  {
   "cell_type": "code",
   "execution_count": null,
   "metadata": {},
   "outputs": [],
   "source": []
  },
  {
   "cell_type": "code",
   "execution_count": null,
   "metadata": {},
   "outputs": [],
   "source": []
  }
 ],
 "metadata": {
  "kernelspec": {
   "display_name": "Python 3",
   "language": "python",
   "name": "python3"
  },
  "language_info": {
   "codemirror_mode": {
    "name": "ipython",
    "version": 3
   },
   "file_extension": ".py",
   "mimetype": "text/x-python",
   "name": "python",
   "nbconvert_exporter": "python",
   "pygments_lexer": "ipython3",
   "version": "3.7.2"
  }
 },
 "nbformat": 4,
 "nbformat_minor": 2
}
