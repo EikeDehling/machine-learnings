{
 "cells": [
  {
   "cell_type": "code",
   "execution_count": 4,
   "metadata": {},
   "outputs": [],
   "source": [
    "import pandas as pd\n",
    "\n",
    "df = pd.read_csv('data/seniority-level.csv')"
   ]
  },
  {
   "cell_type": "code",
   "execution_count": 5,
   "metadata": {},
   "outputs": [],
   "source": [
    "df.dropna(axis=0, inplace=True)"
   ]
  },
  {
   "cell_type": "code",
   "execution_count": 6,
   "metadata": {},
   "outputs": [
    {
     "data": {
      "text/html": [
       "<div>\n",
       "<style scoped>\n",
       "    .dataframe tbody tr th:only-of-type {\n",
       "        vertical-align: middle;\n",
       "    }\n",
       "\n",
       "    .dataframe tbody tr th {\n",
       "        vertical-align: top;\n",
       "    }\n",
       "\n",
       "    .dataframe thead th {\n",
       "        text-align: right;\n",
       "    }\n",
       "</style>\n",
       "<table border=\"1\" class=\"dataframe\">\n",
       "  <thead>\n",
       "    <tr style=\"text-align: right;\">\n",
       "      <th></th>\n",
       "      <th>jobtitle</th>\n",
       "      <th>link</th>\n",
       "      <th>summary</th>\n",
       "      <th>description</th>\n",
       "      <th>Seniority</th>\n",
       "    </tr>\n",
       "  </thead>\n",
       "  <tbody>\n",
       "    <tr>\n",
       "      <th>0</th>\n",
       "      <td>Einkäufer (w/m/d)</td>\n",
       "      <td>https://www.roberthalf.de/job/munchen/einkaufe...</td>\n",
       "      <td>Einkäufer (w/m/d) gesucht - Für unseren Kunden...</td>\n",
       "      <td>&lt;div class=\"rh-job-page__job-info-text\"&gt;&lt;p&gt;&lt;st...</td>\n",
       "      <td>Medior</td>\n",
       "    </tr>\n",
       "    <tr>\n",
       "      <th>1</th>\n",
       "      <td>Bilanzbuchhalter (w/m/d)</td>\n",
       "      <td>https://www.roberthalf.de/job/essen/bilanzbuch...</td>\n",
       "      <td>Bilanzbuchhalter (w/m/d) gesucht - Für unseren...</td>\n",
       "      <td>&lt;div class=\"rh-job-page__job-info-text\"&gt;&lt;p&gt;&lt;st...</td>\n",
       "      <td>Senior</td>\n",
       "    </tr>\n",
       "    <tr>\n",
       "      <th>2</th>\n",
       "      <td>Bilanzbuchhalter (w/m/d)</td>\n",
       "      <td>https://www.roberthalf.de/job/duisburg/bilanzb...</td>\n",
       "      <td>Bilanzbuchhalter (w/m/d) gesucht - Für unseren...</td>\n",
       "      <td>&lt;div class=\"rh-job-page__job-info-text\"&gt;&lt;p&gt;&lt;st...</td>\n",
       "      <td>Senior</td>\n",
       "    </tr>\n",
       "    <tr>\n",
       "      <th>3</th>\n",
       "      <td>Finanzbuchhalter (w/m/d)</td>\n",
       "      <td>https://www.roberthalf.de/job/unna/finanzbuchh...</td>\n",
       "      <td>Finanzbuchhalter (w/m/d) gesucht - Für unseren...</td>\n",
       "      <td>&lt;div class=\"rh-job-page__job-info-text\"&gt;&lt;p&gt;&lt;st...</td>\n",
       "      <td>Medior</td>\n",
       "    </tr>\n",
       "    <tr>\n",
       "      <th>4</th>\n",
       "      <td>Sachbearbeiter Logistik (w/m/d)</td>\n",
       "      <td>https://www.roberthalf.de/job/worms/sachbearbe...</td>\n",
       "      <td>Sachbearbeiter Logistik (w/m/d) gesucht - Für ...</td>\n",
       "      <td>&lt;div class=\"rh-job-page__job-info-text\"&gt;&lt;p&gt;&lt;st...</td>\n",
       "      <td>Junior</td>\n",
       "    </tr>\n",
       "  </tbody>\n",
       "</table>\n",
       "</div>"
      ],
      "text/plain": [
       "                          jobtitle  \\\n",
       "0                Einkäufer (w/m/d)   \n",
       "1         Bilanzbuchhalter (w/m/d)   \n",
       "2         Bilanzbuchhalter (w/m/d)   \n",
       "3         Finanzbuchhalter (w/m/d)   \n",
       "4  Sachbearbeiter Logistik (w/m/d)   \n",
       "\n",
       "                                                link  \\\n",
       "0  https://www.roberthalf.de/job/munchen/einkaufe...   \n",
       "1  https://www.roberthalf.de/job/essen/bilanzbuch...   \n",
       "2  https://www.roberthalf.de/job/duisburg/bilanzb...   \n",
       "3  https://www.roberthalf.de/job/unna/finanzbuchh...   \n",
       "4  https://www.roberthalf.de/job/worms/sachbearbe...   \n",
       "\n",
       "                                             summary  \\\n",
       "0  Einkäufer (w/m/d) gesucht - Für unseren Kunden...   \n",
       "1  Bilanzbuchhalter (w/m/d) gesucht - Für unseren...   \n",
       "2  Bilanzbuchhalter (w/m/d) gesucht - Für unseren...   \n",
       "3  Finanzbuchhalter (w/m/d) gesucht - Für unseren...   \n",
       "4  Sachbearbeiter Logistik (w/m/d) gesucht - Für ...   \n",
       "\n",
       "                                         description Seniority  \n",
       "0  <div class=\"rh-job-page__job-info-text\"><p><st...    Medior  \n",
       "1  <div class=\"rh-job-page__job-info-text\"><p><st...    Senior  \n",
       "2  <div class=\"rh-job-page__job-info-text\"><p><st...    Senior  \n",
       "3  <div class=\"rh-job-page__job-info-text\"><p><st...    Medior  \n",
       "4  <div class=\"rh-job-page__job-info-text\"><p><st...    Junior  "
      ]
     },
     "execution_count": 6,
     "metadata": {},
     "output_type": "execute_result"
    }
   ],
   "source": [
    "df.head()"
   ]
  },
  {
   "cell_type": "code",
   "execution_count": 7,
   "metadata": {},
   "outputs": [
    {
     "data": {
      "text/plain": [
       "(140, 5)"
      ]
     },
     "execution_count": 7,
     "metadata": {},
     "output_type": "execute_result"
    }
   ],
   "source": [
    "df.shape"
   ]
  },
  {
   "cell_type": "code",
   "execution_count": null,
   "metadata": {},
   "outputs": [],
   "source": []
  },
  {
   "cell_type": "code",
   "execution_count": 8,
   "metadata": {},
   "outputs": [],
   "source": [
    "df_jf = pd.read_csv('data/seniority-level-jf.csv')"
   ]
  },
  {
   "cell_type": "code",
   "execution_count": 9,
   "metadata": {},
   "outputs": [],
   "source": [
    "df_jf.dropna(axis=0, inplace=True)"
   ]
  },
  {
   "cell_type": "code",
   "execution_count": 10,
   "metadata": {},
   "outputs": [
    {
     "data": {
      "text/html": [
       "<div>\n",
       "<style scoped>\n",
       "    .dataframe tbody tr th:only-of-type {\n",
       "        vertical-align: middle;\n",
       "    }\n",
       "\n",
       "    .dataframe tbody tr th {\n",
       "        vertical-align: top;\n",
       "    }\n",
       "\n",
       "    .dataframe thead th {\n",
       "        text-align: right;\n",
       "    }\n",
       "</style>\n",
       "<table border=\"1\" class=\"dataframe\">\n",
       "  <thead>\n",
       "    <tr style=\"text-align: right;\">\n",
       "      <th></th>\n",
       "      <th>vac_title</th>\n",
       "      <th>fulltext</th>\n",
       "      <th>Seniority</th>\n",
       "    </tr>\n",
       "  </thead>\n",
       "  <tbody>\n",
       "    <tr>\n",
       "      <th>0</th>\n",
       "      <td>Praktikant IT-Entwicklung - Projekt Industrie ...</td>\n",
       "      <td>Praktikant IT-Entwicklung - Projekt Industrie ...</td>\n",
       "      <td>Junior</td>\n",
       "    </tr>\n",
       "    <tr>\n",
       "      <th>1</th>\n",
       "      <td>Assistenzärzte (m/w) für ein Ausbildungscurric...</td>\n",
       "      <td>assistenzärzte (m/w) für ein ausbildungscurric...</td>\n",
       "      <td>Medior</td>\n",
       "    </tr>\n",
       "    <tr>\n",
       "      <th>2</th>\n",
       "      <td>Koch (m/w)</td>\n",
       "      <td>Das Sylter Stadtgeflüster ist eine Genussoase ...</td>\n",
       "      <td>Medior</td>\n",
       "    </tr>\n",
       "    <tr>\n",
       "      <th>3</th>\n",
       "      <td>Fachinformatiker/in, Systemintegration</td>\n",
       "      <td>Fachinformatiker/in, Systemintegration ?% Eign...</td>\n",
       "      <td>Junior</td>\n",
       "    </tr>\n",
       "    <tr>\n",
       "      <th>4</th>\n",
       "      <td>Praktikum im Spezialtiefbau - Bauingenieurwesen</td>\n",
       "      <td>Praktikum im Spezialtiefbau - Bauingenieurwese...</td>\n",
       "      <td>Junior</td>\n",
       "    </tr>\n",
       "  </tbody>\n",
       "</table>\n",
       "</div>"
      ],
      "text/plain": [
       "                                           vac_title  \\\n",
       "0  Praktikant IT-Entwicklung - Projekt Industrie ...   \n",
       "1  Assistenzärzte (m/w) für ein Ausbildungscurric...   \n",
       "2                                         Koch (m/w)   \n",
       "3             Fachinformatiker/in, Systemintegration   \n",
       "4    Praktikum im Spezialtiefbau - Bauingenieurwesen   \n",
       "\n",
       "                                            fulltext Seniority  \n",
       "0  Praktikant IT-Entwicklung - Projekt Industrie ...    Junior  \n",
       "1  assistenzärzte (m/w) für ein ausbildungscurric...    Medior  \n",
       "2  Das Sylter Stadtgeflüster ist eine Genussoase ...    Medior  \n",
       "3  Fachinformatiker/in, Systemintegration ?% Eign...    Junior  \n",
       "4  Praktikum im Spezialtiefbau - Bauingenieurwese...    Junior  "
      ]
     },
     "execution_count": 10,
     "metadata": {},
     "output_type": "execute_result"
    }
   ],
   "source": [
    "df_jf.head()"
   ]
  },
  {
   "cell_type": "code",
   "execution_count": 11,
   "metadata": {},
   "outputs": [
    {
     "data": {
      "text/plain": [
       "(180, 3)"
      ]
     },
     "execution_count": 11,
     "metadata": {},
     "output_type": "execute_result"
    }
   ],
   "source": [
    "df_jf.shape"
   ]
  },
  {
   "cell_type": "code",
   "execution_count": null,
   "metadata": {},
   "outputs": [],
   "source": []
  },
  {
   "cell_type": "code",
   "execution_count": 12,
   "metadata": {},
   "outputs": [
    {
     "data": {
      "text/plain": [
       "'Fachinformatiker/in, Systemintegration ?% Eignung für diesen Ausbildungsplatz Eignungs-Check JETZT BEWERBEN! __________________________________________________ Die Pärchen Software und Hardware, Informationstechnologie und Telekommunikation, Betriebssysteme und Netzwerke sind Dir nicht fremd? Dann bist Du hier genau richtig! Dich begeistert die ganze Palette der Informations- und Telekommunikationstechnologie? Du verstehst, wie komplexe Systeme funktionieren und wie Hard- und Softwarekomponenten integriert werden? Dann solltest Du die Ausbildung zum/r \"Fachinformatiker/in Systemintegration\" bei uns machen Die Ausbildung beginnt am 1. September und dauert drei Jahre (Verkürzung möglich). Für die Dauer der Ausbildung stellt die Telekom Dir einen Laptop und mobiles Internet zur Verfügung. Anforderungen Schulnoten sind nicht alles was zählt. Wir sind der Meinung, dass Du uns am besten mit Deinem Talent, Deinem Engagement und Deiner Persönlichkeit überzeugen kannst. Deswegen bist Du bei uns richtig mit: * Haupt-/Realschulabschluss * Abitur * Einem vergleichbaren Schulabschluss Um bei uns richtig durchzustarten, solltest du außerdem mitbringen: * Interesse an mathematisch-technischen Aufgaben und Erfahrung mit elektronischen Medien * Spaß an Teamarbeit sowie an selbstständiger Problemlösung * Gute Englisch-Kenntnisse * Mobilität und Flexibilität Schwerpunkte Such´s Dir aus - Du hast die Wahl: Bei uns gibt es eine große Vielfalt an Bereichen, in denen Du Dich spezialisieren kannst. Weil wir Dich individuell fördern wollen. Was interessiert Dich? Wo liegen deine Fähigkeiten? * Planen, Installieren und Konfigurieren von komplexen IT-Systemen * Anwenderschulung und -präsentation * Systemintegration, Netzwerke * Service, Beratung und Betreuung, Fehleranalyse, Störungsbeseitigung * Spezifische Lösungsentwicklung durch Analyse des Marktes und der Arbeitsabläufe * Arbeitsorganisation, Projektmanagement, Qualitätssicherung Neugierig? Dann geh direkt auf den \"Jetzt bewerben\"-Button! Jetzt Bewerben!'"
      ]
     },
     "execution_count": 12,
     "metadata": {},
     "output_type": "execute_result"
    }
   ],
   "source": [
    "df_jf['fulltext'][3]"
   ]
  },
  {
   "cell_type": "code",
   "execution_count": null,
   "metadata": {},
   "outputs": [],
   "source": []
  },
  {
   "cell_type": "code",
   "execution_count": 28,
   "metadata": {},
   "outputs": [],
   "source": [
    "from gensim.parsing.preprocessing import preprocess_string, RE_TAGS, strip_punctuation, stem_text, \\\n",
    "    strip_multiple_whitespaces, strip_numeric, remove_stopwords, strip_short, strip_non_alphanum\n",
    "from sklearn.feature_extraction.text import CountVectorizer\n",
    "from sklearn.preprocessing import LabelEncoder, MaxAbsScaler\n",
    "from sklearn.decomposition import TruncatedSVD\n",
    "from nltk.stem.snowball import GermanStemmer\n",
    "from unicodedata import normalize\n",
    "\n",
    "STOPWORDS = {    \n",
    "    'such', 'suchen', 'da', 'ist', 'mit', 'de', 'und', 'mit', 'per', 'uber', 'unser',\n",
    "    'com', 'der', 'den', 'auf', 'sie', 'directhir', 'ihr', 'vom',  'wir', 'bei', 'sind',\n",
    "    'freuen', 'ihnen', 'jetzt', 'ein', 'dem', 'von', 'fur', 'aber', 'diesem', 'au',\n",
    "    'sein', 'als', 'einen', 'hat', 'dein', 'dich', 'die', 'dies', 'bi', 'etc', 'bitt',\n",
    "    'di', 'dann', 'bzw', 'dir', 'un', 'bewirb', 'beim', 'zum', 'bist', 'dass', 'zur',\n",
    "    'deinen', 'seit', 'also', 'bietet', 'bieten', 'oder', 'bis', 'uns', 'auch', 'des',\n",
    "    \n",
    "    'frau', 'herr', 'anna', 'alexandra', 'christian',\n",
    "    \n",
    "    'and', 'for', 'onlin', 'career', 'level', 'search', 'alert', 'code', 'creat', 'apply',\n",
    "    'bad', 'area', 'amp', 'are',\n",
    "    \n",
    "    'großraum', 'raum', 'regio', 'sitz', 'munchen', 'essen', 'koln', 'berlin', 'bayern',\n",
    "    'bremen', 'stuttgart',\n",
    "    \n",
    "    '60050', '2017', '2018', '2019', '10000', '60030', '089'\n",
    "}\n",
    "\n",
    "def my_remove_tags(s):\n",
    "    return RE_TAGS.sub(\" \", s)\n",
    "\n",
    "def my_remove_accents(s):\n",
    "    return normalize('NFKD', s).encode('ASCII', 'ignore')\n",
    "\n",
    "def my_strip_stopwords(s):\n",
    "    return ' '.join(x for x in s.split() if x not in STOPWORDS)\n",
    "\n",
    "stemmer = GermanStemmer()\n",
    "\n",
    "def nltk_stem(s):\n",
    "    return ' '.join([stemmer.stem(x) for x in s.split()])\n",
    "\n",
    "\n",
    "my_filters = [\n",
    "    lambda x: x.lower(), my_remove_tags, my_remove_accents, strip_punctuation, strip_non_alphanum,\n",
    "    strip_multiple_whitespaces, strip_short, my_strip_stopwords, nltk_stem\n",
    "]\n",
    "\n",
    "def my_tokenizer(s):\n",
    "    return preprocess_string(s, filters=my_filters)\n",
    "    \n",
    "vect = CountVectorizer(min_df=5, max_df=0.2, analyzer='word', tokenizer=my_tokenizer, ngram_range=(1,2),\n",
    "                       stop_words=STOPWORDS)\n",
    "\n",
    "le = LabelEncoder()\n",
    "\n",
    "X = vect.fit_transform(df['description'].tolist() + df_jf['fulltext'].tolist())\n",
    "y = le.fit_transform(df['Seniority'].tolist() + df_jf['Seniority'].tolist())\n",
    "\n",
    "scaler = MaxAbsScaler()\n",
    "X_scaled = scaler.fit_transform(X)\n",
    "\n",
    "svd = TruncatedSVD(n_components=250)\n",
    "X_lsa = svd.fit_transform(X)"
   ]
  },
  {
   "cell_type": "code",
   "execution_count": null,
   "metadata": {},
   "outputs": [],
   "source": []
  },
  {
   "cell_type": "code",
   "execution_count": 29,
   "metadata": {},
   "outputs": [
    {
     "data": {
      "text/plain": [
       "{'belastbar': 207,\n",
       " 'auftret': 152,\n",
       " 'auffassungsgab': 133,\n",
       " 'abgeschloss kaufmann': 18,\n",
       " 'ausbild vergleichbar': 162,\n",
       " 'abgeschloss studium': 19,\n",
       " 'bilanzbuchhalt': 269,\n",
       " 'buchung': 281,\n",
       " 'abstimm': 27,\n",
       " 'atak': 124,\n",
       " 'bilanzbuchhalt gesucht': 270,\n",
       " 'aufgab bilanzbuchhalt': 134,\n",
       " 'berufserfahr bereich': 219,\n",
       " 'bilanzbuchhalt unt': 271,\n",
       " 'atak robert': 125,\n",
       " 'aussichtsreich': 176,\n",
       " 'anbind': 58,\n",
       " 'bildung': 272,\n",
       " 'bearbeit': 190,\n",
       " 'abgeschloss ausbild': 16,\n",
       " 'buchhalt': 280,\n",
       " 'ausbild mehrjahr': 160,\n",
       " 'berufserfahr buchhalt': 220,\n",
       " 'aufgestellt': 147,\n",
       " 'auftrag': 150,\n",
       " 'abwickl': 31,\n",
       " 'ablag': 21,\n",
       " 'ahnlich': 44,\n",
       " 'arbeitsstil': 105,\n",
       " 'aufgab sachbearbeit': 140,\n",
       " 'branch': 274,\n",
       " 'ansprechpartn': 84,\n",
       " 'arbeitsweis hab': 110,\n",
       " 'abwechslungsreich': 29,\n",
       " 'bewert': 263,\n",
       " 'controlling': 296,\n",
       " 'ausbild berufserfahr': 157,\n",
       " '1st': 10,\n",
       " 'betrieb': 241,\n",
       " 'bring': 277,\n",
       " 'ausbild umschul': 161,\n",
       " 'buch': 279,\n",
       " 'angebot': 68,\n",
       " 'bestell': 238,\n",
       " 'berufsausbild': 218,\n",
       " 'abgeschloss berufsausbild': 17,\n",
       " 'bereich berufserfahr': 211,\n",
       " 'allgemein': 49,\n",
       " 'administration': 34,\n",
       " 'client': 291,\n",
       " 'analys': 53,\n",
       " 'beheb': 202,\n",
       " 'breit': 275,\n",
       " 'attraktiv': 127,\n",
       " 'administrativ': 35,\n",
       " 'anwend': 89,\n",
       " 'agier': 42,\n",
       " 'beschaftigt': 224,\n",
       " 'aufstiegschanc': 149,\n",
       " 'besteh': 236,\n",
       " 'application': 96,\n",
       " 'affinitat': 39,\n",
       " 'css': 297,\n",
       " 'beschaftigt weltweit': 225,\n",
       " 'aufbereit': 132,\n",
       " 'administrativ aufgab': 36,\n",
       " 'arbeitsplatz': 104,\n",
       " 'altersvorsorg': 51,\n",
       " 'ausbild fachinformat': 159,\n",
       " 'betrieb altersvorsorg': 242,\n",
       " 'aufgab werkstudent': 143,\n",
       " 'berat': 209,\n",
       " 'auendien': 130,\n",
       " 'custom': 298,\n",
       " 'berat kund': 210,\n",
       " 'custom servic': 299,\n",
       " 'arbeitsumfeld': 108,\n",
       " 'arbeitszeit': 115,\n",
       " '2nd': 13,\n",
       " 'bereit': 212,\n",
       " 'ablauf': 22,\n",
       " '2nd support': 14,\n",
       " 'abrechn': 23,\n",
       " 'aufbau': 131,\n",
       " 'besprech': 231,\n",
       " 'ausbild erst': 158,\n",
       " 'besitz': 229,\n",
       " 'aufgab junior': 136,\n",
       " 'anschlieend': 79,\n",
       " 'aktiv': 46,\n",
       " 'austausch': 177,\n",
       " 'bezug': 268,\n",
       " 'activ': 32,\n",
       " 'betriebssystem': 244,\n",
       " 'brows': 278,\n",
       " 'ausgepragt': 167,\n",
       " '1st 2nd': 11,\n",
       " 'activ directory': 33,\n",
       " 'arbeitsweis sehr': 111,\n",
       " 'anfrag': 63,\n",
       " 'berufserfahr vergleichbar': 221,\n",
       " 'aus bereich': 154,\n",
       " 'agil': 43,\n",
       " 'attraktiv vergut': 128,\n",
       " 'bank': 185,\n",
       " 'beantwort': 189,\n",
       " 'aufgab mitarbeit': 137,\n",
       " 'aufgab rollout': 139,\n",
       " 'aktuell': 47,\n",
       " 'ausland': 170,\n",
       " 'begleit': 199,\n",
       " 'ausbild wunschenswert': 163,\n",
       " 'beweg': 249,\n",
       " 'anfall': 59,\n",
       " 'ausarbeit': 155,\n",
       " 'bereitstell': 215,\n",
       " 'auswert': 178,\n",
       " 'abschluss': 24,\n",
       " 'bezahl': 264,\n",
       " 'abteil': 28,\n",
       " 'aufgab unterstutz': 141,\n",
       " 'all anfall': 48,\n",
       " 'beschreib': 227,\n",
       " 'anbiet': 57,\n",
       " 'ausgangsrechn': 166,\n",
       " 'burokaufmann': 284,\n",
       " 'betriebswirtschaft': 245,\n",
       " 'analyt': 54,\n",
       " 'betriebswirtschaft studium': 246,\n",
       " 'analyt fahig': 56,\n",
       " 'automobilbranch': 181,\n",
       " 'analyt denkvermog': 55,\n",
       " 'arbeitsweis zuverlass': 113,\n",
       " 'befristet': 196,\n",
       " 'angenehm': 71,\n",
       " 'arbeitsatmosphar': 101,\n",
       " 'aufgab verantwort': 142,\n",
       " 'arbeit team': 99,\n",
       " 'bau': 187,\n",
       " 'ausfuhr': 165,\n",
       " 'best': 233,\n",
       " 'chanc': 289,\n",
       " 'arbeitswelt': 114,\n",
       " 'best chanc': 234,\n",
       " 'audit': 129,\n",
       " 'annahm': 78,\n",
       " 'anlag': 74,\n",
       " 'absolut': 25,\n",
       " 'bekannt': 206,\n",
       " 'beginn': 198,\n",
       " 'bestand': 235,\n",
       " 'aufgabengebiet': 145,\n",
       " 'abwechslungsreich tatig': 30,\n",
       " 'consultant': 294,\n",
       " 'assistenz': 123,\n",
       " 'bewerbermanagement': 258,\n",
       " 'atmosphar': 126,\n",
       " 'applikation': 97,\n",
       " 'besond': 230,\n",
       " 'absprach': 26,\n",
       " 'besteht': 237,\n",
       " 'arbeitsumfang': 106,\n",
       " 'angebot spannend': 69,\n",
       " 'arbeitsumfang stund': 107,\n",
       " 'arbeitszeit kann': 117,\n",
       " 'ansprechpartn studiennah': 85,\n",
       " 'breit kundennetzwerk': 276,\n",
       " 'begleit passend': 200,\n",
       " 'anschlieend traumjob': 80,\n",
       " 'app': 95,\n",
       " 'basis': 186,\n",
       " '500': 15,\n",
       " 'buro': 283,\n",
       " 'arbeitsklima': 102,\n",
       " 'arbeitsweis sowi': 112,\n",
       " 'blick': 273,\n",
       " 'buroraum': 285,\n",
       " 'administrativ tatig': 37,\n",
       " 'beruf': 217,\n",
       " 'aufgabenbereich': 144,\n",
       " 'bevorzugt': 248,\n",
       " 'alt': 50,\n",
       " 'automotiv': 182,\n",
       " 'architektur': 120,\n",
       " 'cent': 288,\n",
       " 'beitrag': 205,\n",
       " 'anstell': 87,\n",
       " 'arbeit nach': 98,\n",
       " 'betragt': 239,\n",
       " 'anschluss': 81,\n",
       " 'arbeitszeit betragt': 116,\n",
       " 'anforder': 60,\n",
       " 'angesproch': 73,\n",
       " 'bereit erst': 213,\n",
       " 'angenehm arbeitsatmosphar': 72,\n",
       " 'betreu kund': 240,\n",
       " 'bereitschaft': 214,\n",
       " 'ausbau': 156,\n",
       " 'bundesweit': 282,\n",
       " 'business': 286,\n",
       " 'benefit': 208,\n",
       " 'beschaftigungsart': 226,\n",
       " 'arbeitgeb': 100,\n",
       " 'angeb': 66,\n",
       " 'bewerb job': 253,\n",
       " 'behandelt': 201,\n",
       " 'art': 121,\n",
       " 'aussagekraft': 172,\n",
       " 'aussagekraft bewerb': 173,\n",
       " 'ausbildungsplatz': 164,\n",
       " 'abitur': 20,\n",
       " 'anzeig': 90,\n",
       " 'bewerbenbewerb': 257,\n",
       " 'angeb vereinfach': 67,\n",
       " 'bearbeit bewerb': 191,\n",
       " 'ausgezeichnet': 169,\n",
       " 'bewerbungsunterlag': 261,\n",
       " 'bewerbungsunterlag unt': 262,\n",
       " 'berufsfeld': 222,\n",
       " 'agb': 40,\n",
       " 'aufgab erstell': 135,\n",
       " 'bewerb mail': 254,\n",
       " 'anstell vollzeit': 88,\n",
       " 'bewerbungsart': 259,\n",
       " 'aufruf': 148,\n",
       " 'anforder bewerb': 61,\n",
       " 'bewerbungsart mail': 260,\n",
       " 'anlag gefordert': 75,\n",
       " 'anlag lebenslauf': 76,\n",
       " 'cad': 287,\n",
       " 'ausschlielich': 175,\n",
       " 'anschreib': 82,\n",
       " 'bewerb grundkenntnis': 252,\n",
       " 'anschreib lebenslauf': 83,\n",
       " 'august': 153,\n",
       " 'beherrsch': 203,\n",
       " 'bezieh': 266,\n",
       " 'bezieh sich': 267,\n",
       " 'auftraggeb': 151,\n",
       " 'arbeitsort': 103,\n",
       " 'arbeitszeit vollzeit': 118,\n",
       " 'cnc': 292,\n",
       " 'bedi': 193,\n",
       " 'anspruchsvoll': 86,\n",
       " 'aussagefah': 171,\n",
       " 'adress': 38,\n",
       " '200': 12,\n",
       " 'baugrupp': 188,\n",
       " 'anforderungsprofil': 62,\n",
       " 'aufgab montag': 138,\n",
       " 'bewerb send': 256,\n",
       " 'anzeig standort': 93,\n",
       " 'bewerb merk': 255,\n",
       " 'comput': 293,\n",
       " 'aufgeschloss': 146,\n",
       " 'begeist': 197,\n",
       " 'consulting': 295,\n",
       " 'behinder': 204,\n",
       " 'ausgeschrieb': 168,\n",
       " 'betriebsklima': 243,\n",
       " 'bett': 247,\n",
       " 'ambulant': 52,\n",
       " 'berucksichtigt': 216,\n",
       " 'aussagekraft bewerbungsunterlag': 174,\n",
       " 'anzeigennumm': 94,\n",
       " 'angab merklist': 65,\n",
       " 'anzeig anzeig': 91,\n",
       " 'anzeig folg': 92,\n",
       " 'angab gehaltsvorstell': 64,\n",
       " 'bewerb erweitert': 251,\n",
       " 'bedarf': 192,\n",
       " 'angegeb': 70,\n",
       " 'besetz': 228,\n",
       " 'beschaft': 223,\n",
       " 'arzt': 122,\n",
       " 'ahnlich job': 45,\n",
       " 'auszug': 179,\n",
       " 'azubi': 183,\n",
       " 'auszug stellenbeschreib': 180,\n",
       " 'azubi ausbildungsplatz': 184,\n",
       " 'bess': 232,\n",
       " 'arbeitszeitmodell': 119,\n",
       " '100': 9,\n",
       " 'chancengleich': 290,\n",
       " 'bewerb bewerb': 250,\n",
       " 'arbeitsverhaltnis': 109,\n",
       " 'agentur': 41,\n",
       " 'bezahl nach': 265,\n",
       " 'bedurfnis': 194,\n",
       " 'anlagenbau': 77,\n",
       " 'befindet': 195}"
      ]
     },
     "execution_count": 29,
     "metadata": {},
     "output_type": "execute_result"
    }
   ],
   "source": [
    "#vect.stop_words_\n",
    "\n",
    "{x:y for x,y in vect.vocabulary_.items() if y > 8 and y < 300}"
   ]
  },
  {
   "cell_type": "code",
   "execution_count": null,
   "metadata": {},
   "outputs": [],
   "source": []
  },
  {
   "cell_type": "code",
   "execution_count": 30,
   "metadata": {},
   "outputs": [
    {
     "data": {
      "text/plain": [
       "(320, 1653)"
      ]
     },
     "execution_count": 30,
     "metadata": {},
     "output_type": "execute_result"
    }
   ],
   "source": [
    "X.shape"
   ]
  },
  {
   "cell_type": "code",
   "execution_count": 31,
   "metadata": {},
   "outputs": [
    {
     "data": {
      "text/plain": [
       "(320, 250)"
      ]
     },
     "execution_count": 31,
     "metadata": {},
     "output_type": "execute_result"
    }
   ],
   "source": [
    "X_lsa.shape"
   ]
  },
  {
   "cell_type": "code",
   "execution_count": null,
   "metadata": {},
   "outputs": [],
   "source": []
  },
  {
   "cell_type": "code",
   "execution_count": 32,
   "metadata": {},
   "outputs": [
    {
     "data": {
      "image/png": "[encoded data removed]",
      "text/plain": [
       "<Figure size 432x288 with 1 Axes>"
      ]
     },
     "metadata": {
      "needs_background": "light"
     },
     "output_type": "display_data"
    }
   ],
   "source": [
    "import seaborn as sns\n",
    "%matplotlib inline\n",
    "\n",
    "ax = sns.countplot(x=(df['Seniority'].tolist() + df_jf['Seniority'].tolist()))"
   ]
  },
  {
   "cell_type": "code",
   "execution_count": null,
   "metadata": {},
   "outputs": [],
   "source": []
  },
  {
   "cell_type": "code",
   "execution_count": 33,
   "metadata": {},
   "outputs": [
    {
     "name": "stdout",
     "output_type": "stream",
     "text": [
      "           MultinomialNB Accuracy: 0.54 (+/- 0.06) F1: 0.56 (+/- 0.07) Log loss: -4.52 (+/- 0.62)\n",
      "      LogisticRegression Accuracy: 0.57 (+/- 0.04) F1: 0.54 (+/- 0.07) Log loss: -1.24 (+/- 0.21)\n",
      "      LogisticRegression Accuracy: 0.57 (+/- 0.07) F1: 0.56 (+/- 0.05) Log loss: -1.13 (+/- 0.04)\n",
      "                     SVC Accuracy: 0.57 (+/- 0.05) F1: 0.49 (+/- 0.05) Log loss: -0.93 (+/- 0.07)\n",
      "  RandomForestClassifier Accuracy: 0.54 (+/- 0.04) F1: 0.51 (+/- 0.06) Log loss: -0.90 (+/- 0.02)\n"
     ]
    }
   ],
   "source": [
    "from sklearn.model_selection import cross_val_score, KFold, StratifiedKFold\n",
    "from sklearn.ensemble import RandomForestClassifier\n",
    "from sklearn.neighbors import KNeighborsClassifier\n",
    "from sklearn.linear_model import LogisticRegression\n",
    "from sklearn.naive_bayes import MultinomialNB\n",
    "from sklearn.svm import SVC, LinearSVC\n",
    "\n",
    "classifiers = [\n",
    "    MultinomialNB(),\n",
    "    LogisticRegression(solver='lbfgs', multi_class='multinomial'),\n",
    "    LogisticRegression(solver='lbfgs', multi_class='multinomial', class_weight='balanced'),\n",
    "    #LinearSVC(),\n",
    "    SVC(kernel='linear', probability=True),\n",
    "    #KNeighborsClassifier(),\n",
    "    RandomForestClassifier(n_estimators=25, min_samples_split=10)\n",
    "]\n",
    "\n",
    "for clf in classifiers:\n",
    "    accs = cross_val_score(clf, X, y, cv=StratifiedKFold(n_splits=5, shuffle=True), scoring='accuracy')\n",
    "    f1s = cross_val_score(clf, X, y, cv=StratifiedKFold(n_splits=5, shuffle=True), scoring='f1_macro')\n",
    "    lls = cross_val_score(clf, X, y, cv=StratifiedKFold(n_splits=5, shuffle=True), scoring='neg_log_loss')\n",
    "\n",
    "    print(\"{:>24} Accuracy: {:.2f} (+/- {:.2f}) F1: {:.2f} (+/- {:.2f}) Log loss: {:.2f} (+/- {:.2f})\" \\\n",
    "          .format(clf.__class__.__name__, accs.mean(), accs.std(), f1s.mean(), f1s.std(), lls.mean(), lls.std()))"
   ]
  },
  {
   "cell_type": "code",
   "execution_count": null,
   "metadata": {},
   "outputs": [],
   "source": []
  },
  {
   "cell_type": "code",
   "execution_count": 34,
   "metadata": {},
   "outputs": [
    {
     "name": "stdout",
     "output_type": "stream",
     "text": [
      "      LogisticRegression Accuracy: 0.51 (+/- 0.07) F1: 0.52 (+/- 0.05) Log loss: -1.48 (+/- 0.16)\n",
      "      LogisticRegression Accuracy: 0.49 (+/- 0.03) F1: 0.50 (+/- 0.06) Log loss: -1.57 (+/- 0.15)\n",
      "                     SVC Accuracy: 0.48 (+/- 0.06) F1: 0.44 (+/- 0.05) Log loss: -0.98 (+/- 0.02)\n"
     ]
    }
   ],
   "source": [
    "##\n",
    "## Compare classifiers again, using LSA transformed input\n",
    "##\n",
    "\n",
    "classifiers = [\n",
    "    LogisticRegression(solver='lbfgs', multi_class='multinomial'),\n",
    "    LogisticRegression(solver='lbfgs', multi_class='multinomial', class_weight='balanced'),\n",
    "    SVC(kernel='linear', probability=True),\n",
    "]\n",
    "\n",
    "for clf in classifiers:\n",
    "    accs = cross_val_score(clf, X_lsa, y, cv=StratifiedKFold(n_splits=5, shuffle=True), scoring='accuracy')\n",
    "    f1s = cross_val_score(clf, X_lsa, y, cv=StratifiedKFold(n_splits=5, shuffle=True), scoring='f1_macro')\n",
    "    lls = cross_val_score(clf, X_lsa, y, cv=StratifiedKFold(n_splits=5, shuffle=True), scoring='neg_log_loss')\n",
    "\n",
    "    print(\"{:>24} Accuracy: {:.2f} (+/- {:.2f}) F1: {:.2f} (+/- {:.2f}) Log loss: {:.2f} (+/- {:.2f})\" \\\n",
    "          .format(clf.__class__.__name__, accs.mean(), accs.std(), f1s.mean(), f1s.std(), lls.mean(), lls.std()))"
   ]
  },
  {
   "cell_type": "code",
   "execution_count": null,
   "metadata": {},
   "outputs": [],
   "source": []
  },
  {
   "cell_type": "code",
   "execution_count": null,
   "metadata": {},
   "outputs": [],
   "source": []
  },
  {
   "cell_type": "code",
   "execution_count": 100,
   "metadata": {},
   "outputs": [
    {
     "data": {
      "text/plain": [
       "LogisticRegression(C=1.0, class_weight='balanced', dual=False,\n",
       "          fit_intercept=True, intercept_scaling=1, max_iter=100,\n",
       "          multi_class='multinomial', n_jobs=None, penalty='l2',\n",
       "          random_state=None, solver='lbfgs', tol=0.0001, verbose=0,\n",
       "          warm_start=False)"
      ]
     },
     "execution_count": 100,
     "metadata": {},
     "output_type": "execute_result"
    }
   ],
   "source": [
    "from sklearn.model_selection import train_test_split\n",
    "\n",
    "Xtr, Xte, ytr, yte = train_test_split(X, y, test_size=0.2, stratify=y)\n",
    "\n",
    "#clf = MultinomialNB()\n",
    "clf = LogisticRegression(solver='lbfgs', multi_class='multinomial', class_weight='balanced')\n",
    "#clf = LinearSVC()\n",
    "clf.fit(Xtr, ytr)"
   ]
  },
  {
   "cell_type": "code",
   "execution_count": null,
   "metadata": {},
   "outputs": [],
   "source": []
  },
  {
   "cell_type": "code",
   "execution_count": 36,
   "metadata": {},
   "outputs": [
    {
     "data": {
      "text/plain": [
       "(256, 1653)"
      ]
     },
     "execution_count": 36,
     "metadata": {},
     "output_type": "execute_result"
    }
   ],
   "source": [
    "Xtr.shape"
   ]
  },
  {
   "cell_type": "code",
   "execution_count": 37,
   "metadata": {},
   "outputs": [
    {
     "data": {
      "text/plain": [
       "(64, 1653)"
      ]
     },
     "execution_count": 37,
     "metadata": {},
     "output_type": "execute_result"
    }
   ],
   "source": [
    "Xte.shape"
   ]
  },
  {
   "cell_type": "code",
   "execution_count": null,
   "metadata": {},
   "outputs": [],
   "source": []
  },
  {
   "cell_type": "code",
   "execution_count": 101,
   "metadata": {},
   "outputs": [
    {
     "name": "stdout",
     "output_type": "stream",
     "text": [
      "              precision    recall  f1-score   support\n",
      "\n",
      "      Junior       0.69      0.76      0.72        29\n",
      "      Medior       0.68      0.62      0.65        24\n",
      "      Senior       0.60      0.55      0.57        11\n",
      "\n",
      "   micro avg       0.67      0.67      0.67        64\n",
      "   macro avg       0.66      0.64      0.65        64\n",
      "weighted avg       0.67      0.67      0.67        64\n",
      "\n"
     ]
    }
   ],
   "source": [
    "from sklearn.metrics import classification_report\n",
    "\n",
    "ypred = clf.predict(Xte)\n",
    "\n",
    "print(classification_report(yte, ypred, target_names=le.classes_))"
   ]
  },
  {
   "cell_type": "code",
   "execution_count": null,
   "metadata": {},
   "outputs": [],
   "source": []
  },
  {
   "cell_type": "code",
   "execution_count": 75,
   "metadata": {},
   "outputs": [
    {
     "data": {
      "text/plain": [
       "array(['Junior', 'Medior', 'Senior'], dtype='<U6')"
      ]
     },
     "execution_count": 75,
     "metadata": {},
     "output_type": "execute_result"
    }
   ],
   "source": [
    "le.classes_"
   ]
  },
  {
   "cell_type": "code",
   "execution_count": null,
   "metadata": {},
   "outputs": [],
   "source": []
  },
  {
   "cell_type": "code",
   "execution_count": 102,
   "metadata": {},
   "outputs": [
    {
     "data": {
      "image/png": "[encoded data removed]",
      "text/plain": [
       "<Figure size 432x288 with 1 Axes>"
      ]
     },
     "metadata": {
      "needs_background": "light"
     },
     "output_type": "display_data"
    }
   ],
   "source": [
    "from mlxtend.evaluate import confusion_matrix\n",
    "from mlxtend.plotting import plot_confusion_matrix\n",
    "\n",
    "fig, ax = plot_confusion_matrix(confusion_matrix(yte, ypred))"
   ]
  },
  {
   "cell_type": "code",
   "execution_count": null,
   "metadata": {},
   "outputs": [],
   "source": []
  },
  {
   "cell_type": "code",
   "execution_count": 103,
   "metadata": {},
   "outputs": [
    {
     "name": "stdout",
     "output_type": "stream",
     "text": [
      "Junior: praktikum, erst erfahr, umfeld, schriftlich, rollout technik, kundenbetreu, fachinformat, ansprechpartn, gerat, elektron, speis, pfleg, student, support, recruiting, einarbeit, spa, junior, voraussetz, erst berufserfahr\n",
      "\n",
      "Medior: haus, person betreu, renommiert, kundenberat, klein, web, client, lehr, produkt, stuttgart, nachstmog, administration, assistenz, wunschenswert, technisch, auendien, projekt, programm, mach, kreditorenbuchhalt\n",
      "\n",
      "Senior: position, programmier, technik, kund unternehm, link, wunschenswert hab, softwar, firma, mehrjahr erfahr, anbind, develop, einschlag, zentrum, data, bau, reporting, art, mehr, mehrjahr, projektleit\n",
      "\n"
     ]
    }
   ],
   "source": [
    "import numpy as np\n",
    "\n",
    "feature_names = vect.get_feature_names()\n",
    "for i, class_label in enumerate(le.classes_):\n",
    "    top10 = np.argsort(clf.coef_[i])[-20:]\n",
    "    print(\"%s: %s\" % (class_label, \", \".join(feature_names[j] for j in top10)))\n",
    "    print()"
   ]
  },
  {
   "cell_type": "code",
   "execution_count": null,
   "metadata": {},
   "outputs": [],
   "source": []
  },
  {
   "cell_type": "code",
   "execution_count": null,
   "metadata": {},
   "outputs": [],
   "source": []
  }
 ],
 "metadata": {
  "kernelspec": {
   "display_name": "Python 3",
   "language": "python",
   "name": "python3"
  },
  "language_info": {
   "codemirror_mode": {
    "name": "ipython",
    "version": 3
   },
   "file_extension": ".py",
   "mimetype": "text/x-python",
   "name": "python",
   "nbconvert_exporter": "python",
   "pygments_lexer": "ipython3",
   "version": "3.7.2"
  }
 },
 "nbformat": 4,
 "nbformat_minor": 2
}
