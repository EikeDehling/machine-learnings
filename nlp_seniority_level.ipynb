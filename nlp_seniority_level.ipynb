{
 "cells": [
  {
   "cell_type": "code",
   "execution_count": 205,
   "metadata": {},
   "outputs": [],
   "source": [
    "import pandas as pd\n",
    "\n",
    "df = pd.read_csv('data/seniority-level.csv')"
   ]
  },
  {
   "cell_type": "code",
   "execution_count": 206,
   "metadata": {},
   "outputs": [
    {
     "data": {
      "text/html": [
       "<div>\n",
       "<style scoped>\n",
       "    .dataframe tbody tr th:only-of-type {\n",
       "        vertical-align: middle;\n",
       "    }\n",
       "\n",
       "    .dataframe tbody tr th {\n",
       "        vertical-align: top;\n",
       "    }\n",
       "\n",
       "    .dataframe thead th {\n",
       "        text-align: right;\n",
       "    }\n",
       "</style>\n",
       "<table border=\"1\" class=\"dataframe\">\n",
       "  <thead>\n",
       "    <tr style=\"text-align: right;\">\n",
       "      <th></th>\n",
       "      <th>jobtitle</th>\n",
       "      <th>link</th>\n",
       "      <th>summary</th>\n",
       "      <th>description</th>\n",
       "      <th>Seniority</th>\n",
       "    </tr>\n",
       "  </thead>\n",
       "  <tbody>\n",
       "    <tr>\n",
       "      <th>0</th>\n",
       "      <td>Einkäufer (w/m/d)</td>\n",
       "      <td>https://www.roberthalf.de/job/munchen/einkaufe...</td>\n",
       "      <td>Einkäufer (w/m/d) gesucht - Für unseren Kunden...</td>\n",
       "      <td>&lt;div class=\"rh-job-page__job-info-text\"&gt;&lt;p&gt;&lt;st...</td>\n",
       "      <td>Medior</td>\n",
       "    </tr>\n",
       "    <tr>\n",
       "      <th>1</th>\n",
       "      <td>Bilanzbuchhalter (w/m/d)</td>\n",
       "      <td>https://www.roberthalf.de/job/essen/bilanzbuch...</td>\n",
       "      <td>Bilanzbuchhalter (w/m/d) gesucht - Für unseren...</td>\n",
       "      <td>&lt;div class=\"rh-job-page__job-info-text\"&gt;&lt;p&gt;&lt;st...</td>\n",
       "      <td>Senior</td>\n",
       "    </tr>\n",
       "    <tr>\n",
       "      <th>2</th>\n",
       "      <td>Bilanzbuchhalter (w/m/d)</td>\n",
       "      <td>https://www.roberthalf.de/job/duisburg/bilanzb...</td>\n",
       "      <td>Bilanzbuchhalter (w/m/d) gesucht - Für unseren...</td>\n",
       "      <td>&lt;div class=\"rh-job-page__job-info-text\"&gt;&lt;p&gt;&lt;st...</td>\n",
       "      <td>Senior</td>\n",
       "    </tr>\n",
       "    <tr>\n",
       "      <th>3</th>\n",
       "      <td>Finanzbuchhalter (w/m/d)</td>\n",
       "      <td>https://www.roberthalf.de/job/unna/finanzbuchh...</td>\n",
       "      <td>Finanzbuchhalter (w/m/d) gesucht - Für unseren...</td>\n",
       "      <td>&lt;div class=\"rh-job-page__job-info-text\"&gt;&lt;p&gt;&lt;st...</td>\n",
       "      <td>Medior</td>\n",
       "    </tr>\n",
       "    <tr>\n",
       "      <th>4</th>\n",
       "      <td>Sachbearbeiter Logistik (w/m/d)</td>\n",
       "      <td>https://www.roberthalf.de/job/worms/sachbearbe...</td>\n",
       "      <td>Sachbearbeiter Logistik (w/m/d) gesucht - Für ...</td>\n",
       "      <td>&lt;div class=\"rh-job-page__job-info-text\"&gt;&lt;p&gt;&lt;st...</td>\n",
       "      <td>Junior</td>\n",
       "    </tr>\n",
       "  </tbody>\n",
       "</table>\n",
       "</div>"
      ],
      "text/plain": [
       "                          jobtitle  \\\n",
       "0                Einkäufer (w/m/d)   \n",
       "1         Bilanzbuchhalter (w/m/d)   \n",
       "2         Bilanzbuchhalter (w/m/d)   \n",
       "3         Finanzbuchhalter (w/m/d)   \n",
       "4  Sachbearbeiter Logistik (w/m/d)   \n",
       "\n",
       "                                                link  \\\n",
       "0  https://www.roberthalf.de/job/munchen/einkaufe...   \n",
       "1  https://www.roberthalf.de/job/essen/bilanzbuch...   \n",
       "2  https://www.roberthalf.de/job/duisburg/bilanzb...   \n",
       "3  https://www.roberthalf.de/job/unna/finanzbuchh...   \n",
       "4  https://www.roberthalf.de/job/worms/sachbearbe...   \n",
       "\n",
       "                                             summary  \\\n",
       "0  Einkäufer (w/m/d) gesucht - Für unseren Kunden...   \n",
       "1  Bilanzbuchhalter (w/m/d) gesucht - Für unseren...   \n",
       "2  Bilanzbuchhalter (w/m/d) gesucht - Für unseren...   \n",
       "3  Finanzbuchhalter (w/m/d) gesucht - Für unseren...   \n",
       "4  Sachbearbeiter Logistik (w/m/d) gesucht - Für ...   \n",
       "\n",
       "                                         description Seniority  \n",
       "0  <div class=\"rh-job-page__job-info-text\"><p><st...    Medior  \n",
       "1  <div class=\"rh-job-page__job-info-text\"><p><st...    Senior  \n",
       "2  <div class=\"rh-job-page__job-info-text\"><p><st...    Senior  \n",
       "3  <div class=\"rh-job-page__job-info-text\"><p><st...    Medior  \n",
       "4  <div class=\"rh-job-page__job-info-text\"><p><st...    Junior  "
      ]
     },
     "execution_count": 206,
     "metadata": {},
     "output_type": "execute_result"
    }
   ],
   "source": [
    "df.head()"
   ]
  },
  {
   "cell_type": "code",
   "execution_count": null,
   "metadata": {},
   "outputs": [],
   "source": []
  },
  {
   "cell_type": "code",
   "execution_count": 207,
   "metadata": {},
   "outputs": [],
   "source": [
    "df.dropna(axis=0, inplace=True)"
   ]
  },
  {
   "cell_type": "code",
   "execution_count": null,
   "metadata": {},
   "outputs": [],
   "source": []
  },
  {
   "cell_type": "code",
   "execution_count": 262,
   "metadata": {},
   "outputs": [],
   "source": [
    "from gensim.parsing.preprocessing import preprocess_string, RE_TAGS, strip_punctuation, \\\n",
    "    strip_multiple_whitespaces, strip_numeric, remove_stopwords, strip_short, stem_text\n",
    "from sklearn.feature_extraction.text import CountVectorizer\n",
    "from sklearn.preprocessing import LabelEncoder\n",
    "\n",
    "\n",
    "def my_remove_tags(s):\n",
    "    return RE_TAGS.sub(\" \", s)\n",
    "\n",
    "my_filters = [\n",
    "    lambda x: x.lower(), my_remove_tags, strip_punctuation,\n",
    "    strip_multiple_whitespaces, strip_numeric,\n",
    "    remove_stopwords, strip_short, stem_text\n",
    "]\n",
    "\n",
    "def my_tokenizer(s):\n",
    "    return preprocess_string(s, my_filters)\n",
    "    \n",
    "vect = CountVectorizer(min_df=6, max_df=0.33, strip_accents='unicode', analyzer='word',\n",
    "                       tokenizer=my_tokenizer, ngram_range=(1,2))\n",
    "\n",
    "le = LabelEncoder()\n",
    "\n",
    "X = vect.fit_transform(df['description'].values)\n",
    "y = le.fit_transform(df['Seniority'].values)"
   ]
  },
  {
   "cell_type": "code",
   "execution_count": null,
   "metadata": {},
   "outputs": [],
   "source": []
  },
  {
   "cell_type": "code",
   "execution_count": 263,
   "metadata": {},
   "outputs": [
    {
     "data": {
      "image/png": "[encoded data removed]",
      "text/plain": [
       "<Figure size 432x288 with 1 Axes>"
      ]
     },
     "metadata": {
      "needs_background": "light"
     },
     "output_type": "display_data"
    }
   ],
   "source": [
    "import seaborn as sns\n",
    "%matplotlib inline\n",
    "\n",
    "ax = sns.countplot(x=df['Seniority'])"
   ]
  },
  {
   "cell_type": "code",
   "execution_count": 264,
   "metadata": {},
   "outputs": [
    {
     "data": {
      "text/plain": [
       "(140, 647)"
      ]
     },
     "execution_count": 264,
     "metadata": {},
     "output_type": "execute_result"
    }
   ],
   "source": [
    "X.shape"
   ]
  },
  {
   "cell_type": "code",
   "execution_count": null,
   "metadata": {},
   "outputs": [],
   "source": []
  },
  {
   "cell_type": "code",
   "execution_count": 266,
   "metadata": {},
   "outputs": [
    {
     "name": "stdout",
     "output_type": "stream",
     "text": [
      "Accuracy: 0.6407 (+/- 0.1064)\n",
      "F1: 0.6135 (+/- 0.0966)\n"
     ]
    }
   ],
   "source": [
    "from sklearn.model_selection import cross_val_score, KFold, StratifiedKFold\n",
    "from sklearn.naive_bayes import MultinomialNB\n",
    "\n",
    "scores = cross_val_score(MultinomialNB(), X, y, cv=StratifiedKFold(n_splits=5, shuffle=True), scoring='accuracy')\n",
    "print(\"Accuracy: {:.4f} (+/- {:.4f})\".format(scores.mean(), scores.std()))\n",
    "\n",
    "scores = cross_val_score(MultinomialNB(), X, y, cv=StratifiedKFold(n_splits=5, shuffle=True), scoring='f1_macro')\n",
    "print(\"F1: {:.4f} (+/- {:.4f})\".format(scores.mean(), scores.std()))"
   ]
  },
  {
   "cell_type": "code",
   "execution_count": null,
   "metadata": {},
   "outputs": [],
   "source": []
  },
  {
   "cell_type": "code",
   "execution_count": 283,
   "metadata": {},
   "outputs": [
    {
     "data": {
      "text/plain": [
       "MultinomialNB(alpha=1.0, class_prior=None, fit_prior=True)"
      ]
     },
     "execution_count": 283,
     "metadata": {},
     "output_type": "execute_result"
    }
   ],
   "source": [
    "from sklearn.model_selection import train_test_split\n",
    "\n",
    "Xtr, Xte, ytr, yte = train_test_split(X, y, test_size=0.2, stratify=y)\n",
    "\n",
    "clf = MultinomialNB()\n",
    "clf.fit(Xtr, ytr)"
   ]
  },
  {
   "cell_type": "code",
   "execution_count": null,
   "metadata": {},
   "outputs": [],
   "source": []
  },
  {
   "cell_type": "code",
   "execution_count": 284,
   "metadata": {},
   "outputs": [
    {
     "name": "stdout",
     "output_type": "stream",
     "text": [
      "              precision    recall  f1-score   support\n",
      "\n",
      "      Junior       0.89      0.57      0.70        14\n",
      "      Medior       0.60      0.90      0.72        10\n",
      "      Senior       0.75      0.75      0.75         4\n",
      "\n",
      "   micro avg       0.71      0.71      0.71        28\n",
      "   macro avg       0.75      0.74      0.72        28\n",
      "weighted avg       0.77      0.71      0.71        28\n",
      "\n"
     ]
    }
   ],
   "source": [
    "from sklearn.metrics import classification_report\n",
    "\n",
    "ypred = clf.predict(Xte)\n",
    "\n",
    "print(classification_report(yte, ypred, target_names=le.classes_))"
   ]
  },
  {
   "cell_type": "code",
   "execution_count": null,
   "metadata": {},
   "outputs": [],
   "source": []
  },
  {
   "cell_type": "code",
   "execution_count": 285,
   "metadata": {},
   "outputs": [
    {
     "data": {
      "text/plain": [
       "array(['Junior', 'Medior', 'Senior'], dtype=object)"
      ]
     },
     "execution_count": 285,
     "metadata": {},
     "output_type": "execute_result"
    }
   ],
   "source": [
    "le.classes_"
   ]
  },
  {
   "cell_type": "code",
   "execution_count": 286,
   "metadata": {},
   "outputs": [
    {
     "data": {
      "image/png": "[encoded data removed]",
      "text/plain": [
       "<Figure size 432x288 with 1 Axes>"
      ]
     },
     "metadata": {
      "needs_background": "light"
     },
     "output_type": "display_data"
    }
   ],
   "source": [
    "from mlxtend.evaluate import confusion_matrix\n",
    "from mlxtend.plotting import plot_confusion_matrix\n",
    "\n",
    "fig, ax = plot_confusion_matrix(confusion_matrix(yte, ypred))"
   ]
  },
  {
   "cell_type": "code",
   "execution_count": null,
   "metadata": {},
   "outputs": [],
   "source": []
  },
  {
   "cell_type": "code",
   "execution_count": null,
   "metadata": {},
   "outputs": [],
   "source": []
  },
  {
   "cell_type": "code",
   "execution_count": 290,
   "metadata": {},
   "outputs": [
    {
     "name": "stdout",
     "output_type": "stream",
     "text": [
      "Junior: technik, erstellung, von vorteil, erfolgreich, einer, rollout, umgang, umgang mit, vorteil, ist, bei der, dem, au, einem, support, mitarbeit, dein, sachbearbeit, auf, erst\n",
      "\n",
      "Medior: wunschenswert, deutsch, bietet, sicher, zum, profil erfolgreich, bearbeitung, umgang mit, sehr, erfolgreich abgeschlossen, sehr gute, al sachbearbeit, umgang, erfolgreich, window, administr, bei der, support, sachbearbeit, mitarbeit\n",
      "\n",
      "Senior: account, finanz, gute englischkenntniss, posit handelt, buchhaltung, sehr, zum, sehr gute, auf, al bilanzbuchhalt, mehrjahrig, posit, nach hgb, mitarbeit, hgb, bei der, nach, control, erstellung, bilanzbuchhalt\n",
      "\n"
     ]
    }
   ],
   "source": [
    "import numpy as np\n",
    "\n",
    "feature_names = vect.get_feature_names()\n",
    "for i, class_label in enumerate(le.classes_):\n",
    "    top10 = np.argsort(clf.coef_[i])[-20:]\n",
    "    print(\"%s: %s\" % (class_label, \", \".join(feature_names[j] for j in top10)))\n",
    "    print()"
   ]
  },
  {
   "cell_type": "code",
   "execution_count": null,
   "metadata": {},
   "outputs": [],
   "source": []
  },
  {
   "cell_type": "code",
   "execution_count": null,
   "metadata": {},
   "outputs": [],
   "source": []
  }
 ],
 "metadata": {
  "kernelspec": {
   "display_name": "Python 3",
   "language": "python",
   "name": "python3"
  },
  "language_info": {
   "codemirror_mode": {
    "name": "ipython",
    "version": 3
   },
   "file_extension": ".py",
   "mimetype": "text/x-python",
   "name": "python",
   "nbconvert_exporter": "python",
   "pygments_lexer": "ipython3",
   "version": "3.7.2"
  }
 },
 "nbformat": 4,
 "nbformat_minor": 2
}
