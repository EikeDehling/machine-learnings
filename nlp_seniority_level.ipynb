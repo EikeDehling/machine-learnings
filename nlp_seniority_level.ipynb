{
 "cells": [
  {
   "cell_type": "code",
   "execution_count": 17,
   "metadata": {},
   "outputs": [],
   "source": [
    "import pandas as pd\n",
    "\n",
    "df = pd.read_csv('data/seniority-level.csv')"
   ]
  },
  {
   "cell_type": "code",
   "execution_count": 18,
   "metadata": {},
   "outputs": [],
   "source": [
    "df.dropna(axis=0, inplace=True)"
   ]
  },
  {
   "cell_type": "code",
   "execution_count": 19,
   "metadata": {},
   "outputs": [
    {
     "data": {
      "text/html": [
       "<div>\n",
       "<style scoped>\n",
       "    .dataframe tbody tr th:only-of-type {\n",
       "        vertical-align: middle;\n",
       "    }\n",
       "\n",
       "    .dataframe tbody tr th {\n",
       "        vertical-align: top;\n",
       "    }\n",
       "\n",
       "    .dataframe thead th {\n",
       "        text-align: right;\n",
       "    }\n",
       "</style>\n",
       "<table border=\"1\" class=\"dataframe\">\n",
       "  <thead>\n",
       "    <tr style=\"text-align: right;\">\n",
       "      <th></th>\n",
       "      <th>jobtitle</th>\n",
       "      <th>link</th>\n",
       "      <th>summary</th>\n",
       "      <th>description</th>\n",
       "      <th>Seniority</th>\n",
       "    </tr>\n",
       "  </thead>\n",
       "  <tbody>\n",
       "    <tr>\n",
       "      <th>0</th>\n",
       "      <td>Einkäufer (w/m/d)</td>\n",
       "      <td>https://www.roberthalf.de/job/munchen/einkaufe...</td>\n",
       "      <td>Einkäufer (w/m/d) gesucht - Für unseren Kunden...</td>\n",
       "      <td>&lt;div class=\"rh-job-page__job-info-text\"&gt;&lt;p&gt;&lt;st...</td>\n",
       "      <td>Medior</td>\n",
       "    </tr>\n",
       "    <tr>\n",
       "      <th>1</th>\n",
       "      <td>Bilanzbuchhalter (w/m/d)</td>\n",
       "      <td>https://www.roberthalf.de/job/essen/bilanzbuch...</td>\n",
       "      <td>Bilanzbuchhalter (w/m/d) gesucht - Für unseren...</td>\n",
       "      <td>&lt;div class=\"rh-job-page__job-info-text\"&gt;&lt;p&gt;&lt;st...</td>\n",
       "      <td>Senior</td>\n",
       "    </tr>\n",
       "    <tr>\n",
       "      <th>2</th>\n",
       "      <td>Bilanzbuchhalter (w/m/d)</td>\n",
       "      <td>https://www.roberthalf.de/job/duisburg/bilanzb...</td>\n",
       "      <td>Bilanzbuchhalter (w/m/d) gesucht - Für unseren...</td>\n",
       "      <td>&lt;div class=\"rh-job-page__job-info-text\"&gt;&lt;p&gt;&lt;st...</td>\n",
       "      <td>Senior</td>\n",
       "    </tr>\n",
       "    <tr>\n",
       "      <th>3</th>\n",
       "      <td>Finanzbuchhalter (w/m/d)</td>\n",
       "      <td>https://www.roberthalf.de/job/unna/finanzbuchh...</td>\n",
       "      <td>Finanzbuchhalter (w/m/d) gesucht - Für unseren...</td>\n",
       "      <td>&lt;div class=\"rh-job-page__job-info-text\"&gt;&lt;p&gt;&lt;st...</td>\n",
       "      <td>Medior</td>\n",
       "    </tr>\n",
       "    <tr>\n",
       "      <th>4</th>\n",
       "      <td>Sachbearbeiter Logistik (w/m/d)</td>\n",
       "      <td>https://www.roberthalf.de/job/worms/sachbearbe...</td>\n",
       "      <td>Sachbearbeiter Logistik (w/m/d) gesucht - Für ...</td>\n",
       "      <td>&lt;div class=\"rh-job-page__job-info-text\"&gt;&lt;p&gt;&lt;st...</td>\n",
       "      <td>Junior</td>\n",
       "    </tr>\n",
       "  </tbody>\n",
       "</table>\n",
       "</div>"
      ],
      "text/plain": [
       "                          jobtitle  \\\n",
       "0                Einkäufer (w/m/d)   \n",
       "1         Bilanzbuchhalter (w/m/d)   \n",
       "2         Bilanzbuchhalter (w/m/d)   \n",
       "3         Finanzbuchhalter (w/m/d)   \n",
       "4  Sachbearbeiter Logistik (w/m/d)   \n",
       "\n",
       "                                                link  \\\n",
       "0  https://www.roberthalf.de/job/munchen/einkaufe...   \n",
       "1  https://www.roberthalf.de/job/essen/bilanzbuch...   \n",
       "2  https://www.roberthalf.de/job/duisburg/bilanzb...   \n",
       "3  https://www.roberthalf.de/job/unna/finanzbuchh...   \n",
       "4  https://www.roberthalf.de/job/worms/sachbearbe...   \n",
       "\n",
       "                                             summary  \\\n",
       "0  Einkäufer (w/m/d) gesucht - Für unseren Kunden...   \n",
       "1  Bilanzbuchhalter (w/m/d) gesucht - Für unseren...   \n",
       "2  Bilanzbuchhalter (w/m/d) gesucht - Für unseren...   \n",
       "3  Finanzbuchhalter (w/m/d) gesucht - Für unseren...   \n",
       "4  Sachbearbeiter Logistik (w/m/d) gesucht - Für ...   \n",
       "\n",
       "                                         description Seniority  \n",
       "0  <div class=\"rh-job-page__job-info-text\"><p><st...    Medior  \n",
       "1  <div class=\"rh-job-page__job-info-text\"><p><st...    Senior  \n",
       "2  <div class=\"rh-job-page__job-info-text\"><p><st...    Senior  \n",
       "3  <div class=\"rh-job-page__job-info-text\"><p><st...    Medior  \n",
       "4  <div class=\"rh-job-page__job-info-text\"><p><st...    Junior  "
      ]
     },
     "execution_count": 19,
     "metadata": {},
     "output_type": "execute_result"
    }
   ],
   "source": [
    "df.head()"
   ]
  },
  {
   "cell_type": "code",
   "execution_count": 20,
   "metadata": {},
   "outputs": [
    {
     "data": {
      "text/plain": [
       "(140, 5)"
      ]
     },
     "execution_count": 20,
     "metadata": {},
     "output_type": "execute_result"
    }
   ],
   "source": [
    "df.shape"
   ]
  },
  {
   "cell_type": "code",
   "execution_count": null,
   "metadata": {},
   "outputs": [],
   "source": []
  },
  {
   "cell_type": "code",
   "execution_count": 21,
   "metadata": {},
   "outputs": [],
   "source": [
    "df_jf = pd.read_csv('data/seniority-level-jf.csv')"
   ]
  },
  {
   "cell_type": "code",
   "execution_count": 22,
   "metadata": {},
   "outputs": [],
   "source": [
    "df_jf.dropna(axis=0, inplace=True)"
   ]
  },
  {
   "cell_type": "code",
   "execution_count": 23,
   "metadata": {},
   "outputs": [
    {
     "data": {
      "text/html": [
       "<div>\n",
       "<style scoped>\n",
       "    .dataframe tbody tr th:only-of-type {\n",
       "        vertical-align: middle;\n",
       "    }\n",
       "\n",
       "    .dataframe tbody tr th {\n",
       "        vertical-align: top;\n",
       "    }\n",
       "\n",
       "    .dataframe thead th {\n",
       "        text-align: right;\n",
       "    }\n",
       "</style>\n",
       "<table border=\"1\" class=\"dataframe\">\n",
       "  <thead>\n",
       "    <tr style=\"text-align: right;\">\n",
       "      <th></th>\n",
       "      <th>vac_title</th>\n",
       "      <th>fulltext</th>\n",
       "      <th>Seniority</th>\n",
       "    </tr>\n",
       "  </thead>\n",
       "  <tbody>\n",
       "    <tr>\n",
       "      <th>0</th>\n",
       "      <td>Praktikant IT-Entwicklung - Projekt Industrie ...</td>\n",
       "      <td>Praktikant IT-Entwicklung - Projekt Industrie ...</td>\n",
       "      <td>Junior</td>\n",
       "    </tr>\n",
       "    <tr>\n",
       "      <th>1</th>\n",
       "      <td>Assistenzärzte (m/w) für ein Ausbildungscurric...</td>\n",
       "      <td>assistenzärzte (m/w) für ein ausbildungscurric...</td>\n",
       "      <td>Medior</td>\n",
       "    </tr>\n",
       "    <tr>\n",
       "      <th>2</th>\n",
       "      <td>Koch (m/w)</td>\n",
       "      <td>Das Sylter Stadtgeflüster ist eine Genussoase ...</td>\n",
       "      <td>Medior</td>\n",
       "    </tr>\n",
       "    <tr>\n",
       "      <th>3</th>\n",
       "      <td>Fachinformatiker/in, Systemintegration</td>\n",
       "      <td>Fachinformatiker/in, Systemintegration ?% Eign...</td>\n",
       "      <td>Junior</td>\n",
       "    </tr>\n",
       "    <tr>\n",
       "      <th>4</th>\n",
       "      <td>Praktikum im Spezialtiefbau - Bauingenieurwesen</td>\n",
       "      <td>Praktikum im Spezialtiefbau - Bauingenieurwese...</td>\n",
       "      <td>Junior</td>\n",
       "    </tr>\n",
       "  </tbody>\n",
       "</table>\n",
       "</div>"
      ],
      "text/plain": [
       "                                           vac_title  \\\n",
       "0  Praktikant IT-Entwicklung - Projekt Industrie ...   \n",
       "1  Assistenzärzte (m/w) für ein Ausbildungscurric...   \n",
       "2                                         Koch (m/w)   \n",
       "3             Fachinformatiker/in, Systemintegration   \n",
       "4    Praktikum im Spezialtiefbau - Bauingenieurwesen   \n",
       "\n",
       "                                            fulltext Seniority  \n",
       "0  Praktikant IT-Entwicklung - Projekt Industrie ...    Junior  \n",
       "1  assistenzärzte (m/w) für ein ausbildungscurric...    Medior  \n",
       "2  Das Sylter Stadtgeflüster ist eine Genussoase ...    Medior  \n",
       "3  Fachinformatiker/in, Systemintegration ?% Eign...    Junior  \n",
       "4  Praktikum im Spezialtiefbau - Bauingenieurwese...    Junior  "
      ]
     },
     "execution_count": 23,
     "metadata": {},
     "output_type": "execute_result"
    }
   ],
   "source": [
    "df_jf.head()"
   ]
  },
  {
   "cell_type": "code",
   "execution_count": 24,
   "metadata": {},
   "outputs": [
    {
     "data": {
      "text/plain": [
       "(180, 3)"
      ]
     },
     "execution_count": 24,
     "metadata": {},
     "output_type": "execute_result"
    }
   ],
   "source": [
    "df_jf.shape"
   ]
  },
  {
   "cell_type": "code",
   "execution_count": null,
   "metadata": {},
   "outputs": [],
   "source": []
  },
  {
   "cell_type": "code",
   "execution_count": 9,
   "metadata": {},
   "outputs": [
    {
     "data": {
      "text/plain": [
       "'Fachinformatiker/in, Systemintegration ?% Eignung für diesen Ausbildungsplatz Eignungs-Check JETZT BEWERBEN! __________________________________________________ Die Pärchen Software und Hardware, Informationstechnologie und Telekommunikation, Betriebssysteme und Netzwerke sind Dir nicht fremd? Dann bist Du hier genau richtig! Dich begeistert die ganze Palette der Informations- und Telekommunikationstechnologie? Du verstehst, wie komplexe Systeme funktionieren und wie Hard- und Softwarekomponenten integriert werden? Dann solltest Du die Ausbildung zum/r \"Fachinformatiker/in Systemintegration\" bei uns machen Die Ausbildung beginnt am 1. September und dauert drei Jahre (Verkürzung möglich). Für die Dauer der Ausbildung stellt die Telekom Dir einen Laptop und mobiles Internet zur Verfügung. Anforderungen Schulnoten sind nicht alles was zählt. Wir sind der Meinung, dass Du uns am besten mit Deinem Talent, Deinem Engagement und Deiner Persönlichkeit überzeugen kannst. Deswegen bist Du bei uns richtig mit: * Haupt-/Realschulabschluss * Abitur * Einem vergleichbaren Schulabschluss Um bei uns richtig durchzustarten, solltest du außerdem mitbringen: * Interesse an mathematisch-technischen Aufgaben und Erfahrung mit elektronischen Medien * Spaß an Teamarbeit sowie an selbstständiger Problemlösung * Gute Englisch-Kenntnisse * Mobilität und Flexibilität Schwerpunkte Such´s Dir aus - Du hast die Wahl: Bei uns gibt es eine große Vielfalt an Bereichen, in denen Du Dich spezialisieren kannst. Weil wir Dich individuell fördern wollen. Was interessiert Dich? Wo liegen deine Fähigkeiten? * Planen, Installieren und Konfigurieren von komplexen IT-Systemen * Anwenderschulung und -präsentation * Systemintegration, Netzwerke * Service, Beratung und Betreuung, Fehleranalyse, Störungsbeseitigung * Spezifische Lösungsentwicklung durch Analyse des Marktes und der Arbeitsabläufe * Arbeitsorganisation, Projektmanagement, Qualitätssicherung Neugierig? Dann geh direkt auf den \"Jetzt bewerben\"-Button! Jetzt Bewerben!'"
      ]
     },
     "execution_count": 9,
     "metadata": {},
     "output_type": "execute_result"
    }
   ],
   "source": [
    "df_jf['fulltext'][3]"
   ]
  },
  {
   "cell_type": "code",
   "execution_count": null,
   "metadata": {},
   "outputs": [],
   "source": []
  },
  {
   "cell_type": "code",
   "execution_count": 48,
   "metadata": {},
   "outputs": [],
   "source": [
    "from gensim.parsing.preprocessing import preprocess_string, RE_TAGS, strip_punctuation, stem_text, \\\n",
    "    strip_multiple_whitespaces, strip_numeric, remove_stopwords, strip_short, strip_non_alphanum\n",
    "from sklearn.feature_extraction.text import CountVectorizer\n",
    "from sklearn.preprocessing import LabelEncoder, MaxAbsScaler\n",
    "from sklearn.decomposition import TruncatedSVD\n",
    "\n",
    "def my_remove_tags(s):\n",
    "    return RE_TAGS.sub(\" \", s)\n",
    "\n",
    "STOPWORDS = {    \n",
    "    'anna', 'such', 'suchen', 'da', 'ist', 'mit', 'de', 'und', 'mit', 'per', 'uber',\n",
    "    'unser', 'com', 'der', 'den', 'auf', 'sie', 'directhir', 'ihr', 'vom',  'wir',\n",
    "    'bei', 'sind', 'freuen', 'ihnen', 'jetzt', 'ein', 'dem', 'von', 'herr', 'frau',\n",
    "    'wa', 'fur', 'aber', 'diesem', 'au', 'sein', 'al', 'einen', 'hat', 'dein', 'dich',\n",
    "    'die', 'dies', 'bi', 'etc', 'bitt', 'di', 'dann', 'bzw', 'dir', 'un', 'bewirb',\n",
    "    'beim', 'zum', 'bist', 'dass', 'zur', 'deinen', 'seit', 'ar', 'also', 'bietet',\n",
    "    'bieten',\n",
    "    \n",
    "    'and', 'for', 'onlin', 'career', 'level', 'search', 'alert', 'code', 'creat', 'appli',\n",
    "    'bad', 'area',\n",
    "    \n",
    "    'großraum', 'raum', 'regio', 'sitz', 'munchen', 'essen', 'koln', 'berlin', 'bayern',\n",
    "    \n",
    "    '60050', '2017', '2018', '2019', '10000', '60030', '089'\n",
    "}\n",
    "\n",
    "my_filters = [\n",
    "    lambda x: x.lower(), my_remove_tags, strip_punctuation, strip_non_alphanum,\n",
    "    strip_multiple_whitespaces, strip_short, stem_text\n",
    "]\n",
    "\n",
    "def my_tokenizer(s):\n",
    "    return preprocess_string(s, filters=my_filters)\n",
    "    \n",
    "vect = CountVectorizer(min_df=5, max_df=0.2, strip_accents='unicode', analyzer='word',\n",
    "                       tokenizer=my_tokenizer, ngram_range=(1,2), stop_words=STOPWORDS)\n",
    "\n",
    "le = LabelEncoder()\n",
    "\n",
    "X = vect.fit_transform(df['description'].tolist() + df_jf['fulltext'].tolist())\n",
    "y = le.fit_transform(df['Seniority'].tolist() + df_jf['Seniority'].tolist())\n",
    "\n",
    "scaler = MaxAbsScaler()\n",
    "X_scaled = scaler.fit_transform(X)\n",
    "\n",
    "svd = TruncatedSVD(n_components=250)\n",
    "X_lsa = svd.fit_transform(X)"
   ]
  },
  {
   "cell_type": "code",
   "execution_count": null,
   "metadata": {},
   "outputs": [],
   "source": []
  },
  {
   "cell_type": "code",
   "execution_count": 51,
   "metadata": {},
   "outputs": [],
   "source": [
    "#vect.stop_words_\n",
    "\n",
    "#{x:y for x,y in vect.vocabulary_.items() if y > 8 and y < 300}"
   ]
  },
  {
   "cell_type": "code",
   "execution_count": null,
   "metadata": {},
   "outputs": [],
   "source": []
  },
  {
   "cell_type": "code",
   "execution_count": 50,
   "metadata": {},
   "outputs": [
    {
     "data": {
      "text/plain": [
       "(320, 1702)"
      ]
     },
     "execution_count": 50,
     "metadata": {},
     "output_type": "execute_result"
    }
   ],
   "source": [
    "X.shape"
   ]
  },
  {
   "cell_type": "code",
   "execution_count": 46,
   "metadata": {},
   "outputs": [
    {
     "data": {
      "text/plain": [
       "(320, 250)"
      ]
     },
     "execution_count": 46,
     "metadata": {},
     "output_type": "execute_result"
    }
   ],
   "source": [
    "X_lsa.shape"
   ]
  },
  {
   "cell_type": "code",
   "execution_count": null,
   "metadata": {},
   "outputs": [],
   "source": []
  },
  {
   "cell_type": "code",
   "execution_count": 28,
   "metadata": {},
   "outputs": [
    {
     "data": {
      "image/png": "[encoded data removed]",
      "text/plain": [
       "<Figure size 432x288 with 1 Axes>"
      ]
     },
     "metadata": {
      "needs_background": "light"
     },
     "output_type": "display_data"
    }
   ],
   "source": [
    "import seaborn as sns\n",
    "%matplotlib inline\n",
    "\n",
    "ax = sns.countplot(x=(df['Seniority'].tolist() + df_jf['Seniority'].tolist()))"
   ]
  },
  {
   "cell_type": "code",
   "execution_count": null,
   "metadata": {},
   "outputs": [],
   "source": []
  },
  {
   "cell_type": "code",
   "execution_count": 52,
   "metadata": {},
   "outputs": [
    {
     "name": "stdout",
     "output_type": "stream",
     "text": [
      "           MultinomialNB Accuracy: 0.55 (+/- 0.04) F1: 0.52 (+/- 0.04) Log loss: -4.86 (+/- 0.70)\n",
      "      LogisticRegression Accuracy: 0.60 (+/- 0.03) F1: 0.54 (+/- 0.08) Log loss: -1.07 (+/- 0.11)\n",
      "      LogisticRegression Accuracy: 0.53 (+/- 0.06) F1: 0.49 (+/- 0.09) Log loss: -1.19 (+/- 0.19)\n",
      "                     SVC Accuracy: 0.52 (+/- 0.06) F1: 0.47 (+/- 0.04) Log loss: -0.93 (+/- 0.03)\n",
      "  RandomForestClassifier Accuracy: 0.51 (+/- 0.05) F1: 0.45 (+/- 0.08) Log loss: -0.94 (+/- 0.05)\n"
     ]
    }
   ],
   "source": [
    "from sklearn.model_selection import cross_val_score, KFold, StratifiedKFold\n",
    "from sklearn.ensemble import RandomForestClassifier\n",
    "from sklearn.neighbors import KNeighborsClassifier\n",
    "from sklearn.linear_model import LogisticRegression\n",
    "from sklearn.naive_bayes import MultinomialNB\n",
    "from sklearn.svm import SVC, LinearSVC\n",
    "\n",
    "classifiers = [\n",
    "    MultinomialNB(),\n",
    "    LogisticRegression(solver='lbfgs', multi_class='multinomial'),\n",
    "    LogisticRegression(solver='lbfgs', multi_class='multinomial', class_weight='balanced'),\n",
    "    #LinearSVC(),\n",
    "    SVC(kernel='linear', probability=True),\n",
    "    #KNeighborsClassifier(),\n",
    "    RandomForestClassifier(n_estimators=25, min_samples_split=10)\n",
    "]\n",
    "\n",
    "for clf in classifiers:\n",
    "    accs = cross_val_score(clf, X, y, cv=StratifiedKFold(n_splits=5, shuffle=True), scoring='accuracy')\n",
    "    f1s = cross_val_score(clf, X, y, cv=StratifiedKFold(n_splits=5, shuffle=True), scoring='f1_macro')\n",
    "    lls = cross_val_score(clf, X, y, cv=StratifiedKFold(n_splits=5, shuffle=True), scoring='neg_log_loss')\n",
    "\n",
    "    print(\"{:>24} Accuracy: {:.2f} (+/- {:.2f}) F1: {:.2f} (+/- {:.2f}) Log loss: {:.2f} (+/- {:.2f})\" \\\n",
    "          .format(clf.__class__.__name__, accs.mean(), accs.std(), f1s.mean(), f1s.std(), lls.mean(), lls.std()))"
   ]
  },
  {
   "cell_type": "code",
   "execution_count": null,
   "metadata": {},
   "outputs": [],
   "source": []
  },
  {
   "cell_type": "code",
   "execution_count": 56,
   "metadata": {},
   "outputs": [
    {
     "name": "stdout",
     "output_type": "stream",
     "text": [
      "      LogisticRegression Accuracy: 0.54 (+/- 0.06) F1: 0.53 (+/- 0.05) Log loss: -1.47 (+/- 0.25)\n",
      "      LogisticRegression Accuracy: 0.54 (+/- 0.03) F1: 0.50 (+/- 0.01) Log loss: -1.37 (+/- 0.13)\n",
      "                     SVC Accuracy: 0.51 (+/- 0.04) F1: 0.49 (+/- 0.08) Log loss: -0.94 (+/- 0.02)\n"
     ]
    }
   ],
   "source": [
    "##\n",
    "## Compare classifiers again, using LSA transformed input\n",
    "##\n",
    "\n",
    "classifiers = [\n",
    "    LogisticRegression(solver='lbfgs', multi_class='multinomial'),\n",
    "    LogisticRegression(solver='lbfgs', multi_class='multinomial', class_weight='balanced'),\n",
    "    SVC(kernel='linear', probability=True),\n",
    "]\n",
    "\n",
    "for clf in classifiers:\n",
    "    accs = cross_val_score(clf, X_lsa, y, cv=StratifiedKFold(n_splits=5, shuffle=True), scoring='accuracy')\n",
    "    f1s = cross_val_score(clf, X_lsa, y, cv=StratifiedKFold(n_splits=5, shuffle=True), scoring='f1_macro')\n",
    "    lls = cross_val_score(clf, X_lsa, y, cv=StratifiedKFold(n_splits=5, shuffle=True), scoring='neg_log_loss')\n",
    "\n",
    "    print(\"{:>24} Accuracy: {:.2f} (+/- {:.2f}) F1: {:.2f} (+/- {:.2f}) Log loss: {:.2f} (+/- {:.2f})\" \\\n",
    "          .format(clf.__class__.__name__, accs.mean(), accs.std(), f1s.mean(), f1s.std(), lls.mean(), lls.std()))"
   ]
  },
  {
   "cell_type": "code",
   "execution_count": null,
   "metadata": {},
   "outputs": [],
   "source": []
  },
  {
   "cell_type": "code",
   "execution_count": null,
   "metadata": {},
   "outputs": [],
   "source": []
  },
  {
   "cell_type": "code",
   "execution_count": 51,
   "metadata": {},
   "outputs": [
    {
     "data": {
      "text/plain": [
       "LogisticRegression(C=1.0, class_weight='balanced', dual=False,\n",
       "          fit_intercept=True, intercept_scaling=1, max_iter=100,\n",
       "          multi_class='multinomial', n_jobs=None, penalty='l2',\n",
       "          random_state=None, solver='lbfgs', tol=0.0001, verbose=0,\n",
       "          warm_start=False)"
      ]
     },
     "execution_count": 51,
     "metadata": {},
     "output_type": "execute_result"
    }
   ],
   "source": [
    "from sklearn.model_selection import train_test_split\n",
    "\n",
    "Xtr, Xte, ytr, yte = train_test_split(X, y, test_size=0.2, stratify=y)\n",
    "\n",
    "#clf = MultinomialNB()\n",
    "clf = LogisticRegression(solver='lbfgs', multi_class='multinomial', class_weight='balanced')\n",
    "#clf = LinearSVC()\n",
    "clf.fit(Xtr, ytr)"
   ]
  },
  {
   "cell_type": "code",
   "execution_count": null,
   "metadata": {},
   "outputs": [],
   "source": []
  },
  {
   "cell_type": "code",
   "execution_count": 30,
   "metadata": {},
   "outputs": [
    {
     "data": {
      "text/plain": [
       "(223, 683)"
      ]
     },
     "execution_count": 30,
     "metadata": {},
     "output_type": "execute_result"
    }
   ],
   "source": [
    "Xtr.shape"
   ]
  },
  {
   "cell_type": "code",
   "execution_count": 31,
   "metadata": {},
   "outputs": [
    {
     "data": {
      "text/plain": [
       "(56, 683)"
      ]
     },
     "execution_count": 31,
     "metadata": {},
     "output_type": "execute_result"
    }
   ],
   "source": [
    "Xte.shape"
   ]
  },
  {
   "cell_type": "code",
   "execution_count": null,
   "metadata": {},
   "outputs": [],
   "source": []
  },
  {
   "cell_type": "code",
   "execution_count": 52,
   "metadata": {},
   "outputs": [
    {
     "name": "stdout",
     "output_type": "stream",
     "text": [
      "              precision    recall  f1-score   support\n",
      "\n",
      "      Junior       0.86      0.69      0.77        26\n",
      "      Medior       0.62      0.80      0.70        20\n",
      "      Senior       0.67      0.60      0.63        10\n",
      "\n",
      "   micro avg       0.71      0.71      0.71        56\n",
      "   macro avg       0.71      0.70      0.70        56\n",
      "weighted avg       0.74      0.71      0.72        56\n",
      "\n"
     ]
    }
   ],
   "source": [
    "from sklearn.metrics import classification_report\n",
    "\n",
    "ypred = clf.predict(Xte)\n",
    "\n",
    "print(classification_report(yte, ypred, target_names=le.classes_))"
   ]
  },
  {
   "cell_type": "code",
   "execution_count": null,
   "metadata": {},
   "outputs": [],
   "source": []
  },
  {
   "cell_type": "code",
   "execution_count": 75,
   "metadata": {},
   "outputs": [
    {
     "data": {
      "text/plain": [
       "array(['Junior', 'Medior', 'Senior'], dtype='<U6')"
      ]
     },
     "execution_count": 75,
     "metadata": {},
     "output_type": "execute_result"
    }
   ],
   "source": [
    "le.classes_"
   ]
  },
  {
   "cell_type": "code",
   "execution_count": null,
   "metadata": {},
   "outputs": [],
   "source": []
  },
  {
   "cell_type": "code",
   "execution_count": 53,
   "metadata": {},
   "outputs": [
    {
     "data": {
      "image/png": "[encoded data removed]",
      "text/plain": [
       "<Figure size 432x288 with 1 Axes>"
      ]
     },
     "metadata": {
      "needs_background": "light"
     },
     "output_type": "display_data"
    }
   ],
   "source": [
    "from mlxtend.evaluate import confusion_matrix\n",
    "from mlxtend.plotting import plot_confusion_matrix\n",
    "\n",
    "fig, ax = plot_confusion_matrix(confusion_matrix(yte, ypred))"
   ]
  },
  {
   "cell_type": "code",
   "execution_count": null,
   "metadata": {},
   "outputs": [],
   "source": []
  },
  {
   "cell_type": "code",
   "execution_count": 54,
   "metadata": {},
   "outputs": [
    {
     "name": "stdout",
     "output_type": "stream",
     "text": [
      "Junior: vorteil, zuverlassigkeit, tatigkeiten, jetzt bewerben, vergleichbaren, consult, herr, korrespondenz, kein, zuverlassig, moglich, von vorteil, region, woch, kundenbetreuung, stell, erst berufserfahrungen, umgang, erst berufserfahrung, erst\n",
      "\n",
      "Medior: altersvorsorg, gmbh, produkt, team, buchung, mahnwesen, mitarbeit, sehr gute, beruf, erforderlich, arbeitgeb, gute kenntniss, montag, weiterbildungsmoglichkeiten, abgeschlossen ausbildung, sie arbeiten, administr, hat, stuttgart, wunschenswert\n",
      "\n",
      "Senior: mehr, vergleichbar, mehrjahrig berufserfahrung, informationen, ort, jetzt, eigenstandig, mitarbeitern, stellen, vollzeit, sap, develop, einsatzort, vorbereitung, große, einschlagig, control, art, hgb, mehrjahrig\n",
      "\n"
     ]
    }
   ],
   "source": [
    "import numpy as np\n",
    "\n",
    "feature_names = vect.get_feature_names()\n",
    "for i, class_label in enumerate(le.classes_):\n",
    "    top10 = np.argsort(clf.coef_[i])[-20:]\n",
    "    print(\"%s: %s\" % (class_label, \", \".join(feature_names[j] for j in top10)))\n",
    "    print()"
   ]
  },
  {
   "cell_type": "code",
   "execution_count": null,
   "metadata": {},
   "outputs": [],
   "source": []
  },
  {
   "cell_type": "code",
   "execution_count": null,
   "metadata": {},
   "outputs": [],
   "source": []
  }
 ],
 "metadata": {
  "kernelspec": {
   "display_name": "Python 3",
   "language": "python",
   "name": "python3"
  },
  "language_info": {
   "codemirror_mode": {
    "name": "ipython",
    "version": 3
   },
   "file_extension": ".py",
   "mimetype": "text/x-python",
   "name": "python",
   "nbconvert_exporter": "python",
   "pygments_lexer": "ipython3",
   "version": "3.7.2"
  }
 },
 "nbformat": 4,
 "nbformat_minor": 2
}
